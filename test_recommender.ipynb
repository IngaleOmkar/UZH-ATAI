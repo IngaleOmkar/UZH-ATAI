{
 "cells": [
  {
   "cell_type": "code",
   "execution_count": null,
   "metadata": {},
   "outputs": [
    {
     "name": "stderr",
     "output_type": "stream",
     "text": [
      "/opt/miniconda3/envs/atai/lib/python3.10/site-packages/tqdm/auto.py:21: TqdmWarning: IProgress not found. Please update jupyter and ipywidgets. See https://ipywidgets.readthedocs.io/en/stable/user_install.html\n",
      "  from .autonotebook import tqdm as notebook_tqdm\n"
     ]
    }
   ],
   "source": [
    "from embeddings import EmbeddingsResponder\n",
    "from entity_extraction import Extractor\n",
    "from data_repository import DataRepository\n",
    "from intent_classifier import IntentClassifier, EmbeddingBasedIntentClassifier, MLPBasedIntentClassifier\n",
    "from recommender import RecommendationResponder\n",
    "from question_classifier import QuestionClassifier"
   ]
  },
  {
   "cell_type": "code",
   "execution_count": 3,
   "metadata": {},
   "outputs": [
    {
     "name": "stdout",
     "output_type": "stream",
     "text": [
      "========== Initializing Data Repository ==========\n",
      "========== Loading NER Embeddings ==========\n",
      "========== Loading graph ==========\n",
      "========== Loading data for factual QA ==========\n",
      "========== Loading data for embeddings ==========\n",
      "========== Data Repository initialized ==========\n"
     ]
    }
   ],
   "source": [
    "data_repository = DataRepository()"
   ]
  },
  {
   "cell_type": "code",
   "execution_count": 4,
   "metadata": {},
   "outputs": [
    {
     "name": "stderr",
     "output_type": "stream",
     "text": [
      "Some weights of the model checkpoint at dbmdz/bert-large-cased-finetuned-conll03-english were not used when initializing BertForTokenClassification: ['bert.pooler.dense.bias', 'bert.pooler.dense.weight']\n",
      "- This IS expected if you are initializing BertForTokenClassification from the checkpoint of a model trained on another task or with another architecture (e.g. initializing a BertForSequenceClassification model from a BertForPreTraining model).\n",
      "- This IS NOT expected if you are initializing BertForTokenClassification from the checkpoint of a model that you expect to be exactly identical (initializing a BertForSequenceClassification model from a BertForSequenceClassification model).\n",
      "Hardware accelerator e.g. GPU is available in the environment, but no `device` argument is passed to the `Pipeline` object. Model will be on CPU.\n"
     ]
    }
   ],
   "source": [
    "intent_classifier_emb = EmbeddingBasedIntentClassifier(data_repository)\n",
    "intent_classifier_mlp = MLPBasedIntentClassifier(data_repository)\n",
    "extractor = Extractor(data_repository)\n",
    "recommendation_responder = RecommendationResponder(data_repository, extractor, intent_classifier_mlp)"
   ]
  },
  {
   "cell_type": "code",
   "execution_count": null,
   "metadata": {},
   "outputs": [
    {
     "name": "stdout",
     "output_type": "stream",
     "text": [
      "['The Avengers', 'Iron Man', 'Iron Man 2', 'Thor: The Dark World', 'Marvel Cinematic Universe Phase One', 'Captain America: Civil War', 'Iron Man 3', 'Avengers: Age of Ultron', 'Ant-Man', 'Avengers: Endgame', 'Thor', 'Spider-Man: Homecoming', 'The Infinity Saga', 'Doctor Strange', 'Spider-Man: Far from Home', 'Captain America: The Winter Soldier', 'Captain America: The First Avenger', 'Avengers: Infinity War', 'John Carter', 'Star Trek Into Darkness']\n",
      "['Iron Man 2', 'Thor: The Dark World', 'Marvel Cinematic Universe Phase One', 'Captain America: Civil War', 'Iron Man 3', 'Avengers: Age of Ultron', 'Ant-Man', 'Avengers: Endgame', 'Thor', 'Spider-Man: Homecoming', 'The Infinity Saga', 'Doctor Strange', 'Spider-Man: Far from Home', 'Captain America: The Winter Soldier', 'Captain America: The First Avenger', 'Avengers: Infinity War', 'John Carter', 'Star Trek Into Darkness']\n"
     ]
    },
    {
     "data": {
      "text/plain": [
       "['Iron Man 2', 'Thor: The Dark World', 'Marvel Cinematic Universe Phase One']"
      ]
     },
     "execution_count": 5,
     "metadata": {},
     "output_type": "execute_result"
    }
   ],
   "source": [
    "recommendation_responder.answer_query(\"Given that I like The Avengers and Iron Man, what other movies would I like?\")"
   ]
  },
  {
   "cell_type": "code",
   "execution_count": 11,
   "metadata": {},
   "outputs": [
    {
     "name": "stdout",
     "output_type": "stream",
     "text": [
      "['Bird Box', 'A Quiet Place', 'A Quiet Place: Part II', 'Us', 'The Conjuring: The Devil Made Me Do It', 'Rings', 'The Conjuring 2', 'Nerve', 'Sicario', 'Truth or Dare', 'Alien: Covenant', 'War of the Worlds', 'The Girl on the Train', 'The Boy', 'Doctor Sleep', 'Extremely Wicked, Shockingly Evil and Vile', 'Blair Witch', 'The First Purge', 'Blade Runner 2049', 'Jack Reacher']\n",
      "['A Quiet Place: Part II', 'Us', 'The Conjuring: The Devil Made Me Do It', 'Rings', 'The Conjuring 2', 'Nerve', 'Sicario', 'Truth or Dare', 'Alien: Covenant', 'War of the Worlds', 'The Girl on the Train', 'The Boy', 'Doctor Sleep', 'Extremely Wicked, Shockingly Evil and Vile', 'Blair Witch', 'The First Purge', 'Blade Runner 2049', 'Jack Reacher']\n"
     ]
    },
    {
     "data": {
      "text/plain": [
       "['A Quiet Place: Part II', 'Us', 'The Conjuring: The Devil Made Me Do It']"
      ]
     },
     "execution_count": 11,
     "metadata": {},
     "output_type": "execute_result"
    }
   ],
   "source": [
    "recommendation_responder.answer_query(\"I liked A Quiet Place and Bird Box. Any recommendations?\")"
   ]
  },
  {
   "cell_type": "code",
   "execution_count": null,
   "metadata": {},
   "outputs": [],
   "source": []
  }
 ],
 "metadata": {
  "kernelspec": {
   "display_name": "atai",
   "language": "python",
   "name": "python3"
  },
  "language_info": {
   "codemirror_mode": {
    "name": "ipython",
    "version": 3
   },
   "file_extension": ".py",
   "mimetype": "text/x-python",
   "name": "python",
   "nbconvert_exporter": "python",
   "pygments_lexer": "ipython3",
   "version": "3.10.14"
  }
 },
 "nbformat": 4,
 "nbformat_minor": 2
}
