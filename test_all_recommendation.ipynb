{
 "cells": [
  {
   "cell_type": "code",
   "execution_count": 1,
   "metadata": {},
   "outputs": [
    {
     "name": "stderr",
     "output_type": "stream",
     "text": [
      "/opt/miniconda3/envs/atai/lib/python3.10/site-packages/tqdm/auto.py:21: TqdmWarning: IProgress not found. Please update jupyter and ipywidgets. See https://ipywidgets.readthedocs.io/en/stable/user_install.html\n",
      "  from .autonotebook import tqdm as notebook_tqdm\n"
     ]
    }
   ],
   "source": [
    "from embeddings import EmbeddingsResponder\n",
    "from entity_extraction import Extractor\n",
    "from factual import FactualResponder\n",
    "from data_repository import DataRepository\n",
    "from intent_classifier import IntentClassifier, EmbeddingBasedIntentClassifier, MLPBasedIntentClassifier\n",
    "from recommender import RecommendationResponder"
   ]
  },
  {
   "cell_type": "code",
   "execution_count": 2,
   "metadata": {},
   "outputs": [
    {
     "name": "stdout",
     "output_type": "stream",
     "text": [
      "========== Initializing Data Repository ==========\n",
      "========== Loading NER Embeddings ==========\n",
      "========== Loading graph ==========\n",
      "========== Loading data for factual QA ==========\n",
      "========== Loading data for embeddings ==========\n",
      "========== Loading External Data ==========\n",
      "========== Data Repository initialized ==========\n"
     ]
    }
   ],
   "source": [
    "data_repository = DataRepository()"
   ]
  },
  {
   "cell_type": "code",
   "execution_count": 3,
   "metadata": {},
   "outputs": [
    {
     "name": "stderr",
     "output_type": "stream",
     "text": [
      "Some weights of the model checkpoint at dbmdz/bert-large-cased-finetuned-conll03-english were not used when initializing BertForTokenClassification: ['bert.pooler.dense.bias', 'bert.pooler.dense.weight']\n",
      "- This IS expected if you are initializing BertForTokenClassification from the checkpoint of a model trained on another task or with another architecture (e.g. initializing a BertForSequenceClassification model from a BertForPreTraining model).\n",
      "- This IS NOT expected if you are initializing BertForTokenClassification from the checkpoint of a model that you expect to be exactly identical (initializing a BertForSequenceClassification model from a BertForSequenceClassification model).\n",
      "Hardware accelerator e.g. GPU is available in the environment, but no `device` argument is passed to the `Pipeline` object. Model will be on CPU.\n"
     ]
    }
   ],
   "source": [
    "intent_classifier_emb = EmbeddingBasedIntentClassifier(data_repository)\n",
    "intent_classifier_mlp = MLPBasedIntentClassifier(data_repository)\n",
    "extractor = Extractor(data_repository)\n",
    "embeddings = EmbeddingsResponder(data_repository, extractor, intent_classifier=intent_classifier_mlp, emb_intent_classifier=intent_classifier_emb)\n",
    "factual = FactualResponder(data_repository, extractor, emb_intent_classifier=intent_classifier_emb, mlp_intent_classifier=intent_classifier_mlp)\n",
    "recommender = RecommendationResponder(data_repository, extractor, mlp_intent_classifier=intent_classifier_mlp)"
   ]
  },
  {
   "cell_type": "code",
   "execution_count": 4,
   "metadata": {},
   "outputs": [
    {
     "name": "stdout",
     "output_type": "stream",
     "text": [
      "[\"Baby's Day Out\", 'Home Alone', 'Home Alone 2: Lost in New York', 'Home Alone 3', 'A Magician Home Alone', 'Planes, Trains and Automobiles', 'Only the Lonely', 'Dennis the Menace', 'Bedtime Stories', 'Uncle Buck', 'The Nightmare Before Christmas', 'Christmas with the Kranks', 'Addams Family Values', 'Relative Strangers', 'Adventures in Babysitting', 'Steal Big Steal Little', 'Jingle All the Way', 'The Goonies', \"National Lampoon's European Vacation\", 'Agent Cody Banks 2: Destination London']\n",
      "['Home Alone 2: Lost in New York', 'Home Alone 3', 'A Magician Home Alone', 'Planes, Trains and Automobiles', 'Only the Lonely', 'Dennis the Menace', 'Bedtime Stories', 'Uncle Buck', 'The Nightmare Before Christmas', 'Christmas with the Kranks', 'Addams Family Values', 'Relative Strangers', 'Adventures in Babysitting', 'Steal Big Steal Little', 'Jingle All the Way', 'The Goonies', \"National Lampoon's European Vacation\", 'Agent Cody Banks 2: Destination London']\n"
     ]
    },
    {
     "data": {
      "text/plain": [
       "['Home Alone 2: Lost in New York', 'Home Alone 3', 'A Magician Home Alone']"
      ]
     },
     "execution_count": 4,
     "metadata": {},
     "output_type": "execute_result"
    }
   ],
   "source": [
    "recommender.answer_query(\"Recommend movies like Baby's Day Out and Home Alone\")"
   ]
  },
  {
   "cell_type": "code",
   "execution_count": 5,
   "metadata": {},
   "outputs": [
    {
     "name": "stdout",
     "output_type": "stream",
     "text": [
      "['The Avengers', 'Thor: The Dark World', 'Marvel Cinematic Universe Phase One', 'Avengers: Age of Ultron', 'Avengers: Endgame', 'Captain America: Civil War', 'Iron Man 2', 'The Infinity Saga', 'Thor', 'Avengers: Infinity War', 'Avengers: Age of Ultron final poster', 'Iron Man', 'Doctor Strange', 'Captain America: The Winter Soldier', 'Iron Man 3', 'Spider-Man: Homecoming', 'Ant-Man', 'Captain America: The First Avenger', 'Star Trek Into Darkness', 'John Carter']\n",
      "['Thor: The Dark World', 'Marvel Cinematic Universe Phase One', 'Avengers: Age of Ultron', 'Avengers: Endgame', 'Captain America: Civil War', 'Iron Man 2', 'The Infinity Saga', 'Thor', 'Avengers: Infinity War', 'Avengers: Age of Ultron final poster', 'Iron Man', 'Doctor Strange', 'Captain America: The Winter Soldier', 'Iron Man 3', 'Spider-Man: Homecoming', 'Ant-Man', 'Captain America: The First Avenger', 'Star Trek Into Darkness', 'John Carter']\n"
     ]
    },
    {
     "data": {
      "text/plain": [
       "['Thor: The Dark World',\n",
       " 'Marvel Cinematic Universe Phase One',\n",
       " 'Avengers: Age of Ultron']"
      ]
     },
     "execution_count": 5,
     "metadata": {},
     "output_type": "execute_result"
    }
   ],
   "source": [
    "recommender.answer_query(\"I liked Robert Downey Jr in The Avengers. Can you recommend me some movies like that?\")"
   ]
  },
  {
   "cell_type": "code",
   "execution_count": 6,
   "metadata": {},
   "outputs": [
    {
     "data": {
      "text/plain": [
       "['Dracula: Dead and Loving It (1995)',\n",
       " 'Copycat (1995)',\n",
       " 'From Dusk Till Dawn (1996)']"
      ]
     },
     "execution_count": 6,
     "metadata": {},
     "output_type": "execute_result"
    }
   ],
   "source": [
    "recommender.answer_query(\"Suggest some Horror movies for me to watch.\")"
   ]
  },
  {
   "cell_type": "code",
   "execution_count": null,
   "metadata": {},
   "outputs": [],
   "source": [
    "import pandas as pd\n",
    "\n",
    "movies_df = pd.read_csv(\"data/movies.csv\")\n",
    "ratings_df = pd.read_csv(\"data/ratings.csv\")"
   ]
  },
  {
   "cell_type": "code",
   "execution_count": null,
   "metadata": {},
   "outputs": [],
   "source": [
    "movies_df['genres'] = movies_df['genres'].apply(lambda x: x.split(\"|\"))"
   ]
  },
  {
   "cell_type": "code",
   "execution_count": null,
   "metadata": {},
   "outputs": [],
   "source": [
    "movies_df"
   ]
  },
  {
   "cell_type": "code",
   "execution_count": null,
   "metadata": {},
   "outputs": [],
   "source": [
    "# get horror films\n",
    "horror_movies = movies_df[movies_df['genres'].apply(lambda x: 'Horror' in x and 'Sci-Fi' in x)]"
   ]
  },
  {
   "cell_type": "code",
   "execution_count": null,
   "metadata": {},
   "outputs": [],
   "source": [
    "horror_movies[:10]"
   ]
  },
  {
   "cell_type": "code",
   "execution_count": null,
   "metadata": {},
   "outputs": [],
   "source": [
    "ratings_df"
   ]
  },
  {
   "cell_type": "code",
   "execution_count": null,
   "metadata": {},
   "outputs": [],
   "source": [
    "recommender.answer_query(\"I liked Robert De Niro in Taxi Driver, can you recommend me something similar?\")"
   ]
  },
  {
   "cell_type": "code",
   "execution_count": null,
   "metadata": {},
   "outputs": [],
   "source": [
    "extractor.extract_ner(\"I liked Robert De Niro in Taxi Driver, can you recommend me something similar?\")"
   ]
  },
  {
   "cell_type": "code",
   "execution_count": null,
   "metadata": {},
   "outputs": [],
   "source": [
    "movies_df[movies_df['title'].str.contains(\"Star Wars\")]"
   ]
  },
  {
   "cell_type": "code",
   "execution_count": null,
   "metadata": {},
   "outputs": [],
   "source": [
    "mov1 = \"Baby's Day Out\"\n",
    "mov2 = \"Home Alone\"\n",
    "\n",
    "# get the movies where the genres overlap between the two movies\n",
    "intersecting_genre1 = movies_df[movies_df['title'].str.contains(mov1)]['genres']\n",
    "intersecting_genre2 = movies_df[movies_df['title'].str.contains(mov2)]['genres']\n",
    "combined= set(intersecting_genre1.values[0]).intersection(set(intersecting_genre2.values[0]))"
   ]
  },
  {
   "cell_type": "code",
   "execution_count": null,
   "metadata": {},
   "outputs": [],
   "source": [
    "combined"
   ]
  },
  {
   "cell_type": "code",
   "execution_count": null,
   "metadata": {},
   "outputs": [],
   "source": [
    "list_of_all_genres = []\n",
    "for i in range(len(movies_df)):\n",
    "    list_of_all_genres.extend(movies_df['genres'].values[i])\n",
    "\n",
    "list_of_all_genres = list(set(list_of_all_genres))"
   ]
  },
  {
   "cell_type": "code",
   "execution_count": null,
   "metadata": {},
   "outputs": [],
   "source": [
    "list_of_all_genres"
   ]
  },
  {
   "cell_type": "code",
   "execution_count": null,
   "metadata": {},
   "outputs": [],
   "source": [
    "from fuzzywuzzy import process\n",
    "\n",
    "process.extractOne(\"Give me recommendations of a  film\", list_of_all_genres)[0]\n"
   ]
  },
  {
   "cell_type": "code",
   "execution_count": null,
   "metadata": {},
   "outputs": [],
   "source": [
    "extractor.extract_ner(\"Give me recommendations of a horror film\")"
   ]
  },
  {
   "cell_type": "code",
   "execution_count": null,
   "metadata": {},
   "outputs": [],
   "source": []
  }
 ],
 "metadata": {
  "kernelspec": {
   "display_name": "atai",
   "language": "python",
   "name": "python3"
  },
  "language_info": {
   "codemirror_mode": {
    "name": "ipython",
    "version": 3
   },
   "file_extension": ".py",
   "mimetype": "text/x-python",
   "name": "python",
   "nbconvert_exporter": "python",
   "pygments_lexer": "ipython3",
   "version": "3.10.14"
  }
 },
 "nbformat": 4,
 "nbformat_minor": 2
}
