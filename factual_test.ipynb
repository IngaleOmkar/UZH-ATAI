{
 "cells": [
  {
   "cell_type": "code",
   "execution_count": 1,
   "metadata": {},
   "outputs": [
    {
     "name": "stderr",
     "output_type": "stream",
     "text": [
      "/opt/miniconda3/envs/atai/lib/python3.10/site-packages/tqdm/auto.py:21: TqdmWarning: IProgress not found. Please update jupyter and ipywidgets. See https://ipywidgets.readthedocs.io/en/stable/user_install.html\n",
      "  from .autonotebook import tqdm as notebook_tqdm\n"
     ]
    }
   ],
   "source": [
    "from data_repository import DataRepository\n",
    "from entity_extraction import Extractor\n",
    "from intent_classifier import EmbeddingBasedIntentClassifier, MLPBasedIntentClassifier"
   ]
  },
  {
   "cell_type": "code",
   "execution_count": 2,
   "metadata": {},
   "outputs": [
    {
     "name": "stdout",
     "output_type": "stream",
     "text": [
      "========== Initializing Data Repository ==========\n",
      "========== Loading NER Embeddings ==========\n",
      "========== Loading graph ==========\n",
      "========== Loading data for factual QA ==========\n",
      "========== Loading data for embeddings ==========\n",
      "Loaded genres from CSV.\n",
      "========== Loading External Data ==========\n",
      "========== Loading Image Data ==========\n",
      "========== Loading Crowd Data ==========\n",
      "========== Data Repository initialized ==========\n"
     ]
    }
   ],
   "source": [
    "dr = DataRepository()"
   ]
  },
  {
   "cell_type": "code",
   "execution_count": 3,
   "metadata": {},
   "outputs": [
    {
     "name": "stderr",
     "output_type": "stream",
     "text": [
      "Some weights of the model checkpoint at dbmdz/bert-large-cased-finetuned-conll03-english were not used when initializing BertForTokenClassification: ['bert.pooler.dense.bias', 'bert.pooler.dense.weight']\n",
      "- This IS expected if you are initializing BertForTokenClassification from the checkpoint of a model trained on another task or with another architecture (e.g. initializing a BertForSequenceClassification model from a BertForPreTraining model).\n",
      "- This IS NOT expected if you are initializing BertForTokenClassification from the checkpoint of a model that you expect to be exactly identical (initializing a BertForSequenceClassification model from a BertForSequenceClassification model).\n",
      "Hardware accelerator e.g. GPU is available in the environment, but no `device` argument is passed to the `Pipeline` object. Model will be on CPU.\n"
     ]
    }
   ],
   "source": [
    "e = Extractor(dr)\n",
    "eic = EmbeddingBasedIntentClassifier(dr)\n",
    "mic = MLPBasedIntentClassifier(dr)"
   ]
  },
  {
   "cell_type": "code",
   "execution_count": 4,
   "metadata": {},
   "outputs": [],
   "source": [
    "from factual import FactualResponder\n",
    "\n",
    "fr = FactualResponder(dr, e, mic, eic)"
   ]
  },
  {
   "cell_type": "code",
   "execution_count": 5,
   "metadata": {},
   "outputs": [
    {
     "name": "stdout",
     "output_type": "stream",
     "text": [
      "MLP:  revenue http://www.wikidata.org/prop/direct/P2142\n",
      "EMB:  box office http://www.wikidata.org/prop/direct/P2142\n",
      "Entities:  ['The Princess and the Frog']\n",
      "ans 267000000\n",
      "<class 'str'>\n"
     ]
    },
    {
     "data": {
      "text/plain": [
       "(True, '267000000')"
      ]
     },
     "execution_count": 5,
     "metadata": {},
     "output_type": "execute_result"
    }
   ],
   "source": [
    "fr.answer_query(\"what is the box office of The Princess and the Frog?\")"
   ]
  },
  {
   "cell_type": "code",
   "execution_count": 6,
   "metadata": {},
   "outputs": [
    {
     "name": "stdout",
     "output_type": "stream",
     "text": [
      "MLP:  director http://www.wikidata.org/prop/direct/P57\n",
      "EMB:  director http://www.wikidata.org/prop/direct/P57\n",
      "Entities:  ['Iron Man 2']\n",
      "ans ['http://www.wikidata.org/entity/Q295964']\n",
      "<class 'list'>\n",
      "\n"
     ]
    },
    {
     "data": {
      "text/plain": [
       "(True, 'Jon Favreau')"
      ]
     },
     "execution_count": 6,
     "metadata": {},
     "output_type": "execute_result"
    }
   ],
   "source": [
    "fr.answer_query(\"Who is the director of Iron Man 2?\")"
   ]
  },
  {
   "cell_type": "code",
   "execution_count": 7,
   "metadata": {},
   "outputs": [
    {
     "name": "stdout",
     "output_type": "stream",
     "text": [
      "MLP:  genre http://www.wikidata.org/prop/direct/P136\n",
      "EMB:  genre http://www.wikidata.org/prop/direct/P136\n",
      "Entities:  ['Good Neighbors']\n",
      "ans ['http://www.wikidata.org/entity/Q1135802', 'http://www.wikidata.org/entity/Q859369']\n",
      "<class 'list'>\n",
      "\n",
      "art film, \n"
     ]
    },
    {
     "data": {
      "text/plain": [
       "(True, 'art film, comedy-drama')"
      ]
     },
     "execution_count": 7,
     "metadata": {},
     "output_type": "execute_result"
    }
   ],
   "source": [
    "fr.answer_query(\"What is the genre of Good Neighbors?\")"
   ]
  },
  {
   "cell_type": "code",
   "execution_count": 8,
   "metadata": {},
   "outputs": [
    {
     "name": "stdout",
     "output_type": "stream",
     "text": [
      "MLP:  producer http://www.wikidata.org/entity/Q47541952\n",
      "EMB:  executive producer http://www.wikidata.org/prop/direct/P1431\n",
      "Entities:  ['X-Men: First Class']\n",
      "ans http://www.wikidata.org/entity/Q457180\n",
      "<class 'str'>\n"
     ]
    },
    {
     "data": {
      "text/plain": [
       "(True, 'Sheryl Lee Ralph')"
      ]
     },
     "execution_count": 8,
     "metadata": {},
     "output_type": "execute_result"
    }
   ],
   "source": [
    "fr.answer_query(\"Who is the executive producer of X-Men: First Class?\")"
   ]
  },
  {
   "cell_type": "code",
   "execution_count": 9,
   "metadata": {},
   "outputs": [
    {
     "data": {
      "text/plain": [
       "'Sheryl Lee Ralph'"
      ]
     },
     "execution_count": 9,
     "metadata": {},
     "output_type": "execute_result"
    }
   ],
   "source": [
    "dr.get_uri_to_label()['http://www.wikidata.org/entity/Q457180']"
   ]
  }
 ],
 "metadata": {
  "kernelspec": {
   "display_name": "atai",
   "language": "python",
   "name": "python3"
  },
  "language_info": {
   "codemirror_mode": {
    "name": "ipython",
    "version": 3
   },
   "file_extension": ".py",
   "mimetype": "text/x-python",
   "name": "python",
   "nbconvert_exporter": "python",
   "pygments_lexer": "ipython3",
   "version": "3.10.14"
  }
 },
 "nbformat": 4,
 "nbformat_minor": 2
}
