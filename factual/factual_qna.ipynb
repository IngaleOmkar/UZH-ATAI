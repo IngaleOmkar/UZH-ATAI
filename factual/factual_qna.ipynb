{
 "cells": [
  {
   "cell_type": "code",
   "execution_count": 1,
   "metadata": {},
   "outputs": [
    {
     "name": "stderr",
     "output_type": "stream",
     "text": [
      "/opt/miniconda3/envs/atai/lib/python3.10/site-packages/tqdm/auto.py:21: TqdmWarning: IProgress not found. Please update jupyter and ipywidgets. See https://ipywidgets.readthedocs.io/en/stable/user_install.html\n",
      "  from .autonotebook import tqdm as notebook_tqdm\n"
     ]
    }
   ],
   "source": [
    "import pickle \n",
    "from transformers import pipeline\n",
    "import torch\n",
    "from transformers import BertTokenizer, BertForSequenceClassification, Trainer, TrainingArguments\n",
    "from sklearn.model_selection import train_test_split\n",
    "from datasets import Dataset\n",
    "import accelerate\n",
    "import json"
   ]
  },
  {
   "cell_type": "code",
   "execution_count": 2,
   "metadata": {},
   "outputs": [
    {
     "name": "stderr",
     "output_type": "stream",
     "text": [
      "Some weights of the model checkpoint at dbmdz/bert-large-cased-finetuned-conll03-english were not used when initializing BertForTokenClassification: ['bert.pooler.dense.bias', 'bert.pooler.dense.weight']\n",
      "- This IS expected if you are initializing BertForTokenClassification from the checkpoint of a model trained on another task or with another architecture (e.g. initializing a BertForSequenceClassification model from a BertForPreTraining model).\n",
      "- This IS NOT expected if you are initializing BertForTokenClassification from the checkpoint of a model that you expect to be exactly identical (initializing a BertForSequenceClassification model from a BertForSequenceClassification model).\n",
      "Hardware accelerator e.g. GPU is available in the environment, but no `device` argument is passed to the `Pipeline` object. Model will be on CPU.\n"
     ]
    }
   ],
   "source": [
    "# Load the pre-trained NER pipeline\n",
    "ner_pipeline = pipeline(\"ner\", model=\"dbmdz/bert-large-cased-finetuned-conll03-english\", aggregation_strategy=\"simple\")"
   ]
  },
  {
   "cell_type": "code",
   "execution_count": 3,
   "metadata": {},
   "outputs": [
    {
     "data": {
      "text/plain": [
       "['Steven Spielberg', 'Cincinnati', 'Ohio']"
      ]
     },
     "execution_count": 3,
     "metadata": {},
     "output_type": "execute_result"
    }
   ],
   "source": [
    "def extract_ner(sentence):\n",
    "    # Perform Named Entity Recognition\n",
    "    ner_results = ner_pipeline(sentence)\n",
    "\n",
    "    # Extract and print the entity names\n",
    "    entities = [entity['word'] for entity in ner_results if entity['entity_group'] in ['PER', 'LOC', 'ORG', 'MISC']]\n",
    "    return entities\n",
    "\n",
    "extract_ner(\"Steven Spielberg is a famous director who was born in Cincinnati, Ohio.\")"
   ]
  },
  {
   "cell_type": "code",
   "execution_count": 4,
   "metadata": {},
   "outputs": [],
   "source": [
    "triplets, uri_to_label, label_to_uri, label_list = pickle.load(open(\"formatted_data.pkl\", \"rb\"))"
   ]
  },
  {
   "cell_type": "code",
   "execution_count": 5,
   "metadata": {},
   "outputs": [],
   "source": [
    "# read te id2label json file\n",
    "with open('id2tag.json') as json_file:\n",
    "    id2label = json.load(json_file)\n",
    "\n",
    "# read the pytorch model \"movie_tag_model\" from the file\n",
    "model = BertForSequenceClassification.from_pretrained(\"movie_tag_model\")\n",
    "tokenizer = BertTokenizer.from_pretrained(\"bert-base-uncased\")\n",
    "\n",
    "def classify_query(query, model, tokenizer, id2label):\n",
    "    encoded_dataset = tokenizer(query, padding=True, truncation=True, return_tensors=\"pt\")\n",
    "\n",
    "    # Perform the classification\n",
    "    model.eval()\n",
    "    with torch.no_grad():\n",
    "        output = model(**encoded_dataset)\n",
    "        predicted_label = torch.argmax(output.logits, dim=1).item()\n",
    "\n",
    "    # Map the predicted label to the corresponding tag\n",
    "    tag = id2label[str(predicted_label)]\n",
    "\n",
    "    return tag"
   ]
  },
  {
   "cell_type": "code",
   "execution_count": 6,
   "metadata": {},
   "outputs": [
    {
     "data": {
      "text/plain": [
       "'release_date'"
      ]
     },
     "execution_count": 6,
     "metadata": {},
     "output_type": "execute_result"
    }
   ],
   "source": [
    "classify_query(\"when was abc released\", model, tokenizer, id2label)"
   ]
  },
  {
   "cell_type": "code",
   "execution_count": 7,
   "metadata": {},
   "outputs": [],
   "source": [
    "wikidata_attributes = {\n",
    "    \"revenue\": \"box office\",\n",
    "    \"director\": \"director\",\n",
    "    \"actor\": \"cast member\",\n",
    "    \"release_date\": \"publication date\",\n",
    "    \"genre\": \"genre\",\n",
    "    \"rating\": \"IMDb ID\",\n",
    "    #\"budget\": \"budget\",\n",
    "    \"producer\": \"producer\",\n",
    "    \"screenwriter\": \"screenwriter\",\n",
    "    #\"birth_date\": \"date of birth\",\n",
    "    \"birth_place\": \"place of birth\"\n",
    "}"
   ]
  },
  {
   "cell_type": "code",
   "execution_count": 8,
   "metadata": {},
   "outputs": [],
   "source": [
    "tag2uri = {\n",
    "    tag:label_to_uri[label] for tag, label in wikidata_attributes.items()\n",
    "}"
   ]
  },
  {
   "cell_type": "code",
   "execution_count": 9,
   "metadata": {},
   "outputs": [
    {
     "data": {
      "text/plain": [
       "{'revenue': 'http://www.wikidata.org/prop/direct/P2142',\n",
       " 'director': 'http://www.wikidata.org/prop/direct/P57',\n",
       " 'actor': 'http://www.wikidata.org/prop/direct/P161',\n",
       " 'release_date': 'http://www.wikidata.org/prop/direct/P577',\n",
       " 'genre': 'http://www.wikidata.org/prop/direct/P136',\n",
       " 'rating': 'http://www.wikidata.org/prop/direct/P345',\n",
       " 'producer': 'http://www.wikidata.org/entity/Q47541952',\n",
       " 'screenwriter': 'http://www.wikidata.org/prop/direct/P58',\n",
       " 'birth_place': 'http://www.wikidata.org/prop/direct/P19'}"
      ]
     },
     "execution_count": 9,
     "metadata": {},
     "output_type": "execute_result"
    }
   ],
   "source": [
    "tag2uri"
   ]
  },
  {
   "cell_type": "code",
   "execution_count": 50,
   "metadata": {},
   "outputs": [
    {
     "name": "stdout",
     "output_type": "stream",
     "text": [
      "['2008-04-30']\n"
     ]
    }
   ],
   "source": [
    "def answer_query(query):\n",
    "    # Extract named entities from the query\n",
    "    entities = extract_ner(query)\n",
    "\n",
    "    # Classify the query\n",
    "    tag = classify_query(query, model, tokenizer, id2label)\n",
    "\n",
    "    # Retrieve the corresponding Wikidata attribute\n",
    "    uri = tag2uri[tag]\n",
    "\n",
    "    if(len(entities) == 0):\n",
    "        return \"I'm sorry, I couldn't understand the query.\"\n",
    "    else:\n",
    "        en_uri = label_to_uri[entities[0]]\n",
    "        # print(en_uri, uri)\n",
    "        # print(triplets[(en_uri, uri)])\n",
    "        try:\n",
    "            if(tag in [\"rating\", \"revenue\", \"budget\", \"release_date\"] ):\n",
    "                print(triplets[(en_uri, uri)])\n",
    "            else:\n",
    "                ans = triplets[(en_uri, uri)]\n",
    "                ans_labels = [uri_to_label[label] for label in ans]\n",
    "                print(\", \".join(ans_labels))\n",
    "        except:\n",
    "            return \"I'm sorry, I couldn't find the answer to your question.\"\n",
    "        \n",
    "# answer_query(\"Who starred in Inception?\")\n",
    "# answer_query(\"What is the genre of Inception?\")\n",
    "# answer_query(\"What is the genre of Kung Fu Panda?\")\n",
    "# answer_query(\"Who directed Inception?\")\n",
    "# answer_query(\"When was Inception released?\")\n",
    "# answer_query(\"When was Kung Fu Panda released?\")\n",
    "answer_query(\"When was Iron Man released?\")"
   ]
  },
  {
   "cell_type": "code",
   "execution_count": null,
   "metadata": {},
   "outputs": [],
   "source": []
  }
 ],
 "metadata": {
  "kernelspec": {
   "display_name": "atai",
   "language": "python",
   "name": "python3"
  },
  "language_info": {
   "codemirror_mode": {
    "name": "ipython",
    "version": 3
   },
   "file_extension": ".py",
   "mimetype": "text/x-python",
   "name": "python",
   "nbconvert_exporter": "python",
   "pygments_lexer": "ipython3",
   "version": "3.10.14"
  }
 },
 "nbformat": 4,
 "nbformat_minor": 2
}
