{
 "cells": [
  {
   "cell_type": "code",
   "execution_count": 3,
   "metadata": {},
   "outputs": [],
   "source": [
    "import torch\n",
    "from transformers import BertTokenizer, BertForSequenceClassification, Trainer, TrainingArguments\n",
    "from sklearn.model_selection import train_test_split\n",
    "from datasets import Dataset\n",
    "import accelerate"
   ]
  },
  {
   "cell_type": "code",
   "execution_count": 4,
   "metadata": {},
   "outputs": [],
   "source": [
    "\n",
    "# Define the tag categories that can be related to the movie dataset \n",
    "tags = [\"revenue\", \"director\", \"actor\", \"release_date\", \"genre\", \"rating\", \"budget\",\n",
    "        \"producer\", \"screenwriter\", \"birth_date\", \"birth_place\"] "
   ]
  },
  {
   "cell_type": "code",
   "execution_count": 5,
   "metadata": {},
   "outputs": [],
   "source": [
    "data = [\n",
    "    {\"query\": \"what was the earning of the movie Titanic\", \"tag\": \"revenue\"},\n",
    "    {\"query\": \"how much did Avatar make\", \"tag\": \"revenue\"},\n",
    "    {\"query\": \"box office collection of Jurassic Park\", \"tag\": \"revenue\"},\n",
    "    {\"query\": \"total revenue of Inception\", \"tag\": \"revenue\"},\n",
    "    {\"query\": \"what was the gross of Frozen\", \"tag\": \"revenue\"},\n",
    "    {\"query\": \"how much did Avengers Endgame earn\", \"tag\": \"revenue\"},\n",
    "    {\"query\": \"earnings of The Dark Knight\", \"tag\": \"revenue\"},\n",
    "    {\"query\": \"how much money did Titanic gross\", \"tag\": \"revenue\"},\n",
    "    {\"query\": \"how much revenue did Star Wars make\", \"tag\": \"revenue\"},\n",
    "    {\"query\": \"revenue of Iron Man\", \"tag\": \"revenue\"},\n",
    "\n",
    "    {\"query\": \"who directed Titanic\", \"tag\": \"director\"},\n",
    "    {\"query\": \"who was the director of Inception\", \"tag\": \"director\"},\n",
    "    {\"query\": \"who directed the movie Avatar\", \"tag\": \"director\"},\n",
    "    {\"query\": \"who directed Star Wars\", \"tag\": \"director\"},\n",
    "    {\"query\": \"who was the director of The Godfather\", \"tag\": \"director\"},\n",
    "    {\"query\": \"director of The Dark Knight\", \"tag\": \"director\"},\n",
    "    {\"query\": \"who directed Forrest Gump\", \"tag\": \"director\"},\n",
    "    {\"query\": \"who is the director of Jurassic Park\", \"tag\": \"director\"},\n",
    "    {\"query\": \"who directed Schindler's List\", \"tag\": \"director\"},\n",
    "    {\"query\": \"director of The Matrix\", \"tag\": \"director\"},\n",
    "\n",
    "    {\"query\": \"who played the lead role in Titanic\", \"tag\": \"actor\"},\n",
    "    {\"query\": \"who acted in The Dark Knight\", \"tag\": \"actor\"},\n",
    "    {\"query\": \"lead actor in Inception\", \"tag\": \"actor\"},\n",
    "    {\"query\": \"who starred in Avatar\", \"tag\": \"actor\"},\n",
    "    {\"query\": \"who was the main actor in The Godfather\", \"tag\": \"actor\"},\n",
    "    {\"query\": \"lead actor of Iron Man\", \"tag\": \"actor\"},\n",
    "    {\"query\": \"who played in The Matrix\", \"tag\": \"actor\"},\n",
    "    {\"query\": \"who was the actor in Star Wars\", \"tag\": \"actor\"},\n",
    "    {\"query\": \"who acted in Interstellar\", \"tag\": \"actor\"},\n",
    "    {\"query\": \"who starred in Pulp Fiction\", \"tag\": \"actor\"},\n",
    "\n",
    "    {\"query\": \"when was Titanic released\", \"tag\": \"release_date\"},\n",
    "    {\"query\": \"release date of Avatar\", \"tag\": \"release_date\"},\n",
    "    {\"query\": \"when was Inception released\", \"tag\": \"release_date\"},\n",
    "    {\"query\": \"release year of Star Wars\", \"tag\": \"release_date\"},\n",
    "    {\"query\": \"when did The Dark Knight come out\", \"tag\": \"release_date\"},\n",
    "    {\"query\": \"when was Schindler's List released\", \"tag\": \"release_date\"},\n",
    "    {\"query\": \"release date of The Matrix\", \"tag\": \"release_date\"},\n",
    "    {\"query\": \"release year of The Godfather\", \"tag\": \"release_date\"},\n",
    "    {\"query\": \"when did Forrest Gump release\", \"tag\": \"release_date\"},\n",
    "    {\"query\": \"when was Jurassic Park released\", \"tag\": \"release_date\"},\n",
    "\n",
    "    {\"query\": \"what genre is Titanic\", \"tag\": \"genre\"},\n",
    "    {\"query\": \"genre of Inception\", \"tag\": \"genre\"},\n",
    "    {\"query\": \"what type of movie is The Godfather\", \"tag\": \"genre\"},\n",
    "    {\"query\": \"what genre is Star Wars\", \"tag\": \"genre\"},\n",
    "    {\"query\": \"what genre is The Dark Knight\", \"tag\": \"genre\"},\n",
    "    {\"query\": \"genre of Avatar\", \"tag\": \"genre\"},\n",
    "    {\"query\": \"what type of movie is Jurassic Park\", \"tag\": \"genre\"},\n",
    "    {\"query\": \"what genre is The Matrix\", \"tag\": \"genre\"},\n",
    "    {\"query\": \"what type of movie is Schindler's List\", \"tag\": \"genre\"},\n",
    "    {\"query\": \"genre of Pulp Fiction\", \"tag\": \"genre\"},\n",
    "\n",
    "    {\"query\": \"what is the rating of Titanic\", \"tag\": \"rating\"},\n",
    "    {\"query\": \"rating of Inception\", \"tag\": \"rating\"},\n",
    "    {\"query\": \"how was Star Wars rated\", \"tag\": \"rating\"},\n",
    "    {\"query\": \"rating of The Dark Knight\", \"tag\": \"rating\"},\n",
    "    {\"query\": \"what rating does The Matrix have\", \"tag\": \"rating\"},\n",
    "    {\"query\": \"rating of Avatar\", \"tag\": \"rating\"},\n",
    "    {\"query\": \"what rating does The Godfather have\", \"tag\": \"rating\"},\n",
    "    {\"query\": \"rating of Forrest Gump\", \"tag\": \"rating\"},\n",
    "    {\"query\": \"how was Pulp Fiction rated\", \"tag\": \"rating\"},\n",
    "    {\"query\": \"what is the rating of Schindler's List\", \"tag\": \"rating\"},\n",
    "\n",
    "    {\"query\": \"what was the budget of Titanic\", \"tag\": \"budget\"},\n",
    "    {\"query\": \"budget of Inception\", \"tag\": \"budget\"},\n",
    "    {\"query\": \"how much was spent on Avatar\", \"tag\": \"budget\"},\n",
    "    {\"query\": \"budget for The Dark Knight\", \"tag\": \"budget\"},\n",
    "    {\"query\": \"how much did Star Wars cost\", \"tag\": \"budget\"},\n",
    "    {\"query\": \"what was the budget of The Godfather\", \"tag\": \"budget\"},\n",
    "    {\"query\": \"how much did The Matrix cost\", \"tag\": \"budget\"},\n",
    "    {\"query\": \"budget for Jurassic Park\", \"tag\": \"budget\"},\n",
    "    {\"query\": \"how much did Pulp Fiction cost\", \"tag\": \"budget\"},\n",
    "    {\"query\": \"budget of Forrest Gump\", \"tag\": \"budget\"},\n",
    "\n",
    "    {\"query\": \"who produced Titanic\", \"tag\": \"producer\"},\n",
    "    {\"query\": \"who was the producer of Inception\", \"tag\": \"producer\"},\n",
    "    {\"query\": \"producer of Avatar\", \"tag\": \"producer\"},\n",
    "    {\"query\": \"who produced The Dark Knight\", \"tag\": \"producer\"},\n",
    "    {\"query\": \"who was the producer of Star Wars\", \"tag\": \"producer\"},\n",
    "    {\"query\": \"who produced The Matrix\", \"tag\": \"producer\"},\n",
    "    {\"query\": \"producer of The Godfather\", \"tag\": \"producer\"},\n",
    "    {\"query\": \"who produced Jurassic Park\", \"tag\": \"producer\"},\n",
    "    {\"query\": \"producer of Schindler's List\", \"tag\": \"producer\"},\n",
    "    {\"query\": \"who produced Pulp Fiction\", \"tag\": \"producer\"},\n",
    "\n",
    "    {\"query\": \"who wrote the screenplay for Titanic\", \"tag\": \"screenwriter\"},\n",
    "    {\"query\": \"screenwriter of Inception\", \"tag\": \"screenwriter\"},\n",
    "    {\"query\": \"who wrote the screenplay for The Dark Knight\", \"tag\": \"screenwriter\"},\n",
    "    {\"query\": \"who wrote Star Wars\", \"tag\": \"screenwriter\"},\n",
    "    {\"query\": \"who was the screenwriter of Avatar\", \"tag\": \"screenwriter\"},\n",
    "    {\"query\": \"screenwriter of The Matrix\", \"tag\": \"screenwriter\"},\n",
    "    {\"query\": \"who wrote The Godfather screenplay\", \"tag\": \"screenwriter\"},\n",
    "    {\"query\": \"who wrote the script for Pulp Fiction\", \"tag\": \"screenwriter\"},\n",
    "    {\"query\": \"who was the screenwriter of Schindler's List\", \"tag\": \"screenwriter\"},\n",
    "    {\"query\": \"who wrote the screenplay for Jurassic Park\", \"tag\": \"screenwriter\"},\n",
    "\n",
    "    {\"query\": \"when was Leonardo DiCaprio born\", \"tag\": \"birth_date\"},\n",
    "    {\"query\": \"birth date of James Cameron\", \"tag\": \"birth_date\"},\n",
    "    {\"query\": \"when was Robert Downey Jr born\", \"tag\": \"birth_date\"},\n",
    "    {\"query\": \"birth date of Steven Spielberg\", \"tag\": \"birth_date\"},\n",
    "    {\"query\": \"when was Christopher Nolan born\", \"tag\": \"birth_date\"},\n",
    "    {\"query\": \"when was Al Pacino born\", \"tag\": \"birth_date\"},\n",
    "    {\"query\": \"birth date of Keanu Reeves\", \"tag\": \"birth_date\"},\n",
    "    {\"query\": \"when was Quentin Tarantino born\", \"tag\": \"birth_date\"},\n",
    "    {\"query\": \"birth date of Harrison Ford\", \"tag\": \"birth_date\"},\n",
    "    {\"query\": \"when was Samuel L. Jackson born\", \"tag\": \"birth_date\"},\n",
    "\n",
    "    {\"query\": \"where was Leonardo DiCaprio born\", \"tag\": \"birth_place\"},\n",
    "    {\"query\": \"birthplace of James Cameron\", \"tag\": \"birth_place\"},\n",
    "    {\"query\": \"where was Robert Downey Jr born\", \"tag\": \"birth_place\"},\n",
    "    {\"query\": \"where was Steven Spielberg born\", \"tag\": \"birth_place\"},\n",
    "    {\"query\": \"birthplace of Christopher Nolan\", \"tag\": \"birth_place\"},\n",
    "    {\"query\": \"where was Al Pacino born\", \"tag\": \"birth_place\"},\n",
    "    {\"query\": \"where was Keanu Reeves born\", \"tag\": \"birth_place\"},\n",
    "    {\"query\": \"birthplace of Quentin Tarantino\", \"tag\": \"birth_place\"},\n",
    "    {\"query\": \"where was Harrison Ford born\", \"tag\": \"birth_place\"},\n",
    "    {\"query\": \"where was Samuel L. Jackson born\", \"tag\": \"birth_place\"},\n",
    "]"
   ]
  },
  {
   "cell_type": "code",
   "execution_count": 7,
   "metadata": {},
   "outputs": [
    {
     "name": "stderr",
     "output_type": "stream",
     "text": [
      "Some weights of BertForSequenceClassification were not initialized from the model checkpoint at bert-base-uncased and are newly initialized: ['classifier.bias', 'classifier.weight']\n",
      "You should probably TRAIN this model on a down-stream task to be able to use it for predictions and inference.\n",
      "/opt/miniconda3/envs/atai/lib/python3.10/site-packages/transformers/training_args.py:1545: FutureWarning: `evaluation_strategy` is deprecated and will be removed in version 4.46 of 🤗 Transformers. Use `eval_strategy` instead\n",
      "  warnings.warn(\n",
      "  5%|▍         | 10/220 [00:03<01:01,  3.40it/s]"
     ]
    },
    {
     "name": "stdout",
     "output_type": "stream",
     "text": [
      "{'loss': 2.4565, 'grad_norm': 7.6797003746032715, 'learning_rate': 1.0000000000000002e-06, 'epoch': 0.91}\n"
     ]
    },
    {
     "name": "stderr",
     "output_type": "stream",
     "text": [
      "  5%|▌         | 11/220 [00:03<01:01,  3.40it/s]\n",
      "  5%|▌         | 11/220 [00:03<01:01,  3.40it/s]"
     ]
    },
    {
     "name": "stdout",
     "output_type": "stream",
     "text": [
      "{'eval_loss': 2.3814496994018555, 'eval_runtime': 0.1307, 'eval_samples_per_second': 168.288, 'eval_steps_per_second': 22.948, 'epoch': 1.0}\n"
     ]
    },
    {
     "name": "stderr",
     "output_type": "stream",
     "text": [
      "  9%|▉         | 20/220 [00:06<01:00,  3.32it/s]"
     ]
    },
    {
     "name": "stdout",
     "output_type": "stream",
     "text": [
      "{'loss': 2.4103, 'grad_norm': 7.2036051750183105, 'learning_rate': 2.0000000000000003e-06, 'epoch': 1.82}\n"
     ]
    },
    {
     "name": "stderr",
     "output_type": "stream",
     "text": [
      " 10%|█         | 22/220 [00:06<00:57,  3.47it/s]\n",
      " 10%|█         | 22/220 [00:06<00:57,  3.47it/s]"
     ]
    },
    {
     "name": "stdout",
     "output_type": "stream",
     "text": [
      "{'eval_loss': 2.3637070655822754, 'eval_runtime': 0.1272, 'eval_samples_per_second': 172.899, 'eval_steps_per_second': 23.577, 'epoch': 2.0}\n"
     ]
    },
    {
     "name": "stderr",
     "output_type": "stream",
     "text": [
      " 14%|█▎        | 30/220 [00:09<00:51,  3.69it/s]"
     ]
    },
    {
     "name": "stdout",
     "output_type": "stream",
     "text": [
      "{'loss': 2.3966, 'grad_norm': 9.014016151428223, 'learning_rate': 3e-06, 'epoch': 2.73}\n"
     ]
    },
    {
     "name": "stderr",
     "output_type": "stream",
     "text": [
      " 15%|█▌        | 33/220 [00:09<00:50,  3.70it/s]\n",
      " 15%|█▌        | 33/220 [00:09<00:50,  3.70it/s]"
     ]
    },
    {
     "name": "stdout",
     "output_type": "stream",
     "text": [
      "{'eval_loss': 2.3304123878479004, 'eval_runtime': 0.1241, 'eval_samples_per_second': 177.258, 'eval_steps_per_second': 24.172, 'epoch': 3.0}\n"
     ]
    },
    {
     "name": "stderr",
     "output_type": "stream",
     "text": [
      " 18%|█▊        | 40/220 [00:11<00:48,  3.73it/s]"
     ]
    },
    {
     "name": "stdout",
     "output_type": "stream",
     "text": [
      "{'loss': 2.3289, 'grad_norm': 7.755400657653809, 'learning_rate': 4.000000000000001e-06, 'epoch': 3.64}\n"
     ]
    },
    {
     "name": "stderr",
     "output_type": "stream",
     "text": [
      " 20%|██        | 44/220 [00:12<00:47,  3.73it/s]\n",
      " 20%|██        | 44/220 [00:12<00:47,  3.73it/s]"
     ]
    },
    {
     "name": "stdout",
     "output_type": "stream",
     "text": [
      "{'eval_loss': 2.2886292934417725, 'eval_runtime': 0.1294, 'eval_samples_per_second': 170.027, 'eval_steps_per_second': 23.186, 'epoch': 4.0}\n"
     ]
    },
    {
     "name": "stderr",
     "output_type": "stream",
     "text": [
      " 23%|██▎       | 50/220 [00:14<00:46,  3.66it/s]"
     ]
    },
    {
     "name": "stdout",
     "output_type": "stream",
     "text": [
      "{'loss': 2.3188, 'grad_norm': 8.7330961227417, 'learning_rate': 5e-06, 'epoch': 4.55}\n"
     ]
    },
    {
     "name": "stderr",
     "output_type": "stream",
     "text": [
      " 25%|██▌       | 55/220 [00:15<00:44,  3.74it/s]\n",
      " 25%|██▌       | 55/220 [00:15<00:44,  3.74it/s]"
     ]
    },
    {
     "name": "stdout",
     "output_type": "stream",
     "text": [
      "{'eval_loss': 2.2385919094085693, 'eval_runtime': 0.122, 'eval_samples_per_second': 180.35, 'eval_steps_per_second': 24.593, 'epoch': 5.0}\n"
     ]
    },
    {
     "name": "stderr",
     "output_type": "stream",
     "text": [
      " 27%|██▋       | 60/220 [00:17<00:43,  3.66it/s]"
     ]
    },
    {
     "name": "stdout",
     "output_type": "stream",
     "text": [
      "{'loss': 2.2456, 'grad_norm': 10.007150650024414, 'learning_rate': 6e-06, 'epoch': 5.45}\n"
     ]
    },
    {
     "name": "stderr",
     "output_type": "stream",
     "text": [
      " 30%|███       | 66/220 [00:18<00:41,  3.71it/s]\n",
      " 30%|███       | 66/220 [00:18<00:41,  3.71it/s]"
     ]
    },
    {
     "name": "stdout",
     "output_type": "stream",
     "text": [
      "{'eval_loss': 2.1803054809570312, 'eval_runtime': 0.1224, 'eval_samples_per_second': 179.695, 'eval_steps_per_second': 24.504, 'epoch': 6.0}\n"
     ]
    },
    {
     "name": "stderr",
     "output_type": "stream",
     "text": [
      " 32%|███▏      | 70/220 [00:20<00:41,  3.65it/s]"
     ]
    },
    {
     "name": "stdout",
     "output_type": "stream",
     "text": [
      "{'loss': 2.1978, 'grad_norm': 15.660079956054688, 'learning_rate': 7.000000000000001e-06, 'epoch': 6.36}\n"
     ]
    },
    {
     "name": "stderr",
     "output_type": "stream",
     "text": [
      " 35%|███▌      | 77/220 [00:21<00:37,  3.76it/s]\n",
      " 35%|███▌      | 77/220 [00:21<00:37,  3.76it/s]"
     ]
    },
    {
     "name": "stdout",
     "output_type": "stream",
     "text": [
      "{'eval_loss': 2.1147892475128174, 'eval_runtime': 0.1223, 'eval_samples_per_second': 179.832, 'eval_steps_per_second': 24.523, 'epoch': 7.0}\n"
     ]
    },
    {
     "name": "stderr",
     "output_type": "stream",
     "text": [
      " 36%|███▋      | 80/220 [00:22<00:39,  3.58it/s]"
     ]
    },
    {
     "name": "stdout",
     "output_type": "stream",
     "text": [
      "{'loss': 2.1006, 'grad_norm': 9.56883716583252, 'learning_rate': 8.000000000000001e-06, 'epoch': 7.27}\n"
     ]
    },
    {
     "name": "stderr",
     "output_type": "stream",
     "text": [
      " 40%|████      | 88/220 [00:24<00:35,  3.76it/s]\n",
      " 40%|████      | 88/220 [00:25<00:35,  3.76it/s]"
     ]
    },
    {
     "name": "stdout",
     "output_type": "stream",
     "text": [
      "{'eval_loss': 2.0148677825927734, 'eval_runtime': 0.1201, 'eval_samples_per_second': 183.238, 'eval_steps_per_second': 24.987, 'epoch': 8.0}\n"
     ]
    },
    {
     "name": "stderr",
     "output_type": "stream",
     "text": [
      " 41%|████      | 90/220 [00:25<00:36,  3.56it/s]"
     ]
    },
    {
     "name": "stdout",
     "output_type": "stream",
     "text": [
      "{'loss': 2.0223, 'grad_norm': 8.294407844543457, 'learning_rate': 9e-06, 'epoch': 8.18}\n"
     ]
    },
    {
     "name": "stderr",
     "output_type": "stream",
     "text": [
      " 45%|████▌     | 99/220 [00:27<00:33,  3.62it/s]\n",
      " 45%|████▌     | 99/220 [00:28<00:33,  3.62it/s]"
     ]
    },
    {
     "name": "stdout",
     "output_type": "stream",
     "text": [
      "{'eval_loss': 1.9171981811523438, 'eval_runtime': 0.1251, 'eval_samples_per_second': 175.852, 'eval_steps_per_second': 23.98, 'epoch': 9.0}\n"
     ]
    },
    {
     "name": "stderr",
     "output_type": "stream",
     "text": [
      " 45%|████▌     | 100/220 [00:28<00:35,  3.38it/s]"
     ]
    },
    {
     "name": "stdout",
     "output_type": "stream",
     "text": [
      "{'loss': 1.9174, 'grad_norm': 8.328079223632812, 'learning_rate': 1e-05, 'epoch': 9.09}\n"
     ]
    },
    {
     "name": "stderr",
     "output_type": "stream",
     "text": [
      " 50%|█████     | 110/220 [00:31<00:29,  3.76it/s]"
     ]
    },
    {
     "name": "stdout",
     "output_type": "stream",
     "text": [
      "{'loss': 1.8163, 'grad_norm': 9.294042587280273, 'learning_rate': 1.1000000000000001e-05, 'epoch': 10.0}\n"
     ]
    },
    {
     "name": "stderr",
     "output_type": "stream",
     "text": [
      "\n",
      " 50%|█████     | 110/220 [00:31<00:29,  3.76it/s]"
     ]
    },
    {
     "name": "stdout",
     "output_type": "stream",
     "text": [
      "{'eval_loss': 1.8371955156326294, 'eval_runtime': 0.0744, 'eval_samples_per_second': 295.881, 'eval_steps_per_second': 40.347, 'epoch': 10.0}\n"
     ]
    },
    {
     "name": "stderr",
     "output_type": "stream",
     "text": [
      " 55%|█████▍    | 120/220 [00:33<00:26,  3.74it/s]"
     ]
    },
    {
     "name": "stdout",
     "output_type": "stream",
     "text": [
      "{'loss': 1.6893, 'grad_norm': 11.605252265930176, 'learning_rate': 1.2e-05, 'epoch': 10.91}\n"
     ]
    },
    {
     "name": "stderr",
     "output_type": "stream",
     "text": [
      " 55%|█████▌    | 121/220 [00:33<00:26,  3.75it/s]\n",
      " 55%|█████▌    | 121/220 [00:34<00:26,  3.75it/s]"
     ]
    },
    {
     "name": "stdout",
     "output_type": "stream",
     "text": [
      "{'eval_loss': 1.7131321430206299, 'eval_runtime': 0.1279, 'eval_samples_per_second': 171.994, 'eval_steps_per_second': 23.454, 'epoch': 11.0}\n"
     ]
    },
    {
     "name": "stderr",
     "output_type": "stream",
     "text": [
      " 59%|█████▉    | 130/220 [00:36<00:24,  3.73it/s]"
     ]
    },
    {
     "name": "stdout",
     "output_type": "stream",
     "text": [
      "{'loss': 1.5545, 'grad_norm': 9.410881042480469, 'learning_rate': 1.3000000000000001e-05, 'epoch': 11.82}\n"
     ]
    },
    {
     "name": "stderr",
     "output_type": "stream",
     "text": [
      " 60%|██████    | 132/220 [00:37<00:23,  3.74it/s]\n",
      " 60%|██████    | 132/220 [00:37<00:23,  3.74it/s]"
     ]
    },
    {
     "name": "stdout",
     "output_type": "stream",
     "text": [
      "{'eval_loss': 1.542914628982544, 'eval_runtime': 0.1216, 'eval_samples_per_second': 180.956, 'eval_steps_per_second': 24.676, 'epoch': 12.0}\n"
     ]
    },
    {
     "name": "stderr",
     "output_type": "stream",
     "text": [
      " 64%|██████▎   | 140/220 [00:39<00:21,  3.73it/s]"
     ]
    },
    {
     "name": "stdout",
     "output_type": "stream",
     "text": [
      "{'loss': 1.3971, 'grad_norm': 8.994892120361328, 'learning_rate': 1.4000000000000001e-05, 'epoch': 12.73}\n"
     ]
    },
    {
     "name": "stderr",
     "output_type": "stream",
     "text": [
      " 65%|██████▌   | 143/220 [00:40<00:20,  3.76it/s]\n",
      " 65%|██████▌   | 143/220 [00:40<00:20,  3.76it/s]"
     ]
    },
    {
     "name": "stdout",
     "output_type": "stream",
     "text": [
      "{'eval_loss': 1.386135458946228, 'eval_runtime': 0.1236, 'eval_samples_per_second': 178.009, 'eval_steps_per_second': 24.274, 'epoch': 13.0}\n"
     ]
    },
    {
     "name": "stderr",
     "output_type": "stream",
     "text": [
      " 68%|██████▊   | 150/220 [00:42<00:18,  3.75it/s]"
     ]
    },
    {
     "name": "stdout",
     "output_type": "stream",
     "text": [
      "{'loss': 1.2638, 'grad_norm': 7.834732532501221, 'learning_rate': 1.5e-05, 'epoch': 13.64}\n"
     ]
    },
    {
     "name": "stderr",
     "output_type": "stream",
     "text": [
      " 70%|███████   | 154/220 [00:43<00:17,  3.78it/s]\n",
      " 70%|███████   | 154/220 [00:43<00:17,  3.78it/s]"
     ]
    },
    {
     "name": "stdout",
     "output_type": "stream",
     "text": [
      "{'eval_loss': 1.2627803087234497, 'eval_runtime': 0.1226, 'eval_samples_per_second': 179.453, 'eval_steps_per_second': 24.471, 'epoch': 14.0}\n"
     ]
    },
    {
     "name": "stderr",
     "output_type": "stream",
     "text": [
      " 73%|███████▎  | 160/220 [00:44<00:16,  3.71it/s]"
     ]
    },
    {
     "name": "stdout",
     "output_type": "stream",
     "text": [
      "{'loss': 1.109, 'grad_norm': 13.685757637023926, 'learning_rate': 1.6000000000000003e-05, 'epoch': 14.55}\n"
     ]
    },
    {
     "name": "stderr",
     "output_type": "stream",
     "text": [
      " 75%|███████▌  | 165/220 [00:46<00:14,  3.76it/s]\n",
      " 75%|███████▌  | 165/220 [00:46<00:14,  3.76it/s]"
     ]
    },
    {
     "name": "stdout",
     "output_type": "stream",
     "text": [
      "{'eval_loss': 1.0832791328430176, 'eval_runtime': 0.1216, 'eval_samples_per_second': 180.86, 'eval_steps_per_second': 24.663, 'epoch': 15.0}\n"
     ]
    },
    {
     "name": "stderr",
     "output_type": "stream",
     "text": [
      " 77%|███████▋  | 170/220 [00:47<00:13,  3.69it/s]"
     ]
    },
    {
     "name": "stdout",
     "output_type": "stream",
     "text": [
      "{'loss': 0.9288, 'grad_norm': 7.3281145095825195, 'learning_rate': 1.7000000000000003e-05, 'epoch': 15.45}\n"
     ]
    },
    {
     "name": "stderr",
     "output_type": "stream",
     "text": [
      " 80%|████████  | 176/220 [00:49<00:11,  3.70it/s]\n",
      " 80%|████████  | 176/220 [00:49<00:11,  3.70it/s]"
     ]
    },
    {
     "name": "stdout",
     "output_type": "stream",
     "text": [
      "{'eval_loss': 0.8361207842826843, 'eval_runtime': 0.1268, 'eval_samples_per_second': 173.562, 'eval_steps_per_second': 23.668, 'epoch': 16.0}\n"
     ]
    },
    {
     "name": "stderr",
     "output_type": "stream",
     "text": [
      " 82%|████████▏ | 180/220 [00:50<00:11,  3.62it/s]"
     ]
    },
    {
     "name": "stdout",
     "output_type": "stream",
     "text": [
      "{'loss': 0.7921, 'grad_norm': 5.244255065917969, 'learning_rate': 1.8e-05, 'epoch': 16.36}\n"
     ]
    },
    {
     "name": "stderr",
     "output_type": "stream",
     "text": [
      " 85%|████████▌ | 187/220 [00:52<00:08,  3.76it/s]\n",
      " 85%|████████▌ | 187/220 [00:52<00:08,  3.76it/s]"
     ]
    },
    {
     "name": "stdout",
     "output_type": "stream",
     "text": [
      "{'eval_loss': 0.6814515590667725, 'eval_runtime': 0.1212, 'eval_samples_per_second': 181.573, 'eval_steps_per_second': 24.76, 'epoch': 17.0}\n"
     ]
    },
    {
     "name": "stderr",
     "output_type": "stream",
     "text": [
      " 86%|████████▋ | 190/220 [00:52<00:08,  3.60it/s]"
     ]
    },
    {
     "name": "stdout",
     "output_type": "stream",
     "text": [
      "{'loss': 0.629, 'grad_norm': 6.904348373413086, 'learning_rate': 1.9e-05, 'epoch': 17.27}\n"
     ]
    },
    {
     "name": "stderr",
     "output_type": "stream",
     "text": [
      " 90%|█████████ | 198/220 [00:55<00:05,  3.77it/s]\n",
      " 90%|█████████ | 198/220 [00:55<00:05,  3.77it/s]"
     ]
    },
    {
     "name": "stdout",
     "output_type": "stream",
     "text": [
      "{'eval_loss': 0.536441445350647, 'eval_runtime': 0.1211, 'eval_samples_per_second': 181.671, 'eval_steps_per_second': 24.773, 'epoch': 18.0}\n"
     ]
    },
    {
     "name": "stderr",
     "output_type": "stream",
     "text": [
      " 91%|█████████ | 200/220 [00:55<00:05,  3.41it/s]"
     ]
    },
    {
     "name": "stdout",
     "output_type": "stream",
     "text": [
      "{'loss': 0.4919, 'grad_norm': 3.73199462890625, 'learning_rate': 2e-05, 'epoch': 18.18}\n"
     ]
    },
    {
     "name": "stderr",
     "output_type": "stream",
     "text": [
      " 95%|█████████▌| 209/220 [00:58<00:02,  3.78it/s]\n",
      " 95%|█████████▌| 209/220 [00:58<00:02,  3.78it/s]"
     ]
    },
    {
     "name": "stdout",
     "output_type": "stream",
     "text": [
      "{'eval_loss': 0.45677444338798523, 'eval_runtime': 0.1244, 'eval_samples_per_second': 176.803, 'eval_steps_per_second': 24.109, 'epoch': 19.0}\n"
     ]
    },
    {
     "name": "stderr",
     "output_type": "stream",
     "text": [
      " 95%|█████████▌| 210/220 [00:58<00:02,  3.47it/s]"
     ]
    },
    {
     "name": "stdout",
     "output_type": "stream",
     "text": [
      "{'loss': 0.3714, 'grad_norm': 3.037890672683716, 'learning_rate': 2.1e-05, 'epoch': 19.09}\n"
     ]
    },
    {
     "name": "stderr",
     "output_type": "stream",
     "text": [
      "100%|██████████| 220/220 [01:01<00:00,  3.78it/s]"
     ]
    },
    {
     "name": "stdout",
     "output_type": "stream",
     "text": [
      "{'loss': 0.293, 'grad_norm': 4.524197578430176, 'learning_rate': 2.2000000000000003e-05, 'epoch': 20.0}\n"
     ]
    },
    {
     "name": "stderr",
     "output_type": "stream",
     "text": [
      "\n",
      "100%|██████████| 220/220 [01:05<00:00,  3.36it/s]\n"
     ]
    },
    {
     "name": "stdout",
     "output_type": "stream",
     "text": [
      "{'eval_loss': 0.3136032819747925, 'eval_runtime': 0.0925, 'eval_samples_per_second': 237.877, 'eval_steps_per_second': 32.438, 'epoch': 20.0}\n",
      "{'train_runtime': 65.5639, 'train_samples_per_second': 26.844, 'train_steps_per_second': 3.356, 'train_loss': 1.5786668864163484, 'epoch': 20.0}\n"
     ]
    },
    {
     "name": "stderr",
     "output_type": "stream",
     "text": [
      "100%|██████████| 3/3 [00:00<00:00, 57.95it/s]"
     ]
    },
    {
     "name": "stdout",
     "output_type": "stream",
     "text": [
      "Query: producer of Schindler's List --> Predicted Tag: producer\n",
      "Query: who directed Titanic --> Predicted Tag: director\n",
      "Query: what was the gross of Frozen --> Predicted Tag: rating\n",
      "Query: who was the screenwriter of Avatar --> Predicted Tag: screenwriter\n",
      "Query: how much did Star Wars cost --> Predicted Tag: budget\n",
      "Query: how much did Pulp Fiction cost --> Predicted Tag: budget\n",
      "Query: when was Titanic released --> Predicted Tag: release_date\n",
      "Query: genre of Avatar --> Predicted Tag: genre\n",
      "Query: birth date of Keanu Reeves --> Predicted Tag: birth_date\n",
      "Query: who was the director of Inception --> Predicted Tag: director\n",
      "Query: who produced Pulp Fiction --> Predicted Tag: producer\n",
      "Query: who wrote the screenplay for Titanic --> Predicted Tag: screenwriter\n",
      "Query: what was the earning of the movie Titanic --> Predicted Tag: revenue\n",
      "Query: screenwriter of Inception --> Predicted Tag: screenwriter\n",
      "Query: who directed Schindler's List --> Predicted Tag: director\n",
      "Query: who produced Titanic --> Predicted Tag: producer\n",
      "Query: what rating does The Godfather have --> Predicted Tag: rating\n",
      "Query: producer of Avatar --> Predicted Tag: producer\n",
      "Query: where was Harrison Ford born --> Predicted Tag: birth_place\n",
      "Query: what type of movie is The Godfather --> Predicted Tag: genre\n",
      "Query: who directed the movie Avatar --> Predicted Tag: director\n",
      "Query: release date of The Matrix --> Predicted Tag: release_date\n"
     ]
    },
    {
     "name": "stderr",
     "output_type": "stream",
     "text": [
      "\n"
     ]
    }
   ],
   "source": [
    "# Map tags to numerical labels\n",
    "tag2id = {tag: idx for idx, tag in enumerate(tags)}\n",
    "id2tag = {idx: tag for tag, idx in tag2id.items()}\n",
    "\n",
    "# Prepare the dataset\n",
    "queries = [d['query'] for d in data]\n",
    "labels = [tag2id[d['tag']] for d in data]\n",
    "\n",
    "# Split into train and test\n",
    "train_queries, test_queries, train_labels, test_labels = train_test_split(queries, labels, test_size=0.2)\n",
    "\n",
    "# Load pre-trained tokenizer\n",
    "tokenizer = BertTokenizer.from_pretrained('bert-base-uncased')\n",
    "\n",
    "# Tokenize the input data\n",
    "train_encodings = tokenizer(train_queries, truncation=True, padding=True, max_length=64)\n",
    "test_encodings = tokenizer(test_queries, truncation=True, padding=True, max_length=64)\n",
    "\n",
    "# Convert to PyTorch dataset format\n",
    "class MovieTagDataset(torch.utils.data.Dataset):\n",
    "    def __init__(self, encodings, labels):\n",
    "        self.encodings = encodings\n",
    "        self.labels = labels\n",
    "\n",
    "    def __len__(self):\n",
    "        return len(self.labels)\n",
    "\n",
    "    def __getitem__(self, idx):\n",
    "        item = {key: torch.tensor(val[idx]) for key, val in self.encodings.items()}\n",
    "        item['labels'] = torch.tensor(self.labels[idx])\n",
    "        return item\n",
    "\n",
    "train_dataset = MovieTagDataset(train_encodings, train_labels)\n",
    "test_dataset = MovieTagDataset(test_encodings, test_labels)\n",
    "\n",
    "# Load pre-trained BERT model for sequence classification\n",
    "model = BertForSequenceClassification.from_pretrained('bert-base-uncased', num_labels=len(tags))\n",
    "\n",
    "# Define training arguments\n",
    "training_args = TrainingArguments(\n",
    "    output_dir='./results',\n",
    "    num_train_epochs=20,\n",
    "    per_device_train_batch_size=8,\n",
    "    per_device_eval_batch_size=8,\n",
    "    warmup_steps=500,\n",
    "    weight_decay=0.01,\n",
    "    logging_dir='./logs',\n",
    "    logging_steps=10,\n",
    "    evaluation_strategy=\"epoch\",\n",
    ")\n",
    "\n",
    "# Use the Trainer API to train the model\n",
    "trainer = Trainer(\n",
    "    model=model,\n",
    "    args=training_args,\n",
    "    train_dataset=train_dataset,\n",
    "    eval_dataset=test_dataset,\n",
    ")\n",
    "\n",
    "# Train the model\n",
    "trainer.train()\n",
    "\n",
    "# Test the model\n",
    "predictions = trainer.predict(test_dataset)\n",
    "predicted_labels = torch.argmax(torch.tensor(predictions.predictions), axis=1)\n",
    "\n",
    "# Map predicted labels back to tags\n",
    "predicted_tags = [id2tag[label.item()] for label in predicted_labels]\n",
    "\n",
    "# Print the results\n",
    "for query, pred_tag in zip(test_queries, predicted_tags):\n",
    "    print(f\"Query: {query} --> Predicted Tag: {pred_tag}\")"
   ]
  },
  {
   "cell_type": "code",
   "execution_count": 8,
   "metadata": {},
   "outputs": [
    {
     "data": {
      "text/plain": [
       "{0: 'revenue',\n",
       " 1: 'director',\n",
       " 2: 'actor',\n",
       " 3: 'release_date',\n",
       " 4: 'genre',\n",
       " 5: 'rating',\n",
       " 6: 'budget',\n",
       " 7: 'producer',\n",
       " 8: 'screenwriter',\n",
       " 9: 'birth_date',\n",
       " 10: 'birth_place'}"
      ]
     },
     "execution_count": 8,
     "metadata": {},
     "output_type": "execute_result"
    }
   ],
   "source": [
    "id2tag"
   ]
  },
  {
   "cell_type": "code",
   "execution_count": 9,
   "metadata": {},
   "outputs": [],
   "source": [
    "# Export the model file\n",
    "model.save_pretrained(\"movie_tag_model\")"
   ]
  },
  {
   "cell_type": "code",
   "execution_count": 10,
   "metadata": {},
   "outputs": [],
   "source": [
    "# save the id2tag mapping\n",
    "import json\n",
    "with open('id2tag.json', 'w') as f:\n",
    "    json.dump(id2tag, f)\n",
    "\n"
   ]
  },
  {
   "cell_type": "code",
   "execution_count": null,
   "metadata": {},
   "outputs": [],
   "source": []
  }
 ],
 "metadata": {
  "kernelspec": {
   "display_name": "atai",
   "language": "python",
   "name": "python3"
  },
  "language_info": {
   "codemirror_mode": {
    "name": "ipython",
    "version": 3
   },
   "file_extension": ".py",
   "mimetype": "text/x-python",
   "name": "python",
   "nbconvert_exporter": "python",
   "pygments_lexer": "ipython3",
   "version": "3.10.14"
  }
 },
 "nbformat": 4,
 "nbformat_minor": 2
}
