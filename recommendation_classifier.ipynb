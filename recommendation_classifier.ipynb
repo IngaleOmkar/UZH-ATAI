{
 "cells": [
  {
   "cell_type": "code",
   "execution_count": 1,
   "metadata": {},
   "outputs": [
    {
     "name": "stderr",
     "output_type": "stream",
     "text": [
      "/opt/miniconda3/envs/atai/lib/python3.10/site-packages/tqdm/auto.py:21: TqdmWarning: IProgress not found. Please update jupyter and ipywidgets. See https://ipywidgets.readthedocs.io/en/stable/user_install.html\n",
      "  from .autonotebook import tqdm as notebook_tqdm\n"
     ]
    }
   ],
   "source": [
    "import torch\n",
    "from transformers import BertTokenizer, BertForSequenceClassification, Trainer, TrainingArguments\n",
    "from sklearn.model_selection import train_test_split\n",
    "from datasets import Dataset"
   ]
  },
  {
   "cell_type": "code",
   "execution_count": 2,
   "metadata": {},
   "outputs": [],
   "source": [
    "training_data = [\n",
    "    {\"query\": \"what was the earning of the movie Titanic\", \"tag\": \"qna\"},\n",
    "    {\"query\": \"how much did Avatar make\", \"tag\": \"qna\"},\n",
    "    {\"query\": \"box office collection of Jurassic Park\", \"tag\": \"qna\"},\n",
    "    {\"query\": \"total revenue of Inception\", \"tag\": \"qna\"},\n",
    "    {\"query\": \"what was the gross of Frozen\", \"tag\": \"qna\"},\n",
    "    {\"query\": \"how much did Avengers Endgame earn\", \"tag\": \"qna\"},\n",
    "    {\"query\": \"earnings of The Dark Knight\", \"tag\": \"qna\"},\n",
    "    {\"query\": \"how much money did Titanic gross\", \"tag\": \"qna\"},\n",
    "    {\"query\": \"how much revenue did Star Wars make\", \"tag\": \"qna\"},\n",
    "    {\"query\": \"revenue of Iron Man\", \"tag\": \"qna\"},\n",
    "    {\"query\": \"who directed Titanic\", \"tag\": \"qna\"},\n",
    "    {\"query\": \"who was the director of Inception\", \"tag\": \"qna\"},\n",
    "    {\"query\": \"who directed the movie Avatar\", \"tag\": \"qna\"},\n",
    "    {\"query\": \"who directed Star Wars\", \"tag\": \"qna\"},\n",
    "    {\"query\": \"who was the director of The Godfather\", \"tag\": \"qna\"},\n",
    "    {\"query\": \"director of The Dark Knight\", \"tag\": \"qna\"},\n",
    "    {\"query\": \"who directed Forrest Gump\", \"tag\": \"qna\"},\n",
    "    {\"query\": \"who is the director of Jurassic Park\", \"tag\": \"qna\"},\n",
    "    {\"query\": \"who directed Schindler's List\", \"tag\": \"qna\"},\n",
    "    {\"query\": \"director of The Matrix\", \"tag\": \"qna\"},\n",
    "    {\"query\": \"who played the lead role in Titanic\", \"tag\": \"qna\"},\n",
    "    {\"query\": \"who acted in The Dark Knight\", \"tag\": \"qna\"},\n",
    "    {\"query\": \"lead actor in Inception\", \"tag\": \"qna\"},\n",
    "    {\"query\": \"who starred in Avatar\", \"tag\": \"qna\"},\n",
    "    {\"query\": \"who was the main actor in The Godfather\", \"tag\": \"qna\"},\n",
    "    {\"query\": \"lead actor of Iron Man\", \"tag\": \"qna\"},\n",
    "    {\"query\": \"who played in The Matrix\", \"tag\": \"qna\"},\n",
    "    {\"query\": \"who was the actor in Star Wars\", \"tag\": \"qna\"},\n",
    "    {\"query\": \"who acted in Interstellar\", \"tag\": \"qna\"},\n",
    "    {\"query\": \"who starred in Pulp Fiction\", \"tag\": \"qna\"},\n",
    "    {\"query\": \"when was Titanic released\", \"tag\": \"qna\"},\n",
    "    {\"query\": \"release date of Avatar\", \"tag\": \"qna\"},\n",
    "    {\"query\": \"when was Inception released\", \"tag\": \"qna\"},\n",
    "    {\"query\": \"release year of Star Wars\", \"tag\": \"qna\"},\n",
    "    {\"query\": \"when did The Dark Knight come out\", \"tag\": \"qna\"},\n",
    "    {\"query\": \"when was Schindler's List released\", \"tag\": \"qna\"},\n",
    "    {\"query\": \"release date of The Matrix\", \"tag\": \"qna\"},\n",
    "    {\"query\": \"release year of The Godfather\", \"tag\": \"qna\"},\n",
    "    {\"query\": \"when did Forrest Gump release\", \"tag\": \"qna\"},\n",
    "    {\"query\": \"when was Jurassic Park released\", \"tag\": \"qna\"},\n",
    "    {\"query\": \"what genre is Titanic\", \"tag\": \"qna\"},\n",
    "    {\"query\": \"genre of Inception\", \"tag\": \"qna\"},\n",
    "    {\"query\": \"what type of movie is The Godfather\", \"tag\": \"qna\"},\n",
    "    {\"query\": \"what genre is Star Wars\", \"tag\": \"qna\"},\n",
    "    {\"query\": \"what genre is The Dark Knight\", \"tag\": \"qna\"},\n",
    "    {\"query\": \"genre of Avatar\", \"tag\": \"qna\"},\n",
    "    {\"query\": \"what type of movie is Jurassic Park\", \"tag\": \"qna\"},\n",
    "    {\"query\": \"what genre is The Matrix\", \"tag\": \"qna\"},\n",
    "    {\"query\": \"what type of movie is Schindler's List\", \"tag\": \"qna\"},\n",
    "    {\"query\": \"genre of Pulp Fiction\", \"tag\": \"qna\"},\n",
    "    {\"query\": \"what is the rating of Titanic\", \"tag\": \"qna\"},\n",
    "    {\"query\": \"rating of Inception\", \"tag\": \"qna\"},\n",
    "    {\"query\": \"how was Star Wars rated\", \"tag\": \"qna\"},\n",
    "    {\"query\": \"rating of The Dark Knight\", \"tag\": \"qna\"},\n",
    "    {\"query\": \"what rating does The Matrix have\", \"tag\": \"qna\"},\n",
    "    {\"query\": \"rating of Avatar\", \"tag\": \"qna\"},\n",
    "    {\"query\": \"what rating does The Godfather have\", \"tag\": \"qna\"},\n",
    "    {\"query\": \"rating of Forrest Gump\", \"tag\": \"qna\"},\n",
    "    {\"query\": \"how was Pulp Fiction rated\", \"tag\": \"qna\"},\n",
    "    {\"query\": \"what is the rating of Schindler's List\", \"tag\": \"qna\"},\n",
    "    {\"query\": \"what was the budget of Titanic\", \"tag\": \"qna\"},\n",
    "    {\"query\": \"budget of Inception\", \"tag\": \"qna\"},\n",
    "    {\"query\": \"how much was spent on Avatar\", \"tag\": \"qna\"},\n",
    "    {\"query\": \"budget for The Dark Knight\", \"tag\": \"qna\"},\n",
    "    {\"query\": \"how much did Star Wars cost\", \"tag\": \"qna\"},\n",
    "    {\"query\": \"what was the budget of The Godfather\", \"tag\": \"qna\"},\n",
    "    {\"query\": \"how much did The Matrix cost\", \"tag\": \"qna\"},\n",
    "    {\"query\": \"budget for Jurassic Park\", \"tag\": \"qna\"},\n",
    "    {\"query\": \"how much did Pulp Fiction cost\", \"tag\": \"qna\"},\n",
    "    {\"query\": \"budget of Forrest Gump\", \"tag\": \"qna\"},\n",
    "    {\"query\": \"who produced Titanic\", \"tag\": \"qna\"},\n",
    "    {\"query\": \"who was the producer of Inception\", \"tag\": \"qna\"},\n",
    "    {\"query\": \"producer of Avatar\", \"tag\": \"qna\"},\n",
    "    {\"query\": \"who produced The Dark Knight\", \"tag\": \"qna\"},\n",
    "    {\"query\": \"who was the producer of Star Wars\", \"tag\": \"qna\"},\n",
    "    {\"query\": \"who produced The Matrix\", \"tag\": \"qna\"},\n",
    "    {\"query\": \"producer of The Godfather\", \"tag\": \"qna\"},\n",
    "    {\"query\": \"who produced Jurassic Park\", \"tag\": \"qna\"},\n",
    "    {\"query\": \"producer of Schindler's List\", \"tag\": \"qna\"},\n",
    "    {\"query\": \"who produced Pulp Fiction\", \"tag\": \"qna\"},\n",
    "    {\"query\": \"who wrote the screenplay for Titanic\", \"tag\": \"qna\"},\n",
    "    {\"query\": \"screenwriter of Inception\", \"tag\": \"qna\"},\n",
    "    {\"query\": \"who wrote the screenplay for The Dark Knight\", \"tag\": \"qna\"},\n",
    "    {\"query\": \"who wrote Star Wars\", \"tag\": \"qna\"},\n",
    "    {\"query\": \"who was the screenwriter of Avatar\", \"tag\": \"qna\"},\n",
    "    {\"query\": \"screenwriter of The Matrix\", \"tag\": \"qna\"},\n",
    "    {\"query\": \"who wrote The Godfather screenplay\", \"tag\": \"qna\"},\n",
    "    {\"query\": \"who wrote the script for Pulp Fiction\", \"tag\": \"qna\"},\n",
    "    {\"query\": \"who was the screenwriter of Schindler's List\", \"tag\": \"qna\"},\n",
    "    {\"query\": \"who wrote the screenplay for Jurassic Park\", \"tag\": \"qna\"},\n",
    "    {\"query\": \"when was Leonardo DiCaprio born\", \"tag\": \"qna\"},\n",
    "    {\"query\": \"birth date of James Cameron\", \"tag\": \"qna\"},\n",
    "    {\"query\": \"when was Robert Downey Jr born\", \"tag\": \"qna\"},\n",
    "    {\"query\": \"birth date of Steven Spielberg\", \"tag\": \"qna\"},\n",
    "    {\"query\": \"when was Christopher Nolan born\", \"tag\": \"qna\"},\n",
    "    {\"query\": \"when was Al Pacino born\", \"tag\": \"qna\"},\n",
    "    {\"query\": \"birth date of Keanu Reeves\", \"tag\": \"qna\"},\n",
    "    {\"query\": \"when was Quentin Tarantino born\", \"tag\": \"qna\"},\n",
    "    {\"query\": \"birth date of Harrison Ford\", \"tag\": \"qna\"},\n",
    "    {\"query\": \"when was Samuel L. Jackson born\", \"tag\": \"qna\"},\n",
    "    {\"query\": \"where was Leonardo DiCaprio born\", \"tag\": \"qna\"},\n",
    "    {\"query\": \"birthplace of James Cameron\", \"tag\": \"qna\"},\n",
    "    {\"query\": \"where was Robert Downey Jr born\", \"tag\": \"qna\"},\n",
    "    {\"query\": \"where was Steven Spielberg born\", \"tag\": \"qna\"},\n",
    "    {\"query\": \"birthplace of Christopher Nolan\", \"tag\": \"qna\"},\n",
    "    {\"query\": \"where was Al Pacino born\", \"tag\": \"qna\"},\n",
    "    {\"query\": \"where was Keanu Reeves born\", \"tag\": \"qna\"},\n",
    "    {\"query\": \"birthplace of Quentin Tarantino\", \"tag\": \"qna\"},\n",
    "    {\"query\": \"where was Harrison Ford born\", \"tag\": \"qna\"},\n",
    "    {\"query\": \"where was Samuel L. Jackson born\", \"tag\": \"qna\"},\n",
    "    {\"query\":\"Can you suggest movies like The Dark Knight?\", \"tag\":\"recommendation\"},\n",
    "    {\"query\":\"I loved Inception and Interstellar. What else should I watch?\", \"tag\":\"recommendation\"},\n",
    "    {\"query\":\"Give me movie recommendations similar to Toy Story and Finding Nemo.\", \"tag\":\"recommendation\"},\n",
    "    {\"query\":\"Recommend some movies if I enjoyed Titanic.\", \"tag\":\"recommendation\"},\n",
    "    {\"query\":\"I recently watched Joker, what else might I enjoy?\", \"tag\":\"recommendation\"},\n",
    "    {\"query\":\"What are some movies like Avatar and The Matrix?\", \"tag\":\"recommendation\"},\n",
    "    {\"query\":\"Suggest films that are similar to Parasite.\", \"tag\":\"recommendation\"},\n",
    "    {\"query\":\"I loved Shutter Island and Gone Girl. What do you recommend?\", \"tag\":\"recommendation\"},\n",
    "    {\"query\":\"If I liked Star Wars and Guardians of the Galaxy, what other movies should I watch?\", \"tag\":\"recommendation\"},\n",
    "    {\"query\":\"What are some great movies for fans of The Lord of the Rings?\", \"tag\":\"recommendation\"},\n",
    "    {\"query\":\"Can you recommend movies like The Godfather?\", \"tag\":\"recommendation\"},\n",
    "    {\"query\":\"I enjoyed Black Panther. Can you suggest some similar films?\", \"tag\":\"recommendation\"},\n",
    "    {\"query\":\"What movies should I watch if I liked Forrest Gump?\", \"tag\":\"recommendation\"},\n",
    "    {\"query\":\"Are there any films similar to Pulp Fiction and Kill Bill?\", \"tag\":\"recommendation\"},\n",
    "    {\"query\":\"Recommend some good films like Harry Potter.\", \"tag\":\"recommendation\"},\n",
    "    {\"query\":\"I just watched The Grand Budapest Hotel. What else would I enjoy?\", \"tag\":\"recommendation\"},\n",
    "    {\"query\":\"Suggest movies that are similar to La La Land and Whiplash.\", \"tag\":\"recommendation\"},\n",
    "    {\"query\":\"What films are similar to Avengers: Endgame?\", \"tag\":\"recommendation\"},\n",
    "    {\"query\":\"I enjoyed The Hunger Games and Divergent. What should I watch next?\", \"tag\":\"recommendation\"},\n",
    "    {\"query\":\"Can you give me a list of movies like Coco?\", \"tag\":\"recommendation\"},\n",
    "    {\"query\":\"If I liked The Lion King, what other films might I enjoy?\", \"tag\":\"recommendation\"},\n",
    "    {\"query\":\"What are some movies like The Silence of the Lambs?\", \"tag\":\"recommendation\"},\n",
    "    {\"query\":\"Can you suggest films for fans of Frozen?\", \"tag\":\"recommendation\"},\n",
    "    {\"query\":\"I loved The Social Network. Can you recommend similar movies?\", \"tag\":\"recommendation\"},\n",
    "    {\"query\":\"What films should I check out if I liked The Shawshank Redemption?\", \"tag\":\"recommendation\"},\n",
    "    {\"query\":\"Recommend some movies similar to Mad Max: Fury Road.\", \"tag\":\"recommendation\"},\n",
    "    {\"query\":\"What should I watch if I loved 1917 and Dunkirk?\", \"tag\":\"recommendation\"},\n",
    "    {\"query\":\"Can you recommend movies like Knives Out?\", \"tag\":\"recommendation\"},\n",
    "    {\"query\":\"I’m looking for movies like Spirited Away and My Neighbor Totoro. Any ideas?\", \"tag\":\"recommendation\"},\n",
    "    {\"query\":\"What are some great films similar to The Big Short?\", \"tag\":\"recommendation\"},\n",
    "    {\"query\":\"I enjoyed Deadpool. Can you suggest similar movies?\", \"tag\":\"recommendation\"},\n",
    "    {\"query\":\"Can you recommend movies like The Wolf of Wall Street?\", \"tag\":\"recommendation\"},\n",
    "    {\"query\":\"What movies are good if I liked Fight Club?\", \"tag\":\"recommendation\"},\n",
    "    {\"query\":\"I liked A Quiet Place and Bird Box. Any recommendations?\", \"tag\":\"recommendation\"},\n",
    "    {\"query\":\"Suggest films similar to The Revenant.\", \"tag\":\"recommendation\"},\n",
    "    {\"query\":\"What should I watch if I enjoyed Moonlight?\", \"tag\":\"recommendation\"},\n",
    "    {\"query\":\"Can you suggest movies like The Perks of Being a Wallflower?\", \"tag\":\"recommendation\"},\n",
    "    {\"query\":\"What are some movies like Up and Wall-E?\", \"tag\":\"recommendation\"},\n",
    "    {\"query\":\"I loved Good Will Hunting. Any similar recommendations?\", \"tag\":\"recommendation\"},\n",
    "    {\"query\":\"If I enjoyed The Shape of Water, what else might I like?\", \"tag\":\"recommendation\"},\n",
    "    {\"query\":\"What films are similar to The Irishman?\", \"tag\":\"recommendation\"},\n",
    "    {\"query\":\"Can you recommend some good movies like Gladiator?\", \"tag\":\"recommendation\"},\n",
    "    {\"query\":\"I loved The Notebook. What other romantic films should I watch?\", \"tag\":\"recommendation\"},\n",
    "    {\"query\":\"What are some great animated films like How to Train Your Dragon?\", \"tag\":\"recommendation\"},\n",
    "    {\"query\":\"Suggest movies similar to The Sixth Sense.\", \"tag\":\"recommendation\"},\n",
    "    {\"query\":\"I enjoyed Jumanji and Zathura. Any recommendations?\", \"tag\":\"recommendation\"},\n",
    "    {\"query\":\"What should I watch if I loved The Greatest Showman?\", \"tag\":\"recommendation\"},\n",
    "    {\"query\":\"Can you recommend movies like The Departed and Heat?\", \"tag\":\"recommendation\"},\n",
    "    {\"query\":\"What films are similar to Pride and Prejudice?\", \"tag\":\"recommendation\"},\n",
    "    {\"query\":\"I liked Crazy Rich Asians. Any similar films?\", \"tag\":\"recommendation\"},\n",
    "    {\"query\":\"Suggest movies similar to The Fault in Our Stars.\", \"tag\":\"recommendation\"},\n",
    "    {\"query\":\"What are some great spy films like Skyfall and Mission Impossible?\", \"tag\":\"recommendation\"},\n",
    "    {\"query\":\"If I enjoyed Monsters, Inc. and Despicable Me, what else might I enjoy?\", \"tag\":\"recommendation\"},\n",
    "    {\"query\":\"Can you recommend movies like The Bourne Identity?\", \"tag\":\"recommendation\"},\n",
    "    {\"query\":\"I enjoyed Inside Out and Soul. What else is similar?\", \"tag\":\"recommendation\"},\n",
    "    {\"query\":\"What are some films like The Girl with the Dragon Tattoo?\", \"tag\":\"recommendation\"},\n",
    "    {\"query\":\"Can you suggest movies for fans of Rocky and Creed?\", \"tag\":\"recommendation\"},\n",
    "    {\"query\":\"I loved The Blind Side. Any recommendations?\", \"tag\":\"recommendation\"},\n",
    "    {\"query\":\"What should I watch if I liked The Imitation Game?\", \"tag\":\"recommendation\"},\n",
    "    {\"query\":\"Recommend some good musicals like Mamma Mia!\", \"tag\":\"recommendation\"},\n",
    "    {\"query\":\"I enjoyed The Lego Movie. What similar movies are out there?\", \"tag\":\"recommendation\"},\n",
    "    {\"query\":\"What movies are great if I liked 10 Things I Hate About You?\", \"tag\":\"recommendation\"},\n",
    "    {\"query\":\"I loved Enola Holmes. What other mystery films should I watch?\", \"tag\":\"recommendation\"},\n",
    "    {\"query\":\"Can you recommend movies like The Conjuring and Annabelle?\", \"tag\":\"recommendation\"},\n",
    "    {\"query\":\"What films are similar to The Pianist?\", \"tag\":\"recommendation\"},\n",
    "    {\"query\":\"I liked Coco and Ratatouille. What else might I enjoy?\", \"tag\":\"recommendation\"},\n",
    "    {\"query\":\"Suggest films similar to Slumdog Millionaire.\", \"tag\":\"recommendation\"},\n",
    "    {\"query\":\"I loved The Secret Life of Walter Mitty. What else would you recommend?\", \"tag\":\"recommendation\"},\n",
    "    {\"query\":\"What movies are good for fans of The Great Gatsby?\", \"tag\":\"recommendation\"},\n",
    "    {\"query\":\"If I enjoyed Catch Me If You Can, what should I watch next?\", \"tag\":\"recommendation\"},\n",
    "    {\"query\":\"Recommend some movies like The Twilight Saga.\", \"tag\":\"recommendation\"},\n",
    "    {\"query\":\"I liked Coraline. What other dark animated films should I watch?\", \"tag\":\"recommendation\"},\n",
    "    {\"query\":\"What are some films similar to The Good, the Bad and the Ugly?\", \"tag\":\"recommendation\"},\n",
    "    {\"query\":\"Can you recommend movies like Casablanca?\", \"tag\":\"recommendation\"},\n",
    "    {\"query\":\"What should I watch if I enjoyed The Truman Show?\", \"tag\":\"recommendation\"},\n",
    "    {\"query\":\"I loved A Star is Born. Any similar suggestions?\", \"tag\":\"recommendation\"},\n",
    "    {\"query\":\"What are some films similar to Little Women?\", \"tag\":\"recommendation\"},\n",
    "    {\"query\":\"Can you recommend movies like Train to Busan?\", \"tag\":\"recommendation\"},\n",
    "    {\"query\":\"I enjoyed Hidden Figures. What else might I like?\", \"tag\":\"recommendation\"},\n",
    "    {\"query\":\"What films are similar to 500 Days of Summer?\", \"tag\":\"recommendation\"},\n",
    "]"
   ]
  },
  {
   "cell_type": "code",
   "execution_count": 3,
   "metadata": {},
   "outputs": [],
   "source": [
    "label_list = [\"qna\", \"recommendation\"]\n",
    "\n",
    "# Map tags to numerical labels\n",
    "tag2id = {tag: idx for idx, tag in enumerate(label_list)}\n",
    "id2tag = {idx: tag for tag, idx in tag2id.items()}\n",
    "\n",
    "queries = [d['query'] for d in training_data]\n",
    "labels = [tag2id[d['tag']] for d in training_data]"
   ]
  },
  {
   "cell_type": "code",
   "execution_count": 4,
   "metadata": {},
   "outputs": [],
   "source": [
    "# Split into train and test\n",
    "train_queries, test_queries, train_labels, test_labels = train_test_split(queries, labels, test_size=0.2)"
   ]
  },
  {
   "cell_type": "code",
   "execution_count": 5,
   "metadata": {},
   "outputs": [
    {
     "data": {
      "text/plain": [
       "['how much was spent on Avatar',\n",
       " 'rating of Avatar',\n",
       " 'who acted in Interstellar',\n",
       " 'I loved Enola Holmes. What other mystery films should I watch?',\n",
       " 'when was Titanic released',\n",
       " 'I loved Inception and Interstellar. What else should I watch?',\n",
       " 'where was Leonardo DiCaprio born',\n",
       " 'I enjoyed Inside Out and Soul. What else is similar?',\n",
       " 'what was the budget of Titanic',\n",
       " 'If I enjoyed The Shape of Water, what else might I like?',\n",
       " 'genre of Inception',\n",
       " 'who wrote the screenplay for The Dark Knight',\n",
       " 'how was Star Wars rated',\n",
       " 'Recommend some good films like Harry Potter.',\n",
       " 'who produced The Matrix',\n",
       " 'What are some great animated films like How to Train Your Dragon?',\n",
       " 'Recommend some movies similar to Mad Max: Fury Road.',\n",
       " 'Recommend some movies if I enjoyed Titanic.',\n",
       " 'who was the main actor in The Godfather',\n",
       " \"what is the rating of Schindler's List\",\n",
       " 'What are some movies like Avatar and The Matrix?',\n",
       " 'when was Al Pacino born',\n",
       " 'what rating does The Matrix have',\n",
       " 'Can you suggest films for fans of Frozen?',\n",
       " 'What movies are great if I liked 10 Things I Hate About You?',\n",
       " 'what was the gross of Frozen',\n",
       " 'when did Forrest Gump release',\n",
       " 'What should I watch if I loved 1917 and Dunkirk?',\n",
       " 'when was Quentin Tarantino born',\n",
       " 'how much did The Matrix cost',\n",
       " 'who produced The Dark Knight',\n",
       " 'I enjoyed Hidden Figures. What else might I like?',\n",
       " 'Are there any films similar to Pulp Fiction and Kill Bill?',\n",
       " 'What movies should I watch if I liked Forrest Gump?',\n",
       " 'What films are similar to The Pianist?',\n",
       " 'What movies are good for fans of The Great Gatsby?',\n",
       " 'release date of The Matrix',\n",
       " 'Suggest movies that are similar to La La Land and Whiplash.',\n",
       " 'I liked Coraline. What other dark animated films should I watch?',\n",
       " 'birth date of James Cameron',\n",
       " 'producer of Avatar',\n",
       " 'What films are similar to Avengers: Endgame?',\n",
       " 'where was Al Pacino born',\n",
       " 'when was Robert Downey Jr born',\n",
       " 'Recommend some movies like The Twilight Saga.',\n",
       " 'rating of The Dark Knight',\n",
       " 'what is the rating of Titanic',\n",
       " 'who was the director of Inception',\n",
       " 'Can you recommend some good movies like Gladiator?',\n",
       " 'where was Keanu Reeves born',\n",
       " 'director of The Matrix',\n",
       " 'how much did Avengers Endgame earn',\n",
       " 'birth date of Keanu Reeves',\n",
       " 'Can you recommend movies like The Departed and Heat?',\n",
       " 'Suggest movies similar to The Fault in Our Stars.',\n",
       " 'who produced Jurassic Park',\n",
       " 'Can you give me a list of movies like Coco?',\n",
       " 'who directed Forrest Gump',\n",
       " 'who was the screenwriter of Avatar',\n",
       " 'What films are similar to The Irishman?',\n",
       " 'Can you recommend movies like The Godfather?',\n",
       " 'If I enjoyed Monsters, Inc. and Despicable Me, what else might I enjoy?',\n",
       " 'birthplace of James Cameron',\n",
       " 'rating of Forrest Gump',\n",
       " 'birthplace of Quentin Tarantino',\n",
       " 'where was Steven Spielberg born',\n",
       " 'I enjoyed The Lego Movie. What similar movies are out there?',\n",
       " 'who was the actor in Star Wars',\n",
       " 'who directed Star Wars',\n",
       " 'Can you suggest movies like The Perks of Being a Wallflower?',\n",
       " 'how much did Pulp Fiction cost',\n",
       " 'director of The Dark Knight',\n",
       " 'Can you recommend movies like Knives Out?',\n",
       " 'how much money did Titanic gross',\n",
       " 'release year of The Godfather',\n",
       " 'What are some great spy films like Skyfall and Mission Impossible?',\n",
       " 'what genre is Titanic',\n",
       " 'budget of Forrest Gump',\n",
       " 'genre of Avatar',\n",
       " 'I enjoyed Jumanji and Zathura. Any recommendations?',\n",
       " 'who directed the movie Avatar',\n",
       " 'I recently watched Joker, what else might I enjoy?',\n",
       " 'I loved A Star is Born. Any similar suggestions?',\n",
       " 'What are some films like The Girl with the Dragon Tattoo?',\n",
       " 'who wrote the screenplay for Jurassic Park',\n",
       " 'What films are similar to Pride and Prejudice?',\n",
       " 'If I liked The Lion King, what other films might I enjoy?',\n",
       " 'when was Christopher Nolan born',\n",
       " 'birth date of Harrison Ford',\n",
       " 'release date of Avatar',\n",
       " 'when was Jurassic Park released',\n",
       " 'where was Samuel L. Jackson born',\n",
       " 'What films should I check out if I liked The Shawshank Redemption?',\n",
       " \"when was Schindler's List released\",\n",
       " 'Suggest films that are similar to Parasite.',\n",
       " 'budget of Inception',\n",
       " 'I loved Shutter Island and Gone Girl. What do you recommend?',\n",
       " 'budget for The Dark Knight',\n",
       " 'Suggest films similar to The Revenant.',\n",
       " 'what was the earning of the movie Titanic',\n",
       " 'What should I watch if I enjoyed Moonlight?',\n",
       " 'where was Harrison Ford born',\n",
       " 'total revenue of Inception',\n",
       " 'who was the producer of Star Wars',\n",
       " 'who produced Pulp Fiction',\n",
       " 'what genre is The Dark Knight',\n",
       " 'who produced Titanic',\n",
       " \"who directed Schindler's List\",\n",
       " 'Can you recommend movies like The Wolf of Wall Street?',\n",
       " 'who played the lead role in Titanic',\n",
       " 'I liked Coco and Ratatouille. What else might I enjoy?',\n",
       " 'when did The Dark Knight come out',\n",
       " 'what was the budget of The Godfather',\n",
       " 'Suggest movies similar to The Sixth Sense.',\n",
       " 'revenue of Iron Man',\n",
       " 'Can you recommend movies like Casablanca?',\n",
       " 'I loved The Blind Side. Any recommendations?',\n",
       " 'Can you recommend movies like The Conjuring and Annabelle?',\n",
       " 'who wrote the script for Pulp Fiction',\n",
       " 'what type of movie is Jurassic Park',\n",
       " 'I liked Crazy Rich Asians. Any similar films?',\n",
       " \"producer of Schindler's List\",\n",
       " 'who starred in Avatar',\n",
       " 'how much did Star Wars cost',\n",
       " 'rating of Inception',\n",
       " 'when was Inception released',\n",
       " 'who wrote the screenplay for Titanic',\n",
       " 'what genre is Star Wars',\n",
       " 'what rating does The Godfather have',\n",
       " 'lead actor of Iron Man',\n",
       " 'I’m looking for movies like Spirited Away and My Neighbor Totoro. Any ideas?',\n",
       " 'lead actor in Inception',\n",
       " 'I loved The Social Network. Can you recommend similar movies?',\n",
       " 'genre of Pulp Fiction',\n",
       " 'Can you suggest movies for fans of Rocky and Creed?',\n",
       " 'who wrote Star Wars',\n",
       " 'What should I watch if I loved The Greatest Showman?',\n",
       " 'What movies are good if I liked Fight Club?',\n",
       " 'release year of Star Wars',\n",
       " 'Can you suggest movies like The Dark Knight?',\n",
       " 'what type of movie is The Godfather',\n",
       " 'screenwriter of The Matrix',\n",
       " 'who was the director of The Godfather',\n",
       " 'If I liked Star Wars and Guardians of the Galaxy, what other movies should I watch?',\n",
       " 'producer of The Godfather',\n",
       " 'what genre is The Matrix',\n",
       " 'how much revenue did Star Wars make',\n",
       " 'birthplace of Christopher Nolan',\n",
       " 'screenwriter of Inception',\n",
       " 'What films are similar to 500 Days of Summer?',\n",
       " 'I loved The Secret Life of Walter Mitty. What else would you recommend?',\n",
       " 'I enjoyed The Hunger Games and Divergent. What should I watch next?']"
      ]
     },
     "execution_count": 5,
     "metadata": {},
     "output_type": "execute_result"
    }
   ],
   "source": [
    "train_queries"
   ]
  },
  {
   "cell_type": "code",
   "execution_count": 6,
   "metadata": {},
   "outputs": [
    {
     "name": "stderr",
     "output_type": "stream",
     "text": [
      "Some weights of BertForSequenceClassification were not initialized from the model checkpoint at bert-base-uncased and are newly initialized: ['classifier.bias', 'classifier.weight']\n",
      "You should probably TRAIN this model on a down-stream task to be able to use it for predictions and inference.\n",
      "/opt/miniconda3/envs/atai/lib/python3.10/site-packages/transformers/training_args.py:1545: FutureWarning: `evaluation_strategy` is deprecated and will be removed in version 4.46 of 🤗 Transformers. Use `eval_strategy` instead\n",
      "  warnings.warn(\n",
      "  3%|▎         | 10/380 [00:05<02:24,  2.56it/s]"
     ]
    },
    {
     "name": "stdout",
     "output_type": "stream",
     "text": [
      "{'loss': 0.6426, 'grad_norm': 5.743215084075928, 'learning_rate': 1.0000000000000002e-06, 'epoch': 0.53}\n"
     ]
    },
    {
     "name": "stderr",
     "output_type": "stream",
     "text": [
      "                                                \n",
      "  5%|▌         | 19/380 [00:09<02:05,  2.88it/s]"
     ]
    },
    {
     "name": "stdout",
     "output_type": "stream",
     "text": [
      "{'eval_loss': 0.628860354423523, 'eval_runtime': 0.5732, 'eval_samples_per_second': 66.292, 'eval_steps_per_second': 8.723, 'epoch': 1.0}\n"
     ]
    },
    {
     "name": "stderr",
     "output_type": "stream",
     "text": [
      "  5%|▌         | 20/380 [00:09<03:03,  1.97it/s]"
     ]
    },
    {
     "name": "stdout",
     "output_type": "stream",
     "text": [
      "{'loss': 0.6362, 'grad_norm': 5.575509548187256, 'learning_rate': 2.0000000000000003e-06, 'epoch': 1.05}\n"
     ]
    },
    {
     "name": "stderr",
     "output_type": "stream",
     "text": [
      "  8%|▊         | 30/380 [00:13<02:01,  2.89it/s]"
     ]
    },
    {
     "name": "stdout",
     "output_type": "stream",
     "text": [
      "{'loss': 0.5848, 'grad_norm': 5.642710208892822, 'learning_rate': 3e-06, 'epoch': 1.58}\n"
     ]
    },
    {
     "name": "stderr",
     "output_type": "stream",
     "text": [
      "                                                \n",
      " 10%|█         | 38/380 [00:16<01:58,  2.90it/s]"
     ]
    },
    {
     "name": "stdout",
     "output_type": "stream",
     "text": [
      "{'eval_loss': 0.528569757938385, 'eval_runtime': 0.1904, 'eval_samples_per_second': 199.581, 'eval_steps_per_second': 26.261, 'epoch': 2.0}\n"
     ]
    },
    {
     "name": "stderr",
     "output_type": "stream",
     "text": [
      " 11%|█         | 40/380 [00:17<02:08,  2.65it/s]"
     ]
    },
    {
     "name": "stdout",
     "output_type": "stream",
     "text": [
      "{'loss': 0.5391, 'grad_norm': 7.913579940795898, 'learning_rate': 4.000000000000001e-06, 'epoch': 2.11}\n"
     ]
    },
    {
     "name": "stderr",
     "output_type": "stream",
     "text": [
      " 13%|█▎        | 50/380 [00:20<01:49,  3.02it/s]"
     ]
    },
    {
     "name": "stdout",
     "output_type": "stream",
     "text": [
      "{'loss': 0.4908, 'grad_norm': 4.766601085662842, 'learning_rate': 5e-06, 'epoch': 2.63}\n"
     ]
    },
    {
     "name": "stderr",
     "output_type": "stream",
     "text": [
      "                                                \n",
      " 15%|█▌        | 57/380 [00:22<01:45,  3.06it/s]"
     ]
    },
    {
     "name": "stdout",
     "output_type": "stream",
     "text": [
      "{'eval_loss': 0.4336508810520172, 'eval_runtime': 0.1859, 'eval_samples_per_second': 204.368, 'eval_steps_per_second': 26.891, 'epoch': 3.0}\n"
     ]
    },
    {
     "name": "stderr",
     "output_type": "stream",
     "text": [
      " 16%|█▌        | 60/380 [00:23<01:51,  2.88it/s]"
     ]
    },
    {
     "name": "stdout",
     "output_type": "stream",
     "text": [
      "{'loss': 0.4165, 'grad_norm': 11.335296630859375, 'learning_rate': 6e-06, 'epoch': 3.16}\n"
     ]
    },
    {
     "name": "stderr",
     "output_type": "stream",
     "text": [
      " 18%|█▊        | 70/380 [00:27<01:41,  3.05it/s]"
     ]
    },
    {
     "name": "stdout",
     "output_type": "stream",
     "text": [
      "{'loss': 0.3533, 'grad_norm': 7.258091449737549, 'learning_rate': 7.000000000000001e-06, 'epoch': 3.68}\n"
     ]
    },
    {
     "name": "stderr",
     "output_type": "stream",
     "text": [
      "                                                \n",
      " 20%|██        | 76/380 [00:29<01:38,  3.07it/s]"
     ]
    },
    {
     "name": "stdout",
     "output_type": "stream",
     "text": [
      "{'eval_loss': 0.2980899512767792, 'eval_runtime': 0.1803, 'eval_samples_per_second': 210.732, 'eval_steps_per_second': 27.728, 'epoch': 4.0}\n"
     ]
    },
    {
     "name": "stderr",
     "output_type": "stream",
     "text": [
      " 21%|██        | 80/380 [00:30<01:42,  2.94it/s]"
     ]
    },
    {
     "name": "stdout",
     "output_type": "stream",
     "text": [
      "{'loss': 0.2959, 'grad_norm': 9.447615623474121, 'learning_rate': 8.000000000000001e-06, 'epoch': 4.21}\n"
     ]
    },
    {
     "name": "stderr",
     "output_type": "stream",
     "text": [
      " 24%|██▎       | 90/380 [00:33<01:36,  3.00it/s]"
     ]
    },
    {
     "name": "stdout",
     "output_type": "stream",
     "text": [
      "{'loss': 0.2158, 'grad_norm': 3.215949058532715, 'learning_rate': 9e-06, 'epoch': 4.74}\n"
     ]
    },
    {
     "name": "stderr",
     "output_type": "stream",
     "text": [
      "                                                \n",
      " 25%|██▌       | 95/380 [00:35<01:42,  2.78it/s]"
     ]
    },
    {
     "name": "stdout",
     "output_type": "stream",
     "text": [
      "{'eval_loss': 0.09433668851852417, 'eval_runtime': 0.2094, 'eval_samples_per_second': 181.509, 'eval_steps_per_second': 23.883, 'epoch': 5.0}\n"
     ]
    },
    {
     "name": "stderr",
     "output_type": "stream",
     "text": [
      " 26%|██▋       | 100/380 [00:37<01:40,  2.79it/s]"
     ]
    },
    {
     "name": "stdout",
     "output_type": "stream",
     "text": [
      "{'loss': 0.1182, 'grad_norm': 2.1934280395507812, 'learning_rate': 1e-05, 'epoch': 5.26}\n"
     ]
    },
    {
     "name": "stderr",
     "output_type": "stream",
     "text": [
      " 29%|██▉       | 110/380 [00:41<01:32,  2.91it/s]"
     ]
    },
    {
     "name": "stdout",
     "output_type": "stream",
     "text": [
      "{'loss': 0.0629, 'grad_norm': 1.1952615976333618, 'learning_rate': 1.1000000000000001e-05, 'epoch': 5.79}\n"
     ]
    },
    {
     "name": "stderr",
     "output_type": "stream",
     "text": [
      "                                                 \n",
      " 30%|███       | 114/380 [00:42<01:38,  2.69it/s]"
     ]
    },
    {
     "name": "stdout",
     "output_type": "stream",
     "text": [
      "{'eval_loss': 0.022420382127165794, 'eval_runtime': 0.2286, 'eval_samples_per_second': 166.194, 'eval_steps_per_second': 21.868, 'epoch': 6.0}\n"
     ]
    },
    {
     "name": "stderr",
     "output_type": "stream",
     "text": [
      " 32%|███▏      | 120/380 [00:44<01:32,  2.82it/s]"
     ]
    },
    {
     "name": "stdout",
     "output_type": "stream",
     "text": [
      "{'loss': 0.0283, 'grad_norm': 0.5099995732307434, 'learning_rate': 1.2e-05, 'epoch': 6.32}\n"
     ]
    },
    {
     "name": "stderr",
     "output_type": "stream",
     "text": [
      " 34%|███▍      | 130/380 [00:48<01:25,  2.93it/s]"
     ]
    },
    {
     "name": "stdout",
     "output_type": "stream",
     "text": [
      "{'loss': 0.0119, 'grad_norm': 0.22531431913375854, 'learning_rate': 1.3000000000000001e-05, 'epoch': 6.84}\n"
     ]
    },
    {
     "name": "stderr",
     "output_type": "stream",
     "text": [
      "                                                 \n",
      " 35%|███▌      | 133/380 [00:49<01:24,  2.91it/s]"
     ]
    },
    {
     "name": "stdout",
     "output_type": "stream",
     "text": [
      "{'eval_loss': 0.005730912555009127, 'eval_runtime': 0.198, 'eval_samples_per_second': 191.877, 'eval_steps_per_second': 25.247, 'epoch': 7.0}\n"
     ]
    },
    {
     "name": "stderr",
     "output_type": "stream",
     "text": [
      " 37%|███▋      | 140/380 [00:51<01:26,  2.78it/s]"
     ]
    },
    {
     "name": "stdout",
     "output_type": "stream",
     "text": [
      "{'loss': 0.0071, 'grad_norm': 0.14092983305454254, 'learning_rate': 1.4000000000000001e-05, 'epoch': 7.37}\n"
     ]
    },
    {
     "name": "stderr",
     "output_type": "stream",
     "text": [
      " 39%|███▉      | 150/380 [00:55<01:18,  2.93it/s]"
     ]
    },
    {
     "name": "stdout",
     "output_type": "stream",
     "text": [
      "{'loss': 0.0047, 'grad_norm': 0.07959778606891632, 'learning_rate': 1.5e-05, 'epoch': 7.89}\n"
     ]
    },
    {
     "name": "stderr",
     "output_type": "stream",
     "text": [
      "                                                 \n",
      " 40%|████      | 152/380 [00:56<01:17,  2.92it/s]"
     ]
    },
    {
     "name": "stdout",
     "output_type": "stream",
     "text": [
      "{'eval_loss': 0.0026382477954030037, 'eval_runtime': 0.1922, 'eval_samples_per_second': 197.668, 'eval_steps_per_second': 26.009, 'epoch': 8.0}\n"
     ]
    },
    {
     "name": "stderr",
     "output_type": "stream",
     "text": [
      " 42%|████▏     | 160/380 [00:58<01:15,  2.93it/s]"
     ]
    },
    {
     "name": "stdout",
     "output_type": "stream",
     "text": [
      "{'loss': 0.0032, 'grad_norm': 0.07530543953180313, 'learning_rate': 1.6000000000000003e-05, 'epoch': 8.42}\n"
     ]
    },
    {
     "name": "stderr",
     "output_type": "stream",
     "text": [
      " 45%|████▍     | 170/380 [01:02<01:15,  2.80it/s]"
     ]
    },
    {
     "name": "stdout",
     "output_type": "stream",
     "text": [
      "{'loss': 0.0026, 'grad_norm': 0.08104083687067032, 'learning_rate': 1.7000000000000003e-05, 'epoch': 8.95}\n"
     ]
    },
    {
     "name": "stderr",
     "output_type": "stream",
     "text": [
      "                                                 \n",
      " 45%|████▌     | 171/380 [01:03<01:14,  2.80it/s]"
     ]
    },
    {
     "name": "stdout",
     "output_type": "stream",
     "text": [
      "{'eval_loss': 0.001658372930251062, 'eval_runtime': 0.2032, 'eval_samples_per_second': 187.021, 'eval_steps_per_second': 24.608, 'epoch': 9.0}\n"
     ]
    },
    {
     "name": "stderr",
     "output_type": "stream",
     "text": [
      " 47%|████▋     | 180/380 [01:06<01:13,  2.73it/s]"
     ]
    },
    {
     "name": "stdout",
     "output_type": "stream",
     "text": [
      "{'loss': 0.0021, 'grad_norm': 0.05224079638719559, 'learning_rate': 1.8e-05, 'epoch': 9.47}\n"
     ]
    },
    {
     "name": "stderr",
     "output_type": "stream",
     "text": [
      " 50%|█████     | 190/380 [01:09<01:08,  2.78it/s]"
     ]
    },
    {
     "name": "stdout",
     "output_type": "stream",
     "text": [
      "{'loss': 0.0018, 'grad_norm': 0.03883736953139305, 'learning_rate': 1.9e-05, 'epoch': 10.0}\n"
     ]
    },
    {
     "name": "stderr",
     "output_type": "stream",
     "text": [
      "                                                 \n",
      " 50%|█████     | 190/380 [01:10<01:08,  2.78it/s]"
     ]
    },
    {
     "name": "stdout",
     "output_type": "stream",
     "text": [
      "{'eval_loss': 0.0011581958970054984, 'eval_runtime': 0.1504, 'eval_samples_per_second': 252.657, 'eval_steps_per_second': 33.244, 'epoch': 10.0}\n"
     ]
    },
    {
     "name": "stderr",
     "output_type": "stream",
     "text": [
      " 53%|█████▎    | 200/380 [01:13<01:03,  2.84it/s]"
     ]
    },
    {
     "name": "stdout",
     "output_type": "stream",
     "text": [
      "{'loss': 0.0015, 'grad_norm': 0.10681302845478058, 'learning_rate': 2e-05, 'epoch': 10.53}\n"
     ]
    },
    {
     "name": "stderr",
     "output_type": "stream",
     "text": [
      "                                                 \n",
      " 55%|█████▌    | 209/380 [01:16<01:00,  2.81it/s]"
     ]
    },
    {
     "name": "stdout",
     "output_type": "stream",
     "text": [
      "{'eval_loss': 0.0008670146344229579, 'eval_runtime': 0.2006, 'eval_samples_per_second': 189.388, 'eval_steps_per_second': 24.919, 'epoch': 11.0}\n"
     ]
    },
    {
     "name": "stderr",
     "output_type": "stream",
     "text": [
      " 55%|█████▌    | 210/380 [01:17<01:08,  2.49it/s]"
     ]
    },
    {
     "name": "stdout",
     "output_type": "stream",
     "text": [
      "{'loss': 0.0014, 'grad_norm': 0.03261057659983635, 'learning_rate': 2.1e-05, 'epoch': 11.05}\n"
     ]
    },
    {
     "name": "stderr",
     "output_type": "stream",
     "text": [
      " 58%|█████▊    | 220/380 [01:20<00:55,  2.86it/s]"
     ]
    },
    {
     "name": "stdout",
     "output_type": "stream",
     "text": [
      "{'loss': 0.0011, 'grad_norm': 0.028208183124661446, 'learning_rate': 2.2000000000000003e-05, 'epoch': 11.58}\n"
     ]
    },
    {
     "name": "stderr",
     "output_type": "stream",
     "text": [
      "                                                 \n",
      " 60%|██████    | 228/380 [01:23<00:53,  2.87it/s]"
     ]
    },
    {
     "name": "stdout",
     "output_type": "stream",
     "text": [
      "{'eval_loss': 0.0006650979048572481, 'eval_runtime': 0.1992, 'eval_samples_per_second': 190.761, 'eval_steps_per_second': 25.1, 'epoch': 12.0}\n"
     ]
    },
    {
     "name": "stderr",
     "output_type": "stream",
     "text": [
      " 61%|██████    | 230/380 [01:24<00:58,  2.56it/s]"
     ]
    },
    {
     "name": "stdout",
     "output_type": "stream",
     "text": [
      "{'loss': 0.001, 'grad_norm': 0.02630295418202877, 'learning_rate': 2.3000000000000003e-05, 'epoch': 12.11}\n"
     ]
    },
    {
     "name": "stderr",
     "output_type": "stream",
     "text": [
      " 63%|██████▎   | 240/380 [01:28<00:50,  2.75it/s]"
     ]
    },
    {
     "name": "stdout",
     "output_type": "stream",
     "text": [
      "{'loss': 0.0009, 'grad_norm': 0.019971124827861786, 'learning_rate': 2.4e-05, 'epoch': 12.63}\n"
     ]
    },
    {
     "name": "stderr",
     "output_type": "stream",
     "text": [
      "                                                 \n",
      " 65%|██████▌   | 247/380 [01:30<00:46,  2.84it/s]"
     ]
    },
    {
     "name": "stdout",
     "output_type": "stream",
     "text": [
      "{'eval_loss': 0.0005310018314048648, 'eval_runtime': 0.2124, 'eval_samples_per_second': 178.941, 'eval_steps_per_second': 23.545, 'epoch': 13.0}\n"
     ]
    },
    {
     "name": "stderr",
     "output_type": "stream",
     "text": [
      " 66%|██████▌   | 250/380 [01:32<00:50,  2.55it/s]"
     ]
    },
    {
     "name": "stdout",
     "output_type": "stream",
     "text": [
      "{'loss': 0.0008, 'grad_norm': 0.02043522335588932, 'learning_rate': 2.5e-05, 'epoch': 13.16}\n"
     ]
    },
    {
     "name": "stderr",
     "output_type": "stream",
     "text": [
      " 68%|██████▊   | 260/380 [01:35<00:43,  2.77it/s]"
     ]
    },
    {
     "name": "stdout",
     "output_type": "stream",
     "text": [
      "{'loss': 0.0007, 'grad_norm': 0.017949650064110756, 'learning_rate': 2.6000000000000002e-05, 'epoch': 13.68}\n"
     ]
    },
    {
     "name": "stderr",
     "output_type": "stream",
     "text": [
      "                                                 \n",
      " 70%|███████   | 266/380 [01:38<00:47,  2.40it/s]"
     ]
    },
    {
     "name": "stdout",
     "output_type": "stream",
     "text": [
      "{'eval_loss': 0.0004324190376792103, 'eval_runtime': 0.213, 'eval_samples_per_second': 178.37, 'eval_steps_per_second': 23.47, 'epoch': 14.0}\n"
     ]
    },
    {
     "name": "stderr",
     "output_type": "stream",
     "text": [
      " 71%|███████   | 270/380 [01:39<00:47,  2.33it/s]"
     ]
    },
    {
     "name": "stdout",
     "output_type": "stream",
     "text": [
      "{'loss': 0.0006, 'grad_norm': 0.01479027047753334, 'learning_rate': 2.7000000000000002e-05, 'epoch': 14.21}\n"
     ]
    },
    {
     "name": "stderr",
     "output_type": "stream",
     "text": [
      " 74%|███████▎  | 280/380 [01:43<00:35,  2.84it/s]"
     ]
    },
    {
     "name": "stdout",
     "output_type": "stream",
     "text": [
      "{'loss': 0.0006, 'grad_norm': 0.014462078921496868, 'learning_rate': 2.8000000000000003e-05, 'epoch': 14.74}\n"
     ]
    },
    {
     "name": "stderr",
     "output_type": "stream",
     "text": [
      "                                                 \n",
      " 75%|███████▌  | 285/380 [01:45<00:37,  2.51it/s]"
     ]
    },
    {
     "name": "stdout",
     "output_type": "stream",
     "text": [
      "{'eval_loss': 0.00035781849874183536, 'eval_runtime': 0.1944, 'eval_samples_per_second': 195.455, 'eval_steps_per_second': 25.718, 'epoch': 15.0}\n"
     ]
    },
    {
     "name": "stderr",
     "output_type": "stream",
     "text": [
      " 76%|███████▋  | 290/380 [01:47<00:33,  2.69it/s]"
     ]
    },
    {
     "name": "stdout",
     "output_type": "stream",
     "text": [
      "{'loss': 0.0005, 'grad_norm': 0.013029301539063454, 'learning_rate': 2.9e-05, 'epoch': 15.26}\n"
     ]
    },
    {
     "name": "stderr",
     "output_type": "stream",
     "text": [
      " 79%|███████▉  | 300/380 [01:50<00:27,  2.91it/s]"
     ]
    },
    {
     "name": "stdout",
     "output_type": "stream",
     "text": [
      "{'loss': 0.0005, 'grad_norm': 0.012475510127842426, 'learning_rate': 3e-05, 'epoch': 15.79}\n"
     ]
    },
    {
     "name": "stderr",
     "output_type": "stream",
     "text": [
      "                                                 \n",
      " 80%|████████  | 304/380 [01:52<00:27,  2.78it/s]"
     ]
    },
    {
     "name": "stdout",
     "output_type": "stream",
     "text": [
      "{'eval_loss': 0.0002989180793520063, 'eval_runtime': 0.2061, 'eval_samples_per_second': 184.402, 'eval_steps_per_second': 24.263, 'epoch': 16.0}\n"
     ]
    },
    {
     "name": "stderr",
     "output_type": "stream",
     "text": [
      " 82%|████████▏ | 310/380 [01:54<00:25,  2.71it/s]"
     ]
    },
    {
     "name": "stdout",
     "output_type": "stream",
     "text": [
      "{'loss': 0.0004, 'grad_norm': 0.009858796373009682, 'learning_rate': 3.1e-05, 'epoch': 16.32}\n"
     ]
    },
    {
     "name": "stderr",
     "output_type": "stream",
     "text": [
      " 84%|████████▍ | 320/380 [01:58<00:21,  2.78it/s]"
     ]
    },
    {
     "name": "stdout",
     "output_type": "stream",
     "text": [
      "{'loss': 0.0004, 'grad_norm': 0.013058319687843323, 'learning_rate': 3.2000000000000005e-05, 'epoch': 16.84}\n"
     ]
    },
    {
     "name": "stderr",
     "output_type": "stream",
     "text": [
      "                                                 \n",
      " 85%|████████▌ | 323/380 [01:59<00:19,  2.85it/s]"
     ]
    },
    {
     "name": "stdout",
     "output_type": "stream",
     "text": [
      "{'eval_loss': 0.000251630088314414, 'eval_runtime': 0.1945, 'eval_samples_per_second': 195.396, 'eval_steps_per_second': 25.71, 'epoch': 17.0}\n"
     ]
    },
    {
     "name": "stderr",
     "output_type": "stream",
     "text": [
      " 87%|████████▋ | 330/380 [02:01<00:17,  2.90it/s]"
     ]
    },
    {
     "name": "stdout",
     "output_type": "stream",
     "text": [
      "{'loss': 0.0004, 'grad_norm': 0.010209315456449986, 'learning_rate': 3.3e-05, 'epoch': 17.37}\n"
     ]
    },
    {
     "name": "stderr",
     "output_type": "stream",
     "text": [
      " 89%|████████▉ | 340/380 [02:05<00:13,  2.95it/s]"
     ]
    },
    {
     "name": "stdout",
     "output_type": "stream",
     "text": [
      "{'loss': 0.0003, 'grad_norm': 0.008886736817657948, 'learning_rate': 3.4000000000000007e-05, 'epoch': 17.89}\n"
     ]
    },
    {
     "name": "stderr",
     "output_type": "stream",
     "text": [
      "                                                 \n",
      " 90%|█████████ | 342/380 [02:06<00:13,  2.92it/s]"
     ]
    },
    {
     "name": "stdout",
     "output_type": "stream",
     "text": [
      "{'eval_loss': 0.00021526053023990244, 'eval_runtime': 0.1922, 'eval_samples_per_second': 197.689, 'eval_steps_per_second': 26.012, 'epoch': 18.0}\n"
     ]
    },
    {
     "name": "stderr",
     "output_type": "stream",
     "text": [
      " 92%|█████████▏| 350/380 [02:08<00:10,  2.90it/s]"
     ]
    },
    {
     "name": "stdout",
     "output_type": "stream",
     "text": [
      "{'loss': 0.0003, 'grad_norm': 0.006593434605747461, 'learning_rate': 3.5e-05, 'epoch': 18.42}\n"
     ]
    },
    {
     "name": "stderr",
     "output_type": "stream",
     "text": [
      " 95%|█████████▍| 360/380 [02:12<00:06,  2.96it/s]"
     ]
    },
    {
     "name": "stdout",
     "output_type": "stream",
     "text": [
      "{'loss': 0.0003, 'grad_norm': 0.00909546297043562, 'learning_rate': 3.6e-05, 'epoch': 18.95}\n"
     ]
    },
    {
     "name": "stderr",
     "output_type": "stream",
     "text": [
      "                                                 \n",
      " 95%|█████████▌| 361/380 [02:12<00:06,  2.96it/s]"
     ]
    },
    {
     "name": "stdout",
     "output_type": "stream",
     "text": [
      "{'eval_loss': 0.00018580634787213057, 'eval_runtime': 0.2004, 'eval_samples_per_second': 189.596, 'eval_steps_per_second': 24.947, 'epoch': 19.0}\n"
     ]
    },
    {
     "name": "stderr",
     "output_type": "stream",
     "text": [
      " 97%|█████████▋| 370/380 [02:15<00:03,  2.84it/s]"
     ]
    },
    {
     "name": "stdout",
     "output_type": "stream",
     "text": [
      "{'loss': 0.0003, 'grad_norm': 0.005981756839901209, 'learning_rate': 3.7e-05, 'epoch': 19.47}\n"
     ]
    },
    {
     "name": "stderr",
     "output_type": "stream",
     "text": [
      "100%|██████████| 380/380 [02:19<00:00,  2.94it/s]"
     ]
    },
    {
     "name": "stdout",
     "output_type": "stream",
     "text": [
      "{'loss': 0.0002, 'grad_norm': 0.007036704570055008, 'learning_rate': 3.8e-05, 'epoch': 20.0}\n"
     ]
    },
    {
     "name": "stderr",
     "output_type": "stream",
     "text": [
      "                                                 \n",
      "100%|██████████| 380/380 [02:24<00:00,  2.63it/s]\n"
     ]
    },
    {
     "name": "stdout",
     "output_type": "stream",
     "text": [
      "{'eval_loss': 0.00016149877046700567, 'eval_runtime': 0.1561, 'eval_samples_per_second': 243.473, 'eval_steps_per_second': 32.036, 'epoch': 20.0}\n",
      "{'train_runtime': 144.7565, 'train_samples_per_second': 21.001, 'train_steps_per_second': 2.625, 'train_loss': 0.11658474023723485, 'epoch': 20.0}\n"
     ]
    },
    {
     "name": "stderr",
     "output_type": "stream",
     "text": [
      "100%|██████████| 5/5 [00:00<00:00, 13.84it/s]"
     ]
    },
    {
     "name": "stdout",
     "output_type": "stream",
     "text": [
      "Query: when was Samuel L. Jackson born --> Predicted Tag: qna\n",
      "Query: birth date of Steven Spielberg --> Predicted Tag: qna\n",
      "Query: I loved Good Will Hunting. Any similar recommendations? --> Predicted Tag: recommendation\n",
      "Query: where was Robert Downey Jr born --> Predicted Tag: qna\n",
      "Query: box office collection of Jurassic Park --> Predicted Tag: qna\n",
      "Query: how much did Avatar make --> Predicted Tag: qna\n",
      "Query: What are some films similar to Little Women? --> Predicted Tag: recommendation\n",
      "Query: Recommend some good musicals like Mamma Mia! --> Predicted Tag: recommendation\n",
      "Query: What are some films similar to The Good, the Bad and the Ugly? --> Predicted Tag: recommendation\n",
      "Query: Give me movie recommendations similar to Toy Story and Finding Nemo. --> Predicted Tag: recommendation\n",
      "Query: who starred in Pulp Fiction --> Predicted Tag: qna\n",
      "Query: Can you recommend movies like Train to Busan? --> Predicted Tag: recommendation\n",
      "Query: earnings of The Dark Knight --> Predicted Tag: qna\n",
      "Query: What are some great movies for fans of The Lord of the Rings? --> Predicted Tag: recommendation\n",
      "Query: who is the director of Jurassic Park --> Predicted Tag: qna\n",
      "Query: What should I watch if I liked The Imitation Game? --> Predicted Tag: recommendation\n",
      "Query: what type of movie is Schindler's List --> Predicted Tag: qna\n",
      "Query: If I enjoyed Catch Me If You Can, what should I watch next? --> Predicted Tag: recommendation\n",
      "Query: I loved The Notebook. What other romantic films should I watch? --> Predicted Tag: recommendation\n",
      "Query: budget for Jurassic Park --> Predicted Tag: qna\n",
      "Query: I just watched The Grand Budapest Hotel. What else would I enjoy? --> Predicted Tag: recommendation\n",
      "Query: who was the screenwriter of Schindler's List --> Predicted Tag: qna\n",
      "Query: who directed Titanic --> Predicted Tag: qna\n",
      "Query: Can you recommend movies like The Bourne Identity? --> Predicted Tag: recommendation\n",
      "Query: when was Leonardo DiCaprio born --> Predicted Tag: qna\n",
      "Query: who acted in The Dark Knight --> Predicted Tag: qna\n",
      "Query: What are some movies like The Silence of the Lambs? --> Predicted Tag: recommendation\n",
      "Query: I enjoyed Black Panther. Can you suggest some similar films? --> Predicted Tag: recommendation\n",
      "Query: who played in The Matrix --> Predicted Tag: qna\n",
      "Query: What are some movies like Up and Wall-E? --> Predicted Tag: recommendation\n",
      "Query: I enjoyed Deadpool. Can you suggest similar movies? --> Predicted Tag: recommendation\n",
      "Query: Suggest films similar to Slumdog Millionaire. --> Predicted Tag: recommendation\n",
      "Query: who was the producer of Inception --> Predicted Tag: qna\n",
      "Query: What should I watch if I enjoyed The Truman Show? --> Predicted Tag: recommendation\n",
      "Query: how was Pulp Fiction rated --> Predicted Tag: qna\n",
      "Query: What are some great films similar to The Big Short? --> Predicted Tag: recommendation\n",
      "Query: who wrote The Godfather screenplay --> Predicted Tag: qna\n",
      "Query: I liked A Quiet Place and Bird Box. Any recommendations? --> Predicted Tag: recommendation\n"
     ]
    },
    {
     "name": "stderr",
     "output_type": "stream",
     "text": [
      "\n"
     ]
    }
   ],
   "source": [
    "# Load pre-trained tokenizer\n",
    "tokenizer = BertTokenizer.from_pretrained('bert-base-uncased')\n",
    "\n",
    "# Tokenize the input data\n",
    "train_encodings = tokenizer(train_queries, truncation=True, padding=True, max_length=64)\n",
    "test_encodings = tokenizer(test_queries, truncation=True, padding=True, max_length=64)\n",
    "\n",
    "# Convert to PyTorch dataset format\n",
    "class QTypeDataset(torch.utils.data.Dataset):\n",
    "    def __init__(self, encodings, labels):\n",
    "        self.encodings = encodings\n",
    "        self.labels = labels\n",
    "\n",
    "    def __len__(self):\n",
    "        return len(self.labels)\n",
    "\n",
    "    def __getitem__(self, idx):\n",
    "        item = {key: torch.tensor(val[idx]) for key, val in self.encodings.items()}\n",
    "        item['labels'] = torch.tensor(self.labels[idx])\n",
    "        return item\n",
    "    \n",
    "train_dataset = QTypeDataset(train_encodings, train_labels)\n",
    "test_dataset = QTypeDataset(test_encodings, test_labels)\n",
    "\n",
    "# Load pre-trained BERT model for sequence classification\n",
    "model = BertForSequenceClassification.from_pretrained('bert-base-uncased', num_labels=len(label_list))\n",
    "\n",
    "# Define training arguments\n",
    "training_args = TrainingArguments(\n",
    "    output_dir='./results',\n",
    "    num_train_epochs=20,\n",
    "    per_device_train_batch_size=8,\n",
    "    per_device_eval_batch_size=8,\n",
    "    warmup_steps=500,\n",
    "    weight_decay=0.01,\n",
    "    logging_dir='./logs',\n",
    "    logging_steps=10,\n",
    "    evaluation_strategy=\"epoch\",\n",
    ")\n",
    "\n",
    "# Use the Trainer API to train the model\n",
    "trainer = Trainer(\n",
    "    model=model,\n",
    "    args=training_args,\n",
    "    train_dataset=train_dataset,\n",
    "    eval_dataset=test_dataset,\n",
    ")\n",
    "\n",
    "# Train the model\n",
    "trainer.train()\n",
    "\n",
    "# Test the model\n",
    "predictions = trainer.predict(test_dataset)\n",
    "predicted_labels = torch.argmax(torch.tensor(predictions.predictions), axis=1)\n",
    "\n",
    "# Map predicted labels back to tags\n",
    "predicted_tags = [id2tag[label.item()] for label in predicted_labels]\n",
    "\n",
    "# Print the results\n",
    "for query, pred_tag in zip(test_queries, predicted_tags):\n",
    "    print(f\"Query: {query} --> Predicted Tag: {pred_tag}\")"
   ]
  },
  {
   "cell_type": "code",
   "execution_count": 8,
   "metadata": {},
   "outputs": [],
   "source": [
    "# Save the model\n",
    "model.save_pretrained(\"data/q_classifier_qnr\")"
   ]
  },
  {
   "cell_type": "code",
   "execution_count": 11,
   "metadata": {},
   "outputs": [],
   "source": [
    "# load the model\n",
    "model = BertForSequenceClassification.from_pretrained(\"data/q_classifier_qnr\")\n",
    "tokenizer = BertTokenizer.from_pretrained(\"bert-base-uncased\")\n",
    "\n",
    "# Test the model\n",
    "query = \"I liked the Titanic and La La Land, what should I watch next?\"\n",
    "inputs = tokenizer(query, return_tensors=\"pt\")\n",
    "outputs = model(**inputs)\n",
    "predicted_label = torch.argmax(outputs.logits[0]).item()\n",
    "predicted_tag = id2tag[predicted_label]\n"
   ]
  },
  {
   "cell_type": "code",
   "execution_count": 12,
   "metadata": {},
   "outputs": [
    {
     "data": {
      "text/plain": [
       "'recommendation'"
      ]
     },
     "execution_count": 12,
     "metadata": {},
     "output_type": "execute_result"
    }
   ],
   "source": [
    "predicted_tag"
   ]
  },
  {
   "cell_type": "code",
   "execution_count": null,
   "metadata": {},
   "outputs": [],
   "source": []
  },
  {
   "cell_type": "code",
   "execution_count": null,
   "metadata": {},
   "outputs": [],
   "source": []
  }
 ],
 "metadata": {
  "kernelspec": {
   "display_name": "atai",
   "language": "python",
   "name": "python3"
  },
  "language_info": {
   "codemirror_mode": {
    "name": "ipython",
    "version": 3
   },
   "file_extension": ".py",
   "mimetype": "text/x-python",
   "name": "python",
   "nbconvert_exporter": "python",
   "pygments_lexer": "ipython3",
   "version": "3.10.14"
  }
 },
 "nbformat": 4,
 "nbformat_minor": 2
}
