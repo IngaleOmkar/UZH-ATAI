{
 "cells": [
  {
   "cell_type": "code",
   "execution_count": 1,
   "metadata": {},
   "outputs": [
    {
     "name": "stderr",
     "output_type": "stream",
     "text": [
      "/opt/miniconda3/envs/atai/lib/python3.10/site-packages/tqdm/auto.py:21: TqdmWarning: IProgress not found. Please update jupyter and ipywidgets. See https://ipywidgets.readthedocs.io/en/stable/user_install.html\n",
      "  from .autonotebook import tqdm as notebook_tqdm\n"
     ]
    }
   ],
   "source": [
    "import torch\n",
    "from transformers import BertTokenizer, BertForSequenceClassification, Trainer, TrainingArguments\n",
    "from sklearn.model_selection import train_test_split\n",
    "from datasets import Dataset"
   ]
  },
  {
   "cell_type": "code",
   "execution_count": 2,
   "metadata": {},
   "outputs": [],
   "source": [
    "training_data = [\n",
    "    {\"query\": \"what was the earning of the movie Titanic\", \"tag\": \"qna\"},\n",
    "    {\"query\": \"how much did Avatar make\", \"tag\": \"qna\"},\n",
    "    {\"query\": \"box office collection of Jurassic Park\", \"tag\": \"qna\"},\n",
    "    {\"query\": \"total revenue of Inception\", \"tag\": \"qna\"},\n",
    "    {\"query\": \"what was the gross of Frozen\", \"tag\": \"qna\"},\n",
    "    {\"query\": \"how much did Avengers Endgame earn\", \"tag\": \"qna\"},\n",
    "    {\"query\": \"earnings of The Dark Knight\", \"tag\": \"qna\"},\n",
    "    {\"query\": \"how much money did Titanic gross\", \"tag\": \"qna\"},\n",
    "    {\"query\": \"how much revenue did Star Wars make\", \"tag\": \"qna\"},\n",
    "    {\"query\": \"revenue of Iron Man\", \"tag\": \"qna\"},\n",
    "    {\"query\": \"who directed Titanic\", \"tag\": \"qna\"},\n",
    "    {\"query\": \"who was the director of Inception\", \"tag\": \"qna\"},\n",
    "    {\"query\": \"who directed the movie Avatar\", \"tag\": \"qna\"},\n",
    "    {\"query\": \"who directed Star Wars\", \"tag\": \"qna\"},\n",
    "    {\"query\": \"who was the director of The Godfather\", \"tag\": \"qna\"},\n",
    "    {\"query\": \"director of The Dark Knight\", \"tag\": \"qna\"},\n",
    "    {\"query\": \"who directed Forrest Gump\", \"tag\": \"qna\"},\n",
    "    {\"query\": \"who is the director of Jurassic Park\", \"tag\": \"qna\"},\n",
    "    {\"query\": \"who directed Schindler's List\", \"tag\": \"qna\"},\n",
    "    {\"query\": \"director of The Matrix\", \"tag\": \"qna\"},\n",
    "    {\"query\": \"who played the lead role in Titanic\", \"tag\": \"qna\"},\n",
    "    {\"query\": \"who acted in The Dark Knight\", \"tag\": \"qna\"},\n",
    "    {\"query\": \"lead actor in Inception\", \"tag\": \"qna\"},\n",
    "    {\"query\": \"who starred in Avatar\", \"tag\": \"qna\"},\n",
    "    {\"query\": \"who was the main actor in The Godfather\", \"tag\": \"qna\"},\n",
    "    {\"query\": \"lead actor of Iron Man\", \"tag\": \"qna\"},\n",
    "    {\"query\": \"who played in The Matrix\", \"tag\": \"qna\"},\n",
    "    {\"query\": \"who was the actor in Star Wars\", \"tag\": \"qna\"},\n",
    "    {\"query\": \"who acted in Interstellar\", \"tag\": \"qna\"},\n",
    "    {\"query\": \"who starred in Pulp Fiction\", \"tag\": \"qna\"},\n",
    "    {\"query\": \"when was Titanic released\", \"tag\": \"qna\"},\n",
    "    {\"query\": \"release date of Avatar\", \"tag\": \"qna\"},\n",
    "    {\"query\": \"when was Inception released\", \"tag\": \"qna\"},\n",
    "    {\"query\": \"release year of Star Wars\", \"tag\": \"qna\"},\n",
    "    {\"query\": \"when did The Dark Knight come out\", \"tag\": \"qna\"},\n",
    "    {\"query\": \"when was Schindler's List released\", \"tag\": \"qna\"},\n",
    "    {\"query\": \"release date of The Matrix\", \"tag\": \"qna\"},\n",
    "    {\"query\": \"release year of The Godfather\", \"tag\": \"qna\"},\n",
    "    {\"query\": \"when did Forrest Gump release\", \"tag\": \"qna\"},\n",
    "    {\"query\": \"when was Jurassic Park released\", \"tag\": \"qna\"},\n",
    "    {\"query\": \"what genre is Titanic\", \"tag\": \"qna\"},\n",
    "    {\"query\": \"genre of Inception\", \"tag\": \"qna\"},\n",
    "    {\"query\": \"what type of movie is The Godfather\", \"tag\": \"qna\"},\n",
    "    {\"query\": \"what genre is Star Wars\", \"tag\": \"qna\"},\n",
    "    {\"query\": \"what genre is The Dark Knight\", \"tag\": \"qna\"},\n",
    "    {\"query\": \"genre of Avatar\", \"tag\": \"qna\"},\n",
    "    {\"query\": \"what type of movie is Jurassic Park\", \"tag\": \"qna\"},\n",
    "    {\"query\": \"what genre is The Matrix\", \"tag\": \"qna\"},\n",
    "    {\"query\": \"what type of movie is Schindler's List\", \"tag\": \"qna\"},\n",
    "    {\"query\": \"genre of Pulp Fiction\", \"tag\": \"qna\"},\n",
    "    {\"query\": \"what is the rating of Titanic\", \"tag\": \"qna\"},\n",
    "    {\"query\": \"rating of Inception\", \"tag\": \"qna\"},\n",
    "    {\"query\": \"how was Star Wars rated\", \"tag\": \"qna\"},\n",
    "    {\"query\": \"rating of The Dark Knight\", \"tag\": \"qna\"},\n",
    "    {\"query\": \"what rating does The Matrix have\", \"tag\": \"qna\"},\n",
    "    {\"query\": \"rating of Avatar\", \"tag\": \"qna\"},\n",
    "    {\"query\": \"what rating does The Godfather have\", \"tag\": \"qna\"},\n",
    "    {\"query\": \"rating of Forrest Gump\", \"tag\": \"qna\"},\n",
    "    {\"query\": \"how was Pulp Fiction rated\", \"tag\": \"qna\"},\n",
    "    {\"query\": \"what is the rating of Schindler's List\", \"tag\": \"qna\"},\n",
    "    {\"query\": \"what was the budget of Titanic\", \"tag\": \"qna\"},\n",
    "    {\"query\": \"budget of Inception\", \"tag\": \"qna\"},\n",
    "    {\"query\": \"how much was spent on Avatar\", \"tag\": \"qna\"},\n",
    "    {\"query\": \"budget for The Dark Knight\", \"tag\": \"qna\"},\n",
    "    {\"query\": \"how much did Star Wars cost\", \"tag\": \"qna\"},\n",
    "    {\"query\": \"what was the budget of The Godfather\", \"tag\": \"qna\"},\n",
    "    {\"query\": \"how much did The Matrix cost\", \"tag\": \"qna\"},\n",
    "    {\"query\": \"budget for Jurassic Park\", \"tag\": \"qna\"},\n",
    "    {\"query\": \"how much did Pulp Fiction cost\", \"tag\": \"qna\"},\n",
    "    {\"query\": \"budget of Forrest Gump\", \"tag\": \"qna\"},\n",
    "    {\"query\": \"who produced Titanic\", \"tag\": \"qna\"},\n",
    "    {\"query\": \"who was the producer of Inception\", \"tag\": \"qna\"},\n",
    "    {\"query\": \"producer of Avatar\", \"tag\": \"qna\"},\n",
    "    {\"query\": \"who produced The Dark Knight\", \"tag\": \"qna\"},\n",
    "    {\"query\": \"who was the producer of Star Wars\", \"tag\": \"qna\"},\n",
    "    {\"query\": \"who produced The Matrix\", \"tag\": \"qna\"},\n",
    "    {\"query\": \"producer of The Godfather\", \"tag\": \"qna\"},\n",
    "    {\"query\": \"who produced Jurassic Park\", \"tag\": \"qna\"},\n",
    "    {\"query\": \"producer of Schindler's List\", \"tag\": \"qna\"},\n",
    "    {\"query\": \"who produced Pulp Fiction\", \"tag\": \"qna\"},\n",
    "    {\"query\": \"who wrote the screenplay for Titanic\", \"tag\": \"qna\"},\n",
    "    {\"query\": \"screenwriter of Inception\", \"tag\": \"qna\"},\n",
    "    {\"query\": \"who wrote the screenplay for The Dark Knight\", \"tag\": \"qna\"},\n",
    "    {\"query\": \"who wrote Star Wars\", \"tag\": \"qna\"},\n",
    "    {\"query\": \"who was the screenwriter of Avatar\", \"tag\": \"qna\"},\n",
    "    {\"query\": \"screenwriter of The Matrix\", \"tag\": \"qna\"},\n",
    "    {\"query\": \"who wrote The Godfather screenplay\", \"tag\": \"qna\"},\n",
    "    {\"query\": \"who wrote the script for Pulp Fiction\", \"tag\": \"qna\"},\n",
    "    {\"query\": \"who was the screenwriter of Schindler's List\", \"tag\": \"qna\"},\n",
    "    {\"query\": \"who wrote the screenplay for Jurassic Park\", \"tag\": \"qna\"},\n",
    "    {\"query\": \"when was Leonardo DiCaprio born\", \"tag\": \"qna\"},\n",
    "    {\"query\": \"birth date of James Cameron\", \"tag\": \"qna\"},\n",
    "    {\"query\": \"when was Robert Downey Jr born\", \"tag\": \"qna\"},\n",
    "    {\"query\": \"birth date of Steven Spielberg\", \"tag\": \"qna\"},\n",
    "    {\"query\": \"when was Christopher Nolan born\", \"tag\": \"qna\"},\n",
    "    {\"query\": \"when was Al Pacino born\", \"tag\": \"qna\"},\n",
    "    {\"query\": \"birth date of Keanu Reeves\", \"tag\": \"qna\"},\n",
    "    {\"query\": \"when was Quentin Tarantino born\", \"tag\": \"qna\"},\n",
    "    {\"query\": \"birth date of Harrison Ford\", \"tag\": \"qna\"},\n",
    "    {\"query\": \"when was Samuel L. Jackson born\", \"tag\": \"qna\"},\n",
    "    {\"query\": \"where was Leonardo DiCaprio born\", \"tag\": \"qna\"},\n",
    "    {\"query\": \"birthplace of James Cameron\", \"tag\": \"qna\"},\n",
    "    {\"query\": \"where was Robert Downey Jr born\", \"tag\": \"qna\"},\n",
    "    {\"query\": \"where was Steven Spielberg born\", \"tag\": \"qna\"},\n",
    "    {\"query\": \"birthplace of Christopher Nolan\", \"tag\": \"qna\"},\n",
    "    {\"query\": \"where was Al Pacino born\", \"tag\": \"qna\"},\n",
    "    {\"query\": \"where was Keanu Reeves born\", \"tag\": \"qna\"},\n",
    "    {\"query\": \"birthplace of Quentin Tarantino\", \"tag\": \"qna\"},\n",
    "    {\"query\": \"where was Harrison Ford born\", \"tag\": \"qna\"},\n",
    "    {\"query\": \"where was Samuel L. Jackson born\", \"tag\": \"qna\"},\n",
    "    {\"query\":\"Can you suggest movies like The Dark Knight?\", \"tag\":\"recommendation\"},\n",
    "    {\"query\":\"I loved Inception and Interstellar. What else should I watch?\", \"tag\":\"recommendation\"},\n",
    "    {\"query\":\"Give me movie recommendations similar to Toy Story and Finding Nemo.\", \"tag\":\"recommendation\"},\n",
    "    {\"query\":\"Recommend some movies if I enjoyed Titanic.\", \"tag\":\"recommendation\"},\n",
    "    {\"query\":\"I recently watched Joker, what else might I enjoy?\", \"tag\":\"recommendation\"},\n",
    "    {\"query\":\"What are some movies like Avatar and The Matrix?\", \"tag\":\"recommendation\"},\n",
    "    {\"query\":\"Suggest films that are similar to Parasite.\", \"tag\":\"recommendation\"},\n",
    "    {\"query\":\"I loved Shutter Island and Gone Girl. What do you recommend?\", \"tag\":\"recommendation\"},\n",
    "    {\"query\":\"If I liked Star Wars and Guardians of the Galaxy, what other movies should I watch?\", \"tag\":\"recommendation\"},\n",
    "    {\"query\":\"What are some great movies for fans of The Lord of the Rings?\", \"tag\":\"recommendation\"},\n",
    "    {\"query\":\"Can you recommend movies like The Godfather?\", \"tag\":\"recommendation\"},\n",
    "    {\"query\":\"I enjoyed Black Panther. Can you suggest some similar films?\", \"tag\":\"recommendation\"},\n",
    "    {\"query\":\"What movies should I watch if I liked Forrest Gump?\", \"tag\":\"recommendation\"},\n",
    "    {\"query\":\"Are there any films similar to Pulp Fiction and Kill Bill?\", \"tag\":\"recommendation\"},\n",
    "    {\"query\":\"Recommend some good films like Harry Potter.\", \"tag\":\"recommendation\"},\n",
    "    {\"query\":\"I just watched The Grand Budapest Hotel. What else would I enjoy?\", \"tag\":\"recommendation\"},\n",
    "    {\"query\":\"Suggest movies that are similar to La La Land and Whiplash.\", \"tag\":\"recommendation\"},\n",
    "    {\"query\":\"What films are similar to Avengers: Endgame?\", \"tag\":\"recommendation\"},\n",
    "    {\"query\":\"I enjoyed The Hunger Games and Divergent. What should I watch next?\", \"tag\":\"recommendation\"},\n",
    "    {\"query\":\"Can you give me a list of movies like Coco?\", \"tag\":\"recommendation\"},\n",
    "    {\"query\":\"If I liked The Lion King, what other films might I enjoy?\", \"tag\":\"recommendation\"},\n",
    "    {\"query\":\"What are some movies like The Silence of the Lambs?\", \"tag\":\"recommendation\"},\n",
    "    {\"query\":\"Can you suggest films for fans of Frozen?\", \"tag\":\"recommendation\"},\n",
    "    {\"query\":\"I loved The Social Network. Can you recommend similar movies?\", \"tag\":\"recommendation\"},\n",
    "    {\"query\":\"What films should I check out if I liked The Shawshank Redemption?\", \"tag\":\"recommendation\"},\n",
    "    {\"query\":\"Recommend some movies similar to Mad Max: Fury Road.\", \"tag\":\"recommendation\"},\n",
    "    {\"query\":\"What should I watch if I loved 1917 and Dunkirk?\", \"tag\":\"recommendation\"},\n",
    "    {\"query\":\"Can you recommend movies like Knives Out?\", \"tag\":\"recommendation\"},\n",
    "    {\"query\":\"I’m looking for movies like Spirited Away and My Neighbor Totoro. Any ideas?\", \"tag\":\"recommendation\"},\n",
    "    {\"query\":\"What are some great films similar to The Big Short?\", \"tag\":\"recommendation\"},\n",
    "    {\"query\":\"I enjoyed Deadpool. Can you suggest similar movies?\", \"tag\":\"recommendation\"},\n",
    "    {\"query\":\"Can you recommend movies like The Wolf of Wall Street?\", \"tag\":\"recommendation\"},\n",
    "    {\"query\":\"What movies are good if I liked Fight Club?\", \"tag\":\"recommendation\"},\n",
    "    {\"query\":\"I liked A Quiet Place and Bird Box. Any recommendations?\", \"tag\":\"recommendation\"},\n",
    "    {\"query\":\"Suggest films similar to The Revenant.\", \"tag\":\"recommendation\"},\n",
    "    {\"query\":\"What should I watch if I enjoyed Moonlight?\", \"tag\":\"recommendation\"},\n",
    "    {\"query\":\"Can you suggest movies like The Perks of Being a Wallflower?\", \"tag\":\"recommendation\"},\n",
    "    {\"query\":\"What are some movies like Up and Wall-E?\", \"tag\":\"recommendation\"},\n",
    "    {\"query\":\"I loved Good Will Hunting. Any similar recommendations?\", \"tag\":\"recommendation\"},\n",
    "    {\"query\":\"If I enjoyed The Shape of Water, what else might I like?\", \"tag\":\"recommendation\"},\n",
    "    {\"query\":\"What films are similar to The Irishman?\", \"tag\":\"recommendation\"},\n",
    "    {\"query\":\"Can you recommend some good movies like Gladiator?\", \"tag\":\"recommendation\"},\n",
    "    {\"query\":\"I loved The Notebook. What other romantic films should I watch?\", \"tag\":\"recommendation\"},\n",
    "    {\"query\":\"What are some great animated films like How to Train Your Dragon?\", \"tag\":\"recommendation\"},\n",
    "    {\"query\":\"Suggest movies similar to The Sixth Sense.\", \"tag\":\"recommendation\"},\n",
    "    {\"query\":\"I enjoyed Jumanji and Zathura. Any recommendations?\", \"tag\":\"recommendation\"},\n",
    "    {\"query\":\"What should I watch if I loved The Greatest Showman?\", \"tag\":\"recommendation\"},\n",
    "    {\"query\":\"Can you recommend movies like The Departed and Heat?\", \"tag\":\"recommendation\"},\n",
    "    {\"query\":\"What films are similar to Pride and Prejudice?\", \"tag\":\"recommendation\"},\n",
    "    {\"query\":\"I liked Crazy Rich Asians. Any similar films?\", \"tag\":\"recommendation\"},\n",
    "    {\"query\":\"Suggest movies similar to The Fault in Our Stars.\", \"tag\":\"recommendation\"},\n",
    "    {\"query\":\"What are some great spy films like Skyfall and Mission Impossible?\", \"tag\":\"recommendation\"},\n",
    "    {\"query\":\"If I enjoyed Monsters, Inc. and Despicable Me, what else might I enjoy?\", \"tag\":\"recommendation\"},\n",
    "    {\"query\":\"Can you recommend movies like The Bourne Identity?\", \"tag\":\"recommendation\"},\n",
    "    {\"query\":\"I enjoyed Inside Out and Soul. What else is similar?\", \"tag\":\"recommendation\"},\n",
    "    {\"query\":\"What are some films like The Girl with the Dragon Tattoo?\", \"tag\":\"recommendation\"},\n",
    "    {\"query\":\"Can you suggest movies for fans of Rocky and Creed?\", \"tag\":\"recommendation\"},\n",
    "    {\"query\":\"I loved The Blind Side. Any recommendations?\", \"tag\":\"recommendation\"},\n",
    "    {\"query\":\"What should I watch if I liked The Imitation Game?\", \"tag\":\"recommendation\"},\n",
    "    {\"query\":\"Recommend some good musicals like Mamma Mia!\", \"tag\":\"recommendation\"},\n",
    "    {\"query\":\"I enjoyed The Lego Movie. What similar movies are out there?\", \"tag\":\"recommendation\"},\n",
    "    {\"query\":\"What movies are great if I liked 10 Things I Hate About You?\", \"tag\":\"recommendation\"},\n",
    "    {\"query\":\"I loved Enola Holmes. What other mystery films should I watch?\", \"tag\":\"recommendation\"},\n",
    "    {\"query\":\"Can you recommend movies like The Conjuring and Annabelle?\", \"tag\":\"recommendation\"},\n",
    "    {\"query\":\"What films are similar to The Pianist?\", \"tag\":\"recommendation\"},\n",
    "    {\"query\":\"I liked Coco and Ratatouille. What else might I enjoy?\", \"tag\":\"recommendation\"},\n",
    "    {\"query\":\"Suggest films similar to Slumdog Millionaire.\", \"tag\":\"recommendation\"},\n",
    "    {\"query\":\"I loved The Secret Life of Walter Mitty. What else would you recommend?\", \"tag\":\"recommendation\"},\n",
    "    {\"query\":\"What movies are good for fans of The Great Gatsby?\", \"tag\":\"recommendation\"},\n",
    "    {\"query\":\"If I enjoyed Catch Me If You Can, what should I watch next?\", \"tag\":\"recommendation\"},\n",
    "    {\"query\":\"Recommend some movies like The Twilight Saga.\", \"tag\":\"recommendation\"},\n",
    "    {\"query\":\"I liked Coraline. What other dark animated films should I watch?\", \"tag\":\"recommendation\"},\n",
    "    {\"query\":\"What are some films similar to The Good, the Bad and the Ugly?\", \"tag\":\"recommendation\"},\n",
    "    {\"query\":\"Can you recommend movies like Casablanca?\", \"tag\":\"recommendation\"},\n",
    "    {\"query\":\"What should I watch if I enjoyed The Truman Show?\", \"tag\":\"recommendation\"},\n",
    "    {\"query\":\"I loved A Star is Born. Any similar suggestions?\", \"tag\":\"recommendation\"},\n",
    "    {\"query\":\"What are some films similar to Little Women?\", \"tag\":\"recommendation\"},\n",
    "    {\"query\":\"Can you recommend movies like Train to Busan?\", \"tag\":\"recommendation\"},\n",
    "    {\"query\":\"I enjoyed Hidden Figures. What else might I like?\", \"tag\":\"recommendation\"},\n",
    "    {\"query\":\"What films are similar to 500 Days of Summer?\", \"tag\":\"recommendation\"},\n",
    "    {\"query\": \"Show me a picture of Halle Berry\", \"tag\": \"image\"},\n",
    "    {\"query\": \"What does Denzel Washington look like\", \"tag\": \"image\"},\n",
    "    {\"query\": \"What does Sandra Bullock look like\", \"tag\": \"image\"},\n",
    "    {\"query\": \"Show me a poster of Moana\", \"tag\": \"image\"},\n",
    "    {\"query\": \"How did Iron Man look?\", \"tag\": \"image\"},\n",
    "    {\"query\": \"Give me a glimpse of Harry Potter\", \"tag\": \"image\"},\n",
    "    {\"query\": \"Can I see a photo of Tom Hanks?\", \"tag\": \"image\"},\n",
    "    {\"query\": \"Show me Scarlett Johansson's portrait\", \"tag\": \"image\"},\n",
    "    {\"query\": \"Find a poster of The Godfather\", \"tag\": \"image\"},\n",
    "    {\"query\": \"Display an image of Leonardo DiCaprio\", \"tag\": \"image\"},\n",
    "    {\"query\": \"What does Gal Gadot look like?\", \"tag\": \"image\"},\n",
    "    {\"query\": \"Show me the Avengers Endgame poster\", \"tag\": \"image\"},\n",
    "    {\"query\": \"Find a picture of Meryl Streep\", \"tag\": \"image\"},\n",
    "    {\"query\": \"What does the Joker look like in the 2019 movie?\", \"tag\": \"image\"},\n",
    "    {\"query\": \"Show me a still of Black Panther\", \"tag\": \"image\"},\n",
    "    {\"query\": \"Can you display a picture of Chris Hemsworth?\", \"tag\": \"image\"},\n",
    "    {\"query\": \"What does Ryan Gosling look like?\", \"tag\": \"image\"},\n",
    "    {\"query\": \"Find me a photo of Jennifer Lawrence\", \"tag\": \"image\"},\n",
    "    {\"query\": \"Show me the Frozen movie poster\", \"tag\": \"image\"},\n",
    "    {\"query\": \"Display an image of the Minions\", \"tag\": \"image\"},\n",
    "    {\"query\": \"What does Keanu Reeves look like?\", \"tag\": \"image\"},\n",
    "    {\"query\": \"Find a picture of the movie Titanic\", \"tag\": \"image\"},\n",
    "    {\"query\": \"Show me what Emma Watson looks like\", \"tag\": \"image\"},\n",
    "    {\"query\": \"What does Daniel Radcliffe look like?\", \"tag\": \"image\"},\n",
    "    {\"query\": \"Display a poster of Star Wars\", \"tag\": \"image\"},\n",
    "    {\"query\": \"Can you find an image of Christian Bale?\", \"tag\": \"image\"},\n",
    "    {\"query\": \"What does Zoe Saldana look like?\", \"tag\": \"image\"},\n",
    "    {\"query\": \"Show me a still from Pirates of the Caribbean\", \"tag\": \"image\"},\n",
    "    {\"query\": \"Find a poster of the movie Inception\", \"tag\": \"image\"},\n",
    "    {\"query\": \"What does Robert Downey Jr. look like?\", \"tag\": \"image\"},\n",
    "    {\"query\": \"Can you display a photo of Anne Hathaway?\", \"tag\": \"image\"},\n",
    "    {\"query\": \"Show me the Toy Story movie poster\", \"tag\": \"image\"},\n",
    "    {\"query\": \"Find a picture of Vin Diesel\", \"tag\": \"image\"},\n",
    "    {\"query\": \"Display a poster of the movie Interstellar\", \"tag\": \"image\"},\n",
    "    {\"query\": \"What does Cate Blanchett look like?\", \"tag\": \"image\"},\n",
    "    {\"query\": \"Can you show me a picture of the Hulk?\", \"tag\": \"image\"},\n",
    "    {\"query\": \"Find me a photo of Hugh Jackman\", \"tag\": \"image\"},\n",
    "    {\"query\": \"Show me a poster of Shrek\", \"tag\": \"image\"},\n",
    "    {\"query\": \"What does Margot Robbie look like?\", \"tag\": \"image\"},\n",
    "    {\"query\": \"Display an image of the Fast and Furious movie\", \"tag\": \"image\"},\n",
    "    {\"query\": \"Can I see a picture of Johnny Depp?\", \"tag\": \"image\"},\n",
    "    {\"query\": \"Find a poster of the movie Aladdin\", \"tag\": \"image\"},\n",
    "    {\"query\": \"What does Charlize Theron look like?\", \"tag\": \"image\"},\n",
    "    {\"query\": \"Show me a still of Wonder Woman\", \"tag\": \"image\"},\n",
    "    {\"query\": \"Can you display a photo of Mark Ruffalo?\", \"tag\": \"image\"},\n",
    "    {\"query\": \"Find me a picture of Angelina Jolie\", \"tag\": \"image\"},\n",
    "    {\"query\": \"Display a poster of Finding Nemo\", \"tag\": \"image\"},\n",
    "    {\"query\": \"What does Matt Damon look like?\", \"tag\": \"image\"},\n",
    "    {\"query\": \"Show me a poster of Guardians of the Galaxy\", \"tag\": \"image\"},\n",
    "    {\"query\": \"Find a picture of Will Smith\", \"tag\": \"image\"},\n",
    "    {\"query\": \"Display an image of the character Darth Vader\", \"tag\": \"image\"},\n",
    "    {\"query\": \"Can you show me a picture of Mila Kunis?\", \"tag\": \"image\"},\n",
    "    {\"query\": \"What does Morgan Freeman look like?\", \"tag\": \"image\"},\n",
    "    {\"query\": \"Find a poster of Frozen 2\", \"tag\": \"image\"},\n",
    "    {\"query\": \"Show me what Chris Pratt looks like\", \"tag\": \"image\"},\n",
    "    {\"query\": \"Can I see a picture of Benedict Cumberbatch?\", \"tag\": \"image\"},\n",
    "    {\"query\": \"What does Nicole Kidman look like?\", \"tag\": \"image\"},\n",
    "    {\"query\": \"Show me the Batman movie poster\", \"tag\": \"image\"},\n",
    "    {\"query\": \"Find a still of Captain America\", \"tag\": \"image\"},\n",
    "    {\"query\": \"Display an image of Julia Roberts\", \"tag\": \"image\"},\n",
    "    {\"query\": \"What does Idris Elba look like?\", \"tag\": \"image\"},\n",
    "    {\"query\": \"Show me a poster of The Lion King\", \"tag\": \"image\"},\n",
    "    {\"query\": \"Can you display a photo of Tom Cruise?\", \"tag\": \"image\"},\n",
    "    {\"query\": \"Find me a picture of Natalie Portman\", \"tag\": \"image\"},\n",
    "    {\"query\": \"What does Joaquin Phoenix look like?\", \"tag\": \"image\"},\n",
    "    {\"query\": \"Show me a poster of Coco\", \"tag\": \"image\"},\n",
    "    {\"query\": \"Display an image of Eddie Murphy\", \"tag\": \"image\"},\n",
    "    {\"query\": \"Find a picture of Bruce Willis\", \"tag\": \"image\"},\n",
    "    {\"query\": \"What does Kristen Stewart look like?\", \"tag\": \"image\"},\n",
    "    {\"query\": \"Can you show me a poster of Spider-Man?\", \"tag\": \"image\"},\n",
    "    {\"query\": \"Find me a photo of Brad Pitt\", \"tag\": \"image\"},\n",
    "    {\"query\": \"Show me the Frozen poster with Olaf\", \"tag\": \"image\"},\n",
    "    {\"query\": \"What does Vin Diesel's character in Fast and Furious look like?\", \"tag\": \"image\"},\n",
    "    {\"query\": \"Display an image of the movie Ratatouille\", \"tag\": \"image\"},\n",
    "    {\"query\": \"Can I see a photo of Amy Adams?\", \"tag\": \"image\"},\n",
    "    {\"query\": \"What does Jake Gyllenhaal look like?\", \"tag\": \"image\"},\n",
    "    {\"query\": \"Find a picture of the movie Tangled\", \"tag\": \"image\"},\n",
    "    {\"query\": \"Show me a still from Avengers: Infinity War\", \"tag\": \"image\"},\n",
    "    {\"query\": \"What does Chris Evans look like?\", \"tag\": \"image\"},\n",
    "    {\"query\": \"Display a poster of Inside Out\", \"tag\": \"image\"},\n",
    "    {\"query\": \"Find me a photo of Emily Blunt\", \"tag\": \"image\"},\n",
    "    {\"query\": \"Can you show me what Adam Driver looks like?\", \"tag\": \"image\"},\n",
    "    {\"query\": \"What does Gal Gadot's Wonder Woman costume look like?\", \"tag\": \"image\"},\n",
    "    {\"query\": \"Find a picture of Heath Ledger as the Joker\", \"tag\": \"image\"},\n",
    "    {\"query\": \"Show me a poster of Monsters, Inc.\", \"tag\": \"image\"},\n",
    "    {\"query\": \"Display an image of the cast of Friends\", \"tag\": \"image\"},\n",
    "    {\"query\": \"What does Benedict Wong look like?\", \"tag\": \"image\"},\n",
    "    {\"query\": \"Find me a photo of Tom Holland in Spider-Man\", \"tag\": \"image\"}\n",
    "]"
   ]
  },
  {
   "cell_type": "code",
   "execution_count": 3,
   "metadata": {},
   "outputs": [],
   "source": [
    "label_list = [\"qna\", \"recommendation\", \"image\"]\n",
    "\n",
    "# Map tags to numerical labels\n",
    "tag2id = {tag: idx for idx, tag in enumerate(label_list)}\n",
    "id2tag = {idx: tag for tag, idx in tag2id.items()}\n",
    "\n",
    "queries = [d['query'] for d in training_data]\n",
    "labels = [tag2id[d['tag']] for d in training_data]"
   ]
  },
  {
   "cell_type": "code",
   "execution_count": 4,
   "metadata": {},
   "outputs": [],
   "source": [
    "# Split into train and test\n",
    "train_queries, test_queries, train_labels, test_labels = train_test_split(queries, labels, test_size=0.2)"
   ]
  },
  {
   "cell_type": "code",
   "execution_count": 5,
   "metadata": {},
   "outputs": [
    {
     "data": {
      "text/plain": [
       "['release date of Avatar',\n",
       " 'revenue of Iron Man',\n",
       " 'earnings of The Dark Knight',\n",
       " 'I loved Good Will Hunting. Any similar recommendations?',\n",
       " 'Display an image of the Minions',\n",
       " 'I enjoyed The Lego Movie. What similar movies are out there?',\n",
       " \"what type of movie is Schindler's List\",\n",
       " 'Give me a glimpse of Harry Potter',\n",
       " 'Show me the Batman movie poster',\n",
       " 'What are some great animated films like How to Train Your Dragon?',\n",
       " 'Find a poster of The Godfather',\n",
       " 'I loved The Notebook. What other romantic films should I watch?',\n",
       " 'when was Al Pacino born',\n",
       " 'Are there any films similar to Pulp Fiction and Kill Bill?',\n",
       " 'genre of Inception',\n",
       " 'Can you recommend movies like The Bourne Identity?',\n",
       " 'Can you suggest movies like The Dark Knight?',\n",
       " 'Recommend some movies like The Twilight Saga.',\n",
       " 'Suggest movies similar to The Fault in Our Stars.',\n",
       " 'who produced Pulp Fiction',\n",
       " 'when was Quentin Tarantino born',\n",
       " 'what was the gross of Frozen',\n",
       " 'who wrote Star Wars',\n",
       " 'I liked Coco and Ratatouille. What else might I enjoy?',\n",
       " 'Can you show me a picture of Mila Kunis?',\n",
       " 'Can you suggest movies for fans of Rocky and Creed?',\n",
       " 'when did The Dark Knight come out',\n",
       " 'Find me a photo of Tom Holland in Spider-Man',\n",
       " 'What are some great movies for fans of The Lord of the Rings?',\n",
       " 'where was Samuel L. Jackson born',\n",
       " 'birthplace of Christopher Nolan',\n",
       " 'box office collection of Jurassic Park',\n",
       " 'rating of Avatar',\n",
       " 'rating of Forrest Gump',\n",
       " 'what was the earning of the movie Titanic',\n",
       " 'director of The Dark Knight',\n",
       " 'who produced Jurassic Park',\n",
       " 'I loved A Star is Born. Any similar suggestions?',\n",
       " 'What does Denzel Washington look like',\n",
       " 'who wrote the screenplay for Titanic',\n",
       " 'how much did Star Wars cost',\n",
       " 'lead actor in Inception',\n",
       " 'Display a poster of Star Wars',\n",
       " 'Suggest films similar to Slumdog Millionaire.',\n",
       " 'Can you show me what Adam Driver looks like?',\n",
       " 'What should I watch if I liked The Imitation Game?',\n",
       " 'I loved The Social Network. Can you recommend similar movies?',\n",
       " 'budget of Forrest Gump',\n",
       " 'Can you recommend movies like The Departed and Heat?',\n",
       " 'birth date of Keanu Reeves',\n",
       " 'What does Kristen Stewart look like?',\n",
       " 'I liked A Quiet Place and Bird Box. Any recommendations?',\n",
       " 'I loved The Secret Life of Walter Mitty. What else would you recommend?',\n",
       " 'Suggest movies similar to The Sixth Sense.',\n",
       " 'I loved The Blind Side. Any recommendations?',\n",
       " 'where was Harrison Ford born',\n",
       " 'who directed Forrest Gump',\n",
       " \"who was the screenwriter of Schindler's List\",\n",
       " 'budget of Inception',\n",
       " 'Can you show me a picture of the Hulk?',\n",
       " 'Can you recommend movies like The Godfather?',\n",
       " 'Recommend some good musicals like Mamma Mia!',\n",
       " 'how was Star Wars rated',\n",
       " 'What does Chris Evans look like?',\n",
       " 'who wrote the script for Pulp Fiction',\n",
       " 'birthplace of Quentin Tarantino',\n",
       " 'Find a picture of Meryl Streep',\n",
       " 'Give me movie recommendations similar to Toy Story and Finding Nemo.',\n",
       " 'director of The Matrix',\n",
       " 'Show me a still of Wonder Woman',\n",
       " 'screenwriter of The Matrix',\n",
       " 'how much money did Titanic gross',\n",
       " 'when was Titanic released',\n",
       " 'how much was spent on Avatar',\n",
       " 'What are some films like The Girl with the Dragon Tattoo?',\n",
       " 'What does Idris Elba look like?',\n",
       " 'Show me the Avengers Endgame poster',\n",
       " 'Display a poster of Finding Nemo',\n",
       " 'Display an image of Leonardo DiCaprio',\n",
       " 'What does Morgan Freeman look like?',\n",
       " 'What should I watch if I loved 1917 and Dunkirk?',\n",
       " \"who directed Schindler's List\",\n",
       " 'I loved Inception and Interstellar. What else should I watch?',\n",
       " 'Show me a still from Pirates of the Caribbean',\n",
       " 'producer of The Godfather',\n",
       " 'What movies are great if I liked 10 Things I Hate About You?',\n",
       " 'release year of Star Wars',\n",
       " 'Can you recommend movies like Train to Busan?',\n",
       " 'Show me the Toy Story movie poster',\n",
       " 'who directed the movie Avatar',\n",
       " 'when was Robert Downey Jr born',\n",
       " 'what genre is Titanic',\n",
       " 'Display a poster of Inside Out',\n",
       " 'who was the main actor in The Godfather',\n",
       " 'who produced The Dark Knight',\n",
       " 'What movies are good if I liked Fight Club?',\n",
       " 'who was the producer of Inception',\n",
       " 'how much revenue did Star Wars make',\n",
       " 'Show me a poster of Guardians of the Galaxy',\n",
       " 'Can you recommend movies like Casablanca?',\n",
       " 'where was Leonardo DiCaprio born',\n",
       " 'Can I see a picture of Benedict Cumberbatch?',\n",
       " 'What does Margot Robbie look like?',\n",
       " 'What does the Joker look like in the 2019 movie?',\n",
       " 'What does Sandra Bullock look like',\n",
       " \"What does Vin Diesel's character in Fast and Furious look like?\",\n",
       " 'Display an image of Julia Roberts',\n",
       " 'What movies should I watch if I liked Forrest Gump?',\n",
       " \"Show me Scarlett Johansson's portrait\",\n",
       " 'What does Jake Gyllenhaal look like?',\n",
       " 'when did Forrest Gump release',\n",
       " 'how much did Pulp Fiction cost',\n",
       " 'Find a still of Captain America',\n",
       " 'what type of movie is The Godfather',\n",
       " 'Display an image of Eddie Murphy',\n",
       " 'What does Charlize Theron look like?',\n",
       " 'Show me the Frozen poster with Olaf',\n",
       " 'who played the lead role in Titanic',\n",
       " 'What films are similar to Avengers: Endgame?',\n",
       " 'Show me a still from Avengers: Infinity War',\n",
       " 'who was the screenwriter of Avatar',\n",
       " 'Can you show me a poster of Spider-Man?',\n",
       " 'Show me a picture of Halle Berry',\n",
       " 'birth date of James Cameron',\n",
       " 'If I liked The Lion King, what other films might I enjoy?',\n",
       " 'Can I see a photo of Tom Hanks?',\n",
       " 'What does Joaquin Phoenix look like?',\n",
       " 'What are some movies like Up and Wall-E?',\n",
       " 'what is the rating of Titanic',\n",
       " 'how was Pulp Fiction rated',\n",
       " 'when was Jurassic Park released',\n",
       " 'I enjoyed Black Panther. Can you suggest some similar films?',\n",
       " 'where was Robert Downey Jr born',\n",
       " 'release year of The Godfather',\n",
       " \"when was Schindler's List released\",\n",
       " 'how much did Avatar make',\n",
       " 'Find a picture of the movie Titanic',\n",
       " 'who produced The Matrix',\n",
       " 'What should I watch if I enjoyed Moonlight?',\n",
       " 'What are some films similar to Little Women?',\n",
       " 'I enjoyed Hidden Figures. What else might I like?',\n",
       " 'when was Inception released',\n",
       " 'genre of Pulp Fiction',\n",
       " \"producer of Schindler's List\",\n",
       " 'What films should I check out if I liked The Shawshank Redemption?',\n",
       " 'Find a picture of Vin Diesel',\n",
       " 'What does Gal Gadot look like?',\n",
       " 'Can you display a photo of Anne Hathaway?',\n",
       " 'If I liked Star Wars and Guardians of the Galaxy, what other movies should I watch?',\n",
       " 'Show me a still of Black Panther',\n",
       " 'Show me a poster of Shrek',\n",
       " 'Find me a picture of Angelina Jolie',\n",
       " 'Find a poster of the movie Inception',\n",
       " 'Can you recommend movies like The Wolf of Wall Street?',\n",
       " 'who was the actor in Star Wars',\n",
       " \"What does Gal Gadot's Wonder Woman costume look like?\",\n",
       " 'What does Matt Damon look like?',\n",
       " 'Find a picture of Bruce Willis',\n",
       " 'What films are similar to 500 Days of Summer?',\n",
       " 'Find a poster of Frozen 2',\n",
       " 'What are some movies like Avatar and The Matrix?',\n",
       " 'What are some great spy films like Skyfall and Mission Impossible?',\n",
       " 'what genre is The Matrix',\n",
       " 'who directed Titanic',\n",
       " 'I’m looking for movies like Spirited Away and My Neighbor Totoro. Any ideas?',\n",
       " 'Suggest films that are similar to Parasite.',\n",
       " 'Find me a photo of Brad Pitt',\n",
       " 'What films are similar to The Irishman?',\n",
       " 'Can you suggest films for fans of Frozen?',\n",
       " 'when was Samuel L. Jackson born',\n",
       " 'Show me what Chris Pratt looks like',\n",
       " 'where was Steven Spielberg born',\n",
       " 'If I enjoyed Catch Me If You Can, what should I watch next?',\n",
       " 'what rating does The Godfather have',\n",
       " 'Display an image of the Fast and Furious movie',\n",
       " 'who acted in The Dark Knight',\n",
       " 'who played in The Matrix',\n",
       " 'Can you display a photo of Mark Ruffalo?',\n",
       " 'If I enjoyed Monsters, Inc. and Despicable Me, what else might I enjoy?',\n",
       " 'Display an image of the character Darth Vader',\n",
       " 'What films are similar to The Pianist?',\n",
       " 'I enjoyed The Hunger Games and Divergent. What should I watch next?',\n",
       " 'What does Ryan Gosling look like?',\n",
       " 'Suggest movies that are similar to La La Land and Whiplash.',\n",
       " 'who wrote the screenplay for Jurassic Park',\n",
       " 'who starred in Avatar',\n",
       " 'who was the director of The Godfather',\n",
       " 'rating of The Dark Knight',\n",
       " 'Show me the Frozen movie poster',\n",
       " 'Can I see a photo of Amy Adams?',\n",
       " 'What films are similar to Pride and Prejudice?',\n",
       " 'What does Cate Blanchett look like?',\n",
       " 'Find me a photo of Emily Blunt',\n",
       " 'who directed Star Wars',\n",
       " 'when was Leonardo DiCaprio born',\n",
       " 'Can you recommend movies like The Conjuring and Annabelle?',\n",
       " 'What should I watch if I enjoyed The Truman Show?',\n",
       " 'birthplace of James Cameron',\n",
       " \"what is the rating of Schindler's List\",\n",
       " 'Can you display a picture of Chris Hemsworth?',\n",
       " 'total revenue of Inception',\n",
       " 'What are some films similar to The Good, the Bad and the Ugly?',\n",
       " 'Show me a poster of Moana',\n",
       " 'I liked Coraline. What other dark animated films should I watch?',\n",
       " 'Recommend some movies similar to Mad Max: Fury Road.',\n",
       " 'How did Iron Man look?',\n",
       " 'I enjoyed Deadpool. Can you suggest similar movies?',\n",
       " 'I liked Crazy Rich Asians. Any similar films?',\n",
       " 'Show me what Emma Watson looks like',\n",
       " 'I enjoyed Jumanji and Zathura. Any recommendations?',\n",
       " 'birth date of Harrison Ford',\n",
       " 'who starred in Pulp Fiction',\n",
       " 'Find me a picture of Natalie Portman',\n",
       " 'Find a picture of Will Smith',\n",
       " 'What does Benedict Wong look like?',\n",
       " 'what type of movie is Jurassic Park',\n",
       " 'how much did The Matrix cost',\n",
       " 'Can you recommend movies like Knives Out?',\n",
       " 'release date of The Matrix',\n",
       " 'Can you display a photo of Tom Cruise?',\n",
       " 'What does Zoe Saldana look like?',\n",
       " 'who wrote The Godfather screenplay']"
      ]
     },
     "execution_count": 5,
     "metadata": {},
     "output_type": "execute_result"
    }
   ],
   "source": [
    "train_queries"
   ]
  },
  {
   "cell_type": "code",
   "execution_count": 6,
   "metadata": {},
   "outputs": [
    {
     "name": "stderr",
     "output_type": "stream",
     "text": [
      "Some weights of BertForSequenceClassification were not initialized from the model checkpoint at bert-base-uncased and are newly initialized: ['classifier.bias', 'classifier.weight']\n",
      "You should probably TRAIN this model on a down-stream task to be able to use it for predictions and inference.\n",
      "/opt/miniconda3/envs/atai/lib/python3.10/site-packages/transformers/training_args.py:1545: FutureWarning: `evaluation_strategy` is deprecated and will be removed in version 4.46 of 🤗 Transformers. Use `eval_strategy` instead\n",
      "  warnings.warn(\n",
      "  2%|▏         | 10/560 [00:05<03:24,  2.69it/s]"
     ]
    },
    {
     "name": "stdout",
     "output_type": "stream",
     "text": [
      "{'loss': 1.1277, 'grad_norm': 4.8296990394592285, 'learning_rate': 1.0000000000000002e-06, 'epoch': 0.36}\n"
     ]
    },
    {
     "name": "stderr",
     "output_type": "stream",
     "text": [
      "  4%|▎         | 20/560 [00:08<03:14,  2.78it/s]"
     ]
    },
    {
     "name": "stdout",
     "output_type": "stream",
     "text": [
      "{'loss': 1.1306, 'grad_norm': 6.990683078765869, 'learning_rate': 2.0000000000000003e-06, 'epoch': 0.71}\n"
     ]
    },
    {
     "name": "stderr",
     "output_type": "stream",
     "text": [
      "                                                \n",
      "  5%|▌         | 28/560 [00:13<05:54,  1.50it/s]"
     ]
    },
    {
     "name": "stdout",
     "output_type": "stream",
     "text": [
      "{'eval_loss': 1.0707961320877075, 'eval_runtime': 0.5148, 'eval_samples_per_second': 108.785, 'eval_steps_per_second': 13.598, 'epoch': 1.0}\n"
     ]
    },
    {
     "name": "stderr",
     "output_type": "stream",
     "text": [
      "  5%|▌         | 30/560 [00:13<05:32,  1.59it/s]"
     ]
    },
    {
     "name": "stdout",
     "output_type": "stream",
     "text": [
      "{'loss': 1.1156, 'grad_norm': 4.672800540924072, 'learning_rate': 3e-06, 'epoch': 1.07}\n"
     ]
    },
    {
     "name": "stderr",
     "output_type": "stream",
     "text": [
      "  7%|▋         | 40/560 [00:17<03:24,  2.55it/s]"
     ]
    },
    {
     "name": "stdout",
     "output_type": "stream",
     "text": [
      "{'loss': 1.081, 'grad_norm': 7.544580936431885, 'learning_rate': 4.000000000000001e-06, 'epoch': 1.43}\n"
     ]
    },
    {
     "name": "stderr",
     "output_type": "stream",
     "text": [
      "  9%|▉         | 50/560 [00:21<03:11,  2.67it/s]"
     ]
    },
    {
     "name": "stdout",
     "output_type": "stream",
     "text": [
      "{'loss': 1.0126, 'grad_norm': 10.777443885803223, 'learning_rate': 5e-06, 'epoch': 1.79}\n"
     ]
    },
    {
     "name": "stderr",
     "output_type": "stream",
     "text": [
      "                                                \n",
      " 10%|█         | 56/560 [00:23<03:02,  2.76it/s]"
     ]
    },
    {
     "name": "stdout",
     "output_type": "stream",
     "text": [
      "{'eval_loss': 0.8754494786262512, 'eval_runtime': 0.25, 'eval_samples_per_second': 224.014, 'eval_steps_per_second': 28.002, 'epoch': 2.0}\n"
     ]
    },
    {
     "name": "stderr",
     "output_type": "stream",
     "text": [
      " 11%|█         | 60/560 [00:25<03:11,  2.61it/s]"
     ]
    },
    {
     "name": "stdout",
     "output_type": "stream",
     "text": [
      "{'loss': 0.9182, 'grad_norm': 7.71859073638916, 'learning_rate': 6e-06, 'epoch': 2.14}\n"
     ]
    },
    {
     "name": "stderr",
     "output_type": "stream",
     "text": [
      " 12%|█▎        | 70/560 [00:28<02:56,  2.78it/s]"
     ]
    },
    {
     "name": "stdout",
     "output_type": "stream",
     "text": [
      "{'loss': 0.8475, 'grad_norm': 6.926977157592773, 'learning_rate': 7.000000000000001e-06, 'epoch': 2.5}\n"
     ]
    },
    {
     "name": "stderr",
     "output_type": "stream",
     "text": [
      " 14%|█▍        | 80/560 [00:32<02:49,  2.83it/s]"
     ]
    },
    {
     "name": "stdout",
     "output_type": "stream",
     "text": [
      "{'loss': 0.7449, 'grad_norm': 10.456460952758789, 'learning_rate': 8.000000000000001e-06, 'epoch': 2.86}\n"
     ]
    },
    {
     "name": "stderr",
     "output_type": "stream",
     "text": [
      "                                                \n",
      " 15%|█▌        | 84/560 [00:34<02:49,  2.81it/s]"
     ]
    },
    {
     "name": "stdout",
     "output_type": "stream",
     "text": [
      "{'eval_loss': 0.5705214142799377, 'eval_runtime': 0.2418, 'eval_samples_per_second': 231.583, 'eval_steps_per_second': 28.948, 'epoch': 3.0}\n"
     ]
    },
    {
     "name": "stderr",
     "output_type": "stream",
     "text": [
      " 16%|█▌        | 90/560 [00:36<02:46,  2.82it/s]"
     ]
    },
    {
     "name": "stdout",
     "output_type": "stream",
     "text": [
      "{'loss': 0.6339, 'grad_norm': 7.341261863708496, 'learning_rate': 9e-06, 'epoch': 3.21}\n"
     ]
    },
    {
     "name": "stderr",
     "output_type": "stream",
     "text": [
      " 18%|█▊        | 100/560 [00:39<02:35,  2.95it/s]"
     ]
    },
    {
     "name": "stdout",
     "output_type": "stream",
     "text": [
      "{'loss': 0.4996, 'grad_norm': 5.7012619972229, 'learning_rate': 1e-05, 'epoch': 3.57}\n"
     ]
    },
    {
     "name": "stderr",
     "output_type": "stream",
     "text": [
      " 20%|█▉        | 110/560 [00:43<02:50,  2.64it/s]"
     ]
    },
    {
     "name": "stdout",
     "output_type": "stream",
     "text": [
      "{'loss': 0.4128, 'grad_norm': 4.517910003662109, 'learning_rate': 1.1000000000000001e-05, 'epoch': 3.93}\n"
     ]
    },
    {
     "name": "stderr",
     "output_type": "stream",
     "text": [
      "                                                 \n",
      " 20%|██        | 112/560 [00:44<02:46,  2.70it/s]"
     ]
    },
    {
     "name": "stdout",
     "output_type": "stream",
     "text": [
      "{'eval_loss': 0.2753341794013977, 'eval_runtime': 0.2575, 'eval_samples_per_second': 217.499, 'eval_steps_per_second': 27.187, 'epoch': 4.0}\n"
     ]
    },
    {
     "name": "stderr",
     "output_type": "stream",
     "text": [
      " 21%|██▏       | 120/560 [00:47<02:34,  2.85it/s]"
     ]
    },
    {
     "name": "stdout",
     "output_type": "stream",
     "text": [
      "{'loss': 0.2778, 'grad_norm': 4.260217666625977, 'learning_rate': 1.2e-05, 'epoch': 4.29}\n"
     ]
    },
    {
     "name": "stderr",
     "output_type": "stream",
     "text": [
      " 23%|██▎       | 130/560 [00:50<02:27,  2.91it/s]"
     ]
    },
    {
     "name": "stdout",
     "output_type": "stream",
     "text": [
      "{'loss': 0.2152, 'grad_norm': 2.8957126140594482, 'learning_rate': 1.3000000000000001e-05, 'epoch': 4.64}\n"
     ]
    },
    {
     "name": "stderr",
     "output_type": "stream",
     "text": [
      " 25%|██▌       | 140/560 [00:54<02:26,  2.86it/s]"
     ]
    },
    {
     "name": "stdout",
     "output_type": "stream",
     "text": [
      "{'loss': 0.1296, 'grad_norm': 2.5149543285369873, 'learning_rate': 1.4000000000000001e-05, 'epoch': 5.0}\n"
     ]
    },
    {
     "name": "stderr",
     "output_type": "stream",
     "text": [
      "                                                 \n",
      " 25%|██▌       | 140/560 [00:54<02:26,  2.86it/s]"
     ]
    },
    {
     "name": "stdout",
     "output_type": "stream",
     "text": [
      "{'eval_loss': 0.06905615329742432, 'eval_runtime': 0.1937, 'eval_samples_per_second': 289.178, 'eval_steps_per_second': 36.147, 'epoch': 5.0}\n"
     ]
    },
    {
     "name": "stderr",
     "output_type": "stream",
     "text": [
      " 27%|██▋       | 150/560 [00:57<02:20,  2.93it/s]"
     ]
    },
    {
     "name": "stdout",
     "output_type": "stream",
     "text": [
      "{'loss': 0.0651, 'grad_norm': 1.2480132579803467, 'learning_rate': 1.5e-05, 'epoch': 5.36}\n"
     ]
    },
    {
     "name": "stderr",
     "output_type": "stream",
     "text": [
      " 29%|██▊       | 160/560 [01:01<02:15,  2.95it/s]"
     ]
    },
    {
     "name": "stdout",
     "output_type": "stream",
     "text": [
      "{'loss': 0.0354, 'grad_norm': 0.35144752264022827, 'learning_rate': 1.6000000000000003e-05, 'epoch': 5.71}\n"
     ]
    },
    {
     "name": "stderr",
     "output_type": "stream",
     "text": [
      "                                                 \n",
      " 30%|███       | 168/560 [01:04<02:11,  2.99it/s]"
     ]
    },
    {
     "name": "stdout",
     "output_type": "stream",
     "text": [
      "{'eval_loss': 0.010656160302460194, 'eval_runtime': 0.2322, 'eval_samples_per_second': 241.219, 'eval_steps_per_second': 30.152, 'epoch': 6.0}\n"
     ]
    },
    {
     "name": "stderr",
     "output_type": "stream",
     "text": [
      " 30%|███       | 170/560 [01:04<02:27,  2.65it/s]"
     ]
    },
    {
     "name": "stdout",
     "output_type": "stream",
     "text": [
      "{'loss': 0.018, 'grad_norm': 0.29627516865730286, 'learning_rate': 1.7000000000000003e-05, 'epoch': 6.07}\n"
     ]
    },
    {
     "name": "stderr",
     "output_type": "stream",
     "text": [
      " 32%|███▏      | 180/560 [01:08<02:09,  2.93it/s]"
     ]
    },
    {
     "name": "stdout",
     "output_type": "stream",
     "text": [
      "{'loss': 0.01, 'grad_norm': 0.12372834980487823, 'learning_rate': 1.8e-05, 'epoch': 6.43}\n"
     ]
    },
    {
     "name": "stderr",
     "output_type": "stream",
     "text": [
      " 34%|███▍      | 190/560 [01:11<02:04,  2.96it/s]"
     ]
    },
    {
     "name": "stdout",
     "output_type": "stream",
     "text": [
      "{'loss': 0.0076, 'grad_norm': 0.11907901614904404, 'learning_rate': 1.9e-05, 'epoch': 6.79}\n"
     ]
    },
    {
     "name": "stderr",
     "output_type": "stream",
     "text": [
      "                                                 \n",
      " 35%|███▌      | 196/560 [01:14<02:04,  2.92it/s]"
     ]
    },
    {
     "name": "stdout",
     "output_type": "stream",
     "text": [
      "{'eval_loss': 0.0043962569907307625, 'eval_runtime': 0.2356, 'eval_samples_per_second': 237.707, 'eval_steps_per_second': 29.713, 'epoch': 7.0}\n"
     ]
    },
    {
     "name": "stderr",
     "output_type": "stream",
     "text": [
      " 36%|███▌      | 200/560 [01:15<02:11,  2.74it/s]"
     ]
    },
    {
     "name": "stdout",
     "output_type": "stream",
     "text": [
      "{'loss': 0.0062, 'grad_norm': 0.07337658852338791, 'learning_rate': 2e-05, 'epoch': 7.14}\n"
     ]
    },
    {
     "name": "stderr",
     "output_type": "stream",
     "text": [
      " 38%|███▊      | 210/560 [01:19<02:04,  2.82it/s]"
     ]
    },
    {
     "name": "stdout",
     "output_type": "stream",
     "text": [
      "{'loss': 0.0051, 'grad_norm': 0.09121271967887878, 'learning_rate': 2.1e-05, 'epoch': 7.5}\n"
     ]
    },
    {
     "name": "stderr",
     "output_type": "stream",
     "text": [
      " 39%|███▉      | 220/560 [01:22<02:01,  2.80it/s]"
     ]
    },
    {
     "name": "stdout",
     "output_type": "stream",
     "text": [
      "{'loss': 0.0042, 'grad_norm': 0.057011622935533524, 'learning_rate': 2.2000000000000003e-05, 'epoch': 7.86}\n"
     ]
    },
    {
     "name": "stderr",
     "output_type": "stream",
     "text": [
      "                                                 \n",
      " 40%|████      | 224/560 [01:24<01:58,  2.83it/s]"
     ]
    },
    {
     "name": "stdout",
     "output_type": "stream",
     "text": [
      "{'eval_loss': 0.0026714839041233063, 'eval_runtime': 0.2365, 'eval_samples_per_second': 236.791, 'eval_steps_per_second': 29.599, 'epoch': 8.0}\n"
     ]
    },
    {
     "name": "stderr",
     "output_type": "stream",
     "text": [
      " 41%|████      | 230/560 [01:26<01:59,  2.75it/s]"
     ]
    },
    {
     "name": "stdout",
     "output_type": "stream",
     "text": [
      "{'loss': 0.0037, 'grad_norm': 0.05410712584853172, 'learning_rate': 2.3000000000000003e-05, 'epoch': 8.21}\n"
     ]
    },
    {
     "name": "stderr",
     "output_type": "stream",
     "text": [
      " 43%|████▎     | 240/560 [01:29<01:52,  2.84it/s]"
     ]
    },
    {
     "name": "stdout",
     "output_type": "stream",
     "text": [
      "{'loss': 0.0033, 'grad_norm': 0.05020800977945328, 'learning_rate': 2.4e-05, 'epoch': 8.57}\n"
     ]
    },
    {
     "name": "stderr",
     "output_type": "stream",
     "text": [
      " 45%|████▍     | 250/560 [01:33<01:53,  2.74it/s]"
     ]
    },
    {
     "name": "stdout",
     "output_type": "stream",
     "text": [
      "{'loss': 0.0026, 'grad_norm': 0.038627445697784424, 'learning_rate': 2.5e-05, 'epoch': 8.93}\n"
     ]
    },
    {
     "name": "stderr",
     "output_type": "stream",
     "text": [
      "                                                 \n",
      " 45%|████▌     | 252/560 [01:34<01:51,  2.77it/s]"
     ]
    },
    {
     "name": "stdout",
     "output_type": "stream",
     "text": [
      "{'eval_loss': 0.0018269805004820228, 'eval_runtime': 0.2441, 'eval_samples_per_second': 229.433, 'eval_steps_per_second': 28.679, 'epoch': 9.0}\n"
     ]
    },
    {
     "name": "stderr",
     "output_type": "stream",
     "text": [
      " 46%|████▋     | 260/560 [01:37<01:47,  2.79it/s]"
     ]
    },
    {
     "name": "stdout",
     "output_type": "stream",
     "text": [
      "{'loss': 0.0024, 'grad_norm': 0.04034360125660896, 'learning_rate': 2.6000000000000002e-05, 'epoch': 9.29}\n"
     ]
    },
    {
     "name": "stderr",
     "output_type": "stream",
     "text": [
      " 48%|████▊     | 270/560 [01:40<01:44,  2.78it/s]"
     ]
    },
    {
     "name": "stdout",
     "output_type": "stream",
     "text": [
      "{'loss': 0.0022, 'grad_norm': 0.029467154294252396, 'learning_rate': 2.7000000000000002e-05, 'epoch': 9.64}\n"
     ]
    },
    {
     "name": "stderr",
     "output_type": "stream",
     "text": [
      " 50%|█████     | 280/560 [01:44<01:39,  2.81it/s]"
     ]
    },
    {
     "name": "stdout",
     "output_type": "stream",
     "text": [
      "{'loss': 0.002, 'grad_norm': 0.032168954610824585, 'learning_rate': 2.8000000000000003e-05, 'epoch': 10.0}\n"
     ]
    },
    {
     "name": "stderr",
     "output_type": "stream",
     "text": [
      "                                                 \n",
      " 50%|█████     | 280/560 [01:44<01:39,  2.81it/s]"
     ]
    },
    {
     "name": "stdout",
     "output_type": "stream",
     "text": [
      "{'eval_loss': 0.0013482763897627592, 'eval_runtime': 0.2193, 'eval_samples_per_second': 255.351, 'eval_steps_per_second': 31.919, 'epoch': 10.0}\n"
     ]
    },
    {
     "name": "stderr",
     "output_type": "stream",
     "text": [
      " 52%|█████▏    | 290/560 [01:48<01:33,  2.90it/s]"
     ]
    },
    {
     "name": "stdout",
     "output_type": "stream",
     "text": [
      "{'loss': 0.0017, 'grad_norm': 0.02399352192878723, 'learning_rate': 2.9e-05, 'epoch': 10.36}\n"
     ]
    },
    {
     "name": "stderr",
     "output_type": "stream",
     "text": [
      " 54%|█████▎    | 300/560 [01:51<01:30,  2.88it/s]"
     ]
    },
    {
     "name": "stdout",
     "output_type": "stream",
     "text": [
      "{'loss': 0.0016, 'grad_norm': 0.028486719354987144, 'learning_rate': 3e-05, 'epoch': 10.71}\n"
     ]
    },
    {
     "name": "stderr",
     "output_type": "stream",
     "text": [
      "                                                 \n",
      " 55%|█████▌    | 308/560 [01:54<01:25,  2.94it/s]"
     ]
    },
    {
     "name": "stdout",
     "output_type": "stream",
     "text": [
      "{'eval_loss': 0.001030528568662703, 'eval_runtime': 0.2341, 'eval_samples_per_second': 239.207, 'eval_steps_per_second': 29.901, 'epoch': 11.0}\n"
     ]
    },
    {
     "name": "stderr",
     "output_type": "stream",
     "text": [
      " 55%|█████▌    | 310/560 [01:55<01:35,  2.62it/s]"
     ]
    },
    {
     "name": "stdout",
     "output_type": "stream",
     "text": [
      "{'loss': 0.0015, 'grad_norm': 0.022426679730415344, 'learning_rate': 3.1e-05, 'epoch': 11.07}\n"
     ]
    },
    {
     "name": "stderr",
     "output_type": "stream",
     "text": [
      " 57%|█████▋    | 320/560 [01:58<01:21,  2.94it/s]"
     ]
    },
    {
     "name": "stdout",
     "output_type": "stream",
     "text": [
      "{'loss': 0.0014, 'grad_norm': 0.018430126830935478, 'learning_rate': 3.2000000000000005e-05, 'epoch': 11.43}\n"
     ]
    },
    {
     "name": "stderr",
     "output_type": "stream",
     "text": [
      " 59%|█████▉    | 330/560 [02:02<01:19,  2.89it/s]"
     ]
    },
    {
     "name": "stdout",
     "output_type": "stream",
     "text": [
      "{'loss': 0.0013, 'grad_norm': 0.018716854974627495, 'learning_rate': 3.3e-05, 'epoch': 11.79}\n"
     ]
    },
    {
     "name": "stderr",
     "output_type": "stream",
     "text": [
      "                                                 \n",
      " 60%|██████    | 336/560 [02:04<01:17,  2.88it/s]"
     ]
    },
    {
     "name": "stdout",
     "output_type": "stream",
     "text": [
      "{'eval_loss': 0.000830469187349081, 'eval_runtime': 0.2351, 'eval_samples_per_second': 238.233, 'eval_steps_per_second': 29.779, 'epoch': 12.0}\n"
     ]
    },
    {
     "name": "stderr",
     "output_type": "stream",
     "text": [
      " 61%|██████    | 340/560 [02:05<01:19,  2.77it/s]"
     ]
    },
    {
     "name": "stdout",
     "output_type": "stream",
     "text": [
      "{'loss': 0.0012, 'grad_norm': 0.01809643767774105, 'learning_rate': 3.4000000000000007e-05, 'epoch': 12.14}\n"
     ]
    },
    {
     "name": "stderr",
     "output_type": "stream",
     "text": [
      " 62%|██████▎   | 350/560 [02:09<01:14,  2.83it/s]"
     ]
    },
    {
     "name": "stdout",
     "output_type": "stream",
     "text": [
      "{'loss': 0.0011, 'grad_norm': 0.01694559119641781, 'learning_rate': 3.5e-05, 'epoch': 12.5}\n"
     ]
    },
    {
     "name": "stderr",
     "output_type": "stream",
     "text": [
      " 64%|██████▍   | 360/560 [02:12<01:08,  2.93it/s]"
     ]
    },
    {
     "name": "stdout",
     "output_type": "stream",
     "text": [
      "{'loss': 0.001, 'grad_norm': 0.01624789461493492, 'learning_rate': 3.6e-05, 'epoch': 12.86}\n"
     ]
    },
    {
     "name": "stderr",
     "output_type": "stream",
     "text": [
      "                                                 \n",
      " 65%|██████▌   | 364/560 [02:14<01:07,  2.91it/s]"
     ]
    },
    {
     "name": "stdout",
     "output_type": "stream",
     "text": [
      "{'eval_loss': 0.0006717332289554179, 'eval_runtime': 0.2337, 'eval_samples_per_second': 239.639, 'eval_steps_per_second': 29.955, 'epoch': 13.0}\n"
     ]
    },
    {
     "name": "stderr",
     "output_type": "stream",
     "text": [
      " 66%|██████▌   | 370/560 [02:16<01:12,  2.60it/s]"
     ]
    },
    {
     "name": "stdout",
     "output_type": "stream",
     "text": [
      "{'loss': 0.001, 'grad_norm': 0.015340691432356834, 'learning_rate': 3.7e-05, 'epoch': 13.21}\n"
     ]
    },
    {
     "name": "stderr",
     "output_type": "stream",
     "text": [
      " 68%|██████▊   | 380/560 [02:20<01:02,  2.88it/s]"
     ]
    },
    {
     "name": "stdout",
     "output_type": "stream",
     "text": [
      "{'loss': 0.0009, 'grad_norm': 0.015973079949617386, 'learning_rate': 3.8e-05, 'epoch': 13.57}\n"
     ]
    },
    {
     "name": "stderr",
     "output_type": "stream",
     "text": [
      " 70%|██████▉   | 390/560 [02:23<00:59,  2.86it/s]"
     ]
    },
    {
     "name": "stdout",
     "output_type": "stream",
     "text": [
      "{'loss': 0.0008, 'grad_norm': 0.014744115993380547, 'learning_rate': 3.9000000000000006e-05, 'epoch': 13.93}\n"
     ]
    },
    {
     "name": "stderr",
     "output_type": "stream",
     "text": [
      "                                                 \n",
      " 70%|███████   | 392/560 [02:24<00:58,  2.85it/s]"
     ]
    },
    {
     "name": "stdout",
     "output_type": "stream",
     "text": [
      "{'eval_loss': 0.0005641872994601727, 'eval_runtime': 0.2462, 'eval_samples_per_second': 227.425, 'eval_steps_per_second': 28.428, 'epoch': 14.0}\n"
     ]
    },
    {
     "name": "stderr",
     "output_type": "stream",
     "text": [
      " 71%|███████▏  | 400/560 [02:27<00:55,  2.88it/s]"
     ]
    },
    {
     "name": "stdout",
     "output_type": "stream",
     "text": [
      "{'loss': 0.0007, 'grad_norm': 0.012427273206412792, 'learning_rate': 4e-05, 'epoch': 14.29}\n"
     ]
    },
    {
     "name": "stderr",
     "output_type": "stream",
     "text": [
      " 73%|███████▎  | 410/560 [02:30<00:52,  2.88it/s]"
     ]
    },
    {
     "name": "stdout",
     "output_type": "stream",
     "text": [
      "{'loss': 0.0007, 'grad_norm': 0.012251763604581356, 'learning_rate': 4.1e-05, 'epoch': 14.64}\n"
     ]
    },
    {
     "name": "stderr",
     "output_type": "stream",
     "text": [
      " 75%|███████▌  | 420/560 [02:34<00:52,  2.68it/s]"
     ]
    },
    {
     "name": "stdout",
     "output_type": "stream",
     "text": [
      "{'loss': 0.0007, 'grad_norm': 0.011433233506977558, 'learning_rate': 4.2e-05, 'epoch': 15.0}\n"
     ]
    },
    {
     "name": "stderr",
     "output_type": "stream",
     "text": [
      "                                                 \n",
      " 75%|███████▌  | 420/560 [02:34<00:52,  2.68it/s]"
     ]
    },
    {
     "name": "stdout",
     "output_type": "stream",
     "text": [
      "{'eval_loss': 0.00047581485705450177, 'eval_runtime': 0.1944, 'eval_samples_per_second': 288.001, 'eval_steps_per_second': 36.0, 'epoch': 15.0}\n"
     ]
    },
    {
     "name": "stderr",
     "output_type": "stream",
     "text": [
      " 77%|███████▋  | 430/560 [02:38<00:47,  2.72it/s]"
     ]
    },
    {
     "name": "stdout",
     "output_type": "stream",
     "text": [
      "{'loss': 0.0006, 'grad_norm': 0.01304580271244049, 'learning_rate': 4.3e-05, 'epoch': 15.36}\n"
     ]
    },
    {
     "name": "stderr",
     "output_type": "stream",
     "text": [
      " 79%|███████▊  | 440/560 [02:41<00:41,  2.92it/s]"
     ]
    },
    {
     "name": "stdout",
     "output_type": "stream",
     "text": [
      "{'loss': 0.0006, 'grad_norm': 0.010044310241937637, 'learning_rate': 4.4000000000000006e-05, 'epoch': 15.71}\n"
     ]
    },
    {
     "name": "stderr",
     "output_type": "stream",
     "text": [
      "                                                 \n",
      " 80%|████████  | 448/560 [02:44<00:38,  2.92it/s]"
     ]
    },
    {
     "name": "stdout",
     "output_type": "stream",
     "text": [
      "{'eval_loss': 0.00040883762994781137, 'eval_runtime': 0.2394, 'eval_samples_per_second': 233.885, 'eval_steps_per_second': 29.236, 'epoch': 16.0}\n"
     ]
    },
    {
     "name": "stderr",
     "output_type": "stream",
     "text": [
      " 80%|████████  | 450/560 [02:45<00:42,  2.60it/s]"
     ]
    },
    {
     "name": "stdout",
     "output_type": "stream",
     "text": [
      "{'loss': 0.0006, 'grad_norm': 0.009326980449259281, 'learning_rate': 4.5e-05, 'epoch': 16.07}\n"
     ]
    },
    {
     "name": "stderr",
     "output_type": "stream",
     "text": [
      " 82%|████████▏ | 460/560 [02:48<00:34,  2.94it/s]"
     ]
    },
    {
     "name": "stdout",
     "output_type": "stream",
     "text": [
      "{'loss': 0.0005, 'grad_norm': 0.008053316734731197, 'learning_rate': 4.600000000000001e-05, 'epoch': 16.43}\n"
     ]
    },
    {
     "name": "stderr",
     "output_type": "stream",
     "text": [
      " 84%|████████▍ | 470/560 [02:52<00:30,  2.92it/s]"
     ]
    },
    {
     "name": "stdout",
     "output_type": "stream",
     "text": [
      "{'loss': 0.0005, 'grad_norm': 0.006712612695991993, 'learning_rate': 4.7e-05, 'epoch': 16.79}\n"
     ]
    },
    {
     "name": "stderr",
     "output_type": "stream",
     "text": [
      "                                                 \n",
      " 85%|████████▌ | 476/560 [02:54<00:28,  2.93it/s]"
     ]
    },
    {
     "name": "stdout",
     "output_type": "stream",
     "text": [
      "{'eval_loss': 0.000352670147549361, 'eval_runtime': 0.2343, 'eval_samples_per_second': 239.057, 'eval_steps_per_second': 29.882, 'epoch': 17.0}\n"
     ]
    },
    {
     "name": "stderr",
     "output_type": "stream",
     "text": [
      " 86%|████████▌ | 480/560 [02:55<00:29,  2.72it/s]"
     ]
    },
    {
     "name": "stdout",
     "output_type": "stream",
     "text": [
      "{'loss': 0.0005, 'grad_norm': 0.006743060890585184, 'learning_rate': 4.8e-05, 'epoch': 17.14}\n"
     ]
    },
    {
     "name": "stderr",
     "output_type": "stream",
     "text": [
      " 88%|████████▊ | 490/560 [02:59<00:25,  2.78it/s]"
     ]
    },
    {
     "name": "stdout",
     "output_type": "stream",
     "text": [
      "{'loss': 0.0005, 'grad_norm': 0.0074105034582316875, 'learning_rate': 4.9e-05, 'epoch': 17.5}\n"
     ]
    },
    {
     "name": "stderr",
     "output_type": "stream",
     "text": [
      " 89%|████████▉ | 500/560 [03:02<00:20,  2.94it/s]"
     ]
    },
    {
     "name": "stdout",
     "output_type": "stream",
     "text": [
      "{'loss': 0.0004, 'grad_norm': 0.007396855391561985, 'learning_rate': 5e-05, 'epoch': 17.86}\n"
     ]
    },
    {
     "name": "stderr",
     "output_type": "stream",
     "text": [
      "                                                 \n",
      " 90%|█████████ | 504/560 [03:06<00:32,  1.72it/s]"
     ]
    },
    {
     "name": "stdout",
     "output_type": "stream",
     "text": [
      "{'eval_loss': 0.0003066296339966357, 'eval_runtime': 0.2348, 'eval_samples_per_second': 238.458, 'eval_steps_per_second': 29.807, 'epoch': 18.0}\n"
     ]
    },
    {
     "name": "stderr",
     "output_type": "stream",
     "text": [
      " 91%|█████████ | 510/560 [03:08<00:19,  2.63it/s]"
     ]
    },
    {
     "name": "stdout",
     "output_type": "stream",
     "text": [
      "{'loss': 0.0004, 'grad_norm': 0.005840588826686144, 'learning_rate': 4.166666666666667e-05, 'epoch': 18.21}\n"
     ]
    },
    {
     "name": "stderr",
     "output_type": "stream",
     "text": [
      " 93%|█████████▎| 520/560 [03:12<00:13,  2.93it/s]"
     ]
    },
    {
     "name": "stdout",
     "output_type": "stream",
     "text": [
      "{'loss': 0.0004, 'grad_norm': 0.005507277324795723, 'learning_rate': 3.3333333333333335e-05, 'epoch': 18.57}\n"
     ]
    },
    {
     "name": "stderr",
     "output_type": "stream",
     "text": [
      " 95%|█████████▍| 530/560 [03:15<00:10,  2.94it/s]"
     ]
    },
    {
     "name": "stdout",
     "output_type": "stream",
     "text": [
      "{'loss': 0.0004, 'grad_norm': 0.006538122892379761, 'learning_rate': 2.5e-05, 'epoch': 18.93}\n"
     ]
    },
    {
     "name": "stderr",
     "output_type": "stream",
     "text": [
      "                                                 \n",
      " 95%|█████████▌| 532/560 [03:16<00:09,  2.96it/s]"
     ]
    },
    {
     "name": "stdout",
     "output_type": "stream",
     "text": [
      "{'eval_loss': 0.00028389989165589213, 'eval_runtime': 0.2317, 'eval_samples_per_second': 241.697, 'eval_steps_per_second': 30.212, 'epoch': 19.0}\n"
     ]
    },
    {
     "name": "stderr",
     "output_type": "stream",
     "text": [
      " 96%|█████████▋| 540/560 [03:19<00:06,  2.90it/s]"
     ]
    },
    {
     "name": "stdout",
     "output_type": "stream",
     "text": [
      "{'loss': 0.0004, 'grad_norm': 0.005846655927598476, 'learning_rate': 1.6666666666666667e-05, 'epoch': 19.29}\n"
     ]
    },
    {
     "name": "stderr",
     "output_type": "stream",
     "text": [
      " 98%|█████████▊| 550/560 [03:22<00:03,  2.94it/s]"
     ]
    },
    {
     "name": "stdout",
     "output_type": "stream",
     "text": [
      "{'loss': 0.0004, 'grad_norm': 0.005987950135022402, 'learning_rate': 8.333333333333334e-06, 'epoch': 19.64}\n"
     ]
    },
    {
     "name": "stderr",
     "output_type": "stream",
     "text": [
      "100%|██████████| 560/560 [03:26<00:00,  3.00it/s]"
     ]
    },
    {
     "name": "stdout",
     "output_type": "stream",
     "text": [
      "{'loss': 0.0004, 'grad_norm': 0.006705583073198795, 'learning_rate': 0.0, 'epoch': 20.0}\n"
     ]
    },
    {
     "name": "stderr",
     "output_type": "stream",
     "text": [
      "                                                 \n",
      "100%|██████████| 560/560 [03:28<00:00,  2.68it/s]\n"
     ]
    },
    {
     "name": "stdout",
     "output_type": "stream",
     "text": [
      "{'eval_loss': 0.0002748538681771606, 'eval_runtime': 0.202, 'eval_samples_per_second': 277.232, 'eval_steps_per_second': 34.654, 'epoch': 20.0}\n",
      "{'train_runtime': 208.6498, 'train_samples_per_second': 21.28, 'train_steps_per_second': 2.684, 'train_loss': 0.18458542536703004, 'epoch': 20.0}\n"
     ]
    },
    {
     "name": "stderr",
     "output_type": "stream",
     "text": [
      "100%|██████████| 7/7 [00:00<00:00, 27.03it/s]"
     ]
    },
    {
     "name": "stdout",
     "output_type": "stream",
     "text": [
      "Query: Recommend some good films like Harry Potter. --> Predicted Tag: recommendation\n",
      "Query: I just watched The Grand Budapest Hotel. What else would I enjoy? --> Predicted Tag: recommendation\n",
      "Query: If I enjoyed The Shape of Water, what else might I like? --> Predicted Tag: recommendation\n",
      "Query: What movies are good for fans of The Great Gatsby? --> Predicted Tag: recommendation\n",
      "Query: who produced Titanic --> Predicted Tag: qna\n",
      "Query: Can I see a picture of Johnny Depp? --> Predicted Tag: image\n",
      "Query: Display an image of the movie Ratatouille --> Predicted Tag: image\n",
      "Query: budget for The Dark Knight --> Predicted Tag: qna\n",
      "Query: who wrote the screenplay for The Dark Knight --> Predicted Tag: qna\n",
      "Query: rating of Inception --> Predicted Tag: qna\n",
      "Query: What are some movies like The Silence of the Lambs? --> Predicted Tag: recommendation\n",
      "Query: I loved Shutter Island and Gone Girl. What do you recommend? --> Predicted Tag: recommendation\n",
      "Query: Show me a poster of Coco --> Predicted Tag: image\n",
      "Query: Find a picture of the movie Tangled --> Predicted Tag: image\n",
      "Query: genre of Avatar --> Predicted Tag: qna\n",
      "Query: what was the budget of The Godfather --> Predicted Tag: qna\n",
      "Query: Find a picture of Heath Ledger as the Joker --> Predicted Tag: image\n",
      "Query: Can you suggest movies like The Perks of Being a Wallflower? --> Predicted Tag: recommendation\n",
      "Query: Find a poster of the movie Aladdin --> Predicted Tag: image\n",
      "Query: who was the director of Inception --> Predicted Tag: qna\n",
      "Query: What does Keanu Reeves look like? --> Predicted Tag: image\n",
      "Query: What does Daniel Radcliffe look like? --> Predicted Tag: image\n",
      "Query: I loved Enola Holmes. What other mystery films should I watch? --> Predicted Tag: recommendation\n",
      "Query: Display an image of the cast of Friends --> Predicted Tag: image\n",
      "Query: Can you give me a list of movies like Coco? --> Predicted Tag: recommendation\n",
      "Query: who acted in Interstellar --> Predicted Tag: qna\n",
      "Query: producer of Avatar --> Predicted Tag: qna\n",
      "Query: Recommend some movies if I enjoyed Titanic. --> Predicted Tag: recommendation\n",
      "Query: what was the budget of Titanic --> Predicted Tag: qna\n",
      "Query: Find me a photo of Jennifer Lawrence --> Predicted Tag: image\n",
      "Query: What are some great films similar to The Big Short? --> Predicted Tag: recommendation\n",
      "Query: Suggest films similar to The Revenant. --> Predicted Tag: recommendation\n",
      "Query: budget for Jurassic Park --> Predicted Tag: qna\n",
      "Query: screenwriter of Inception --> Predicted Tag: qna\n",
      "Query: what genre is The Dark Knight --> Predicted Tag: qna\n",
      "Query: Show me a poster of The Lion King --> Predicted Tag: image\n",
      "Query: when was Christopher Nolan born --> Predicted Tag: qna\n",
      "Query: what rating does The Matrix have --> Predicted Tag: qna\n",
      "Query: Show me a poster of Monsters, Inc. --> Predicted Tag: image\n",
      "Query: lead actor of Iron Man --> Predicted Tag: qna\n",
      "Query: where was Al Pacino born --> Predicted Tag: qna\n",
      "Query: birth date of Steven Spielberg --> Predicted Tag: qna\n",
      "Query: What does Robert Downey Jr. look like? --> Predicted Tag: image\n",
      "Query: Display a poster of the movie Interstellar --> Predicted Tag: image\n",
      "Query: Can you recommend some good movies like Gladiator? --> Predicted Tag: recommendation\n",
      "Query: I enjoyed Inside Out and Soul. What else is similar? --> Predicted Tag: recommendation\n",
      "Query: Find me a photo of Hugh Jackman --> Predicted Tag: image\n",
      "Query: I recently watched Joker, what else might I enjoy? --> Predicted Tag: recommendation\n",
      "Query: how much did Avengers Endgame earn --> Predicted Tag: qna\n",
      "Query: who is the director of Jurassic Park --> Predicted Tag: qna\n",
      "Query: where was Keanu Reeves born --> Predicted Tag: qna\n",
      "Query: Can you find an image of Christian Bale? --> Predicted Tag: image\n",
      "Query: What should I watch if I loved The Greatest Showman? --> Predicted Tag: recommendation\n",
      "Query: who was the producer of Star Wars --> Predicted Tag: qna\n",
      "Query: what genre is Star Wars --> Predicted Tag: qna\n",
      "Query: What does Nicole Kidman look like? --> Predicted Tag: image\n"
     ]
    },
    {
     "name": "stderr",
     "output_type": "stream",
     "text": [
      "\n"
     ]
    }
   ],
   "source": [
    "# Load pre-trained tokenizer\n",
    "tokenizer = BertTokenizer.from_pretrained('bert-base-uncased')\n",
    "\n",
    "# Tokenize the input data\n",
    "train_encodings = tokenizer(train_queries, truncation=True, padding=True, max_length=64)\n",
    "test_encodings = tokenizer(test_queries, truncation=True, padding=True, max_length=64)\n",
    "\n",
    "# Convert to PyTorch dataset format\n",
    "class QTypeDataset(torch.utils.data.Dataset):\n",
    "    def __init__(self, encodings, labels):\n",
    "        self.encodings = encodings\n",
    "        self.labels = labels\n",
    "\n",
    "    def __len__(self):\n",
    "        return len(self.labels)\n",
    "\n",
    "    def __getitem__(self, idx):\n",
    "        item = {key: torch.tensor(val[idx]) for key, val in self.encodings.items()}\n",
    "        item['labels'] = torch.tensor(self.labels[idx])\n",
    "        return item\n",
    "    \n",
    "train_dataset = QTypeDataset(train_encodings, train_labels)\n",
    "test_dataset = QTypeDataset(test_encodings, test_labels)\n",
    "\n",
    "# Load pre-trained BERT model for sequence classification\n",
    "model = BertForSequenceClassification.from_pretrained('bert-base-uncased', num_labels=len(label_list))\n",
    "\n",
    "# Define training arguments\n",
    "training_args = TrainingArguments(\n",
    "    output_dir='./results',\n",
    "    num_train_epochs=20,\n",
    "    per_device_train_batch_size=8,\n",
    "    per_device_eval_batch_size=8,\n",
    "    warmup_steps=500,\n",
    "    weight_decay=0.01,\n",
    "    logging_dir='./logs',\n",
    "    logging_steps=10,\n",
    "    evaluation_strategy=\"epoch\",\n",
    ")\n",
    "\n",
    "# Use the Trainer API to train the model\n",
    "trainer = Trainer(\n",
    "    model=model,\n",
    "    args=training_args,\n",
    "    train_dataset=train_dataset,\n",
    "    eval_dataset=test_dataset,\n",
    ")\n",
    "\n",
    "# Train the model\n",
    "trainer.train()\n",
    "\n",
    "# Test the model\n",
    "predictions = trainer.predict(test_dataset)\n",
    "predicted_labels = torch.argmax(torch.tensor(predictions.predictions), axis=1)\n",
    "\n",
    "# Map predicted labels back to tags\n",
    "predicted_tags = [id2tag[label.item()] for label in predicted_labels]\n",
    "\n",
    "# Print the results\n",
    "for query, pred_tag in zip(test_queries, predicted_tags):\n",
    "    print(f\"Query: {query} --> Predicted Tag: {pred_tag}\")"
   ]
  },
  {
   "cell_type": "code",
   "execution_count": 7,
   "metadata": {},
   "outputs": [],
   "source": [
    "# Save the model\n",
    "model.save_pretrained(\"data/final_classification_model\")"
   ]
  },
  {
   "cell_type": "code",
   "execution_count": 12,
   "metadata": {},
   "outputs": [
    {
     "data": {
      "text/plain": [
       "'image'"
      ]
     },
     "execution_count": 12,
     "metadata": {},
     "output_type": "execute_result"
    }
   ],
   "source": [
    "# load the model\n",
    "model = BertForSequenceClassification.from_pretrained(\"data/final_classification_model\")\n",
    "tokenizer = BertTokenizer.from_pretrained(\"bert-base-uncased\")\n",
    "\n",
    "# Test the model\n",
    "query = \"What does Joe Rogan look like?\"\n",
    "inputs = tokenizer(query, return_tensors=\"pt\")\n",
    "outputs = model(**inputs)\n",
    "predicted_label = torch.argmax(outputs.logits[0]).item()\n",
    "predicted_tag = id2tag[predicted_label]\n",
    "predicted_tag"
   ]
  },
  {
   "cell_type": "code",
   "execution_count": 13,
   "metadata": {},
   "outputs": [
    {
     "data": {
      "text/plain": [
       "{0: 'qna', 1: 'recommendation', 2: 'image'}"
      ]
     },
     "execution_count": 13,
     "metadata": {},
     "output_type": "execute_result"
    }
   ],
   "source": [
    "id2tag"
   ]
  },
  {
   "cell_type": "code",
   "execution_count": null,
   "metadata": {},
   "outputs": [],
   "source": []
  },
  {
   "cell_type": "code",
   "execution_count": null,
   "metadata": {},
   "outputs": [],
   "source": []
  }
 ],
 "metadata": {
  "kernelspec": {
   "display_name": "atai",
   "language": "python",
   "name": "python3"
  },
  "language_info": {
   "codemirror_mode": {
    "name": "ipython",
    "version": 3
   },
   "file_extension": ".py",
   "mimetype": "text/x-python",
   "name": "python",
   "nbconvert_exporter": "python",
   "pygments_lexer": "ipython3",
   "version": "3.10.14"
  }
 },
 "nbformat": 4,
 "nbformat_minor": 2
}
