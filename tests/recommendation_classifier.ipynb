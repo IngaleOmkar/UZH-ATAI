{
 "cells": [
  {
   "cell_type": "code",
   "execution_count": 1,
   "metadata": {},
   "outputs": [
    {
     "name": "stderr",
     "output_type": "stream",
     "text": [
      "/opt/miniconda3/envs/atai/lib/python3.10/site-packages/tqdm/auto.py:21: TqdmWarning: IProgress not found. Please update jupyter and ipywidgets. See https://ipywidgets.readthedocs.io/en/stable/user_install.html\n",
      "  from .autonotebook import tqdm as notebook_tqdm\n"
     ]
    }
   ],
   "source": [
    "import torch\n",
    "from transformers import BertTokenizer, BertForSequenceClassification, Trainer, TrainingArguments\n",
    "from sklearn.model_selection import train_test_split\n",
    "from datasets import Dataset"
   ]
  },
  {
   "cell_type": "code",
   "execution_count": 2,
   "metadata": {},
   "outputs": [],
   "source": [
    "training_data = [\n",
    "    {\"query\": \"what was the earning of the movie Titanic\", \"tag\": \"qna\"},\n",
    "    {\"query\": \"how much did Avatar make\", \"tag\": \"qna\"},\n",
    "    {\"query\": \"box office collection of Jurassic Park\", \"tag\": \"qna\"},\n",
    "    {\"query\": \"total revenue of Inception\", \"tag\": \"qna\"},\n",
    "    {\"query\": \"what was the gross of Frozen\", \"tag\": \"qna\"},\n",
    "    {\"query\": \"how much did Avengers Endgame earn\", \"tag\": \"qna\"},\n",
    "    {\"query\": \"earnings of The Dark Knight\", \"tag\": \"qna\"},\n",
    "    {\"query\": \"how much money did Titanic gross\", \"tag\": \"qna\"},\n",
    "    {\"query\": \"how much revenue did Star Wars make\", \"tag\": \"qna\"},\n",
    "    {\"query\": \"revenue of Iron Man\", \"tag\": \"qna\"},\n",
    "    {\"query\": \"who directed Titanic\", \"tag\": \"qna\"},\n",
    "    {\"query\": \"who was the director of Inception\", \"tag\": \"qna\"},\n",
    "    {\"query\": \"who directed the movie Avatar\", \"tag\": \"qna\"},\n",
    "    {\"query\": \"who directed Star Wars\", \"tag\": \"qna\"},\n",
    "    {\"query\": \"who was the director of The Godfather\", \"tag\": \"qna\"},\n",
    "    {\"query\": \"director of The Dark Knight\", \"tag\": \"qna\"},\n",
    "    {\"query\": \"who directed Forrest Gump\", \"tag\": \"qna\"},\n",
    "    {\"query\": \"who is the director of Jurassic Park\", \"tag\": \"qna\"},\n",
    "    {\"query\": \"who directed Schindler's List\", \"tag\": \"qna\"},\n",
    "    {\"query\": \"director of The Matrix\", \"tag\": \"qna\"},\n",
    "    {\"query\": \"who played the lead role in Titanic\", \"tag\": \"qna\"},\n",
    "    {\"query\": \"who acted in The Dark Knight\", \"tag\": \"qna\"},\n",
    "    {\"query\": \"lead actor in Inception\", \"tag\": \"qna\"},\n",
    "    {\"query\": \"who starred in Avatar\", \"tag\": \"qna\"},\n",
    "    {\"query\": \"who was the main actor in The Godfather\", \"tag\": \"qna\"},\n",
    "    {\"query\": \"lead actor of Iron Man\", \"tag\": \"qna\"},\n",
    "    {\"query\": \"who played in The Matrix\", \"tag\": \"qna\"},\n",
    "    {\"query\": \"who was the actor in Star Wars\", \"tag\": \"qna\"},\n",
    "    {\"query\": \"who acted in Interstellar\", \"tag\": \"qna\"},\n",
    "    {\"query\": \"who starred in Pulp Fiction\", \"tag\": \"qna\"},\n",
    "    {\"query\": \"when was Titanic released\", \"tag\": \"qna\"},\n",
    "    {\"query\": \"release date of Avatar\", \"tag\": \"qna\"},\n",
    "    {\"query\": \"when was Inception released\", \"tag\": \"qna\"},\n",
    "    {\"query\": \"release year of Star Wars\", \"tag\": \"qna\"},\n",
    "    {\"query\": \"when did The Dark Knight come out\", \"tag\": \"qna\"},\n",
    "    {\"query\": \"when was Schindler's List released\", \"tag\": \"qna\"},\n",
    "    {\"query\": \"release date of The Matrix\", \"tag\": \"qna\"},\n",
    "    {\"query\": \"release year of The Godfather\", \"tag\": \"qna\"},\n",
    "    {\"query\": \"when did Forrest Gump release\", \"tag\": \"qna\"},\n",
    "    {\"query\": \"when was Jurassic Park released\", \"tag\": \"qna\"},\n",
    "    {\"query\": \"what genre is Titanic\", \"tag\": \"qna\"},\n",
    "    {\"query\": \"genre of Inception\", \"tag\": \"qna\"},\n",
    "    {\"query\": \"what type of movie is The Godfather\", \"tag\": \"qna\"},\n",
    "    {\"query\": \"what genre is Star Wars\", \"tag\": \"qna\"},\n",
    "    {\"query\": \"what genre is The Dark Knight\", \"tag\": \"qna\"},\n",
    "    {\"query\": \"genre of Avatar\", \"tag\": \"qna\"},\n",
    "    {\"query\": \"what type of movie is Jurassic Park\", \"tag\": \"qna\"},\n",
    "    {\"query\": \"what genre is The Matrix\", \"tag\": \"qna\"},\n",
    "    {\"query\": \"what type of movie is Schindler's List\", \"tag\": \"qna\"},\n",
    "    {\"query\": \"genre of Pulp Fiction\", \"tag\": \"qna\"},\n",
    "    {\"query\": \"what is the rating of Titanic\", \"tag\": \"qna\"},\n",
    "    {\"query\": \"rating of Inception\", \"tag\": \"qna\"},\n",
    "    {\"query\": \"how was Star Wars rated\", \"tag\": \"qna\"},\n",
    "    {\"query\": \"rating of The Dark Knight\", \"tag\": \"qna\"},\n",
    "    {\"query\": \"what rating does The Matrix have\", \"tag\": \"qna\"},\n",
    "    {\"query\": \"rating of Avatar\", \"tag\": \"qna\"},\n",
    "    {\"query\": \"what rating does The Godfather have\", \"tag\": \"qna\"},\n",
    "    {\"query\": \"rating of Forrest Gump\", \"tag\": \"qna\"},\n",
    "    {\"query\": \"how was Pulp Fiction rated\", \"tag\": \"qna\"},\n",
    "    {\"query\": \"what is the rating of Schindler's List\", \"tag\": \"qna\"},\n",
    "    {\"query\": \"what was the budget of Titanic\", \"tag\": \"qna\"},\n",
    "    {\"query\": \"budget of Inception\", \"tag\": \"qna\"},\n",
    "    {\"query\": \"how much was spent on Avatar\", \"tag\": \"qna\"},\n",
    "    {\"query\": \"budget for The Dark Knight\", \"tag\": \"qna\"},\n",
    "    {\"query\": \"how much did Star Wars cost\", \"tag\": \"qna\"},\n",
    "    {\"query\": \"what was the budget of The Godfather\", \"tag\": \"qna\"},\n",
    "    {\"query\": \"how much did The Matrix cost\", \"tag\": \"qna\"},\n",
    "    {\"query\": \"budget for Jurassic Park\", \"tag\": \"qna\"},\n",
    "    {\"query\": \"how much did Pulp Fiction cost\", \"tag\": \"qna\"},\n",
    "    {\"query\": \"budget of Forrest Gump\", \"tag\": \"qna\"},\n",
    "    {\"query\": \"who produced Titanic\", \"tag\": \"qna\"},\n",
    "    {\"query\": \"who was the producer of Inception\", \"tag\": \"qna\"},\n",
    "    {\"query\": \"producer of Avatar\", \"tag\": \"qna\"},\n",
    "    {\"query\": \"who produced The Dark Knight\", \"tag\": \"qna\"},\n",
    "    {\"query\": \"who was the producer of Star Wars\", \"tag\": \"qna\"},\n",
    "    {\"query\": \"who produced The Matrix\", \"tag\": \"qna\"},\n",
    "    {\"query\": \"producer of The Godfather\", \"tag\": \"qna\"},\n",
    "    {\"query\": \"who produced Jurassic Park\", \"tag\": \"qna\"},\n",
    "    {\"query\": \"producer of Schindler's List\", \"tag\": \"qna\"},\n",
    "    {\"query\": \"who produced Pulp Fiction\", \"tag\": \"qna\"},\n",
    "    {\"query\": \"who wrote the screenplay for Titanic\", \"tag\": \"qna\"},\n",
    "    {\"query\": \"screenwriter of Inception\", \"tag\": \"qna\"},\n",
    "    {\"query\": \"who wrote the screenplay for The Dark Knight\", \"tag\": \"qna\"},\n",
    "    {\"query\": \"who wrote Star Wars\", \"tag\": \"qna\"},\n",
    "    {\"query\": \"who was the screenwriter of Avatar\", \"tag\": \"qna\"},\n",
    "    {\"query\": \"screenwriter of The Matrix\", \"tag\": \"qna\"},\n",
    "    {\"query\": \"who wrote The Godfather screenplay\", \"tag\": \"qna\"},\n",
    "    {\"query\": \"who wrote the script for Pulp Fiction\", \"tag\": \"qna\"},\n",
    "    {\"query\": \"who was the screenwriter of Schindler's List\", \"tag\": \"qna\"},\n",
    "    {\"query\": \"who wrote the screenplay for Jurassic Park\", \"tag\": \"qna\"},\n",
    "    {\"query\": \"when was Leonardo DiCaprio born\", \"tag\": \"qna\"},\n",
    "    {\"query\": \"birth date of James Cameron\", \"tag\": \"qna\"},\n",
    "    {\"query\": \"when was Robert Downey Jr born\", \"tag\": \"qna\"},\n",
    "    {\"query\": \"birth date of Steven Spielberg\", \"tag\": \"qna\"},\n",
    "    {\"query\": \"when was Christopher Nolan born\", \"tag\": \"qna\"},\n",
    "    {\"query\": \"when was Al Pacino born\", \"tag\": \"qna\"},\n",
    "    {\"query\": \"birth date of Keanu Reeves\", \"tag\": \"qna\"},\n",
    "    {\"query\": \"when was Quentin Tarantino born\", \"tag\": \"qna\"},\n",
    "    {\"query\": \"birth date of Harrison Ford\", \"tag\": \"qna\"},\n",
    "    {\"query\": \"when was Samuel L. Jackson born\", \"tag\": \"qna\"},\n",
    "    {\"query\": \"where was Leonardo DiCaprio born\", \"tag\": \"qna\"},\n",
    "    {\"query\": \"birthplace of James Cameron\", \"tag\": \"qna\"},\n",
    "    {\"query\": \"where was Robert Downey Jr born\", \"tag\": \"qna\"},\n",
    "    {\"query\": \"where was Steven Spielberg born\", \"tag\": \"qna\"},\n",
    "    {\"query\": \"birthplace of Christopher Nolan\", \"tag\": \"qna\"},\n",
    "    {\"query\": \"where was Al Pacino born\", \"tag\": \"qna\"},\n",
    "    {\"query\": \"where was Keanu Reeves born\", \"tag\": \"qna\"},\n",
    "    {\"query\": \"birthplace of Quentin Tarantino\", \"tag\": \"qna\"},\n",
    "    {\"query\": \"where was Harrison Ford born\", \"tag\": \"qna\"},\n",
    "    {\"query\": \"where was Samuel L. Jackson born\", \"tag\": \"qna\"},\n",
    "    {\"query\":\"Can you suggest movies like The Dark Knight?\", \"tag\":\"recommendation\"},\n",
    "    {\"query\":\"I loved Inception and Interstellar. What else should I watch?\", \"tag\":\"recommendation\"},\n",
    "    {\"query\":\"Give me movie recommendations similar to Toy Story and Finding Nemo.\", \"tag\":\"recommendation\"},\n",
    "    {\"query\":\"Recommend some movies if I enjoyed Titanic.\", \"tag\":\"recommendation\"},\n",
    "    {\"query\":\"I recently watched Joker, what else might I enjoy?\", \"tag\":\"recommendation\"},\n",
    "    {\"query\":\"What are some movies like Avatar and The Matrix?\", \"tag\":\"recommendation\"},\n",
    "    {\"query\":\"Suggest films that are similar to Parasite.\", \"tag\":\"recommendation\"},\n",
    "    {\"query\":\"I loved Shutter Island and Gone Girl. What do you recommend?\", \"tag\":\"recommendation\"},\n",
    "    {\"query\":\"If I liked Star Wars and Guardians of the Galaxy, what other movies should I watch?\", \"tag\":\"recommendation\"},\n",
    "    {\"query\":\"What are some great movies for fans of The Lord of the Rings?\", \"tag\":\"recommendation\"},\n",
    "    {\"query\":\"Can you recommend movies like The Godfather?\", \"tag\":\"recommendation\"},\n",
    "    {\"query\":\"I enjoyed Black Panther. Can you suggest some similar films?\", \"tag\":\"recommendation\"},\n",
    "    {\"query\":\"What movies should I watch if I liked Forrest Gump?\", \"tag\":\"recommendation\"},\n",
    "    {\"query\":\"Are there any films similar to Pulp Fiction and Kill Bill?\", \"tag\":\"recommendation\"},\n",
    "    {\"query\":\"Recommend some good films like Harry Potter.\", \"tag\":\"recommendation\"},\n",
    "    {\"query\":\"I just watched The Grand Budapest Hotel. What else would I enjoy?\", \"tag\":\"recommendation\"},\n",
    "    {\"query\":\"Suggest movies that are similar to La La Land and Whiplash.\", \"tag\":\"recommendation\"},\n",
    "    {\"query\":\"What films are similar to Avengers: Endgame?\", \"tag\":\"recommendation\"},\n",
    "    {\"query\":\"I enjoyed The Hunger Games and Divergent. What should I watch next?\", \"tag\":\"recommendation\"},\n",
    "    {\"query\":\"Can you give me a list of movies like Coco?\", \"tag\":\"recommendation\"},\n",
    "    {\"query\":\"If I liked The Lion King, what other films might I enjoy?\", \"tag\":\"recommendation\"},\n",
    "    {\"query\":\"What are some movies like The Silence of the Lambs?\", \"tag\":\"recommendation\"},\n",
    "    {\"query\":\"Can you suggest films for fans of Frozen?\", \"tag\":\"recommendation\"},\n",
    "    {\"query\":\"I loved The Social Network. Can you recommend similar movies?\", \"tag\":\"recommendation\"},\n",
    "    {\"query\":\"What films should I check out if I liked The Shawshank Redemption?\", \"tag\":\"recommendation\"},\n",
    "    {\"query\":\"Recommend some movies similar to Mad Max: Fury Road.\", \"tag\":\"recommendation\"},\n",
    "    {\"query\":\"What should I watch if I loved 1917 and Dunkirk?\", \"tag\":\"recommendation\"},\n",
    "    {\"query\":\"Can you recommend movies like Knives Out?\", \"tag\":\"recommendation\"},\n",
    "    {\"query\":\"I’m looking for movies like Spirited Away and My Neighbor Totoro. Any ideas?\", \"tag\":\"recommendation\"},\n",
    "    {\"query\":\"What are some great films similar to The Big Short?\", \"tag\":\"recommendation\"},\n",
    "    {\"query\":\"I enjoyed Deadpool. Can you suggest similar movies?\", \"tag\":\"recommendation\"},\n",
    "    {\"query\":\"Can you recommend movies like The Wolf of Wall Street?\", \"tag\":\"recommendation\"},\n",
    "    {\"query\":\"What movies are good if I liked Fight Club?\", \"tag\":\"recommendation\"},\n",
    "    {\"query\":\"I liked A Quiet Place and Bird Box. Any recommendations?\", \"tag\":\"recommendation\"},\n",
    "    {\"query\":\"Suggest films similar to The Revenant.\", \"tag\":\"recommendation\"},\n",
    "    {\"query\":\"What should I watch if I enjoyed Moonlight?\", \"tag\":\"recommendation\"},\n",
    "    {\"query\":\"Can you suggest movies like The Perks of Being a Wallflower?\", \"tag\":\"recommendation\"},\n",
    "    {\"query\":\"What are some movies like Up and Wall-E?\", \"tag\":\"recommendation\"},\n",
    "    {\"query\":\"I loved Good Will Hunting. Any similar recommendations?\", \"tag\":\"recommendation\"},\n",
    "    {\"query\":\"If I enjoyed The Shape of Water, what else might I like?\", \"tag\":\"recommendation\"},\n",
    "    {\"query\":\"What films are similar to The Irishman?\", \"tag\":\"recommendation\"},\n",
    "    {\"query\":\"Can you recommend some good movies like Gladiator?\", \"tag\":\"recommendation\"},\n",
    "    {\"query\":\"I loved The Notebook. What other romantic films should I watch?\", \"tag\":\"recommendation\"},\n",
    "    {\"query\":\"What are some great animated films like How to Train Your Dragon?\", \"tag\":\"recommendation\"},\n",
    "    {\"query\":\"Suggest movies similar to The Sixth Sense.\", \"tag\":\"recommendation\"},\n",
    "    {\"query\":\"I enjoyed Jumanji and Zathura. Any recommendations?\", \"tag\":\"recommendation\"},\n",
    "    {\"query\":\"What should I watch if I loved The Greatest Showman?\", \"tag\":\"recommendation\"},\n",
    "    {\"query\":\"Can you recommend movies like The Departed and Heat?\", \"tag\":\"recommendation\"},\n",
    "    {\"query\":\"What films are similar to Pride and Prejudice?\", \"tag\":\"recommendation\"},\n",
    "    {\"query\":\"I liked Crazy Rich Asians. Any similar films?\", \"tag\":\"recommendation\"},\n",
    "    {\"query\":\"Suggest movies similar to The Fault in Our Stars.\", \"tag\":\"recommendation\"},\n",
    "    {\"query\":\"What are some great spy films like Skyfall and Mission Impossible?\", \"tag\":\"recommendation\"},\n",
    "    {\"query\":\"If I enjoyed Monsters, Inc. and Despicable Me, what else might I enjoy?\", \"tag\":\"recommendation\"},\n",
    "    {\"query\":\"Can you recommend movies like The Bourne Identity?\", \"tag\":\"recommendation\"},\n",
    "    {\"query\":\"I enjoyed Inside Out and Soul. What else is similar?\", \"tag\":\"recommendation\"},\n",
    "    {\"query\":\"What are some films like The Girl with the Dragon Tattoo?\", \"tag\":\"recommendation\"},\n",
    "    {\"query\":\"Can you suggest movies for fans of Rocky and Creed?\", \"tag\":\"recommendation\"},\n",
    "    {\"query\":\"I loved The Blind Side. Any recommendations?\", \"tag\":\"recommendation\"},\n",
    "    {\"query\":\"What should I watch if I liked The Imitation Game?\", \"tag\":\"recommendation\"},\n",
    "    {\"query\":\"Recommend some good musicals like Mamma Mia!\", \"tag\":\"recommendation\"},\n",
    "    {\"query\":\"I enjoyed The Lego Movie. What similar movies are out there?\", \"tag\":\"recommendation\"},\n",
    "    {\"query\":\"What movies are great if I liked 10 Things I Hate About You?\", \"tag\":\"recommendation\"},\n",
    "    {\"query\":\"I loved Enola Holmes. What other mystery films should I watch?\", \"tag\":\"recommendation\"},\n",
    "    {\"query\":\"Can you recommend movies like The Conjuring and Annabelle?\", \"tag\":\"recommendation\"},\n",
    "    {\"query\":\"What films are similar to The Pianist?\", \"tag\":\"recommendation\"},\n",
    "    {\"query\":\"I liked Coco and Ratatouille. What else might I enjoy?\", \"tag\":\"recommendation\"},\n",
    "    {\"query\":\"Suggest films similar to Slumdog Millionaire.\", \"tag\":\"recommendation\"},\n",
    "    {\"query\":\"I loved The Secret Life of Walter Mitty. What else would you recommend?\", \"tag\":\"recommendation\"},\n",
    "    {\"query\":\"What movies are good for fans of The Great Gatsby?\", \"tag\":\"recommendation\"},\n",
    "    {\"query\":\"If I enjoyed Catch Me If You Can, what should I watch next?\", \"tag\":\"recommendation\"},\n",
    "    {\"query\":\"Recommend some movies like The Twilight Saga.\", \"tag\":\"recommendation\"},\n",
    "    {\"query\":\"I liked Coraline. What other dark animated films should I watch?\", \"tag\":\"recommendation\"},\n",
    "    {\"query\":\"What are some films similar to The Good, the Bad and the Ugly?\", \"tag\":\"recommendation\"},\n",
    "    {\"query\":\"Can you recommend movies like Casablanca?\", \"tag\":\"recommendation\"},\n",
    "    {\"query\":\"What should I watch if I enjoyed The Truman Show?\", \"tag\":\"recommendation\"},\n",
    "    {\"query\":\"I loved A Star is Born. Any similar suggestions?\", \"tag\":\"recommendation\"},\n",
    "    {\"query\":\"What are some films similar to Little Women?\", \"tag\":\"recommendation\"},\n",
    "    {\"query\":\"Can you recommend movies like Train to Busan?\", \"tag\":\"recommendation\"},\n",
    "    {\"query\":\"I enjoyed Hidden Figures. What else might I like?\", \"tag\":\"recommendation\"},\n",
    "    {\"query\":\"What films are similar to 500 Days of Summer?\", \"tag\":\"recommendation\"},\n",
    "    {\"query\": \"Show me a picture of Halle Berry\", \"tag\": \"image\"},\n",
    "    {\"query\": \"What does Denzel Washington look like\", \"tag\": \"image\"},\n",
    "    {\"query\": \"What does Sandra Bullock look like\", \"tag\": \"image\"},\n",
    "    {\"query\": \"Show me a poster of Moana\", \"tag\": \"image\"},\n",
    "    {\"query\": \"How did Iron Man look?\", \"tag\": \"image\"},\n",
    "    {\"query\": \"Give me a glimpse of Harry Potter\", \"tag\": \"image\"},\n",
    "    {\"query\": \"Can I see a photo of Tom Hanks?\", \"tag\": \"image\"},\n",
    "    {\"query\": \"Show me Scarlett Johansson's portrait\", \"tag\": \"image\"},\n",
    "    {\"query\": \"Find a poster of The Godfather\", \"tag\": \"image\"},\n",
    "    {\"query\": \"Display an image of Leonardo DiCaprio\", \"tag\": \"image\"},\n",
    "    {\"query\": \"What does Gal Gadot look like?\", \"tag\": \"image\"},\n",
    "    {\"query\": \"Show me the Avengers Endgame poster\", \"tag\": \"image\"},\n",
    "    {\"query\": \"Find a picture of Meryl Streep\", \"tag\": \"image\"},\n",
    "    {\"query\": \"What does the Joker look like in the 2019 movie?\", \"tag\": \"image\"},\n",
    "    {\"query\": \"Show me a still of Black Panther\", \"tag\": \"image\"},\n",
    "    {\"query\": \"Can you display a picture of Chris Hemsworth?\", \"tag\": \"image\"},\n",
    "    {\"query\": \"What does Ryan Gosling look like?\", \"tag\": \"image\"},\n",
    "    {\"query\": \"Find me a photo of Jennifer Lawrence\", \"tag\": \"image\"},\n",
    "    {\"query\": \"Show me the Frozen movie poster\", \"tag\": \"image\"},\n",
    "    {\"query\": \"Display an image of the Minions\", \"tag\": \"image\"},\n",
    "    {\"query\": \"What does Keanu Reeves look like?\", \"tag\": \"image\"},\n",
    "    {\"query\": \"Find a picture of the movie Titanic\", \"tag\": \"image\"},\n",
    "    {\"query\": \"Show me what Emma Watson looks like\", \"tag\": \"image\"},\n",
    "    {\"query\": \"What does Daniel Radcliffe look like?\", \"tag\": \"image\"},\n",
    "    {\"query\": \"Display a poster of Star Wars\", \"tag\": \"image\"},\n",
    "    {\"query\": \"Can you find an image of Christian Bale?\", \"tag\": \"image\"},\n",
    "    {\"query\": \"What does Zoe Saldana look like?\", \"tag\": \"image\"},\n",
    "    {\"query\": \"Show me a still from Pirates of the Caribbean\", \"tag\": \"image\"},\n",
    "    {\"query\": \"Find a poster of the movie Inception\", \"tag\": \"image\"},\n",
    "    {\"query\": \"What does Robert Downey Jr. look like?\", \"tag\": \"image\"},\n",
    "    {\"query\": \"Can you display a photo of Anne Hathaway?\", \"tag\": \"image\"},\n",
    "    {\"query\": \"Show me the Toy Story movie poster\", \"tag\": \"image\"},\n",
    "    {\"query\": \"Find a picture of Vin Diesel\", \"tag\": \"image\"},\n",
    "    {\"query\": \"Display a poster of the movie Interstellar\", \"tag\": \"image\"},\n",
    "    {\"query\": \"What does Cate Blanchett look like?\", \"tag\": \"image\"},\n",
    "    {\"query\": \"Can you show me a picture of the Hulk?\", \"tag\": \"image\"},\n",
    "    {\"query\": \"Find me a photo of Hugh Jackman\", \"tag\": \"image\"},\n",
    "    {\"query\": \"Show me a poster of Shrek\", \"tag\": \"image\"},\n",
    "    {\"query\": \"What does Margot Robbie look like?\", \"tag\": \"image\"},\n",
    "    {\"query\": \"Display an image of the Fast and Furious movie\", \"tag\": \"image\"},\n",
    "    {\"query\": \"Can I see a picture of Johnny Depp?\", \"tag\": \"image\"},\n",
    "    {\"query\": \"Find a poster of the movie Aladdin\", \"tag\": \"image\"},\n",
    "    {\"query\": \"What does Charlize Theron look like?\", \"tag\": \"image\"},\n",
    "    {\"query\": \"Show me a still of Wonder Woman\", \"tag\": \"image\"},\n",
    "    {\"query\": \"Can you display a photo of Mark Ruffalo?\", \"tag\": \"image\"},\n",
    "    {\"query\": \"Find me a picture of Angelina Jolie\", \"tag\": \"image\"},\n",
    "    {\"query\": \"Display a poster of Finding Nemo\", \"tag\": \"image\"},\n",
    "    {\"query\": \"What does Matt Damon look like?\", \"tag\": \"image\"},\n",
    "    {\"query\": \"Show me a poster of Guardians of the Galaxy\", \"tag\": \"image\"},\n",
    "    {\"query\": \"Find a picture of Will Smith\", \"tag\": \"image\"},\n",
    "    {\"query\": \"Display an image of the character Darth Vader\", \"tag\": \"image\"},\n",
    "    {\"query\": \"Can you show me a picture of Mila Kunis?\", \"tag\": \"image\"},\n",
    "    {\"query\": \"What does Morgan Freeman look like?\", \"tag\": \"image\"},\n",
    "    {\"query\": \"Find a poster of Frozen 2\", \"tag\": \"image\"},\n",
    "    {\"query\": \"Show me what Chris Pratt looks like\", \"tag\": \"image\"},\n",
    "    {\"query\": \"Can I see a picture of Benedict Cumberbatch?\", \"tag\": \"image\"},\n",
    "    {\"query\": \"What does Nicole Kidman look like?\", \"tag\": \"image\"},\n",
    "    {\"query\": \"Show me the Batman movie poster\", \"tag\": \"image\"},\n",
    "    {\"query\": \"Find a still of Captain America\", \"tag\": \"image\"},\n",
    "    {\"query\": \"Display an image of Julia Roberts\", \"tag\": \"image\"},\n",
    "    {\"query\": \"What does Idris Elba look like?\", \"tag\": \"image\"},\n",
    "    {\"query\": \"Show me a poster of The Lion King\", \"tag\": \"image\"},\n",
    "    {\"query\": \"Can you display a photo of Tom Cruise?\", \"tag\": \"image\"},\n",
    "    {\"query\": \"Find me a picture of Natalie Portman\", \"tag\": \"image\"},\n",
    "    {\"query\": \"What does Joaquin Phoenix look like?\", \"tag\": \"image\"},\n",
    "    {\"query\": \"Show me a poster of Coco\", \"tag\": \"image\"},\n",
    "    {\"query\": \"Display an image of Eddie Murphy\", \"tag\": \"image\"},\n",
    "    {\"query\": \"Find a picture of Bruce Willis\", \"tag\": \"image\"},\n",
    "    {\"query\": \"What does Kristen Stewart look like?\", \"tag\": \"image\"},\n",
    "    {\"query\": \"Can you show me a poster of Spider-Man?\", \"tag\": \"image\"},\n",
    "    {\"query\": \"Find me a photo of Brad Pitt\", \"tag\": \"image\"},\n",
    "    {\"query\": \"Show me the Frozen poster with Olaf\", \"tag\": \"image\"},\n",
    "    {\"query\": \"What does Vin Diesel's character in Fast and Furious look like?\", \"tag\": \"image\"},\n",
    "    {\"query\": \"Display an image of the movie Ratatouille\", \"tag\": \"image\"},\n",
    "    {\"query\": \"Can I see a photo of Amy Adams?\", \"tag\": \"image\"},\n",
    "    {\"query\": \"What does Jake Gyllenhaal look like?\", \"tag\": \"image\"},\n",
    "    {\"query\": \"Find a picture of the movie Tangled\", \"tag\": \"image\"},\n",
    "    {\"query\": \"Show me a still from Avengers: Infinity War\", \"tag\": \"image\"},\n",
    "    {\"query\": \"What does Chris Evans look like?\", \"tag\": \"image\"},\n",
    "    {\"query\": \"Display a poster of Inside Out\", \"tag\": \"image\"},\n",
    "    {\"query\": \"Find me a photo of Emily Blunt\", \"tag\": \"image\"},\n",
    "    {\"query\": \"Can you show me what Adam Driver looks like?\", \"tag\": \"image\"},\n",
    "    {\"query\": \"What does Gal Gadot's Wonder Woman costume look like?\", \"tag\": \"image\"},\n",
    "    {\"query\": \"Find a picture of Heath Ledger as the Joker\", \"tag\": \"image\"},\n",
    "    {\"query\": \"Show me a poster of Monsters, Inc.\", \"tag\": \"image\"},\n",
    "    {\"query\": \"Display an image of the cast of Friends\", \"tag\": \"image\"},\n",
    "    {\"query\": \"What does Benedict Wong look like?\", \"tag\": \"image\"},\n",
    "    {\"query\": \"Find me a photo of Tom Holland in Spider-Man\", \"tag\": \"image\"},\n",
    "    {\"query\": \"Who is the director of Good Will Hunting?\", \"tag\": \"qna\"},\n",
    "    {\"query\": \"Who directed The Bridge on the River Kwai?\", \"tag\": \"qna\"},\n",
    "    {\"query\": \"Who is the director of Star Wars: Episode VI - Return of the Jedi?\", \"tag\": \"qna\"},\n",
    "    {\"query\": \"Who is the screenwriter of The Masked Gang: Cyprus?\", \"tag\": \"qna\"},\n",
    "    {\"query\": \"What is the MPAA film rating of Weathering with You? \", \"tag\": \"qna\"},\n",
    "    {\"query\": \"What is the genre of Good Neighbors? \", \"tag\": \"qna\"},\n",
    "    {\"query\": \"Show me a picture of Halle Berry.\", \"tag\": \"image\"},\n",
    "    {\"query\": \"What does Denzel Washington look like? \", \"tag\": \"image\"},\n",
    "    {\"query\": \"Let me know what Sandra Bullock looks like. \", \"tag\": \"image\"},\n",
    "    {\"query\": \"Recommend movies similar to Hamlet and Othello. \", \"tag\": \"recommendation\"},\n",
    "    {\"query\": \"Given that I like The Lion King, Pocahontas, and The Beauty and the Beast, can you recommend some movies? \", \"tag\": \"recommendation\"},\n",
    "    {\"query\": \"Recommend movies like Nightmare on Elm Street, Friday the 13th, and Halloween. \", \"tag\": \"recommendation\"},\n",
    "    {\"query\": \"What is the box office of The Princess and the Frog? \", \"tag\": \"qna\"},\n",
    "    {\"query\": \"Can you tell me the publication date of Tom Meets Zizou? \", \"tag\": \"qna\"},\n",
    "    {\"query\": \"Who is the executive producer of X-Men: First Class?\", \"tag\": \"qna\"},\n",
    "]"
   ]
  },
  {
   "cell_type": "code",
   "execution_count": 3,
   "metadata": {},
   "outputs": [],
   "source": [
    "label_list = [\"qna\", \"recommendation\", \"image\"]\n",
    "\n",
    "# Map tags to numerical labels\n",
    "tag2id = {tag: idx for idx, tag in enumerate(label_list)}\n",
    "id2tag = {idx: tag for tag, idx in tag2id.items()}\n",
    "\n",
    "queries = [d['query'] for d in training_data]\n",
    "labels = [tag2id[d['tag']] for d in training_data]"
   ]
  },
  {
   "cell_type": "code",
   "execution_count": 4,
   "metadata": {},
   "outputs": [],
   "source": [
    "# Split into train and test\n",
    "train_queries, test_queries, train_labels, test_labels = train_test_split(queries, labels, test_size=0.2)"
   ]
  },
  {
   "cell_type": "code",
   "execution_count": 5,
   "metadata": {},
   "outputs": [
    {
     "data": {
      "text/plain": [
       "['who starred in Pulp Fiction',\n",
       " 'What does Robert Downey Jr. look like?',\n",
       " 'rating of The Dark Knight',\n",
       " 'What should I watch if I enjoyed Moonlight?',\n",
       " 'What does Jake Gyllenhaal look like?',\n",
       " 'rating of Inception',\n",
       " 'Can you find an image of Christian Bale?',\n",
       " 'screenwriter of The Matrix',\n",
       " 'If I enjoyed Catch Me If You Can, what should I watch next?',\n",
       " 'when did Forrest Gump release',\n",
       " 'What does Ryan Gosling look like?',\n",
       " 'Find me a photo of Brad Pitt',\n",
       " 'Recommend some movies like The Twilight Saga.',\n",
       " 'Show me what Emma Watson looks like',\n",
       " 'I loved Enola Holmes. What other mystery films should I watch?',\n",
       " 'Display an image of the cast of Friends',\n",
       " 'where was Robert Downey Jr born',\n",
       " 'I liked Crazy Rich Asians. Any similar films?',\n",
       " 'Can you recommend movies like Casablanca?',\n",
       " 'What are some movies like Avatar and The Matrix?',\n",
       " 'I loved The Blind Side. Any recommendations?',\n",
       " 'when did The Dark Knight come out',\n",
       " 'what was the gross of Frozen',\n",
       " 'Find a picture of Bruce Willis',\n",
       " 'Find a picture of the movie Tangled',\n",
       " 'What does Benedict Wong look like?',\n",
       " 'release year of Star Wars',\n",
       " 'I’m looking for movies like Spirited Away and My Neighbor Totoro. Any ideas?',\n",
       " 'What should I watch if I enjoyed The Truman Show?',\n",
       " \"who was the screenwriter of Schindler's List\",\n",
       " 'Suggest movies that are similar to La La Land and Whiplash.',\n",
       " 'Give me movie recommendations similar to Toy Story and Finding Nemo.',\n",
       " 'What does Kristen Stewart look like?',\n",
       " 'I enjoyed Inside Out and Soul. What else is similar?',\n",
       " 'Suggest movies similar to The Fault in Our Stars.',\n",
       " 'Can you display a picture of Chris Hemsworth?',\n",
       " 'Show me a poster of Monsters, Inc.',\n",
       " 'director of The Dark Knight',\n",
       " 'Display an image of Eddie Murphy',\n",
       " 'Can I see a picture of Johnny Depp?',\n",
       " 'release year of The Godfather',\n",
       " 'revenue of Iron Man',\n",
       " 'Show me a still from Avengers: Infinity War',\n",
       " 'What are some great spy films like Skyfall and Mission Impossible?',\n",
       " 'Who is the director of Good Will Hunting?',\n",
       " 'Recommend some movies similar to Mad Max: Fury Road.',\n",
       " 'I loved Inception and Interstellar. What else should I watch?',\n",
       " 'when was Leonardo DiCaprio born',\n",
       " 'Who is the director of Star Wars: Episode VI - Return of the Jedi?',\n",
       " 'Can you show me a picture of the Hulk?',\n",
       " 'where was Harrison Ford born',\n",
       " 'Can you recommend movies like The Wolf of Wall Street?',\n",
       " 'What are some great animated films like How to Train Your Dragon?',\n",
       " 'when was Inception released',\n",
       " 'Show me the Toy Story movie poster',\n",
       " 'where was Leonardo DiCaprio born',\n",
       " 'Show me a poster of The Lion King',\n",
       " 'who wrote the script for Pulp Fiction',\n",
       " 'What films are similar to Pride and Prejudice?',\n",
       " 'What films are similar to 500 Days of Summer?',\n",
       " 'If I enjoyed Monsters, Inc. and Despicable Me, what else might I enjoy?',\n",
       " 'what type of movie is Jurassic Park',\n",
       " 'who directed Star Wars',\n",
       " 'Find me a picture of Natalie Portman',\n",
       " 'who produced The Dark Knight',\n",
       " 'What does the Joker look like in the 2019 movie?',\n",
       " 'I loved Good Will Hunting. Any similar recommendations?',\n",
       " 'Can you recommend movies like The Departed and Heat?',\n",
       " 'how much revenue did Star Wars make',\n",
       " 'I loved The Social Network. Can you recommend similar movies?',\n",
       " 'What does Morgan Freeman look like?',\n",
       " 'who directed Titanic',\n",
       " 'budget of Inception',\n",
       " 'I loved The Secret Life of Walter Mitty. What else would you recommend?',\n",
       " 'What does Zoe Saldana look like?',\n",
       " 'What does Joaquin Phoenix look like?',\n",
       " 'what was the budget of The Godfather',\n",
       " 'Can you recommend movies like Knives Out?',\n",
       " 'who directed Forrest Gump',\n",
       " 'Can you recommend movies like The Conjuring and Annabelle?',\n",
       " 'what genre is Titanic',\n",
       " 'Recommend some movies if I enjoyed Titanic.',\n",
       " 'Find a still of Captain America',\n",
       " 'I enjoyed Black Panther. Can you suggest some similar films?',\n",
       " 'Find me a photo of Emily Blunt',\n",
       " 'Can you recommend movies like The Godfather?',\n",
       " 'Can you tell me the publication date of Tom Meets Zizou? ',\n",
       " 'who was the director of The Godfather',\n",
       " 'I enjoyed Deadpool. Can you suggest similar movies?',\n",
       " 'Display an image of the Minions',\n",
       " 'box office collection of Jurassic Park',\n",
       " 'If I liked The Lion King, what other films might I enjoy?',\n",
       " 'Show me the Frozen poster with Olaf',\n",
       " 'What films are similar to The Irishman?',\n",
       " 'who produced The Matrix',\n",
       " 'I loved The Notebook. What other romantic films should I watch?',\n",
       " 'Are there any films similar to Pulp Fiction and Kill Bill?',\n",
       " 'Show me the Batman movie poster',\n",
       " 'Can you display a photo of Mark Ruffalo?',\n",
       " 'what genre is The Matrix',\n",
       " 'Display a poster of Star Wars',\n",
       " 'who was the producer of Inception',\n",
       " 'What does Denzel Washington look like',\n",
       " 'Recommend some good musicals like Mamma Mia!',\n",
       " 'when was Jurassic Park released',\n",
       " 'Recommend some good films like Harry Potter.',\n",
       " 'what was the earning of the movie Titanic',\n",
       " 'release date of Avatar',\n",
       " 'Show me a picture of Halle Berry',\n",
       " \"who directed Schindler's List\",\n",
       " 'Display a poster of Inside Out',\n",
       " 'What films should I check out if I liked The Shawshank Redemption?',\n",
       " \"what is the rating of Schindler's List\",\n",
       " \"producer of Schindler's List\",\n",
       " 'how much money did Titanic gross',\n",
       " 'who directed the movie Avatar',\n",
       " 'I loved A Star is Born. Any similar suggestions?',\n",
       " 'who wrote Star Wars',\n",
       " 'What are some films similar to Little Women?',\n",
       " 'Can you show me a picture of Mila Kunis?',\n",
       " \"when was Schindler's List released\",\n",
       " \"What does Vin Diesel's character in Fast and Furious look like?\",\n",
       " 'Can I see a picture of Benedict Cumberbatch?',\n",
       " 'What should I watch if I loved 1917 and Dunkirk?',\n",
       " 'Can you recommend movies like The Bourne Identity?',\n",
       " 'What movies should I watch if I liked Forrest Gump?',\n",
       " 'I enjoyed The Hunger Games and Divergent. What should I watch next?',\n",
       " 'What does Idris Elba look like?',\n",
       " 'Show me a poster of Coco',\n",
       " 'Show me the Avengers Endgame poster',\n",
       " 'What films are similar to The Pianist?',\n",
       " 'screenwriter of Inception',\n",
       " 'Find a picture of Will Smith',\n",
       " 'What does Cate Blanchett look like?',\n",
       " 'Recommend movies like Nightmare on Elm Street, Friday the 13th, and Halloween. ',\n",
       " 'What does Keanu Reeves look like?',\n",
       " 'I liked Coco and Ratatouille. What else might I enjoy?',\n",
       " 'Show me a poster of Moana',\n",
       " 'how was Pulp Fiction rated',\n",
       " 'What does Sandra Bullock look like',\n",
       " 'I loved Shutter Island and Gone Girl. What do you recommend?',\n",
       " 'Suggest movies similar to The Sixth Sense.',\n",
       " 'when was Titanic released',\n",
       " 'Suggest films similar to The Revenant.',\n",
       " 'What are some great films similar to The Big Short?',\n",
       " 'who wrote the screenplay for Titanic',\n",
       " 'Display an image of Julia Roberts',\n",
       " 'What is the genre of Good Neighbors? ',\n",
       " 'Who is the executive producer of X-Men: First Class?',\n",
       " 'when was Quentin Tarantino born',\n",
       " 'when was Christopher Nolan born',\n",
       " 'I enjoyed Jumanji and Zathura. Any recommendations?',\n",
       " 'Find me a photo of Hugh Jackman',\n",
       " 'who produced Titanic',\n",
       " 'budget for Jurassic Park',\n",
       " 'birth date of Steven Spielberg',\n",
       " 'earnings of The Dark Knight',\n",
       " 'genre of Pulp Fiction',\n",
       " 'when was Al Pacino born',\n",
       " 'What movies are good for fans of The Great Gatsby?',\n",
       " 'Show me a poster of Guardians of the Galaxy',\n",
       " 'who was the screenwriter of Avatar',\n",
       " 'Show me what Chris Pratt looks like',\n",
       " 'rating of Avatar',\n",
       " 'producer of Avatar',\n",
       " 'Show me a still from Pirates of the Caribbean',\n",
       " 'Find a picture of Meryl Streep',\n",
       " 'Can you suggest movies like The Dark Knight?',\n",
       " 'What is the MPAA film rating of Weathering with You? ',\n",
       " \"what type of movie is Schindler's List\",\n",
       " 'who wrote the screenplay for Jurassic Park',\n",
       " 'who produced Pulp Fiction',\n",
       " 'If I liked Star Wars and Guardians of the Galaxy, what other movies should I watch?',\n",
       " 'where was Keanu Reeves born',\n",
       " 'I just watched The Grand Budapest Hotel. What else would I enjoy?',\n",
       " 'Display an image of the character Darth Vader',\n",
       " 'who wrote The Godfather screenplay',\n",
       " 'Show me the Frozen movie poster',\n",
       " 'release date of The Matrix',\n",
       " 'If I enjoyed The Shape of Water, what else might I like?',\n",
       " 'What does Chris Evans look like?',\n",
       " 'who was the main actor in The Godfather',\n",
       " 'Can you recommend movies like Train to Busan?',\n",
       " 'Let me know what Sandra Bullock looks like. ',\n",
       " 'Can you suggest films for fans of Frozen?',\n",
       " 'rating of Forrest Gump',\n",
       " 'Find a poster of the movie Aladdin',\n",
       " 'Show me a poster of Shrek',\n",
       " 'what rating does The Matrix have',\n",
       " 'how much did Star Wars cost',\n",
       " 'Find a poster of the movie Inception',\n",
       " 'Display a poster of the movie Interstellar',\n",
       " 'who acted in The Dark Knight',\n",
       " 'how much did Avengers Endgame earn',\n",
       " 'who acted in Interstellar',\n",
       " 'Can you suggest movies like The Perks of Being a Wallflower?',\n",
       " 'director of The Matrix',\n",
       " 'birthplace of James Cameron',\n",
       " 'lead actor in Inception',\n",
       " 'What should I watch if I loved The Greatest Showman?',\n",
       " 'budget for The Dark Knight',\n",
       " 'how much did Pulp Fiction cost',\n",
       " 'Show me a picture of Halle Berry.',\n",
       " 'birth date of Harrison Ford',\n",
       " 'I recently watched Joker, what else might I enjoy?',\n",
       " 'Can you show me a poster of Spider-Man?',\n",
       " 'Find a picture of the movie Titanic',\n",
       " 'Display an image of the movie Ratatouille',\n",
       " 'What does Denzel Washington look like? ',\n",
       " 'What does Margot Robbie look like?',\n",
       " 'How did Iron Man look?',\n",
       " 'What movies are good if I liked Fight Club?',\n",
       " 'Find a poster of The Godfather',\n",
       " 'Find a picture of Heath Ledger as the Joker',\n",
       " 'What is the box office of The Princess and the Frog? ',\n",
       " 'how much was spent on Avatar',\n",
       " 'What are some movies like Up and Wall-E?',\n",
       " 'What should I watch if I liked The Imitation Game?',\n",
       " 'Show me a still of Black Panther',\n",
       " 'who wrote the screenplay for The Dark Knight',\n",
       " \"What does Gal Gadot's Wonder Woman costume look like?\",\n",
       " 'where was Samuel L. Jackson born',\n",
       " 'Display a poster of Finding Nemo',\n",
       " 'Can I see a photo of Amy Adams?',\n",
       " 'Can you give me a list of movies like Coco?',\n",
       " 'who was the actor in Star Wars',\n",
       " 'What movies are great if I liked 10 Things I Hate About You?',\n",
       " 'I liked A Quiet Place and Bird Box. Any recommendations?',\n",
       " 'Find me a picture of Angelina Jolie',\n",
       " 'What does Nicole Kidman look like?',\n",
       " 'birth date of James Cameron',\n",
       " 'Can you display a photo of Anne Hathaway?',\n",
       " 'what genre is The Dark Knight',\n",
       " 'What films are similar to Avengers: Endgame?']"
      ]
     },
     "execution_count": 5,
     "metadata": {},
     "output_type": "execute_result"
    }
   ],
   "source": [
    "train_queries"
   ]
  },
  {
   "cell_type": "code",
   "execution_count": 6,
   "metadata": {},
   "outputs": [
    {
     "name": "stderr",
     "output_type": "stream",
     "text": [
      "Some weights of BertForSequenceClassification were not initialized from the model checkpoint at bert-base-uncased and are newly initialized: ['classifier.bias', 'classifier.weight']\n",
      "You should probably TRAIN this model on a down-stream task to be able to use it for predictions and inference.\n",
      "/opt/miniconda3/envs/atai/lib/python3.10/site-packages/transformers/training_args.py:1545: FutureWarning: `evaluation_strategy` is deprecated and will be removed in version 4.46 of 🤗 Transformers. Use `eval_strategy` instead\n",
      "  warnings.warn(\n",
      "  1%|          | 10/1500 [00:04<08:37,  2.88it/s]"
     ]
    },
    {
     "name": "stdout",
     "output_type": "stream",
     "text": [
      "{'loss': 1.0942, 'grad_norm': 8.825994491577148, 'learning_rate': 1.0000000000000002e-06, 'epoch': 0.33}\n"
     ]
    },
    {
     "name": "stderr",
     "output_type": "stream",
     "text": [
      "  1%|▏         | 20/1500 [00:07<08:20,  2.96it/s]"
     ]
    },
    {
     "name": "stdout",
     "output_type": "stream",
     "text": [
      "{'loss': 1.0984, 'grad_norm': 7.346462726593018, 'learning_rate': 2.0000000000000003e-06, 'epoch': 0.67}\n"
     ]
    },
    {
     "name": "stderr",
     "output_type": "stream",
     "text": [
      "  2%|▏         | 30/1500 [00:11<11:11,  2.19it/s]"
     ]
    },
    {
     "name": "stdout",
     "output_type": "stream",
     "text": [
      "{'loss': 1.0576, 'grad_norm': 21.50229263305664, 'learning_rate': 3e-06, 'epoch': 1.0}\n"
     ]
    },
    {
     "name": "stderr",
     "output_type": "stream",
     "text": [
      "                                                 \n",
      "  2%|▏         | 30/1500 [00:11<11:11,  2.19it/s]"
     ]
    },
    {
     "name": "stdout",
     "output_type": "stream",
     "text": [
      "{'eval_loss': 0.9294255375862122, 'eval_runtime': 0.6013, 'eval_samples_per_second': 98.129, 'eval_steps_per_second': 13.306, 'epoch': 1.0}\n"
     ]
    },
    {
     "name": "stderr",
     "output_type": "stream",
     "text": [
      "  3%|▎         | 40/1500 [00:15<08:31,  2.86it/s]"
     ]
    },
    {
     "name": "stdout",
     "output_type": "stream",
     "text": [
      "{'loss': 0.9767, 'grad_norm': 10.231073379516602, 'learning_rate': 4.000000000000001e-06, 'epoch': 1.33}\n"
     ]
    },
    {
     "name": "stderr",
     "output_type": "stream",
     "text": [
      "  3%|▎         | 50/1500 [00:18<08:10,  2.96it/s]"
     ]
    },
    {
     "name": "stdout",
     "output_type": "stream",
     "text": [
      "{'loss': 0.8852, 'grad_norm': 6.847652912139893, 'learning_rate': 5e-06, 'epoch': 1.67}\n"
     ]
    },
    {
     "name": "stderr",
     "output_type": "stream",
     "text": [
      "  4%|▍         | 60/1500 [00:22<07:52,  3.05it/s]"
     ]
    },
    {
     "name": "stdout",
     "output_type": "stream",
     "text": [
      "{'loss': 0.7949, 'grad_norm': 10.28961181640625, 'learning_rate': 6e-06, 'epoch': 2.0}\n"
     ]
    },
    {
     "name": "stderr",
     "output_type": "stream",
     "text": [
      "                                                 \n",
      "  4%|▍         | 60/1500 [00:22<07:52,  3.05it/s]"
     ]
    },
    {
     "name": "stdout",
     "output_type": "stream",
     "text": [
      "{'eval_loss': 0.6760149002075195, 'eval_runtime': 0.3288, 'eval_samples_per_second': 179.422, 'eval_steps_per_second': 24.328, 'epoch': 2.0}\n"
     ]
    },
    {
     "name": "stderr",
     "output_type": "stream",
     "text": [
      "  5%|▍         | 70/1500 [00:25<08:05,  2.94it/s]"
     ]
    },
    {
     "name": "stdout",
     "output_type": "stream",
     "text": [
      "{'loss': 0.7129, 'grad_norm': 6.7794508934021, 'learning_rate': 7.000000000000001e-06, 'epoch': 2.33}\n"
     ]
    },
    {
     "name": "stderr",
     "output_type": "stream",
     "text": [
      "  5%|▌         | 80/1500 [00:29<08:11,  2.89it/s]"
     ]
    },
    {
     "name": "stdout",
     "output_type": "stream",
     "text": [
      "{'loss': 0.6606, 'grad_norm': 5.4618659019470215, 'learning_rate': 8.000000000000001e-06, 'epoch': 2.67}\n"
     ]
    },
    {
     "name": "stderr",
     "output_type": "stream",
     "text": [
      "  6%|▌         | 90/1500 [00:32<07:45,  3.03it/s]"
     ]
    },
    {
     "name": "stdout",
     "output_type": "stream",
     "text": [
      "{'loss': 0.573, 'grad_norm': 7.38939094543457, 'learning_rate': 9e-06, 'epoch': 3.0}\n"
     ]
    },
    {
     "name": "stderr",
     "output_type": "stream",
     "text": [
      "                                                 \n",
      "  6%|▌         | 90/1500 [00:32<07:45,  3.03it/s]"
     ]
    },
    {
     "name": "stdout",
     "output_type": "stream",
     "text": [
      "{'eval_loss': 0.4617913067340851, 'eval_runtime': 0.3311, 'eval_samples_per_second': 178.199, 'eval_steps_per_second': 24.163, 'epoch': 3.0}\n"
     ]
    },
    {
     "name": "stderr",
     "output_type": "stream",
     "text": [
      "  7%|▋         | 100/1500 [00:36<07:58,  2.93it/s]"
     ]
    },
    {
     "name": "stdout",
     "output_type": "stream",
     "text": [
      "{'loss': 0.5275, 'grad_norm': 6.095213890075684, 'learning_rate': 1e-05, 'epoch': 3.33}\n"
     ]
    },
    {
     "name": "stderr",
     "output_type": "stream",
     "text": [
      "  7%|▋         | 110/1500 [00:39<07:48,  2.97it/s]"
     ]
    },
    {
     "name": "stdout",
     "output_type": "stream",
     "text": [
      "{'loss': 0.4689, 'grad_norm': 11.217734336853027, 'learning_rate': 1.1000000000000001e-05, 'epoch': 3.67}\n"
     ]
    },
    {
     "name": "stderr",
     "output_type": "stream",
     "text": [
      "  8%|▊         | 120/1500 [00:43<07:28,  3.07it/s]"
     ]
    },
    {
     "name": "stdout",
     "output_type": "stream",
     "text": [
      "{'loss': 0.3611, 'grad_norm': 2.819086790084839, 'learning_rate': 1.2e-05, 'epoch': 4.0}\n"
     ]
    },
    {
     "name": "stderr",
     "output_type": "stream",
     "text": [
      "                                                  \n",
      "  8%|▊         | 120/1500 [00:43<07:28,  3.07it/s]"
     ]
    },
    {
     "name": "stdout",
     "output_type": "stream",
     "text": [
      "{'eval_loss': 0.27850937843322754, 'eval_runtime': 0.373, 'eval_samples_per_second': 158.198, 'eval_steps_per_second': 21.451, 'epoch': 4.0}\n"
     ]
    },
    {
     "name": "stderr",
     "output_type": "stream",
     "text": [
      "  9%|▊         | 130/1500 [00:46<07:46,  2.94it/s]"
     ]
    },
    {
     "name": "stdout",
     "output_type": "stream",
     "text": [
      "{'loss': 0.3596, 'grad_norm': 7.947752475738525, 'learning_rate': 1.3000000000000001e-05, 'epoch': 4.33}\n"
     ]
    },
    {
     "name": "stderr",
     "output_type": "stream",
     "text": [
      "  9%|▉         | 140/1500 [00:50<07:36,  2.98it/s]"
     ]
    },
    {
     "name": "stdout",
     "output_type": "stream",
     "text": [
      "{'loss': 0.2251, 'grad_norm': 2.9988133907318115, 'learning_rate': 1.4000000000000001e-05, 'epoch': 4.67}\n"
     ]
    },
    {
     "name": "stderr",
     "output_type": "stream",
     "text": [
      " 10%|█         | 150/1500 [00:53<07:20,  3.06it/s]"
     ]
    },
    {
     "name": "stdout",
     "output_type": "stream",
     "text": [
      "{'loss': 0.1537, 'grad_norm': 3.600109100341797, 'learning_rate': 1.5e-05, 'epoch': 5.0}\n"
     ]
    },
    {
     "name": "stderr",
     "output_type": "stream",
     "text": [
      "                                                  \n",
      " 10%|█         | 150/1500 [00:53<07:20,  3.06it/s]"
     ]
    },
    {
     "name": "stdout",
     "output_type": "stream",
     "text": [
      "{'eval_loss': 0.07652691751718521, 'eval_runtime': 0.3292, 'eval_samples_per_second': 179.236, 'eval_steps_per_second': 24.303, 'epoch': 5.0}\n"
     ]
    },
    {
     "name": "stderr",
     "output_type": "stream",
     "text": [
      " 11%|█         | 160/1500 [00:57<07:35,  2.94it/s]"
     ]
    },
    {
     "name": "stdout",
     "output_type": "stream",
     "text": [
      "{'loss': 0.112, 'grad_norm': 1.0241100788116455, 'learning_rate': 1.6000000000000003e-05, 'epoch': 5.33}\n"
     ]
    },
    {
     "name": "stderr",
     "output_type": "stream",
     "text": [
      " 11%|█▏        | 170/1500 [01:00<07:30,  2.95it/s]"
     ]
    },
    {
     "name": "stdout",
     "output_type": "stream",
     "text": [
      "{'loss': 0.045, 'grad_norm': 0.5955237150192261, 'learning_rate': 1.7000000000000003e-05, 'epoch': 5.67}\n"
     ]
    },
    {
     "name": "stderr",
     "output_type": "stream",
     "text": [
      " 12%|█▏        | 180/1500 [01:03<07:18,  3.01it/s]"
     ]
    },
    {
     "name": "stdout",
     "output_type": "stream",
     "text": [
      "{'loss': 0.0273, 'grad_norm': 0.7851498126983643, 'learning_rate': 1.8e-05, 'epoch': 6.0}\n"
     ]
    },
    {
     "name": "stderr",
     "output_type": "stream",
     "text": [
      "                                                  \n",
      " 12%|█▏        | 180/1500 [01:04<07:18,  3.01it/s]"
     ]
    },
    {
     "name": "stdout",
     "output_type": "stream",
     "text": [
      "{'eval_loss': 0.012037835083901882, 'eval_runtime': 0.3284, 'eval_samples_per_second': 179.649, 'eval_steps_per_second': 24.359, 'epoch': 6.0}\n"
     ]
    },
    {
     "name": "stderr",
     "output_type": "stream",
     "text": [
      " 13%|█▎        | 190/1500 [01:07<07:24,  2.95it/s]"
     ]
    },
    {
     "name": "stdout",
     "output_type": "stream",
     "text": [
      "{'loss': 0.0143, 'grad_norm': 0.22550523281097412, 'learning_rate': 1.9e-05, 'epoch': 6.33}\n"
     ]
    },
    {
     "name": "stderr",
     "output_type": "stream",
     "text": [
      " 13%|█▎        | 200/1500 [01:11<07:16,  2.98it/s]"
     ]
    },
    {
     "name": "stdout",
     "output_type": "stream",
     "text": [
      "{'loss': 0.0096, 'grad_norm': 0.14439156651496887, 'learning_rate': 2e-05, 'epoch': 6.67}\n"
     ]
    },
    {
     "name": "stderr",
     "output_type": "stream",
     "text": [
      " 14%|█▍        | 210/1500 [01:14<07:01,  3.06it/s]"
     ]
    },
    {
     "name": "stdout",
     "output_type": "stream",
     "text": [
      "{'loss': 0.0068, 'grad_norm': 0.11178883165121078, 'learning_rate': 2.1e-05, 'epoch': 7.0}\n"
     ]
    },
    {
     "name": "stderr",
     "output_type": "stream",
     "text": [
      "                                                  \n",
      " 14%|█▍        | 210/1500 [01:14<07:01,  3.06it/s]"
     ]
    },
    {
     "name": "stdout",
     "output_type": "stream",
     "text": [
      "{'eval_loss': 0.003632626496255398, 'eval_runtime': 0.3282, 'eval_samples_per_second': 179.794, 'eval_steps_per_second': 24.379, 'epoch': 7.0}\n"
     ]
    },
    {
     "name": "stderr",
     "output_type": "stream",
     "text": [
      " 15%|█▍        | 220/1500 [01:18<07:16,  2.93it/s]"
     ]
    },
    {
     "name": "stdout",
     "output_type": "stream",
     "text": [
      "{'loss': 0.0045, 'grad_norm': 0.08390093594789505, 'learning_rate': 2.2000000000000003e-05, 'epoch': 7.33}\n"
     ]
    },
    {
     "name": "stderr",
     "output_type": "stream",
     "text": [
      " 15%|█▌        | 230/1500 [01:21<07:06,  2.98it/s]"
     ]
    },
    {
     "name": "stdout",
     "output_type": "stream",
     "text": [
      "{'loss': 0.0042, 'grad_norm': 0.06608575582504272, 'learning_rate': 2.3000000000000003e-05, 'epoch': 7.67}\n"
     ]
    },
    {
     "name": "stderr",
     "output_type": "stream",
     "text": [
      " 16%|█▌        | 240/1500 [01:24<06:59,  3.00it/s]"
     ]
    },
    {
     "name": "stdout",
     "output_type": "stream",
     "text": [
      "{'loss': 0.0031, 'grad_norm': 0.07512814551591873, 'learning_rate': 2.4e-05, 'epoch': 8.0}\n"
     ]
    },
    {
     "name": "stderr",
     "output_type": "stream",
     "text": [
      "                                                  \n",
      " 16%|█▌        | 240/1500 [01:25<06:59,  3.00it/s]"
     ]
    },
    {
     "name": "stdout",
     "output_type": "stream",
     "text": [
      "{'eval_loss': 0.002095309318974614, 'eval_runtime': 0.3284, 'eval_samples_per_second': 179.642, 'eval_steps_per_second': 24.358, 'epoch': 8.0}\n"
     ]
    },
    {
     "name": "stderr",
     "output_type": "stream",
     "text": [
      " 17%|█▋        | 250/1500 [01:28<07:05,  2.93it/s]"
     ]
    },
    {
     "name": "stdout",
     "output_type": "stream",
     "text": [
      "{'loss': 0.0028, 'grad_norm': 0.04594515636563301, 'learning_rate': 2.5e-05, 'epoch': 8.33}\n"
     ]
    },
    {
     "name": "stderr",
     "output_type": "stream",
     "text": [
      " 17%|█▋        | 260/1500 [01:31<07:00,  2.95it/s]"
     ]
    },
    {
     "name": "stdout",
     "output_type": "stream",
     "text": [
      "{'loss': 0.0024, 'grad_norm': 0.04391583055257797, 'learning_rate': 2.6000000000000002e-05, 'epoch': 8.67}\n"
     ]
    },
    {
     "name": "stderr",
     "output_type": "stream",
     "text": [
      " 18%|█▊        | 270/1500 [01:35<06:47,  3.02it/s]"
     ]
    },
    {
     "name": "stdout",
     "output_type": "stream",
     "text": [
      "{'loss': 0.0022, 'grad_norm': 0.06757207214832306, 'learning_rate': 2.7000000000000002e-05, 'epoch': 9.0}\n"
     ]
    },
    {
     "name": "stderr",
     "output_type": "stream",
     "text": [
      "                                                  \n",
      " 18%|█▊        | 270/1500 [01:35<06:47,  3.02it/s]"
     ]
    },
    {
     "name": "stdout",
     "output_type": "stream",
     "text": [
      "{'eval_loss': 0.0014017770299687982, 'eval_runtime': 0.3343, 'eval_samples_per_second': 176.472, 'eval_steps_per_second': 23.928, 'epoch': 9.0}\n"
     ]
    },
    {
     "name": "stderr",
     "output_type": "stream",
     "text": [
      " 19%|█▊        | 280/1500 [01:39<07:04,  2.87it/s]"
     ]
    },
    {
     "name": "stdout",
     "output_type": "stream",
     "text": [
      "{'loss': 0.0018, 'grad_norm': 0.029394026845693588, 'learning_rate': 2.8000000000000003e-05, 'epoch': 9.33}\n"
     ]
    },
    {
     "name": "stderr",
     "output_type": "stream",
     "text": [
      " 19%|█▉        | 290/1500 [01:42<06:52,  2.93it/s]"
     ]
    },
    {
     "name": "stdout",
     "output_type": "stream",
     "text": [
      "{'loss': 0.0017, 'grad_norm': 0.028468681499361992, 'learning_rate': 2.9e-05, 'epoch': 9.67}\n"
     ]
    },
    {
     "name": "stderr",
     "output_type": "stream",
     "text": [
      " 20%|██        | 300/1500 [01:45<06:46,  2.95it/s]"
     ]
    },
    {
     "name": "stdout",
     "output_type": "stream",
     "text": [
      "{'loss': 0.0015, 'grad_norm': 0.03354921564459801, 'learning_rate': 3e-05, 'epoch': 10.0}\n"
     ]
    },
    {
     "name": "stderr",
     "output_type": "stream",
     "text": [
      "                                                  \n",
      " 20%|██        | 300/1500 [01:46<06:46,  2.95it/s]"
     ]
    },
    {
     "name": "stdout",
     "output_type": "stream",
     "text": [
      "{'eval_loss': 0.0009872820228338242, 'eval_runtime': 0.3628, 'eval_samples_per_second': 162.63, 'eval_steps_per_second': 22.052, 'epoch': 10.0}\n"
     ]
    },
    {
     "name": "stderr",
     "output_type": "stream",
     "text": [
      " 21%|██        | 310/1500 [01:49<06:48,  2.92it/s]"
     ]
    },
    {
     "name": "stdout",
     "output_type": "stream",
     "text": [
      "{'loss': 0.0014, 'grad_norm': 0.025238897651433945, 'learning_rate': 3.1e-05, 'epoch': 10.33}\n"
     ]
    },
    {
     "name": "stderr",
     "output_type": "stream",
     "text": [
      " 21%|██▏       | 320/1500 [01:53<06:38,  2.96it/s]"
     ]
    },
    {
     "name": "stdout",
     "output_type": "stream",
     "text": [
      "{'loss': 0.0013, 'grad_norm': 0.019813109189271927, 'learning_rate': 3.2000000000000005e-05, 'epoch': 10.67}\n"
     ]
    },
    {
     "name": "stderr",
     "output_type": "stream",
     "text": [
      " 22%|██▏       | 330/1500 [01:56<06:23,  3.05it/s]"
     ]
    },
    {
     "name": "stdout",
     "output_type": "stream",
     "text": [
      "{'loss': 0.0011, 'grad_norm': 0.02340281754732132, 'learning_rate': 3.3e-05, 'epoch': 11.0}\n"
     ]
    },
    {
     "name": "stderr",
     "output_type": "stream",
     "text": [
      "                                                  \n",
      " 22%|██▏       | 330/1500 [01:56<06:23,  3.05it/s]"
     ]
    },
    {
     "name": "stdout",
     "output_type": "stream",
     "text": [
      "{'eval_loss': 0.0007498391787521541, 'eval_runtime': 0.373, 'eval_samples_per_second': 158.191, 'eval_steps_per_second': 21.45, 'epoch': 11.0}\n"
     ]
    },
    {
     "name": "stderr",
     "output_type": "stream",
     "text": [
      " 23%|██▎       | 340/1500 [02:00<06:39,  2.90it/s]"
     ]
    },
    {
     "name": "stdout",
     "output_type": "stream",
     "text": [
      "{'loss': 0.001, 'grad_norm': 0.020626824349164963, 'learning_rate': 3.4000000000000007e-05, 'epoch': 11.33}\n"
     ]
    },
    {
     "name": "stderr",
     "output_type": "stream",
     "text": [
      " 23%|██▎       | 350/1500 [02:03<06:31,  2.94it/s]"
     ]
    },
    {
     "name": "stdout",
     "output_type": "stream",
     "text": [
      "{'loss': 0.001, 'grad_norm': 0.019910870119929314, 'learning_rate': 3.5e-05, 'epoch': 11.67}\n"
     ]
    },
    {
     "name": "stderr",
     "output_type": "stream",
     "text": [
      " 24%|██▍       | 360/1500 [02:07<06:16,  3.03it/s]"
     ]
    },
    {
     "name": "stdout",
     "output_type": "stream",
     "text": [
      "{'loss': 0.0009, 'grad_norm': 0.019854428246617317, 'learning_rate': 3.6e-05, 'epoch': 12.0}\n"
     ]
    },
    {
     "name": "stderr",
     "output_type": "stream",
     "text": [
      "                                                  \n",
      " 24%|██▍       | 360/1500 [02:07<06:16,  3.03it/s]"
     ]
    },
    {
     "name": "stdout",
     "output_type": "stream",
     "text": [
      "{'eval_loss': 0.0005981941940262914, 'eval_runtime': 0.3275, 'eval_samples_per_second': 180.143, 'eval_steps_per_second': 24.426, 'epoch': 12.0}\n"
     ]
    },
    {
     "name": "stderr",
     "output_type": "stream",
     "text": [
      " 25%|██▍       | 370/1500 [02:10<06:25,  2.93it/s]"
     ]
    },
    {
     "name": "stdout",
     "output_type": "stream",
     "text": [
      "{'loss': 0.0009, 'grad_norm': 0.0154303889721632, 'learning_rate': 3.7e-05, 'epoch': 12.33}\n"
     ]
    },
    {
     "name": "stderr",
     "output_type": "stream",
     "text": [
      " 25%|██▌       | 380/1500 [02:14<06:19,  2.95it/s]"
     ]
    },
    {
     "name": "stdout",
     "output_type": "stream",
     "text": [
      "{'loss': 0.0008, 'grad_norm': 0.013265828602015972, 'learning_rate': 3.8e-05, 'epoch': 12.67}\n"
     ]
    },
    {
     "name": "stderr",
     "output_type": "stream",
     "text": [
      " 26%|██▌       | 390/1500 [02:17<06:04,  3.05it/s]"
     ]
    },
    {
     "name": "stdout",
     "output_type": "stream",
     "text": [
      "{'loss': 0.0007, 'grad_norm': 0.013483802787959576, 'learning_rate': 3.9000000000000006e-05, 'epoch': 13.0}\n"
     ]
    },
    {
     "name": "stderr",
     "output_type": "stream",
     "text": [
      "                                                  \n",
      " 26%|██▌       | 390/1500 [02:17<06:04,  3.05it/s]"
     ]
    },
    {
     "name": "stdout",
     "output_type": "stream",
     "text": [
      "{'eval_loss': 0.00047817148151807487, 'eval_runtime': 0.3315, 'eval_samples_per_second': 178.002, 'eval_steps_per_second': 24.136, 'epoch': 13.0}\n"
     ]
    },
    {
     "name": "stderr",
     "output_type": "stream",
     "text": [
      " 27%|██▋       | 400/1500 [02:21<06:16,  2.92it/s]"
     ]
    },
    {
     "name": "stdout",
     "output_type": "stream",
     "text": [
      "{'loss': 0.0007, 'grad_norm': 0.00986010767519474, 'learning_rate': 4e-05, 'epoch': 13.33}\n"
     ]
    },
    {
     "name": "stderr",
     "output_type": "stream",
     "text": [
      " 27%|██▋       | 410/1500 [02:24<06:07,  2.97it/s]"
     ]
    },
    {
     "name": "stdout",
     "output_type": "stream",
     "text": [
      "{'loss': 0.0007, 'grad_norm': 0.011852752417325974, 'learning_rate': 4.1e-05, 'epoch': 13.67}\n"
     ]
    },
    {
     "name": "stderr",
     "output_type": "stream",
     "text": [
      " 28%|██▊       | 420/1500 [02:28<05:59,  3.00it/s]"
     ]
    },
    {
     "name": "stdout",
     "output_type": "stream",
     "text": [
      "{'loss': 0.0006, 'grad_norm': 0.015482986345887184, 'learning_rate': 4.2e-05, 'epoch': 14.0}\n"
     ]
    },
    {
     "name": "stderr",
     "output_type": "stream",
     "text": [
      "                                                  \n",
      " 28%|██▊       | 420/1500 [02:28<05:59,  3.00it/s]"
     ]
    },
    {
     "name": "stdout",
     "output_type": "stream",
     "text": [
      "{'eval_loss': 0.0003931986866518855, 'eval_runtime': 0.3566, 'eval_samples_per_second': 165.472, 'eval_steps_per_second': 22.437, 'epoch': 14.0}\n"
     ]
    },
    {
     "name": "stderr",
     "output_type": "stream",
     "text": [
      " 29%|██▊       | 430/1500 [02:31<06:08,  2.91it/s]"
     ]
    },
    {
     "name": "stdout",
     "output_type": "stream",
     "text": [
      "{'loss': 0.0006, 'grad_norm': 0.012839000672101974, 'learning_rate': 4.3e-05, 'epoch': 14.33}\n"
     ]
    },
    {
     "name": "stderr",
     "output_type": "stream",
     "text": [
      " 29%|██▉       | 440/1500 [02:35<05:59,  2.95it/s]"
     ]
    },
    {
     "name": "stdout",
     "output_type": "stream",
     "text": [
      "{'loss': 0.0005, 'grad_norm': 0.013947228901088238, 'learning_rate': 4.4000000000000006e-05, 'epoch': 14.67}\n"
     ]
    },
    {
     "name": "stderr",
     "output_type": "stream",
     "text": [
      " 30%|███       | 450/1500 [02:38<05:45,  3.04it/s]"
     ]
    },
    {
     "name": "stdout",
     "output_type": "stream",
     "text": [
      "{'loss': 0.0005, 'grad_norm': 0.010091590695083141, 'learning_rate': 4.5e-05, 'epoch': 15.0}\n"
     ]
    },
    {
     "name": "stderr",
     "output_type": "stream",
     "text": [
      "                                                  \n",
      " 30%|███       | 450/1500 [02:38<05:45,  3.04it/s]"
     ]
    },
    {
     "name": "stdout",
     "output_type": "stream",
     "text": [
      "{'eval_loss': 0.0003343716380186379, 'eval_runtime': 0.3316, 'eval_samples_per_second': 177.92, 'eval_steps_per_second': 24.125, 'epoch': 15.0}\n"
     ]
    },
    {
     "name": "stderr",
     "output_type": "stream",
     "text": [
      " 31%|███       | 460/1500 [02:42<05:54,  2.93it/s]"
     ]
    },
    {
     "name": "stdout",
     "output_type": "stream",
     "text": [
      "{'loss': 0.0005, 'grad_norm': 0.010360774584114552, 'learning_rate': 4.600000000000001e-05, 'epoch': 15.33}\n"
     ]
    },
    {
     "name": "stderr",
     "output_type": "stream",
     "text": [
      " 31%|███▏      | 470/1500 [02:45<05:49,  2.95it/s]"
     ]
    },
    {
     "name": "stdout",
     "output_type": "stream",
     "text": [
      "{'loss': 0.0005, 'grad_norm': 0.010227937251329422, 'learning_rate': 4.7e-05, 'epoch': 15.67}\n"
     ]
    },
    {
     "name": "stderr",
     "output_type": "stream",
     "text": [
      " 32%|███▏      | 480/1500 [02:49<05:33,  3.06it/s]"
     ]
    },
    {
     "name": "stdout",
     "output_type": "stream",
     "text": [
      "{'loss': 0.0004, 'grad_norm': 0.007675485219806433, 'learning_rate': 4.8e-05, 'epoch': 16.0}\n"
     ]
    },
    {
     "name": "stderr",
     "output_type": "stream",
     "text": [
      "                                                  \n",
      " 32%|███▏      | 480/1500 [02:49<05:33,  3.06it/s]"
     ]
    },
    {
     "name": "stdout",
     "output_type": "stream",
     "text": [
      "{'eval_loss': 0.0002820275549311191, 'eval_runtime': 0.3279, 'eval_samples_per_second': 179.924, 'eval_steps_per_second': 24.396, 'epoch': 16.0}\n"
     ]
    },
    {
     "name": "stderr",
     "output_type": "stream",
     "text": [
      " 33%|███▎      | 490/1500 [02:52<05:46,  2.91it/s]"
     ]
    },
    {
     "name": "stdout",
     "output_type": "stream",
     "text": [
      "{'loss': 0.0004, 'grad_norm': 0.006773033179342747, 'learning_rate': 4.9e-05, 'epoch': 16.33}\n"
     ]
    },
    {
     "name": "stderr",
     "output_type": "stream",
     "text": [
      " 33%|███▎      | 500/1500 [02:56<05:37,  2.96it/s]"
     ]
    },
    {
     "name": "stdout",
     "output_type": "stream",
     "text": [
      "{'loss': 0.0004, 'grad_norm': 0.008038283325731754, 'learning_rate': 5e-05, 'epoch': 16.67}\n"
     ]
    },
    {
     "name": "stderr",
     "output_type": "stream",
     "text": [
      " 34%|███▍      | 510/1500 [03:01<05:49,  2.83it/s]"
     ]
    },
    {
     "name": "stdout",
     "output_type": "stream",
     "text": [
      "{'loss': 0.0004, 'grad_norm': 0.004830126650631428, 'learning_rate': 4.9500000000000004e-05, 'epoch': 17.0}\n"
     ]
    },
    {
     "name": "stderr",
     "output_type": "stream",
     "text": [
      "                                                  \n",
      " 34%|███▍      | 510/1500 [03:01<05:49,  2.83it/s]"
     ]
    },
    {
     "name": "stdout",
     "output_type": "stream",
     "text": [
      "{'eval_loss': 0.00024132100224960595, 'eval_runtime': 0.3391, 'eval_samples_per_second': 173.974, 'eval_steps_per_second': 23.59, 'epoch': 17.0}\n"
     ]
    },
    {
     "name": "stderr",
     "output_type": "stream",
     "text": [
      " 35%|███▍      | 520/1500 [03:05<06:00,  2.72it/s]"
     ]
    },
    {
     "name": "stdout",
     "output_type": "stream",
     "text": [
      "{'loss': 0.0004, 'grad_norm': 0.007854222320020199, 'learning_rate': 4.9e-05, 'epoch': 17.33}\n"
     ]
    },
    {
     "name": "stderr",
     "output_type": "stream",
     "text": [
      " 35%|███▌      | 530/1500 [03:08<05:33,  2.90it/s]"
     ]
    },
    {
     "name": "stdout",
     "output_type": "stream",
     "text": [
      "{'loss': 0.0003, 'grad_norm': 0.006248532794415951, 'learning_rate': 4.85e-05, 'epoch': 17.67}\n"
     ]
    },
    {
     "name": "stderr",
     "output_type": "stream",
     "text": [
      " 36%|███▌      | 540/1500 [03:12<05:20,  3.00it/s]"
     ]
    },
    {
     "name": "stdout",
     "output_type": "stream",
     "text": [
      "{'loss': 0.0003, 'grad_norm': 0.006373974960297346, 'learning_rate': 4.8e-05, 'epoch': 18.0}\n"
     ]
    },
    {
     "name": "stderr",
     "output_type": "stream",
     "text": [
      "                                                  \n",
      " 36%|███▌      | 540/1500 [03:12<05:20,  3.00it/s]"
     ]
    },
    {
     "name": "stdout",
     "output_type": "stream",
     "text": [
      "{'eval_loss': 0.0002110218774760142, 'eval_runtime': 0.3309, 'eval_samples_per_second': 178.296, 'eval_steps_per_second': 24.176, 'epoch': 18.0}\n"
     ]
    },
    {
     "name": "stderr",
     "output_type": "stream",
     "text": [
      " 37%|███▋      | 550/1500 [03:15<05:24,  2.93it/s]"
     ]
    },
    {
     "name": "stdout",
     "output_type": "stream",
     "text": [
      "{'loss': 0.0003, 'grad_norm': 0.005918843671679497, 'learning_rate': 4.75e-05, 'epoch': 18.33}\n"
     ]
    },
    {
     "name": "stderr",
     "output_type": "stream",
     "text": [
      " 37%|███▋      | 560/1500 [03:19<05:16,  2.97it/s]"
     ]
    },
    {
     "name": "stdout",
     "output_type": "stream",
     "text": [
      "{'loss': 0.0003, 'grad_norm': 0.0059205275028944016, 'learning_rate': 4.7e-05, 'epoch': 18.67}\n"
     ]
    },
    {
     "name": "stderr",
     "output_type": "stream",
     "text": [
      " 38%|███▊      | 570/1500 [03:22<05:04,  3.06it/s]"
     ]
    },
    {
     "name": "stdout",
     "output_type": "stream",
     "text": [
      "{'loss': 0.0003, 'grad_norm': 0.004121669568121433, 'learning_rate': 4.6500000000000005e-05, 'epoch': 19.0}\n"
     ]
    },
    {
     "name": "stderr",
     "output_type": "stream",
     "text": [
      "                                                  \n",
      " 38%|███▊      | 570/1500 [03:23<05:04,  3.06it/s]"
     ]
    },
    {
     "name": "stdout",
     "output_type": "stream",
     "text": [
      "{'eval_loss': 0.00018975081911776215, 'eval_runtime': 0.3277, 'eval_samples_per_second': 180.061, 'eval_steps_per_second': 24.415, 'epoch': 19.0}\n"
     ]
    },
    {
     "name": "stderr",
     "output_type": "stream",
     "text": [
      " 39%|███▊      | 580/1500 [03:26<05:14,  2.93it/s]"
     ]
    },
    {
     "name": "stdout",
     "output_type": "stream",
     "text": [
      "{'loss': 0.0003, 'grad_norm': 0.00672291312366724, 'learning_rate': 4.600000000000001e-05, 'epoch': 19.33}\n"
     ]
    },
    {
     "name": "stderr",
     "output_type": "stream",
     "text": [
      " 39%|███▉      | 590/1500 [03:29<05:07,  2.96it/s]"
     ]
    },
    {
     "name": "stdout",
     "output_type": "stream",
     "text": [
      "{'loss': 0.0003, 'grad_norm': 0.004705086350440979, 'learning_rate': 4.55e-05, 'epoch': 19.67}\n"
     ]
    },
    {
     "name": "stderr",
     "output_type": "stream",
     "text": [
      " 40%|████      | 600/1500 [03:33<04:55,  3.05it/s]"
     ]
    },
    {
     "name": "stdout",
     "output_type": "stream",
     "text": [
      "{'loss': 0.0003, 'grad_norm': 0.010221980512142181, 'learning_rate': 4.5e-05, 'epoch': 20.0}\n"
     ]
    },
    {
     "name": "stderr",
     "output_type": "stream",
     "text": [
      "                                                  \n",
      " 40%|████      | 600/1500 [03:33<04:55,  3.05it/s]"
     ]
    },
    {
     "name": "stdout",
     "output_type": "stream",
     "text": [
      "{'eval_loss': 0.00017094363283831626, 'eval_runtime': 0.3308, 'eval_samples_per_second': 178.34, 'eval_steps_per_second': 24.182, 'epoch': 20.0}\n"
     ]
    },
    {
     "name": "stderr",
     "output_type": "stream",
     "text": [
      " 41%|████      | 610/1500 [03:36<05:03,  2.94it/s]"
     ]
    },
    {
     "name": "stdout",
     "output_type": "stream",
     "text": [
      "{'loss': 0.0003, 'grad_norm': 0.004128170665353537, 'learning_rate': 4.4500000000000004e-05, 'epoch': 20.33}\n"
     ]
    },
    {
     "name": "stderr",
     "output_type": "stream",
     "text": [
      " 41%|████▏     | 620/1500 [03:40<04:56,  2.97it/s]"
     ]
    },
    {
     "name": "stdout",
     "output_type": "stream",
     "text": [
      "{'loss': 0.0003, 'grad_norm': 0.004148968495428562, 'learning_rate': 4.4000000000000006e-05, 'epoch': 20.67}\n"
     ]
    },
    {
     "name": "stderr",
     "output_type": "stream",
     "text": [
      " 42%|████▏     | 630/1500 [03:43<04:46,  3.04it/s]"
     ]
    },
    {
     "name": "stdout",
     "output_type": "stream",
     "text": [
      "{'loss': 0.0002, 'grad_norm': 0.005801196675747633, 'learning_rate': 4.35e-05, 'epoch': 21.0}\n"
     ]
    },
    {
     "name": "stderr",
     "output_type": "stream",
     "text": [
      "                                                  \n",
      " 42%|████▏     | 630/1500 [03:44<04:46,  3.04it/s]"
     ]
    },
    {
     "name": "stdout",
     "output_type": "stream",
     "text": [
      "{'eval_loss': 0.00015574399731121957, 'eval_runtime': 0.3635, 'eval_samples_per_second': 162.319, 'eval_steps_per_second': 22.009, 'epoch': 21.0}\n"
     ]
    },
    {
     "name": "stderr",
     "output_type": "stream",
     "text": [
      " 43%|████▎     | 640/1500 [03:47<04:55,  2.91it/s]"
     ]
    },
    {
     "name": "stdout",
     "output_type": "stream",
     "text": [
      "{'loss': 0.0002, 'grad_norm': 0.004284354392439127, 'learning_rate': 4.3e-05, 'epoch': 21.33}\n"
     ]
    },
    {
     "name": "stderr",
     "output_type": "stream",
     "text": [
      " 43%|████▎     | 650/1500 [03:50<04:46,  2.97it/s]"
     ]
    },
    {
     "name": "stdout",
     "output_type": "stream",
     "text": [
      "{'loss': 0.0002, 'grad_norm': 0.0038560947868973017, 'learning_rate': 4.25e-05, 'epoch': 21.67}\n"
     ]
    },
    {
     "name": "stderr",
     "output_type": "stream",
     "text": [
      " 44%|████▍     | 660/1500 [03:54<04:38,  3.02it/s]"
     ]
    },
    {
     "name": "stdout",
     "output_type": "stream",
     "text": [
      "{'loss': 0.0002, 'grad_norm': 0.004808507394045591, 'learning_rate': 4.2e-05, 'epoch': 22.0}\n"
     ]
    },
    {
     "name": "stderr",
     "output_type": "stream",
     "text": [
      "                                                  \n",
      " 44%|████▍     | 660/1500 [03:54<04:38,  3.02it/s]"
     ]
    },
    {
     "name": "stdout",
     "output_type": "stream",
     "text": [
      "{'eval_loss': 0.00014325037773232907, 'eval_runtime': 0.3284, 'eval_samples_per_second': 179.679, 'eval_steps_per_second': 24.363, 'epoch': 22.0}\n"
     ]
    },
    {
     "name": "stderr",
     "output_type": "stream",
     "text": [
      " 45%|████▍     | 670/1500 [03:57<04:42,  2.94it/s]"
     ]
    },
    {
     "name": "stdout",
     "output_type": "stream",
     "text": [
      "{'loss': 0.0002, 'grad_norm': 0.003991642035543919, 'learning_rate': 4.15e-05, 'epoch': 22.33}\n"
     ]
    },
    {
     "name": "stderr",
     "output_type": "stream",
     "text": [
      " 45%|████▌     | 680/1500 [04:01<04:36,  2.97it/s]"
     ]
    },
    {
     "name": "stdout",
     "output_type": "stream",
     "text": [
      "{'loss': 0.0002, 'grad_norm': 0.0037362673319876194, 'learning_rate': 4.1e-05, 'epoch': 22.67}\n"
     ]
    },
    {
     "name": "stderr",
     "output_type": "stream",
     "text": [
      " 46%|████▌     | 690/1500 [04:04<04:25,  3.05it/s]"
     ]
    },
    {
     "name": "stdout",
     "output_type": "stream",
     "text": [
      "{'loss': 0.0002, 'grad_norm': 0.004773550666868687, 'learning_rate': 4.05e-05, 'epoch': 23.0}\n"
     ]
    },
    {
     "name": "stderr",
     "output_type": "stream",
     "text": [
      "                                                  \n",
      " 46%|████▌     | 690/1500 [04:04<04:25,  3.05it/s]"
     ]
    },
    {
     "name": "stdout",
     "output_type": "stream",
     "text": [
      "{'eval_loss': 0.0001326251367572695, 'eval_runtime': 0.3329, 'eval_samples_per_second': 177.24, 'eval_steps_per_second': 24.033, 'epoch': 23.0}\n"
     ]
    },
    {
     "name": "stderr",
     "output_type": "stream",
     "text": [
      " 47%|████▋     | 700/1500 [04:08<04:32,  2.93it/s]"
     ]
    },
    {
     "name": "stdout",
     "output_type": "stream",
     "text": [
      "{'loss': 0.0002, 'grad_norm': 0.0033088841009885073, 'learning_rate': 4e-05, 'epoch': 23.33}\n"
     ]
    },
    {
     "name": "stderr",
     "output_type": "stream",
     "text": [
      " 47%|████▋     | 710/1500 [04:11<04:26,  2.97it/s]"
     ]
    },
    {
     "name": "stdout",
     "output_type": "stream",
     "text": [
      "{'loss': 0.0002, 'grad_norm': 0.0038174488581717014, 'learning_rate': 3.9500000000000005e-05, 'epoch': 23.67}\n"
     ]
    },
    {
     "name": "stderr",
     "output_type": "stream",
     "text": [
      " 48%|████▊     | 720/1500 [04:15<04:14,  3.06it/s]"
     ]
    },
    {
     "name": "stdout",
     "output_type": "stream",
     "text": [
      "{'loss': 0.0002, 'grad_norm': 0.0031442244071513414, 'learning_rate': 3.9000000000000006e-05, 'epoch': 24.0}\n"
     ]
    },
    {
     "name": "stderr",
     "output_type": "stream",
     "text": [
      "                                                  \n",
      " 48%|████▊     | 720/1500 [04:15<04:14,  3.06it/s]"
     ]
    },
    {
     "name": "stdout",
     "output_type": "stream",
     "text": [
      "{'eval_loss': 0.00012432486983016133, 'eval_runtime': 0.3656, 'eval_samples_per_second': 161.383, 'eval_steps_per_second': 21.883, 'epoch': 24.0}\n"
     ]
    },
    {
     "name": "stderr",
     "output_type": "stream",
     "text": [
      " 49%|████▊     | 730/1500 [04:18<04:22,  2.93it/s]"
     ]
    },
    {
     "name": "stdout",
     "output_type": "stream",
     "text": [
      "{'loss': 0.0002, 'grad_norm': 0.003055920824408531, 'learning_rate': 3.85e-05, 'epoch': 24.33}\n"
     ]
    },
    {
     "name": "stderr",
     "output_type": "stream",
     "text": [
      " 49%|████▉     | 740/1500 [04:22<04:16,  2.97it/s]"
     ]
    },
    {
     "name": "stdout",
     "output_type": "stream",
     "text": [
      "{'loss': 0.0002, 'grad_norm': 0.003729382762685418, 'learning_rate': 3.8e-05, 'epoch': 24.67}\n"
     ]
    },
    {
     "name": "stderr",
     "output_type": "stream",
     "text": [
      " 50%|█████     | 750/1500 [04:25<04:04,  3.06it/s]"
     ]
    },
    {
     "name": "stdout",
     "output_type": "stream",
     "text": [
      "{'loss': 0.0002, 'grad_norm': 0.0033157956786453724, 'learning_rate': 3.7500000000000003e-05, 'epoch': 25.0}\n"
     ]
    },
    {
     "name": "stderr",
     "output_type": "stream",
     "text": [
      "                                                  \n",
      " 50%|█████     | 750/1500 [04:25<04:04,  3.06it/s]"
     ]
    },
    {
     "name": "stdout",
     "output_type": "stream",
     "text": [
      "{'eval_loss': 0.00011647631617961451, 'eval_runtime': 0.3266, 'eval_samples_per_second': 180.652, 'eval_steps_per_second': 24.495, 'epoch': 25.0}\n"
     ]
    },
    {
     "name": "stderr",
     "output_type": "stream",
     "text": [
      " 51%|█████     | 760/1500 [04:29<04:12,  2.93it/s]"
     ]
    },
    {
     "name": "stdout",
     "output_type": "stream",
     "text": [
      "{'loss': 0.0002, 'grad_norm': 0.003190933959558606, 'learning_rate': 3.7e-05, 'epoch': 25.33}\n"
     ]
    },
    {
     "name": "stderr",
     "output_type": "stream",
     "text": [
      " 51%|█████▏    | 770/1500 [04:32<04:07,  2.96it/s]"
     ]
    },
    {
     "name": "stdout",
     "output_type": "stream",
     "text": [
      "{'loss': 0.0002, 'grad_norm': 0.0037128038238734007, 'learning_rate': 3.65e-05, 'epoch': 25.67}\n"
     ]
    },
    {
     "name": "stderr",
     "output_type": "stream",
     "text": [
      " 52%|█████▏    | 780/1500 [04:36<04:00,  3.00it/s]"
     ]
    },
    {
     "name": "stdout",
     "output_type": "stream",
     "text": [
      "{'loss': 0.0002, 'grad_norm': 0.0035515539348125458, 'learning_rate': 3.6e-05, 'epoch': 26.0}\n"
     ]
    },
    {
     "name": "stderr",
     "output_type": "stream",
     "text": [
      "                                                  \n",
      " 52%|█████▏    | 780/1500 [04:36<04:00,  3.00it/s]"
     ]
    },
    {
     "name": "stdout",
     "output_type": "stream",
     "text": [
      "{'eval_loss': 0.00010999586811522022, 'eval_runtime': 0.3297, 'eval_samples_per_second': 178.941, 'eval_steps_per_second': 24.263, 'epoch': 26.0}\n"
     ]
    },
    {
     "name": "stderr",
     "output_type": "stream",
     "text": [
      " 53%|█████▎    | 790/1500 [04:39<04:04,  2.91it/s]"
     ]
    },
    {
     "name": "stdout",
     "output_type": "stream",
     "text": [
      "{'loss': 0.0002, 'grad_norm': 0.0028398248832672834, 'learning_rate': 3.55e-05, 'epoch': 26.33}\n"
     ]
    },
    {
     "name": "stderr",
     "output_type": "stream",
     "text": [
      " 53%|█████▎    | 800/1500 [04:43<03:55,  2.97it/s]"
     ]
    },
    {
     "name": "stdout",
     "output_type": "stream",
     "text": [
      "{'loss': 0.0002, 'grad_norm': 0.0032570832408964634, 'learning_rate': 3.5e-05, 'epoch': 26.67}\n"
     ]
    },
    {
     "name": "stderr",
     "output_type": "stream",
     "text": [
      " 54%|█████▍    | 810/1500 [04:46<03:48,  3.02it/s]"
     ]
    },
    {
     "name": "stdout",
     "output_type": "stream",
     "text": [
      "{'loss': 0.0002, 'grad_norm': 0.0037238115910440683, 'learning_rate': 3.45e-05, 'epoch': 27.0}\n"
     ]
    },
    {
     "name": "stderr",
     "output_type": "stream",
     "text": [
      "                                                  \n",
      " 54%|█████▍    | 810/1500 [04:46<03:48,  3.02it/s]"
     ]
    },
    {
     "name": "stdout",
     "output_type": "stream",
     "text": [
      "{'eval_loss': 0.00010425904474686831, 'eval_runtime': 0.336, 'eval_samples_per_second': 175.61, 'eval_steps_per_second': 23.812, 'epoch': 27.0}\n"
     ]
    },
    {
     "name": "stderr",
     "output_type": "stream",
     "text": [
      " 55%|█████▍    | 820/1500 [04:50<03:53,  2.91it/s]"
     ]
    },
    {
     "name": "stdout",
     "output_type": "stream",
     "text": [
      "{'loss': 0.0002, 'grad_norm': 0.002679910510778427, 'learning_rate': 3.4000000000000007e-05, 'epoch': 27.33}\n"
     ]
    },
    {
     "name": "stderr",
     "output_type": "stream",
     "text": [
      " 55%|█████▌    | 830/1500 [04:53<03:48,  2.94it/s]"
     ]
    },
    {
     "name": "stdout",
     "output_type": "stream",
     "text": [
      "{'loss': 0.0002, 'grad_norm': 0.0028100863564759493, 'learning_rate': 3.35e-05, 'epoch': 27.67}\n"
     ]
    },
    {
     "name": "stderr",
     "output_type": "stream",
     "text": [
      " 56%|█████▌    | 840/1500 [04:57<03:39,  3.01it/s]"
     ]
    },
    {
     "name": "stdout",
     "output_type": "stream",
     "text": [
      "{'loss': 0.0001, 'grad_norm': 0.002577619394287467, 'learning_rate': 3.3e-05, 'epoch': 28.0}\n"
     ]
    },
    {
     "name": "stderr",
     "output_type": "stream",
     "text": [
      "                                                  \n",
      " 56%|█████▌    | 840/1500 [04:57<03:39,  3.01it/s]"
     ]
    },
    {
     "name": "stdout",
     "output_type": "stream",
     "text": [
      "{'eval_loss': 9.940935706254095e-05, 'eval_runtime': 0.3373, 'eval_samples_per_second': 174.896, 'eval_steps_per_second': 23.715, 'epoch': 28.0}\n"
     ]
    },
    {
     "name": "stderr",
     "output_type": "stream",
     "text": [
      " 57%|█████▋    | 850/1500 [05:00<03:41,  2.94it/s]"
     ]
    },
    {
     "name": "stdout",
     "output_type": "stream",
     "text": [
      "{'loss': 0.0001, 'grad_norm': 0.0025898872409015894, 'learning_rate': 3.2500000000000004e-05, 'epoch': 28.33}\n"
     ]
    },
    {
     "name": "stderr",
     "output_type": "stream",
     "text": [
      " 57%|█████▋    | 860/1500 [05:04<03:35,  2.97it/s]"
     ]
    },
    {
     "name": "stdout",
     "output_type": "stream",
     "text": [
      "{'loss': 0.0001, 'grad_norm': 0.0022566423285752535, 'learning_rate': 3.2000000000000005e-05, 'epoch': 28.67}\n"
     ]
    },
    {
     "name": "stderr",
     "output_type": "stream",
     "text": [
      " 58%|█████▊    | 870/1500 [05:07<03:26,  3.05it/s]"
     ]
    },
    {
     "name": "stdout",
     "output_type": "stream",
     "text": [
      "{'loss': 0.0001, 'grad_norm': 0.0051058330573141575, 'learning_rate': 3.15e-05, 'epoch': 29.0}\n"
     ]
    },
    {
     "name": "stderr",
     "output_type": "stream",
     "text": [
      "                                                  \n",
      " 58%|█████▊    | 870/1500 [05:07<03:26,  3.05it/s]"
     ]
    },
    {
     "name": "stdout",
     "output_type": "stream",
     "text": [
      "{'eval_loss': 9.490928641753271e-05, 'eval_runtime': 0.3629, 'eval_samples_per_second': 162.584, 'eval_steps_per_second': 22.045, 'epoch': 29.0}\n"
     ]
    },
    {
     "name": "stderr",
     "output_type": "stream",
     "text": [
      " 59%|█████▊    | 880/1500 [05:11<03:31,  2.93it/s]"
     ]
    },
    {
     "name": "stdout",
     "output_type": "stream",
     "text": [
      "{'loss': 0.0001, 'grad_norm': 0.002395190764218569, 'learning_rate': 3.1e-05, 'epoch': 29.33}\n"
     ]
    },
    {
     "name": "stderr",
     "output_type": "stream",
     "text": [
      " 59%|█████▉    | 890/1500 [05:14<03:25,  2.97it/s]"
     ]
    },
    {
     "name": "stdout",
     "output_type": "stream",
     "text": [
      "{'loss': 0.0001, 'grad_norm': 0.002274327212944627, 'learning_rate': 3.05e-05, 'epoch': 29.67}\n"
     ]
    },
    {
     "name": "stderr",
     "output_type": "stream",
     "text": [
      " 60%|██████    | 900/1500 [05:18<03:16,  3.06it/s]"
     ]
    },
    {
     "name": "stdout",
     "output_type": "stream",
     "text": [
      "{'loss': 0.0001, 'grad_norm': 0.0022905603982508183, 'learning_rate': 3e-05, 'epoch': 30.0}\n"
     ]
    },
    {
     "name": "stderr",
     "output_type": "stream",
     "text": [
      "                                                  \n",
      " 60%|██████    | 900/1500 [05:18<03:16,  3.06it/s]"
     ]
    },
    {
     "name": "stdout",
     "output_type": "stream",
     "text": [
      "{'eval_loss': 9.061733726412058e-05, 'eval_runtime': 0.3285, 'eval_samples_per_second': 179.611, 'eval_steps_per_second': 24.354, 'epoch': 30.0}\n"
     ]
    },
    {
     "name": "stderr",
     "output_type": "stream",
     "text": [
      " 61%|██████    | 910/1500 [05:21<03:21,  2.93it/s]"
     ]
    },
    {
     "name": "stdout",
     "output_type": "stream",
     "text": [
      "{'loss': 0.0001, 'grad_norm': 0.002675343072041869, 'learning_rate': 2.95e-05, 'epoch': 30.33}\n"
     ]
    },
    {
     "name": "stderr",
     "output_type": "stream",
     "text": [
      " 61%|██████▏   | 920/1500 [05:25<03:15,  2.96it/s]"
     ]
    },
    {
     "name": "stdout",
     "output_type": "stream",
     "text": [
      "{'loss': 0.0001, 'grad_norm': 0.0026784895453602076, 'learning_rate': 2.9e-05, 'epoch': 30.67}\n"
     ]
    },
    {
     "name": "stderr",
     "output_type": "stream",
     "text": [
      " 62%|██████▏   | 930/1500 [05:28<03:05,  3.07it/s]"
     ]
    },
    {
     "name": "stdout",
     "output_type": "stream",
     "text": [
      "{'loss': 0.0001, 'grad_norm': 0.0030053132213652134, 'learning_rate': 2.8499999999999998e-05, 'epoch': 31.0}\n"
     ]
    },
    {
     "name": "stderr",
     "output_type": "stream",
     "text": [
      "                                                  \n",
      " 62%|██████▏   | 930/1500 [05:28<03:05,  3.07it/s]"
     ]
    },
    {
     "name": "stdout",
     "output_type": "stream",
     "text": [
      "{'eval_loss': 8.730545232538134e-05, 'eval_runtime': 0.3308, 'eval_samples_per_second': 178.374, 'eval_steps_per_second': 24.186, 'epoch': 31.0}\n"
     ]
    },
    {
     "name": "stderr",
     "output_type": "stream",
     "text": [
      " 63%|██████▎   | 940/1500 [05:32<03:11,  2.93it/s]"
     ]
    },
    {
     "name": "stdout",
     "output_type": "stream",
     "text": [
      "{'loss': 0.0001, 'grad_norm': 0.00229508220218122, 'learning_rate': 2.8000000000000003e-05, 'epoch': 31.33}\n"
     ]
    },
    {
     "name": "stderr",
     "output_type": "stream",
     "text": [
      " 63%|██████▎   | 950/1500 [05:35<03:05,  2.96it/s]"
     ]
    },
    {
     "name": "stdout",
     "output_type": "stream",
     "text": [
      "{'loss': 0.0001, 'grad_norm': 0.00218142569065094, 'learning_rate': 2.7500000000000004e-05, 'epoch': 31.67}\n"
     ]
    },
    {
     "name": "stderr",
     "output_type": "stream",
     "text": [
      " 64%|██████▍   | 960/1500 [05:38<02:56,  3.06it/s]"
     ]
    },
    {
     "name": "stdout",
     "output_type": "stream",
     "text": [
      "{'loss': 0.0001, 'grad_norm': 0.002887640381231904, 'learning_rate': 2.7000000000000002e-05, 'epoch': 32.0}\n"
     ]
    },
    {
     "name": "stderr",
     "output_type": "stream",
     "text": [
      "                                                  \n",
      " 64%|██████▍   | 960/1500 [05:39<02:56,  3.06it/s]"
     ]
    },
    {
     "name": "stdout",
     "output_type": "stream",
     "text": [
      "{'eval_loss': 8.383596286876127e-05, 'eval_runtime': 0.3325, 'eval_samples_per_second': 177.462, 'eval_steps_per_second': 24.063, 'epoch': 32.0}\n"
     ]
    },
    {
     "name": "stderr",
     "output_type": "stream",
     "text": [
      " 65%|██████▍   | 970/1500 [05:42<03:00,  2.93it/s]"
     ]
    },
    {
     "name": "stdout",
     "output_type": "stream",
     "text": [
      "{'loss': 0.0001, 'grad_norm': 0.0037698487285524607, 'learning_rate': 2.6500000000000004e-05, 'epoch': 32.33}\n"
     ]
    },
    {
     "name": "stderr",
     "output_type": "stream",
     "text": [
      " 65%|██████▌   | 980/1500 [05:46<02:55,  2.96it/s]"
     ]
    },
    {
     "name": "stdout",
     "output_type": "stream",
     "text": [
      "{'loss': 0.0001, 'grad_norm': 0.00183938629925251, 'learning_rate': 2.6000000000000002e-05, 'epoch': 32.67}\n"
     ]
    },
    {
     "name": "stderr",
     "output_type": "stream",
     "text": [
      " 66%|██████▌   | 990/1500 [05:49<02:47,  3.05it/s]"
     ]
    },
    {
     "name": "stdout",
     "output_type": "stream",
     "text": [
      "{'loss': 0.0001, 'grad_norm': 0.003575096372514963, 'learning_rate': 2.5500000000000003e-05, 'epoch': 33.0}\n"
     ]
    },
    {
     "name": "stderr",
     "output_type": "stream",
     "text": [
      "                                                  \n",
      " 66%|██████▌   | 990/1500 [05:49<02:47,  3.05it/s]"
     ]
    },
    {
     "name": "stdout",
     "output_type": "stream",
     "text": [
      "{'eval_loss': 8.083931606961414e-05, 'eval_runtime': 0.3275, 'eval_samples_per_second': 180.13, 'eval_steps_per_second': 24.424, 'epoch': 33.0}\n"
     ]
    },
    {
     "name": "stderr",
     "output_type": "stream",
     "text": [
      " 67%|██████▋   | 1000/1500 [05:53<02:52,  2.90it/s]"
     ]
    },
    {
     "name": "stdout",
     "output_type": "stream",
     "text": [
      "{'loss': 0.0001, 'grad_norm': 0.0020889793522655964, 'learning_rate': 2.5e-05, 'epoch': 33.33}\n"
     ]
    },
    {
     "name": "stderr",
     "output_type": "stream",
     "text": [
      " 67%|██████▋   | 1010/1500 [05:58<02:59,  2.73it/s]"
     ]
    },
    {
     "name": "stdout",
     "output_type": "stream",
     "text": [
      "{'loss': 0.0001, 'grad_norm': 0.0019144502002745867, 'learning_rate': 2.45e-05, 'epoch': 33.67}\n"
     ]
    },
    {
     "name": "stderr",
     "output_type": "stream",
     "text": [
      " 68%|██████▊   | 1020/1500 [06:02<02:41,  2.98it/s]"
     ]
    },
    {
     "name": "stdout",
     "output_type": "stream",
     "text": [
      "{'loss': 0.0001, 'grad_norm': 0.002584288828074932, 'learning_rate': 2.4e-05, 'epoch': 34.0}\n"
     ]
    },
    {
     "name": "stderr",
     "output_type": "stream",
     "text": [
      "                                                   \n",
      " 68%|██████▊   | 1020/1500 [06:02<02:41,  2.98it/s]"
     ]
    },
    {
     "name": "stdout",
     "output_type": "stream",
     "text": [
      "{'eval_loss': 7.833976997062564e-05, 'eval_runtime': 0.3313, 'eval_samples_per_second': 178.102, 'eval_steps_per_second': 24.149, 'epoch': 34.0}\n"
     ]
    },
    {
     "name": "stderr",
     "output_type": "stream",
     "text": [
      " 69%|██████▊   | 1030/1500 [06:05<02:40,  2.92it/s]"
     ]
    },
    {
     "name": "stdout",
     "output_type": "stream",
     "text": [
      "{'loss': 0.0001, 'grad_norm': 0.0022895645815879107, 'learning_rate': 2.35e-05, 'epoch': 34.33}\n"
     ]
    },
    {
     "name": "stderr",
     "output_type": "stream",
     "text": [
      " 69%|██████▉   | 1040/1500 [06:09<02:35,  2.96it/s]"
     ]
    },
    {
     "name": "stdout",
     "output_type": "stream",
     "text": [
      "{'loss': 0.0001, 'grad_norm': 0.0018976592691615224, 'learning_rate': 2.3000000000000003e-05, 'epoch': 34.67}\n"
     ]
    },
    {
     "name": "stderr",
     "output_type": "stream",
     "text": [
      " 70%|███████   | 1050/1500 [06:12<02:27,  3.06it/s]"
     ]
    },
    {
     "name": "stdout",
     "output_type": "stream",
     "text": [
      "{'loss': 0.0001, 'grad_norm': 0.0020646657794713974, 'learning_rate': 2.25e-05, 'epoch': 35.0}\n"
     ]
    },
    {
     "name": "stderr",
     "output_type": "stream",
     "text": [
      "                                                   \n",
      " 70%|███████   | 1050/1500 [06:12<02:27,  3.06it/s]"
     ]
    },
    {
     "name": "stdout",
     "output_type": "stream",
     "text": [
      "{'eval_loss': 7.587455911561847e-05, 'eval_runtime': 0.3493, 'eval_samples_per_second': 168.885, 'eval_steps_per_second': 22.9, 'epoch': 35.0}\n"
     ]
    },
    {
     "name": "stderr",
     "output_type": "stream",
     "text": [
      " 71%|███████   | 1060/1500 [06:16<02:31,  2.91it/s]"
     ]
    },
    {
     "name": "stdout",
     "output_type": "stream",
     "text": [
      "{'loss': 0.0001, 'grad_norm': 0.0020603288430720568, 'learning_rate': 2.2000000000000003e-05, 'epoch': 35.33}\n"
     ]
    },
    {
     "name": "stderr",
     "output_type": "stream",
     "text": [
      " 71%|███████▏  | 1070/1500 [06:19<02:24,  2.97it/s]"
     ]
    },
    {
     "name": "stdout",
     "output_type": "stream",
     "text": [
      "{'loss': 0.0001, 'grad_norm': 0.002112769987434149, 'learning_rate': 2.15e-05, 'epoch': 35.67}\n"
     ]
    },
    {
     "name": "stderr",
     "output_type": "stream",
     "text": [
      " 72%|███████▏  | 1080/1500 [06:23<02:17,  3.06it/s]"
     ]
    },
    {
     "name": "stdout",
     "output_type": "stream",
     "text": [
      "{'loss': 0.0001, 'grad_norm': 0.0023808307014405727, 'learning_rate': 2.1e-05, 'epoch': 36.0}\n"
     ]
    },
    {
     "name": "stderr",
     "output_type": "stream",
     "text": [
      "                                                   \n",
      " 72%|███████▏  | 1080/1500 [06:23<02:17,  3.06it/s]"
     ]
    },
    {
     "name": "stdout",
     "output_type": "stream",
     "text": [
      "{'eval_loss': 7.370033563347533e-05, 'eval_runtime': 0.3273, 'eval_samples_per_second': 180.285, 'eval_steps_per_second': 24.445, 'epoch': 36.0}\n"
     ]
    },
    {
     "name": "stderr",
     "output_type": "stream",
     "text": [
      " 73%|███████▎  | 1090/1500 [06:26<02:19,  2.93it/s]"
     ]
    },
    {
     "name": "stdout",
     "output_type": "stream",
     "text": [
      "{'loss': 0.0001, 'grad_norm': 0.004066396038979292, 'learning_rate': 2.05e-05, 'epoch': 36.33}\n"
     ]
    },
    {
     "name": "stderr",
     "output_type": "stream",
     "text": [
      " 73%|███████▎  | 1100/1500 [06:30<02:14,  2.96it/s]"
     ]
    },
    {
     "name": "stdout",
     "output_type": "stream",
     "text": [
      "{'loss': 0.0001, 'grad_norm': 0.0017668831860646605, 'learning_rate': 2e-05, 'epoch': 36.67}\n"
     ]
    },
    {
     "name": "stderr",
     "output_type": "stream",
     "text": [
      " 74%|███████▍  | 1110/1500 [06:33<02:07,  3.06it/s]"
     ]
    },
    {
     "name": "stdout",
     "output_type": "stream",
     "text": [
      "{'loss': 0.0001, 'grad_norm': 0.0022259349934756756, 'learning_rate': 1.9500000000000003e-05, 'epoch': 37.0}\n"
     ]
    },
    {
     "name": "stderr",
     "output_type": "stream",
     "text": [
      "                                                   \n",
      " 74%|███████▍  | 1110/1500 [06:33<02:07,  3.06it/s]"
     ]
    },
    {
     "name": "stdout",
     "output_type": "stream",
     "text": [
      "{'eval_loss': 7.187164737842977e-05, 'eval_runtime': 0.3284, 'eval_samples_per_second': 179.673, 'eval_steps_per_second': 24.362, 'epoch': 37.0}\n"
     ]
    },
    {
     "name": "stderr",
     "output_type": "stream",
     "text": [
      " 75%|███████▍  | 1120/1500 [06:37<02:09,  2.94it/s]"
     ]
    },
    {
     "name": "stdout",
     "output_type": "stream",
     "text": [
      "{'loss': 0.0001, 'grad_norm': 0.001932106213644147, 'learning_rate': 1.9e-05, 'epoch': 37.33}\n"
     ]
    },
    {
     "name": "stderr",
     "output_type": "stream",
     "text": [
      " 75%|███████▌  | 1130/1500 [06:40<02:04,  2.97it/s]"
     ]
    },
    {
     "name": "stdout",
     "output_type": "stream",
     "text": [
      "{'loss': 0.0001, 'grad_norm': 0.0023962222039699554, 'learning_rate': 1.85e-05, 'epoch': 37.67}\n"
     ]
    },
    {
     "name": "stderr",
     "output_type": "stream",
     "text": [
      " 76%|███████▌  | 1140/1500 [06:44<01:57,  3.06it/s]"
     ]
    },
    {
     "name": "stdout",
     "output_type": "stream",
     "text": [
      "{'loss': 0.0001, 'grad_norm': 0.001860545831732452, 'learning_rate': 1.8e-05, 'epoch': 38.0}\n"
     ]
    },
    {
     "name": "stderr",
     "output_type": "stream",
     "text": [
      "                                                   \n",
      " 76%|███████▌  | 1140/1500 [06:44<01:57,  3.06it/s]"
     ]
    },
    {
     "name": "stdout",
     "output_type": "stream",
     "text": [
      "{'eval_loss': 7.024100341368467e-05, 'eval_runtime': 0.3311, 'eval_samples_per_second': 178.196, 'eval_steps_per_second': 24.162, 'epoch': 38.0}\n"
     ]
    },
    {
     "name": "stderr",
     "output_type": "stream",
     "text": [
      " 77%|███████▋  | 1150/1500 [06:47<01:59,  2.94it/s]"
     ]
    },
    {
     "name": "stdout",
     "output_type": "stream",
     "text": [
      "{'loss': 0.0001, 'grad_norm': 0.0016721367137506604, 'learning_rate': 1.75e-05, 'epoch': 38.33}\n"
     ]
    },
    {
     "name": "stderr",
     "output_type": "stream",
     "text": [
      " 77%|███████▋  | 1160/1500 [06:51<01:54,  2.97it/s]"
     ]
    },
    {
     "name": "stdout",
     "output_type": "stream",
     "text": [
      "{'loss': 0.0001, 'grad_norm': 0.0022023285273462534, 'learning_rate': 1.7000000000000003e-05, 'epoch': 38.67}\n"
     ]
    },
    {
     "name": "stderr",
     "output_type": "stream",
     "text": [
      " 78%|███████▊  | 1170/1500 [06:54<01:47,  3.06it/s]"
     ]
    },
    {
     "name": "stdout",
     "output_type": "stream",
     "text": [
      "{'loss': 0.0001, 'grad_norm': 0.0019494619918987155, 'learning_rate': 1.65e-05, 'epoch': 39.0}\n"
     ]
    },
    {
     "name": "stderr",
     "output_type": "stream",
     "text": [
      "                                                   \n",
      " 78%|███████▊  | 1170/1500 [06:54<01:47,  3.06it/s]"
     ]
    },
    {
     "name": "stdout",
     "output_type": "stream",
     "text": [
      "{'eval_loss': 6.870934885228053e-05, 'eval_runtime': 0.3283, 'eval_samples_per_second': 179.735, 'eval_steps_per_second': 24.371, 'epoch': 39.0}\n"
     ]
    },
    {
     "name": "stderr",
     "output_type": "stream",
     "text": [
      " 79%|███████▊  | 1180/1500 [06:58<01:48,  2.94it/s]"
     ]
    },
    {
     "name": "stdout",
     "output_type": "stream",
     "text": [
      "{'loss': 0.0001, 'grad_norm': 0.0020210212096571922, 'learning_rate': 1.6000000000000003e-05, 'epoch': 39.33}\n"
     ]
    },
    {
     "name": "stderr",
     "output_type": "stream",
     "text": [
      " 79%|███████▉  | 1190/1500 [07:01<01:44,  2.97it/s]"
     ]
    },
    {
     "name": "stdout",
     "output_type": "stream",
     "text": [
      "{'loss': 0.0001, 'grad_norm': 0.0021332823671400547, 'learning_rate': 1.55e-05, 'epoch': 39.67}\n"
     ]
    },
    {
     "name": "stderr",
     "output_type": "stream",
     "text": [
      " 80%|████████  | 1200/1500 [07:04<01:37,  3.06it/s]"
     ]
    },
    {
     "name": "stdout",
     "output_type": "stream",
     "text": [
      "{'loss': 0.0001, 'grad_norm': 0.004033771343529224, 'learning_rate': 1.5e-05, 'epoch': 40.0}\n"
     ]
    },
    {
     "name": "stderr",
     "output_type": "stream",
     "text": [
      "                                                   \n",
      " 80%|████████  | 1200/1500 [07:05<01:37,  3.06it/s]"
     ]
    },
    {
     "name": "stdout",
     "output_type": "stream",
     "text": [
      "{'eval_loss': 6.730299355695024e-05, 'eval_runtime': 0.3295, 'eval_samples_per_second': 179.034, 'eval_steps_per_second': 24.276, 'epoch': 40.0}\n"
     ]
    },
    {
     "name": "stderr",
     "output_type": "stream",
     "text": [
      " 81%|████████  | 1210/1500 [07:08<01:38,  2.94it/s]"
     ]
    },
    {
     "name": "stdout",
     "output_type": "stream",
     "text": [
      "{'loss': 0.0001, 'grad_norm': 0.0018764038104563951, 'learning_rate': 1.45e-05, 'epoch': 40.33}\n"
     ]
    },
    {
     "name": "stderr",
     "output_type": "stream",
     "text": [
      " 81%|████████▏ | 1220/1500 [07:12<01:34,  2.97it/s]"
     ]
    },
    {
     "name": "stdout",
     "output_type": "stream",
     "text": [
      "{'loss': 0.0001, 'grad_norm': 0.0014986322494223714, 'learning_rate': 1.4000000000000001e-05, 'epoch': 40.67}\n"
     ]
    },
    {
     "name": "stderr",
     "output_type": "stream",
     "text": [
      " 82%|████████▏ | 1230/1500 [07:15<01:28,  3.06it/s]"
     ]
    },
    {
     "name": "stdout",
     "output_type": "stream",
     "text": [
      "{'loss': 0.0001, 'grad_norm': 0.0019254910293966532, 'learning_rate': 1.3500000000000001e-05, 'epoch': 41.0}\n"
     ]
    },
    {
     "name": "stderr",
     "output_type": "stream",
     "text": [
      "                                                   \n",
      " 82%|████████▏ | 1230/1500 [07:15<01:28,  3.06it/s]"
     ]
    },
    {
     "name": "stdout",
     "output_type": "stream",
     "text": [
      "{'eval_loss': 6.605423550354317e-05, 'eval_runtime': 0.3291, 'eval_samples_per_second': 179.26, 'eval_steps_per_second': 24.306, 'epoch': 41.0}\n"
     ]
    },
    {
     "name": "stderr",
     "output_type": "stream",
     "text": [
      " 83%|████████▎ | 1240/1500 [07:19<01:28,  2.94it/s]"
     ]
    },
    {
     "name": "stdout",
     "output_type": "stream",
     "text": [
      "{'loss': 0.0001, 'grad_norm': 0.001693899161182344, 'learning_rate': 1.3000000000000001e-05, 'epoch': 41.33}\n"
     ]
    },
    {
     "name": "stderr",
     "output_type": "stream",
     "text": [
      " 83%|████████▎ | 1250/1500 [07:22<01:24,  2.97it/s]"
     ]
    },
    {
     "name": "stdout",
     "output_type": "stream",
     "text": [
      "{'loss': 0.0001, 'grad_norm': 0.00243524182587862, 'learning_rate': 1.25e-05, 'epoch': 41.67}\n"
     ]
    },
    {
     "name": "stderr",
     "output_type": "stream",
     "text": [
      " 84%|████████▍ | 1260/1500 [07:25<01:19,  3.03it/s]"
     ]
    },
    {
     "name": "stdout",
     "output_type": "stream",
     "text": [
      "{'loss': 0.0001, 'grad_norm': 0.0034511741250753403, 'learning_rate': 1.2e-05, 'epoch': 42.0}\n"
     ]
    },
    {
     "name": "stderr",
     "output_type": "stream",
     "text": [
      "                                                   \n",
      " 84%|████████▍ | 1260/1500 [07:26<01:19,  3.03it/s]"
     ]
    },
    {
     "name": "stdout",
     "output_type": "stream",
     "text": [
      "{'eval_loss': 6.49287539999932e-05, 'eval_runtime': 0.3281, 'eval_samples_per_second': 179.83, 'eval_steps_per_second': 24.384, 'epoch': 42.0}\n"
     ]
    },
    {
     "name": "stderr",
     "output_type": "stream",
     "text": [
      " 85%|████████▍ | 1270/1500 [07:29<01:18,  2.94it/s]"
     ]
    },
    {
     "name": "stdout",
     "output_type": "stream",
     "text": [
      "{'loss': 0.0001, 'grad_norm': 0.0019448749953880906, 'learning_rate': 1.1500000000000002e-05, 'epoch': 42.33}\n"
     ]
    },
    {
     "name": "stderr",
     "output_type": "stream",
     "text": [
      " 85%|████████▌ | 1280/1500 [07:32<01:14,  2.97it/s]"
     ]
    },
    {
     "name": "stdout",
     "output_type": "stream",
     "text": [
      "{'loss': 0.0001, 'grad_norm': 0.0019354360410943627, 'learning_rate': 1.1000000000000001e-05, 'epoch': 42.67}\n"
     ]
    },
    {
     "name": "stderr",
     "output_type": "stream",
     "text": [
      " 86%|████████▌ | 1290/1500 [07:36<01:08,  3.06it/s]"
     ]
    },
    {
     "name": "stdout",
     "output_type": "stream",
     "text": [
      "{'loss': 0.0001, 'grad_norm': 0.002233816310763359, 'learning_rate': 1.05e-05, 'epoch': 43.0}\n"
     ]
    },
    {
     "name": "stderr",
     "output_type": "stream",
     "text": [
      "                                                   \n",
      " 86%|████████▌ | 1290/1500 [07:36<01:08,  3.06it/s]"
     ]
    },
    {
     "name": "stdout",
     "output_type": "stream",
     "text": [
      "{'eval_loss': 6.393460353137925e-05, 'eval_runtime': 0.3304, 'eval_samples_per_second': 178.58, 'eval_steps_per_second': 24.214, 'epoch': 43.0}\n"
     ]
    },
    {
     "name": "stderr",
     "output_type": "stream",
     "text": [
      " 87%|████████▋ | 1300/1500 [07:40<01:08,  2.94it/s]"
     ]
    },
    {
     "name": "stdout",
     "output_type": "stream",
     "text": [
      "{'loss': 0.0001, 'grad_norm': 0.0034294729121029377, 'learning_rate': 1e-05, 'epoch': 43.33}\n"
     ]
    },
    {
     "name": "stderr",
     "output_type": "stream",
     "text": [
      " 87%|████████▋ | 1310/1500 [07:43<01:03,  2.97it/s]"
     ]
    },
    {
     "name": "stdout",
     "output_type": "stream",
     "text": [
      "{'loss': 0.0001, 'grad_norm': 0.0017909301677718759, 'learning_rate': 9.5e-06, 'epoch': 43.67}\n"
     ]
    },
    {
     "name": "stderr",
     "output_type": "stream",
     "text": [
      " 88%|████████▊ | 1320/1500 [07:46<00:58,  3.06it/s]"
     ]
    },
    {
     "name": "stdout",
     "output_type": "stream",
     "text": [
      "{'loss': 0.0001, 'grad_norm': 0.0019819922745227814, 'learning_rate': 9e-06, 'epoch': 44.0}\n"
     ]
    },
    {
     "name": "stderr",
     "output_type": "stream",
     "text": [
      "                                                   \n",
      " 88%|████████▊ | 1320/1500 [07:47<00:58,  3.06it/s]"
     ]
    },
    {
     "name": "stdout",
     "output_type": "stream",
     "text": [
      "{'eval_loss': 6.313039193628356e-05, 'eval_runtime': 0.328, 'eval_samples_per_second': 179.877, 'eval_steps_per_second': 24.39, 'epoch': 44.0}\n"
     ]
    },
    {
     "name": "stderr",
     "output_type": "stream",
     "text": [
      " 89%|████████▊ | 1330/1500 [07:50<00:57,  2.93it/s]"
     ]
    },
    {
     "name": "stdout",
     "output_type": "stream",
     "text": [
      "{'loss': 0.0001, 'grad_norm': 0.0015935241244733334, 'learning_rate': 8.500000000000002e-06, 'epoch': 44.33}\n"
     ]
    },
    {
     "name": "stderr",
     "output_type": "stream",
     "text": [
      " 89%|████████▉ | 1340/1500 [07:53<00:54,  2.96it/s]"
     ]
    },
    {
     "name": "stdout",
     "output_type": "stream",
     "text": [
      "{'loss': 0.0001, 'grad_norm': 0.0017646211199462414, 'learning_rate': 8.000000000000001e-06, 'epoch': 44.67}\n"
     ]
    },
    {
     "name": "stderr",
     "output_type": "stream",
     "text": [
      " 90%|█████████ | 1350/1500 [07:57<00:48,  3.06it/s]"
     ]
    },
    {
     "name": "stdout",
     "output_type": "stream",
     "text": [
      "{'loss': 0.0001, 'grad_norm': 0.0018039565766230226, 'learning_rate': 7.5e-06, 'epoch': 45.0}\n"
     ]
    },
    {
     "name": "stderr",
     "output_type": "stream",
     "text": [
      "                                                   \n",
      " 90%|█████████ | 1350/1500 [07:57<00:48,  3.06it/s]"
     ]
    },
    {
     "name": "stdout",
     "output_type": "stream",
     "text": [
      "{'eval_loss': 6.245954864425585e-05, 'eval_runtime': 0.3288, 'eval_samples_per_second': 179.446, 'eval_steps_per_second': 24.332, 'epoch': 45.0}\n"
     ]
    },
    {
     "name": "stderr",
     "output_type": "stream",
     "text": [
      " 91%|█████████ | 1360/1500 [08:00<00:47,  2.93it/s]"
     ]
    },
    {
     "name": "stdout",
     "output_type": "stream",
     "text": [
      "{'loss': 0.0001, 'grad_norm': 0.0018674117745831609, 'learning_rate': 7.000000000000001e-06, 'epoch': 45.33}\n"
     ]
    },
    {
     "name": "stderr",
     "output_type": "stream",
     "text": [
      " 91%|█████████▏| 1370/1500 [08:04<00:44,  2.95it/s]"
     ]
    },
    {
     "name": "stdout",
     "output_type": "stream",
     "text": [
      "{'loss': 0.0001, 'grad_norm': 0.0015586907975375652, 'learning_rate': 6.5000000000000004e-06, 'epoch': 45.67}\n"
     ]
    },
    {
     "name": "stderr",
     "output_type": "stream",
     "text": [
      " 92%|█████████▏| 1380/1500 [08:07<00:39,  3.05it/s]"
     ]
    },
    {
     "name": "stdout",
     "output_type": "stream",
     "text": [
      "{'loss': 0.0001, 'grad_norm': 0.002500680508092046, 'learning_rate': 6e-06, 'epoch': 46.0}\n"
     ]
    },
    {
     "name": "stderr",
     "output_type": "stream",
     "text": [
      "                                                   \n",
      " 92%|█████████▏| 1380/1500 [08:08<00:39,  3.05it/s]"
     ]
    },
    {
     "name": "stdout",
     "output_type": "stream",
     "text": [
      "{'eval_loss': 6.192003638716415e-05, 'eval_runtime': 0.329, 'eval_samples_per_second': 179.322, 'eval_steps_per_second': 24.315, 'epoch': 46.0}\n"
     ]
    },
    {
     "name": "stderr",
     "output_type": "stream",
     "text": [
      " 93%|█████████▎| 1390/1500 [08:11<00:37,  2.93it/s]"
     ]
    },
    {
     "name": "stdout",
     "output_type": "stream",
     "text": [
      "{'loss': 0.0001, 'grad_norm': 0.0015319710364565253, 'learning_rate': 5.500000000000001e-06, 'epoch': 46.33}\n"
     ]
    },
    {
     "name": "stderr",
     "output_type": "stream",
     "text": [
      " 93%|█████████▎| 1400/1500 [08:14<00:33,  2.97it/s]"
     ]
    },
    {
     "name": "stdout",
     "output_type": "stream",
     "text": [
      "{'loss': 0.0001, 'grad_norm': 0.0015098094008862972, 'learning_rate': 5e-06, 'epoch': 46.67}\n"
     ]
    },
    {
     "name": "stderr",
     "output_type": "stream",
     "text": [
      " 94%|█████████▍| 1410/1500 [08:18<00:29,  3.06it/s]"
     ]
    },
    {
     "name": "stdout",
     "output_type": "stream",
     "text": [
      "{'loss': 0.0001, 'grad_norm': 0.0015109609812498093, 'learning_rate': 4.5e-06, 'epoch': 47.0}\n"
     ]
    },
    {
     "name": "stderr",
     "output_type": "stream",
     "text": [
      "                                                   \n",
      " 94%|█████████▍| 1410/1500 [08:18<00:29,  3.06it/s]"
     ]
    },
    {
     "name": "stdout",
     "output_type": "stream",
     "text": [
      "{'eval_loss': 6.15118769928813e-05, 'eval_runtime': 0.3283, 'eval_samples_per_second': 179.732, 'eval_steps_per_second': 24.37, 'epoch': 47.0}\n"
     ]
    },
    {
     "name": "stderr",
     "output_type": "stream",
     "text": [
      " 95%|█████████▍| 1420/1500 [08:21<00:27,  2.93it/s]"
     ]
    },
    {
     "name": "stdout",
     "output_type": "stream",
     "text": [
      "{'loss': 0.0001, 'grad_norm': 0.001998133258894086, 'learning_rate': 4.000000000000001e-06, 'epoch': 47.33}\n"
     ]
    },
    {
     "name": "stderr",
     "output_type": "stream",
     "text": [
      " 95%|█████████▌| 1430/1500 [08:25<00:23,  2.97it/s]"
     ]
    },
    {
     "name": "stdout",
     "output_type": "stream",
     "text": [
      "{'loss': 0.0001, 'grad_norm': 0.0016069381963461637, 'learning_rate': 3.5000000000000004e-06, 'epoch': 47.67}\n"
     ]
    },
    {
     "name": "stderr",
     "output_type": "stream",
     "text": [
      " 96%|█████████▌| 1440/1500 [08:28<00:19,  3.06it/s]"
     ]
    },
    {
     "name": "stdout",
     "output_type": "stream",
     "text": [
      "{'loss': 0.0001, 'grad_norm': 0.002478568581864238, 'learning_rate': 3e-06, 'epoch': 48.0}\n"
     ]
    },
    {
     "name": "stderr",
     "output_type": "stream",
     "text": [
      "                                                   \n",
      " 96%|█████████▌| 1440/1500 [08:28<00:19,  3.06it/s]"
     ]
    },
    {
     "name": "stdout",
     "output_type": "stream",
     "text": [
      "{'eval_loss': 6.120272155385464e-05, 'eval_runtime': 0.3279, 'eval_samples_per_second': 179.915, 'eval_steps_per_second': 24.395, 'epoch': 48.0}\n"
     ]
    },
    {
     "name": "stderr",
     "output_type": "stream",
     "text": [
      " 97%|█████████▋| 1450/1500 [08:32<00:17,  2.93it/s]"
     ]
    },
    {
     "name": "stdout",
     "output_type": "stream",
     "text": [
      "{'loss': 0.0001, 'grad_norm': 0.0013752616941928864, 'learning_rate': 2.5e-06, 'epoch': 48.33}\n"
     ]
    },
    {
     "name": "stderr",
     "output_type": "stream",
     "text": [
      " 97%|█████████▋| 1460/1500 [08:35<00:13,  2.97it/s]"
     ]
    },
    {
     "name": "stdout",
     "output_type": "stream",
     "text": [
      "{'loss': 0.0001, 'grad_norm': 0.0016493207076564431, 'learning_rate': 2.0000000000000003e-06, 'epoch': 48.67}\n"
     ]
    },
    {
     "name": "stderr",
     "output_type": "stream",
     "text": [
      " 98%|█████████▊| 1470/1500 [08:39<00:09,  3.06it/s]"
     ]
    },
    {
     "name": "stdout",
     "output_type": "stream",
     "text": [
      "{'loss': 0.0001, 'grad_norm': 0.0017246822826564312, 'learning_rate': 1.5e-06, 'epoch': 49.0}\n"
     ]
    },
    {
     "name": "stderr",
     "output_type": "stream",
     "text": [
      "                                                   \n",
      " 98%|█████████▊| 1470/1500 [08:39<00:09,  3.06it/s]"
     ]
    },
    {
     "name": "stdout",
     "output_type": "stream",
     "text": [
      "{'eval_loss': 6.101480539655313e-05, 'eval_runtime': 0.3312, 'eval_samples_per_second': 178.151, 'eval_steps_per_second': 24.156, 'epoch': 49.0}\n"
     ]
    },
    {
     "name": "stderr",
     "output_type": "stream",
     "text": [
      " 99%|█████████▊| 1480/1500 [08:42<00:06,  2.93it/s]"
     ]
    },
    {
     "name": "stdout",
     "output_type": "stream",
     "text": [
      "{'loss': 0.0001, 'grad_norm': 0.0020352336578071117, 'learning_rate': 1.0000000000000002e-06, 'epoch': 49.33}\n"
     ]
    },
    {
     "name": "stderr",
     "output_type": "stream",
     "text": [
      " 99%|█████████▉| 1490/1500 [08:46<00:03,  2.97it/s]"
     ]
    },
    {
     "name": "stdout",
     "output_type": "stream",
     "text": [
      "{'loss': 0.0001, 'grad_norm': 0.0014875916531309485, 'learning_rate': 5.000000000000001e-07, 'epoch': 49.67}\n"
     ]
    },
    {
     "name": "stderr",
     "output_type": "stream",
     "text": [
      "100%|██████████| 1500/1500 [08:49<00:00,  3.06it/s]"
     ]
    },
    {
     "name": "stdout",
     "output_type": "stream",
     "text": [
      "{'loss': 0.0001, 'grad_norm': 0.001861209631897509, 'learning_rate': 0.0, 'epoch': 50.0}\n"
     ]
    },
    {
     "name": "stderr",
     "output_type": "stream",
     "text": [
      "                                                   \n",
      "100%|██████████| 1500/1500 [08:52<00:00,  2.82it/s]\n"
     ]
    },
    {
     "name": "stdout",
     "output_type": "stream",
     "text": [
      "{'eval_loss': 6.0950140323257074e-05, 'eval_runtime': 0.3361, 'eval_samples_per_second': 175.54, 'eval_steps_per_second': 23.802, 'epoch': 50.0}\n",
      "{'train_runtime': 532.224, 'train_samples_per_second': 21.983, 'train_steps_per_second': 2.818, 'train_loss': 0.06812195948363903, 'epoch': 50.0}\n"
     ]
    },
    {
     "name": "stderr",
     "output_type": "stream",
     "text": [
      "100%|██████████| 8/8 [00:00<00:00, 19.97it/s]"
     ]
    },
    {
     "name": "stdout",
     "output_type": "stream",
     "text": [
      "Query: when was Samuel L. Jackson born --> Predicted Tag: qna\n",
      "Query: Can I see a photo of Tom Hanks? --> Predicted Tag: image\n",
      "Query: Find a poster of Frozen 2 --> Predicted Tag: image\n",
      "Query: birthplace of Christopher Nolan --> Predicted Tag: qna\n",
      "Query: What does Daniel Radcliffe look like? --> Predicted Tag: image\n",
      "Query: What does Matt Damon look like? --> Predicted Tag: image\n",
      "Query: total revenue of Inception --> Predicted Tag: qna\n",
      "Query: who was the producer of Star Wars --> Predicted Tag: qna\n",
      "Query: who was the director of Inception --> Predicted Tag: qna\n",
      "Query: Who is the screenwriter of The Masked Gang: Cyprus? --> Predicted Tag: qna\n",
      "Query: Suggest films similar to Slumdog Millionaire. --> Predicted Tag: recommendation\n",
      "Query: Display an image of Leonardo DiCaprio --> Predicted Tag: image\n",
      "Query: what was the budget of Titanic --> Predicted Tag: qna\n",
      "Query: What are some movies like The Silence of the Lambs? --> Predicted Tag: recommendation\n",
      "Query: What are some films similar to The Good, the Bad and the Ugly? --> Predicted Tag: recommendation\n",
      "Query: where was Al Pacino born --> Predicted Tag: qna\n",
      "Query: birthplace of Quentin Tarantino --> Predicted Tag: qna\n",
      "Query: Show me a still of Wonder Woman --> Predicted Tag: image\n",
      "Query: Find me a photo of Tom Holland in Spider-Man --> Predicted Tag: image\n",
      "Query: What does Gal Gadot look like? --> Predicted Tag: image\n",
      "Query: genre of Inception --> Predicted Tag: qna\n",
      "Query: Find me a photo of Jennifer Lawrence --> Predicted Tag: image\n",
      "Query: Can you display a photo of Tom Cruise? --> Predicted Tag: image\n",
      "Query: Given that I like The Lion King, Pocahontas, and The Beauty and the Beast, can you recommend some movies?  --> Predicted Tag: recommendation\n",
      "Query: Can you show me what Adam Driver looks like? --> Predicted Tag: image\n",
      "Query: when was Robert Downey Jr born --> Predicted Tag: qna\n",
      "Query: Give me a glimpse of Harry Potter --> Predicted Tag: image\n",
      "Query: Suggest films that are similar to Parasite. --> Predicted Tag: recommendation\n",
      "Query: Find a picture of Vin Diesel --> Predicted Tag: image\n",
      "Query: budget of Forrest Gump --> Predicted Tag: qna\n",
      "Query: how much did Avatar make --> Predicted Tag: qna\n",
      "Query: Can you recommend some good movies like Gladiator? --> Predicted Tag: recommendation\n",
      "Query: how was Star Wars rated --> Predicted Tag: qna\n",
      "Query: what is the rating of Titanic --> Predicted Tag: qna\n",
      "Query: I enjoyed Hidden Figures. What else might I like? --> Predicted Tag: recommendation\n",
      "Query: What are some great movies for fans of The Lord of the Rings? --> Predicted Tag: recommendation\n",
      "Query: who produced Jurassic Park --> Predicted Tag: qna\n",
      "Query: who played in The Matrix --> Predicted Tag: qna\n",
      "Query: genre of Avatar --> Predicted Tag: qna\n",
      "Query: what type of movie is The Godfather --> Predicted Tag: qna\n",
      "Query: who played the lead role in Titanic --> Predicted Tag: qna\n",
      "Query: who starred in Avatar --> Predicted Tag: qna\n",
      "Query: What are some films like The Girl with the Dragon Tattoo? --> Predicted Tag: recommendation\n",
      "Query: I enjoyed The Lego Movie. What similar movies are out there? --> Predicted Tag: recommendation\n",
      "Query: what genre is Star Wars --> Predicted Tag: qna\n",
      "Query: Display an image of the Fast and Furious movie --> Predicted Tag: image\n",
      "Query: producer of The Godfather --> Predicted Tag: qna\n",
      "Query: Show me Scarlett Johansson's portrait --> Predicted Tag: image\n",
      "Query: where was Steven Spielberg born --> Predicted Tag: qna\n",
      "Query: What does Charlize Theron look like? --> Predicted Tag: image\n",
      "Query: birth date of Keanu Reeves --> Predicted Tag: qna\n",
      "Query: Can you suggest movies for fans of Rocky and Creed? --> Predicted Tag: recommendation\n",
      "Query: how much did The Matrix cost --> Predicted Tag: qna\n",
      "Query: lead actor of Iron Man --> Predicted Tag: qna\n",
      "Query: who is the director of Jurassic Park --> Predicted Tag: qna\n",
      "Query: Recommend movies similar to Hamlet and Othello.  --> Predicted Tag: recommendation\n",
      "Query: what rating does The Godfather have --> Predicted Tag: qna\n",
      "Query: I liked Coraline. What other dark animated films should I watch? --> Predicted Tag: recommendation\n",
      "Query: Who directed The Bridge on the River Kwai? --> Predicted Tag: qna\n"
     ]
    },
    {
     "name": "stderr",
     "output_type": "stream",
     "text": [
      "\n"
     ]
    }
   ],
   "source": [
    "# Load pre-trained tokenizer\n",
    "tokenizer = BertTokenizer.from_pretrained('bert-base-uncased')\n",
    "\n",
    "# Tokenize the input data\n",
    "train_encodings = tokenizer(train_queries, truncation=True, padding=True, max_length=64)\n",
    "test_encodings = tokenizer(test_queries, truncation=True, padding=True, max_length=64)\n",
    "\n",
    "# Convert to PyTorch dataset format\n",
    "class QTypeDataset(torch.utils.data.Dataset):\n",
    "    def __init__(self, encodings, labels):\n",
    "        self.encodings = encodings\n",
    "        self.labels = labels\n",
    "\n",
    "    def __len__(self):\n",
    "        return len(self.labels)\n",
    "\n",
    "    def __getitem__(self, idx):\n",
    "        item = {key: torch.tensor(val[idx]) for key, val in self.encodings.items()}\n",
    "        item['labels'] = torch.tensor(self.labels[idx])\n",
    "        return item\n",
    "    \n",
    "train_dataset = QTypeDataset(train_encodings, train_labels)\n",
    "test_dataset = QTypeDataset(test_encodings, test_labels)\n",
    "\n",
    "# Load pre-trained BERT model for sequence classification\n",
    "model = BertForSequenceClassification.from_pretrained('bert-base-uncased', num_labels=len(label_list))\n",
    "\n",
    "# Define training arguments\n",
    "training_args = TrainingArguments(\n",
    "    output_dir='./results',\n",
    "    num_train_epochs=50,\n",
    "    per_device_train_batch_size=8,\n",
    "    per_device_eval_batch_size=8,\n",
    "    warmup_steps=500,\n",
    "    weight_decay=0.01,\n",
    "    logging_dir='./logs',\n",
    "    logging_steps=10,\n",
    "    evaluation_strategy=\"epoch\",\n",
    ")\n",
    "\n",
    "# Use the Trainer API to train the model\n",
    "trainer = Trainer(\n",
    "    model=model,\n",
    "    args=training_args,\n",
    "    train_dataset=train_dataset,\n",
    "    eval_dataset=test_dataset,\n",
    ")\n",
    "\n",
    "# Train the model\n",
    "trainer.train()\n",
    "\n",
    "# Test the model\n",
    "predictions = trainer.predict(test_dataset)\n",
    "predicted_labels = torch.argmax(torch.tensor(predictions.predictions), axis=1)\n",
    "\n",
    "# Map predicted labels back to tags\n",
    "predicted_tags = [id2tag[label.item()] for label in predicted_labels]\n",
    "\n",
    "# Print the results\n",
    "for query, pred_tag in zip(test_queries, predicted_tags):\n",
    "    print(f\"Query: {query} --> Predicted Tag: {pred_tag}\")"
   ]
  },
  {
   "cell_type": "code",
   "execution_count": 7,
   "metadata": {},
   "outputs": [],
   "source": [
    "# Save the model\n",
    "model.save_pretrained(\"../data/final_classification_model\")"
   ]
  },
  {
   "cell_type": "code",
   "execution_count": 10,
   "metadata": {},
   "outputs": [
    {
     "data": {
      "text/plain": [
       "'qna'"
      ]
     },
     "execution_count": 10,
     "metadata": {},
     "output_type": "execute_result"
    }
   ],
   "source": [
    "# load the model\n",
    "model = BertForSequenceClassification.from_pretrained(\"../data/final_classification_model\")\n",
    "tokenizer = BertTokenizer.from_pretrained(\"bert-base-uncased\")\n",
    "id2tag = {0: 'qna', 1: 'recommendation', 2: 'image'}\n",
    "\n",
    "# Test the model\n",
    "query = \"Who is the director of Inception?\"\n",
    "inputs = tokenizer(query, return_tensors=\"pt\")\n",
    "outputs = model(**inputs)\n",
    "predicted_label = torch.argmax(outputs.logits[0]).item()\n",
    "predicted_tag = id2tag[predicted_label]\n",
    "predicted_tag"
   ]
  },
  {
   "cell_type": "code",
   "execution_count": null,
   "metadata": {},
   "outputs": [],
   "source": [
    "id2tag"
   ]
  },
  {
   "cell_type": "code",
   "execution_count": null,
   "metadata": {},
   "outputs": [],
   "source": []
  },
  {
   "cell_type": "code",
   "execution_count": null,
   "metadata": {},
   "outputs": [],
   "source": []
  }
 ],
 "metadata": {
  "kernelspec": {
   "display_name": "atai",
   "language": "python",
   "name": "python3"
  },
  "language_info": {
   "codemirror_mode": {
    "name": "ipython",
    "version": 3
   },
   "file_extension": ".py",
   "mimetype": "text/x-python",
   "name": "python",
   "nbconvert_exporter": "python",
   "pygments_lexer": "ipython3",
   "version": "3.10.14"
  }
 },
 "nbformat": 4,
 "nbformat_minor": 2
}
