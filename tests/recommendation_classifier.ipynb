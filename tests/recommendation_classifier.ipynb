{
 "cells": [
  {
   "cell_type": "code",
   "execution_count": 15,
   "metadata": {},
   "outputs": [],
   "source": [
    "import torch\n",
    "from transformers import BertTokenizer, BertForSequenceClassification, Trainer, TrainingArguments\n",
    "from sklearn.model_selection import train_test_split\n",
    "from datasets import Dataset"
   ]
  },
  {
   "cell_type": "code",
   "execution_count": 16,
   "metadata": {},
   "outputs": [],
   "source": [
    "training_data = [\n",
    "    {\"query\": \"what was the earning of the movie Titanic\", \"tag\": \"qna\"},\n",
    "    {\"query\": \"how much did Avatar make\", \"tag\": \"qna\"},\n",
    "    {\"query\": \"box office collection of Jurassic Park\", \"tag\": \"qna\"},\n",
    "    {\"query\": \"total revenue of Inception\", \"tag\": \"qna\"},\n",
    "    {\"query\": \"what was the gross of Frozen\", \"tag\": \"qna\"},\n",
    "    {\"query\": \"how much did Avengers Endgame earn\", \"tag\": \"qna\"},\n",
    "    {\"query\": \"earnings of The Dark Knight\", \"tag\": \"qna\"},\n",
    "    {\"query\": \"how much money did Titanic gross\", \"tag\": \"qna\"},\n",
    "    {\"query\": \"how much revenue did Star Wars make\", \"tag\": \"qna\"},\n",
    "    {\"query\": \"revenue of Iron Man\", \"tag\": \"qna\"},\n",
    "    {\"query\": \"who directed Titanic\", \"tag\": \"qna\"},\n",
    "    {\"query\": \"who was the director of Inception\", \"tag\": \"qna\"},\n",
    "    {\"query\": \"who directed the movie Avatar\", \"tag\": \"qna\"},\n",
    "    {\"query\": \"who directed Star Wars\", \"tag\": \"qna\"},\n",
    "    {\"query\": \"who was the director of The Godfather\", \"tag\": \"qna\"},\n",
    "    {\"query\": \"director of The Dark Knight\", \"tag\": \"qna\"},\n",
    "    {\"query\": \"who directed Forrest Gump\", \"tag\": \"qna\"},\n",
    "    {\"query\": \"who is the director of Jurassic Park\", \"tag\": \"qna\"},\n",
    "    {\"query\": \"who directed Schindler's List\", \"tag\": \"qna\"},\n",
    "    {\"query\": \"director of The Matrix\", \"tag\": \"qna\"},\n",
    "    {\"query\": \"who played the lead role in Titanic\", \"tag\": \"qna\"},\n",
    "    {\"query\": \"who acted in The Dark Knight\", \"tag\": \"qna\"},\n",
    "    {\"query\": \"lead actor in Inception\", \"tag\": \"qna\"},\n",
    "    {\"query\": \"who starred in Avatar\", \"tag\": \"qna\"},\n",
    "    {\"query\": \"who was the main actor in The Godfather\", \"tag\": \"qna\"},\n",
    "    {\"query\": \"lead actor of Iron Man\", \"tag\": \"qna\"},\n",
    "    {\"query\": \"who played in The Matrix\", \"tag\": \"qna\"},\n",
    "    {\"query\": \"who was the actor in Star Wars\", \"tag\": \"qna\"},\n",
    "    {\"query\": \"who acted in Interstellar\", \"tag\": \"qna\"},\n",
    "    {\"query\": \"who starred in Pulp Fiction\", \"tag\": \"qna\"},\n",
    "    {\"query\": \"when was Titanic released\", \"tag\": \"qna\"},\n",
    "    {\"query\": \"release date of Avatar\", \"tag\": \"qna\"},\n",
    "    {\"query\": \"when was Inception released\", \"tag\": \"qna\"},\n",
    "    {\"query\": \"release year of Star Wars\", \"tag\": \"qna\"},\n",
    "    {\"query\": \"when did The Dark Knight come out\", \"tag\": \"qna\"},\n",
    "    {\"query\": \"when was Schindler's List released\", \"tag\": \"qna\"},\n",
    "    {\"query\": \"release date of The Matrix\", \"tag\": \"qna\"},\n",
    "    {\"query\": \"release year of The Godfather\", \"tag\": \"qna\"},\n",
    "    {\"query\": \"when did Forrest Gump release\", \"tag\": \"qna\"},\n",
    "    {\"query\": \"when was Jurassic Park released\", \"tag\": \"qna\"},\n",
    "    {\"query\": \"what genre is Titanic\", \"tag\": \"qna\"},\n",
    "    {\"query\": \"genre of Inception\", \"tag\": \"qna\"},\n",
    "    {\"query\": \"what type of movie is The Godfather\", \"tag\": \"qna\"},\n",
    "    {\"query\": \"what genre is Star Wars\", \"tag\": \"qna\"},\n",
    "    {\"query\": \"what genre is The Dark Knight\", \"tag\": \"qna\"},\n",
    "    {\"query\": \"genre of Avatar\", \"tag\": \"qna\"},\n",
    "    {\"query\": \"what type of movie is Jurassic Park\", \"tag\": \"qna\"},\n",
    "    {\"query\": \"what genre is The Matrix\", \"tag\": \"qna\"},\n",
    "    {\"query\": \"what type of movie is Schindler's List\", \"tag\": \"qna\"},\n",
    "    {\"query\": \"genre of Pulp Fiction\", \"tag\": \"qna\"},\n",
    "    {\"query\": \"what is the rating of Titanic\", \"tag\": \"qna\"},\n",
    "    {\"query\": \"rating of Inception\", \"tag\": \"qna\"},\n",
    "    {\"query\": \"how was Star Wars rated\", \"tag\": \"qna\"},\n",
    "    {\"query\": \"rating of The Dark Knight\", \"tag\": \"qna\"},\n",
    "    {\"query\": \"what rating does The Matrix have\", \"tag\": \"qna\"},\n",
    "    {\"query\": \"rating of Avatar\", \"tag\": \"qna\"},\n",
    "    {\"query\": \"what rating does The Godfather have\", \"tag\": \"qna\"},\n",
    "    {\"query\": \"rating of Forrest Gump\", \"tag\": \"qna\"},\n",
    "    {\"query\": \"how was Pulp Fiction rated\", \"tag\": \"qna\"},\n",
    "    {\"query\": \"what is the rating of Schindler's List\", \"tag\": \"qna\"},\n",
    "    {\"query\": \"what was the budget of Titanic\", \"tag\": \"qna\"},\n",
    "    {\"query\": \"budget of Inception\", \"tag\": \"qna\"},\n",
    "    {\"query\": \"how much was spent on Avatar\", \"tag\": \"qna\"},\n",
    "    {\"query\": \"budget for The Dark Knight\", \"tag\": \"qna\"},\n",
    "    {\"query\": \"how much did Star Wars cost\", \"tag\": \"qna\"},\n",
    "    {\"query\": \"what was the budget of The Godfather\", \"tag\": \"qna\"},\n",
    "    {\"query\": \"how much did The Matrix cost\", \"tag\": \"qna\"},\n",
    "    {\"query\": \"budget for Jurassic Park\", \"tag\": \"qna\"},\n",
    "    {\"query\": \"how much did Pulp Fiction cost\", \"tag\": \"qna\"},\n",
    "    {\"query\": \"budget of Forrest Gump\", \"tag\": \"qna\"},\n",
    "    {\"query\": \"who produced Titanic\", \"tag\": \"qna\"},\n",
    "    {\"query\": \"who was the producer of Inception\", \"tag\": \"qna\"},\n",
    "    {\"query\": \"producer of Avatar\", \"tag\": \"qna\"},\n",
    "    {\"query\": \"who produced The Dark Knight\", \"tag\": \"qna\"},\n",
    "    {\"query\": \"who was the producer of Star Wars\", \"tag\": \"qna\"},\n",
    "    {\"query\": \"who produced The Matrix\", \"tag\": \"qna\"},\n",
    "    {\"query\": \"producer of The Godfather\", \"tag\": \"qna\"},\n",
    "    {\"query\": \"who produced Jurassic Park\", \"tag\": \"qna\"},\n",
    "    {\"query\": \"producer of Schindler's List\", \"tag\": \"qna\"},\n",
    "    {\"query\": \"who produced Pulp Fiction\", \"tag\": \"qna\"},\n",
    "    {\"query\": \"who wrote the screenplay for Titanic\", \"tag\": \"qna\"},\n",
    "    {\"query\": \"screenwriter of Inception\", \"tag\": \"qna\"},\n",
    "    {\"query\": \"who wrote the screenplay for The Dark Knight\", \"tag\": \"qna\"},\n",
    "    {\"query\": \"who wrote Star Wars\", \"tag\": \"qna\"},\n",
    "    {\"query\": \"who was the screenwriter of Avatar\", \"tag\": \"qna\"},\n",
    "    {\"query\": \"screenwriter of The Matrix\", \"tag\": \"qna\"},\n",
    "    {\"query\": \"who wrote The Godfather screenplay\", \"tag\": \"qna\"},\n",
    "    {\"query\": \"who wrote the script for Pulp Fiction\", \"tag\": \"qna\"},\n",
    "    {\"query\": \"who was the screenwriter of Schindler's List\", \"tag\": \"qna\"},\n",
    "    {\"query\": \"who wrote the screenplay for Jurassic Park\", \"tag\": \"qna\"},\n",
    "    {\"query\": \"when was Leonardo DiCaprio born\", \"tag\": \"qna\"},\n",
    "    {\"query\": \"birth date of James Cameron\", \"tag\": \"qna\"},\n",
    "    {\"query\": \"when was Robert Downey Jr born\", \"tag\": \"qna\"},\n",
    "    {\"query\": \"birth date of Steven Spielberg\", \"tag\": \"qna\"},\n",
    "    {\"query\": \"when was Christopher Nolan born\", \"tag\": \"qna\"},\n",
    "    {\"query\": \"when was Al Pacino born\", \"tag\": \"qna\"},\n",
    "    {\"query\": \"birth date of Keanu Reeves\", \"tag\": \"qna\"},\n",
    "    {\"query\": \"when was Quentin Tarantino born\", \"tag\": \"qna\"},\n",
    "    {\"query\": \"birth date of Harrison Ford\", \"tag\": \"qna\"},\n",
    "    {\"query\": \"when was Samuel L. Jackson born\", \"tag\": \"qna\"},\n",
    "    {\"query\": \"where was Leonardo DiCaprio born\", \"tag\": \"qna\"},\n",
    "    {\"query\": \"birthplace of James Cameron\", \"tag\": \"qna\"},\n",
    "    {\"query\": \"where was Robert Downey Jr born\", \"tag\": \"qna\"},\n",
    "    {\"query\": \"where was Steven Spielberg born\", \"tag\": \"qna\"},\n",
    "    {\"query\": \"birthplace of Christopher Nolan\", \"tag\": \"qna\"},\n",
    "    {\"query\": \"where was Al Pacino born\", \"tag\": \"qna\"},\n",
    "    {\"query\": \"where was Keanu Reeves born\", \"tag\": \"qna\"},\n",
    "    {\"query\": \"birthplace of Quentin Tarantino\", \"tag\": \"qna\"},\n",
    "    {\"query\": \"where was Harrison Ford born\", \"tag\": \"qna\"},\n",
    "    {\"query\": \"where was Samuel L. Jackson born\", \"tag\": \"qna\"},\n",
    "    {\"query\":\"Can you suggest movies like The Dark Knight?\", \"tag\":\"recommendation\"},\n",
    "    {\"query\":\"I loved Inception and Interstellar. What else should I watch?\", \"tag\":\"recommendation\"},\n",
    "    {\"query\":\"Give me movie recommendations similar to Toy Story and Finding Nemo.\", \"tag\":\"recommendation\"},\n",
    "    {\"query\":\"Recommend some movies if I enjoyed Titanic.\", \"tag\":\"recommendation\"},\n",
    "    {\"query\":\"I recently watched Joker, what else might I enjoy?\", \"tag\":\"recommendation\"},\n",
    "    {\"query\":\"What are some movies like Avatar and The Matrix?\", \"tag\":\"recommendation\"},\n",
    "    {\"query\":\"Suggest films that are similar to Parasite.\", \"tag\":\"recommendation\"},\n",
    "    {\"query\":\"I loved Shutter Island and Gone Girl. What do you recommend?\", \"tag\":\"recommendation\"},\n",
    "    {\"query\":\"If I liked Star Wars and Guardians of the Galaxy, what other movies should I watch?\", \"tag\":\"recommendation\"},\n",
    "    {\"query\":\"What are some great movies for fans of The Lord of the Rings?\", \"tag\":\"recommendation\"},\n",
    "    {\"query\":\"Can you recommend movies like The Godfather?\", \"tag\":\"recommendation\"},\n",
    "    {\"query\":\"I enjoyed Black Panther. Can you suggest some similar films?\", \"tag\":\"recommendation\"},\n",
    "    {\"query\":\"What movies should I watch if I liked Forrest Gump?\", \"tag\":\"recommendation\"},\n",
    "    {\"query\":\"Are there any films similar to Pulp Fiction and Kill Bill?\", \"tag\":\"recommendation\"},\n",
    "    {\"query\":\"Recommend some good films like Harry Potter.\", \"tag\":\"recommendation\"},\n",
    "    {\"query\":\"I just watched The Grand Budapest Hotel. What else would I enjoy?\", \"tag\":\"recommendation\"},\n",
    "    {\"query\":\"Suggest movies that are similar to La La Land and Whiplash.\", \"tag\":\"recommendation\"},\n",
    "    {\"query\":\"What films are similar to Avengers: Endgame?\", \"tag\":\"recommendation\"},\n",
    "    {\"query\":\"I enjoyed The Hunger Games and Divergent. What should I watch next?\", \"tag\":\"recommendation\"},\n",
    "    {\"query\":\"Can you give me a list of movies like Coco?\", \"tag\":\"recommendation\"},\n",
    "    {\"query\":\"If I liked The Lion King, what other films might I enjoy?\", \"tag\":\"recommendation\"},\n",
    "    {\"query\":\"What are some movies like The Silence of the Lambs?\", \"tag\":\"recommendation\"},\n",
    "    {\"query\":\"Can you suggest films for fans of Frozen?\", \"tag\":\"recommendation\"},\n",
    "    {\"query\":\"I loved The Social Network. Can you recommend similar movies?\", \"tag\":\"recommendation\"},\n",
    "    {\"query\":\"What films should I check out if I liked The Shawshank Redemption?\", \"tag\":\"recommendation\"},\n",
    "    {\"query\":\"Recommend some movies similar to Mad Max: Fury Road.\", \"tag\":\"recommendation\"},\n",
    "    {\"query\":\"What should I watch if I loved 1917 and Dunkirk?\", \"tag\":\"recommendation\"},\n",
    "    {\"query\":\"Can you recommend movies like Knives Out?\", \"tag\":\"recommendation\"},\n",
    "    {\"query\":\"I’m looking for movies like Spirited Away and My Neighbor Totoro. Any ideas?\", \"tag\":\"recommendation\"},\n",
    "    {\"query\":\"What are some great films similar to The Big Short?\", \"tag\":\"recommendation\"},\n",
    "    {\"query\":\"I enjoyed Deadpool. Can you suggest similar movies?\", \"tag\":\"recommendation\"},\n",
    "    {\"query\":\"Can you recommend movies like The Wolf of Wall Street?\", \"tag\":\"recommendation\"},\n",
    "    {\"query\":\"What movies are good if I liked Fight Club?\", \"tag\":\"recommendation\"},\n",
    "    {\"query\":\"I liked A Quiet Place and Bird Box. Any recommendations?\", \"tag\":\"recommendation\"},\n",
    "    {\"query\":\"Suggest films similar to The Revenant.\", \"tag\":\"recommendation\"},\n",
    "    {\"query\":\"What should I watch if I enjoyed Moonlight?\", \"tag\":\"recommendation\"},\n",
    "    {\"query\":\"Can you suggest movies like The Perks of Being a Wallflower?\", \"tag\":\"recommendation\"},\n",
    "    {\"query\":\"What are some movies like Up and Wall-E?\", \"tag\":\"recommendation\"},\n",
    "    {\"query\":\"I loved Good Will Hunting. Any similar recommendations?\", \"tag\":\"recommendation\"},\n",
    "    {\"query\":\"If I enjoyed The Shape of Water, what else might I like?\", \"tag\":\"recommendation\"},\n",
    "    {\"query\":\"What films are similar to The Irishman?\", \"tag\":\"recommendation\"},\n",
    "    {\"query\":\"Can you recommend some good movies like Gladiator?\", \"tag\":\"recommendation\"},\n",
    "    {\"query\":\"I loved The Notebook. What other romantic films should I watch?\", \"tag\":\"recommendation\"},\n",
    "    {\"query\":\"What are some great animated films like How to Train Your Dragon?\", \"tag\":\"recommendation\"},\n",
    "    {\"query\":\"Suggest movies similar to The Sixth Sense.\", \"tag\":\"recommendation\"},\n",
    "    {\"query\":\"I enjoyed Jumanji and Zathura. Any recommendations?\", \"tag\":\"recommendation\"},\n",
    "    {\"query\":\"What should I watch if I loved The Greatest Showman?\", \"tag\":\"recommendation\"},\n",
    "    {\"query\":\"Can you recommend movies like The Departed and Heat?\", \"tag\":\"recommendation\"},\n",
    "    {\"query\":\"What films are similar to Pride and Prejudice?\", \"tag\":\"recommendation\"},\n",
    "    {\"query\":\"I liked Crazy Rich Asians. Any similar films?\", \"tag\":\"recommendation\"},\n",
    "    {\"query\":\"Suggest movies similar to The Fault in Our Stars.\", \"tag\":\"recommendation\"},\n",
    "    {\"query\":\"What are some great spy films like Skyfall and Mission Impossible?\", \"tag\":\"recommendation\"},\n",
    "    {\"query\":\"If I enjoyed Monsters, Inc. and Despicable Me, what else might I enjoy?\", \"tag\":\"recommendation\"},\n",
    "    {\"query\":\"Can you recommend movies like The Bourne Identity?\", \"tag\":\"recommendation\"},\n",
    "    {\"query\":\"I enjoyed Inside Out and Soul. What else is similar?\", \"tag\":\"recommendation\"},\n",
    "    {\"query\":\"What are some films like The Girl with the Dragon Tattoo?\", \"tag\":\"recommendation\"},\n",
    "    {\"query\":\"Can you suggest movies for fans of Rocky and Creed?\", \"tag\":\"recommendation\"},\n",
    "    {\"query\":\"I loved The Blind Side. Any recommendations?\", \"tag\":\"recommendation\"},\n",
    "    {\"query\":\"What should I watch if I liked The Imitation Game?\", \"tag\":\"recommendation\"},\n",
    "    {\"query\":\"Recommend some good musicals like Mamma Mia!\", \"tag\":\"recommendation\"},\n",
    "    {\"query\":\"I enjoyed The Lego Movie. What similar movies are out there?\", \"tag\":\"recommendation\"},\n",
    "    {\"query\":\"What movies are great if I liked 10 Things I Hate About You?\", \"tag\":\"recommendation\"},\n",
    "    {\"query\":\"I loved Enola Holmes. What other mystery films should I watch?\", \"tag\":\"recommendation\"},\n",
    "    {\"query\":\"Can you recommend movies like The Conjuring and Annabelle?\", \"tag\":\"recommendation\"},\n",
    "    {\"query\":\"What films are similar to The Pianist?\", \"tag\":\"recommendation\"},\n",
    "    {\"query\":\"I liked Coco and Ratatouille. What else might I enjoy?\", \"tag\":\"recommendation\"},\n",
    "    {\"query\":\"Suggest films similar to Slumdog Millionaire.\", \"tag\":\"recommendation\"},\n",
    "    {\"query\":\"I loved The Secret Life of Walter Mitty. What else would you recommend?\", \"tag\":\"recommendation\"},\n",
    "    {\"query\":\"What movies are good for fans of The Great Gatsby?\", \"tag\":\"recommendation\"},\n",
    "    {\"query\":\"If I enjoyed Catch Me If You Can, what should I watch next?\", \"tag\":\"recommendation\"},\n",
    "    {\"query\":\"Recommend some movies like The Twilight Saga.\", \"tag\":\"recommendation\"},\n",
    "    {\"query\":\"I liked Coraline. What other dark animated films should I watch?\", \"tag\":\"recommendation\"},\n",
    "    {\"query\":\"What are some films similar to The Good, the Bad and the Ugly?\", \"tag\":\"recommendation\"},\n",
    "    {\"query\":\"Can you recommend movies like Casablanca?\", \"tag\":\"recommendation\"},\n",
    "    {\"query\":\"What should I watch if I enjoyed The Truman Show?\", \"tag\":\"recommendation\"},\n",
    "    {\"query\":\"I loved A Star is Born. Any similar suggestions?\", \"tag\":\"recommendation\"},\n",
    "    {\"query\":\"What are some films similar to Little Women?\", \"tag\":\"recommendation\"},\n",
    "    {\"query\":\"Can you recommend movies like Train to Busan?\", \"tag\":\"recommendation\"},\n",
    "    {\"query\":\"I enjoyed Hidden Figures. What else might I like?\", \"tag\":\"recommendation\"},\n",
    "    {\"query\":\"What films are similar to 500 Days of Summer?\", \"tag\":\"recommendation\"},\n",
    "    {\"query\": \"Show me a picture of Halle Berry\", \"tag\": \"image\"},\n",
    "    {\"query\": \"What does Denzel Washington look like\", \"tag\": \"image\"},\n",
    "    {\"query\": \"What does Sandra Bullock look like\", \"tag\": \"image\"},\n",
    "    {\"query\": \"Show me a poster of Moana\", \"tag\": \"image\"},\n",
    "    {\"query\": \"How did Iron Man look?\", \"tag\": \"image\"},\n",
    "    {\"query\": \"Give me a glimpse of Harry Potter\", \"tag\": \"image\"},\n",
    "    {\"query\": \"Can I see a photo of Tom Hanks?\", \"tag\": \"image\"},\n",
    "    {\"query\": \"Show me Scarlett Johansson's portrait\", \"tag\": \"image\"},\n",
    "    {\"query\": \"Find a poster of The Godfather\", \"tag\": \"image\"},\n",
    "    {\"query\": \"Display an image of Leonardo DiCaprio\", \"tag\": \"image\"},\n",
    "    {\"query\": \"What does Gal Gadot look like?\", \"tag\": \"image\"},\n",
    "    {\"query\": \"Show me the Avengers Endgame poster\", \"tag\": \"image\"},\n",
    "    {\"query\": \"Find a picture of Meryl Streep\", \"tag\": \"image\"},\n",
    "    {\"query\": \"What does the Joker look like in the 2019 movie?\", \"tag\": \"image\"},\n",
    "    {\"query\": \"Show me a still of Black Panther\", \"tag\": \"image\"},\n",
    "    {\"query\": \"Can you display a picture of Chris Hemsworth?\", \"tag\": \"image\"},\n",
    "    {\"query\": \"What does Ryan Gosling look like?\", \"tag\": \"image\"},\n",
    "    {\"query\": \"Find me a photo of Jennifer Lawrence\", \"tag\": \"image\"},\n",
    "    {\"query\": \"Show me the Frozen movie poster\", \"tag\": \"image\"},\n",
    "    {\"query\": \"Display an image of the Minions\", \"tag\": \"image\"},\n",
    "    {\"query\": \"What does Keanu Reeves look like?\", \"tag\": \"image\"},\n",
    "    {\"query\": \"Find a picture of the movie Titanic\", \"tag\": \"image\"},\n",
    "    {\"query\": \"Show me what Emma Watson looks like\", \"tag\": \"image\"},\n",
    "    {\"query\": \"What does Daniel Radcliffe look like?\", \"tag\": \"image\"},\n",
    "    {\"query\": \"Display a poster of Star Wars\", \"tag\": \"image\"},\n",
    "    {\"query\": \"Can you find an image of Christian Bale?\", \"tag\": \"image\"},\n",
    "    {\"query\": \"What does Zoe Saldana look like?\", \"tag\": \"image\"},\n",
    "    {\"query\": \"Show me a still from Pirates of the Caribbean\", \"tag\": \"image\"},\n",
    "    {\"query\": \"Find a poster of the movie Inception\", \"tag\": \"image\"},\n",
    "    {\"query\": \"What does Robert Downey Jr. look like?\", \"tag\": \"image\"},\n",
    "    {\"query\": \"Can you display a photo of Anne Hathaway?\", \"tag\": \"image\"},\n",
    "    {\"query\": \"Show me the Toy Story movie poster\", \"tag\": \"image\"},\n",
    "    {\"query\": \"Find a picture of Vin Diesel\", \"tag\": \"image\"},\n",
    "    {\"query\": \"Display a poster of the movie Interstellar\", \"tag\": \"image\"},\n",
    "    {\"query\": \"What does Cate Blanchett look like?\", \"tag\": \"image\"},\n",
    "    {\"query\": \"Can you show me a picture of the Hulk?\", \"tag\": \"image\"},\n",
    "    {\"query\": \"Find me a photo of Hugh Jackman\", \"tag\": \"image\"},\n",
    "    {\"query\": \"Show me a poster of Shrek\", \"tag\": \"image\"},\n",
    "    {\"query\": \"What does Margot Robbie look like?\", \"tag\": \"image\"},\n",
    "    {\"query\": \"Display an image of the Fast and Furious movie\", \"tag\": \"image\"},\n",
    "    {\"query\": \"Can I see a picture of Johnny Depp?\", \"tag\": \"image\"},\n",
    "    {\"query\": \"Find a poster of the movie Aladdin\", \"tag\": \"image\"},\n",
    "    {\"query\": \"What does Charlize Theron look like?\", \"tag\": \"image\"},\n",
    "    {\"query\": \"Show me a still of Wonder Woman\", \"tag\": \"image\"},\n",
    "    {\"query\": \"Can you display a photo of Mark Ruffalo?\", \"tag\": \"image\"},\n",
    "    {\"query\": \"Find me a picture of Angelina Jolie\", \"tag\": \"image\"},\n",
    "    {\"query\": \"Display a poster of Finding Nemo\", \"tag\": \"image\"},\n",
    "    {\"query\": \"What does Matt Damon look like?\", \"tag\": \"image\"},\n",
    "    {\"query\": \"Show me a poster of Guardians of the Galaxy\", \"tag\": \"image\"},\n",
    "    {\"query\": \"Find a picture of Will Smith\", \"tag\": \"image\"},\n",
    "    {\"query\": \"Display an image of the character Darth Vader\", \"tag\": \"image\"},\n",
    "    {\"query\": \"Can you show me a picture of Mila Kunis?\", \"tag\": \"image\"},\n",
    "    {\"query\": \"What does Morgan Freeman look like?\", \"tag\": \"image\"},\n",
    "    {\"query\": \"Find a poster of Frozen 2\", \"tag\": \"image\"},\n",
    "    {\"query\": \"Show me what Chris Pratt looks like\", \"tag\": \"image\"},\n",
    "    {\"query\": \"Can I see a picture of Benedict Cumberbatch?\", \"tag\": \"image\"},\n",
    "    {\"query\": \"What does Nicole Kidman look like?\", \"tag\": \"image\"},\n",
    "    {\"query\": \"Show me the Batman movie poster\", \"tag\": \"image\"},\n",
    "    {\"query\": \"Find a still of Captain America\", \"tag\": \"image\"},\n",
    "    {\"query\": \"Display an image of Julia Roberts\", \"tag\": \"image\"},\n",
    "    {\"query\": \"What does Idris Elba look like?\", \"tag\": \"image\"},\n",
    "    {\"query\": \"Show me a poster of The Lion King\", \"tag\": \"image\"},\n",
    "    {\"query\": \"Can you display a photo of Tom Cruise?\", \"tag\": \"image\"},\n",
    "    {\"query\": \"Find me a picture of Natalie Portman\", \"tag\": \"image\"},\n",
    "    {\"query\": \"What does Joaquin Phoenix look like?\", \"tag\": \"image\"},\n",
    "    {\"query\": \"Show me a poster of Coco\", \"tag\": \"image\"},\n",
    "    {\"query\": \"Display an image of Eddie Murphy\", \"tag\": \"image\"},\n",
    "    {\"query\": \"Find a picture of Bruce Willis\", \"tag\": \"image\"},\n",
    "    {\"query\": \"What does Kristen Stewart look like?\", \"tag\": \"image\"},\n",
    "    {\"query\": \"Can you show me a poster of Spider-Man?\", \"tag\": \"image\"},\n",
    "    {\"query\": \"Find me a photo of Brad Pitt\", \"tag\": \"image\"},\n",
    "    {\"query\": \"Show me the Frozen poster with Olaf\", \"tag\": \"image\"},\n",
    "    {\"query\": \"What does Vin Diesel's character in Fast and Furious look like?\", \"tag\": \"image\"},\n",
    "    {\"query\": \"Display an image of the movie Ratatouille\", \"tag\": \"image\"},\n",
    "    {\"query\": \"Can I see a photo of Amy Adams?\", \"tag\": \"image\"},\n",
    "    {\"query\": \"What does Jake Gyllenhaal look like?\", \"tag\": \"image\"},\n",
    "    {\"query\": \"Find a picture of the movie Tangled\", \"tag\": \"image\"},\n",
    "    {\"query\": \"Show me a still from Avengers: Infinity War\", \"tag\": \"image\"},\n",
    "    {\"query\": \"What does Chris Evans look like?\", \"tag\": \"image\"},\n",
    "    {\"query\": \"Display a poster of Inside Out\", \"tag\": \"image\"},\n",
    "    {\"query\": \"Find me a photo of Emily Blunt\", \"tag\": \"image\"},\n",
    "    {\"query\": \"Can you show me what Adam Driver looks like?\", \"tag\": \"image\"},\n",
    "    {\"query\": \"What does Gal Gadot's Wonder Woman costume look like?\", \"tag\": \"image\"},\n",
    "    {\"query\": \"Find a picture of Heath Ledger as the Joker\", \"tag\": \"image\"},\n",
    "    {\"query\": \"Show me a poster of Monsters, Inc.\", \"tag\": \"image\"},\n",
    "    {\"query\": \"Display an image of the cast of Friends\", \"tag\": \"image\"},\n",
    "    {\"query\": \"What does Benedict Wong look like?\", \"tag\": \"image\"},\n",
    "    {\"query\": \"Find me a photo of Tom Holland in Spider-Man\", \"tag\": \"image\"}\n",
    "]"
   ]
  },
  {
   "cell_type": "code",
   "execution_count": 17,
   "metadata": {},
   "outputs": [],
   "source": [
    "label_list = [\"qna\", \"recommendation\", \"image\"]\n",
    "\n",
    "# Map tags to numerical labels\n",
    "tag2id = {tag: idx for idx, tag in enumerate(label_list)}\n",
    "id2tag = {idx: tag for tag, idx in tag2id.items()}\n",
    "\n",
    "queries = [d['query'] for d in training_data]\n",
    "labels = [tag2id[d['tag']] for d in training_data]"
   ]
  },
  {
   "cell_type": "code",
   "execution_count": 18,
   "metadata": {},
   "outputs": [],
   "source": [
    "# Split into train and test\n",
    "train_queries, test_queries, train_labels, test_labels = train_test_split(queries, labels, test_size=0.2)"
   ]
  },
  {
   "cell_type": "code",
   "execution_count": 19,
   "metadata": {},
   "outputs": [
    {
     "data": {
      "text/plain": [
       "['Find me a photo of Brad Pitt',\n",
       " 'Recommend some good films like Harry Potter.',\n",
       " 'release year of Star Wars',\n",
       " 'who wrote The Godfather screenplay',\n",
       " 'Can I see a photo of Amy Adams?',\n",
       " 'Show me the Toy Story movie poster',\n",
       " 'release year of The Godfather',\n",
       " 'I enjoyed Deadpool. Can you suggest similar movies?',\n",
       " 'who directed Forrest Gump',\n",
       " 'Show me a poster of Moana',\n",
       " 'Find a poster of Frozen 2',\n",
       " 'budget for Jurassic Park',\n",
       " 'Can you suggest films for fans of Frozen?',\n",
       " 'Suggest movies similar to The Sixth Sense.',\n",
       " 'What are some movies like Avatar and The Matrix?',\n",
       " 'Can you recommend movies like Knives Out?',\n",
       " \"What does Vin Diesel's character in Fast and Furious look like?\",\n",
       " 'who produced Jurassic Park',\n",
       " \"who directed Schindler's List\",\n",
       " 'What does Sandra Bullock look like',\n",
       " 'What does Zoe Saldana look like?',\n",
       " 'birth date of Steven Spielberg',\n",
       " 'What are some great movies for fans of The Lord of the Rings?',\n",
       " 'when was Robert Downey Jr born',\n",
       " 'Can you recommend movies like The Conjuring and Annabelle?',\n",
       " 'rating of Avatar',\n",
       " 'Show me a poster of The Lion King',\n",
       " 'What does Keanu Reeves look like?',\n",
       " 'when did Forrest Gump release',\n",
       " 'I enjoyed The Lego Movie. What similar movies are out there?',\n",
       " 'I liked A Quiet Place and Bird Box. Any recommendations?',\n",
       " 'rating of Forrest Gump',\n",
       " 'Show me a still from Avengers: Infinity War',\n",
       " 'Find a poster of the movie Inception',\n",
       " 'What movies are good for fans of The Great Gatsby?',\n",
       " 'release date of Avatar',\n",
       " 'Display an image of Eddie Murphy',\n",
       " \"producer of Schindler's List\",\n",
       " 'Show me a still of Black Panther',\n",
       " 'Can you recommend movies like The Godfather?',\n",
       " 'Find a picture of Will Smith',\n",
       " 'I loved Inception and Interstellar. What else should I watch?',\n",
       " 'I loved A Star is Born. Any similar suggestions?',\n",
       " 'where was Harrison Ford born',\n",
       " 'If I enjoyed Catch Me If You Can, what should I watch next?',\n",
       " 'where was Samuel L. Jackson born',\n",
       " 'Display a poster of Inside Out',\n",
       " 'budget of Forrest Gump',\n",
       " 'Recommend some movies if I enjoyed Titanic.',\n",
       " 'box office collection of Jurassic Park',\n",
       " 'birthplace of Christopher Nolan',\n",
       " 'producer of The Godfather',\n",
       " 'Give me movie recommendations similar to Toy Story and Finding Nemo.',\n",
       " 'Can you suggest movies like The Perks of Being a Wallflower?',\n",
       " 'What films are similar to Pride and Prejudice?',\n",
       " 'birth date of Keanu Reeves',\n",
       " 'I loved Shutter Island and Gone Girl. What do you recommend?',\n",
       " 'What are some movies like Up and Wall-E?',\n",
       " 'I liked Coraline. What other dark animated films should I watch?',\n",
       " 'What does Cate Blanchett look like?',\n",
       " 'who was the producer of Star Wars',\n",
       " 'What films are similar to Avengers: Endgame?',\n",
       " 'who starred in Pulp Fiction',\n",
       " 'Can you show me a picture of the Hulk?',\n",
       " 'Find a picture of Meryl Streep',\n",
       " 'Show me what Chris Pratt looks like',\n",
       " 'I loved Good Will Hunting. Any similar recommendations?',\n",
       " 'Find a picture of the movie Tangled',\n",
       " 'how much did Avengers Endgame earn',\n",
       " 'Suggest films that are similar to Parasite.',\n",
       " 'what rating does The Godfather have',\n",
       " 'Can you recommend movies like The Departed and Heat?',\n",
       " 'Can you recommend movies like Casablanca?',\n",
       " 'what was the budget of The Godfather',\n",
       " 'What are some films like The Girl with the Dragon Tattoo?',\n",
       " 'screenwriter of The Matrix',\n",
       " 'Recommend some movies like The Twilight Saga.',\n",
       " 'who directed the movie Avatar',\n",
       " \"when was Schindler's List released\",\n",
       " 'who acted in Interstellar',\n",
       " 'Find a picture of the movie Titanic',\n",
       " 'What are some great films similar to The Big Short?',\n",
       " 'rating of Inception',\n",
       " 'when was Al Pacino born',\n",
       " 'I liked Coco and Ratatouille. What else might I enjoy?',\n",
       " 'Find a picture of Heath Ledger as the Joker',\n",
       " 'genre of Inception',\n",
       " 'Display an image of the character Darth Vader',\n",
       " 'What should I watch if I enjoyed The Truman Show?',\n",
       " 'What should I watch if I loved 1917 and Dunkirk?',\n",
       " 'who played in The Matrix',\n",
       " 'Can you show me what Adam Driver looks like?',\n",
       " 'Can you recommend movies like The Wolf of Wall Street?',\n",
       " 'I loved The Blind Side. Any recommendations?',\n",
       " 'what was the earning of the movie Titanic',\n",
       " 'Can you show me a picture of Mila Kunis?',\n",
       " 'where was Leonardo DiCaprio born',\n",
       " 'Show me a still from Pirates of the Caribbean',\n",
       " 'Show me what Emma Watson looks like',\n",
       " 'birth date of Harrison Ford',\n",
       " 'release date of The Matrix',\n",
       " 'budget of Inception',\n",
       " 'What films are similar to The Irishman?',\n",
       " \"Show me Scarlett Johansson's portrait\",\n",
       " 'Show me a poster of Coco',\n",
       " 'Show me the Avengers Endgame poster',\n",
       " 'who was the director of Inception',\n",
       " 'Show me a poster of Monsters, Inc.',\n",
       " 'Show me a poster of Guardians of the Galaxy',\n",
       " 'who was the actor in Star Wars',\n",
       " 'What are some films similar to Little Women?',\n",
       " 'what was the gross of Frozen',\n",
       " 'What movies should I watch if I liked Forrest Gump?',\n",
       " 'when was Inception released',\n",
       " 'Can you display a photo of Anne Hathaway?',\n",
       " 'If I enjoyed Monsters, Inc. and Despicable Me, what else might I enjoy?',\n",
       " 'Suggest films similar to Slumdog Millionaire.',\n",
       " 'Can you find an image of Christian Bale?',\n",
       " 'I’m looking for movies like Spirited Away and My Neighbor Totoro. Any ideas?',\n",
       " 'how much was spent on Avatar',\n",
       " 'Recommend some movies similar to Mad Max: Fury Road.',\n",
       " 'I enjoyed The Hunger Games and Divergent. What should I watch next?',\n",
       " 'What does Chris Evans look like?',\n",
       " 'Display an image of the Fast and Furious movie',\n",
       " 'who produced Titanic',\n",
       " 'What does Charlize Theron look like?',\n",
       " 'how much did Star Wars cost',\n",
       " 'what genre is The Dark Knight',\n",
       " 'Can I see a photo of Tom Hanks?',\n",
       " 'What should I watch if I loved The Greatest Showman?',\n",
       " 'what genre is Titanic',\n",
       " 'Are there any films similar to Pulp Fiction and Kill Bill?',\n",
       " 'Find a picture of Vin Diesel',\n",
       " 'What are some great animated films like How to Train Your Dragon?',\n",
       " 'who starred in Avatar',\n",
       " 'Show me a poster of Shrek',\n",
       " 'Display a poster of the movie Interstellar',\n",
       " 'screenwriter of Inception',\n",
       " 'when was Jurassic Park released',\n",
       " 'What does Gal Gadot look like?',\n",
       " 'What does Idris Elba look like?',\n",
       " 'what genre is The Matrix',\n",
       " 'when was Christopher Nolan born',\n",
       " 'Can I see a picture of Johnny Depp?',\n",
       " 'What does Nicole Kidman look like?',\n",
       " 'What are some great spy films like Skyfall and Mission Impossible?',\n",
       " 'what genre is Star Wars',\n",
       " 'What should I watch if I enjoyed Moonlight?',\n",
       " 'Show me a picture of Halle Berry',\n",
       " 'Show me the Frozen movie poster',\n",
       " 'total revenue of Inception',\n",
       " 'where was Al Pacino born',\n",
       " 'rating of The Dark Knight',\n",
       " 'I loved The Social Network. Can you recommend similar movies?',\n",
       " 'how much did Avatar make',\n",
       " 'Show me a still of Wonder Woman',\n",
       " 'where was Steven Spielberg born',\n",
       " 'genre of Pulp Fiction',\n",
       " 'Can you recommend movies like The Bourne Identity?',\n",
       " 'who wrote the screenplay for Titanic',\n",
       " 'Can you display a picture of Chris Hemsworth?',\n",
       " 'when did The Dark Knight come out',\n",
       " 'Show me the Batman movie poster',\n",
       " 'how much money did Titanic gross',\n",
       " 'What movies are great if I liked 10 Things I Hate About You?',\n",
       " 'Find a poster of The Godfather',\n",
       " 'Can you show me a poster of Spider-Man?',\n",
       " 'Can you suggest movies like The Dark Knight?',\n",
       " 'birth date of James Cameron',\n",
       " 'who wrote Star Wars',\n",
       " 'Can you give me a list of movies like Coco?',\n",
       " 'how was Star Wars rated',\n",
       " 'who wrote the screenplay for Jurassic Park',\n",
       " 'how much revenue did Star Wars make',\n",
       " 'who directed Star Wars',\n",
       " \"what is the rating of Schindler's List\",\n",
       " \"who was the screenwriter of Schindler's List\",\n",
       " 'What are some movies like The Silence of the Lambs?',\n",
       " 'who is the director of Jurassic Park',\n",
       " 'Can you suggest movies for fans of Rocky and Creed?',\n",
       " 'producer of Avatar',\n",
       " \"What does Gal Gadot's Wonder Woman costume look like?\",\n",
       " 'What films should I check out if I liked The Shawshank Redemption?',\n",
       " 'Can I see a picture of Benedict Cumberbatch?',\n",
       " 'What does Margot Robbie look like?',\n",
       " 'What does Jake Gyllenhaal look like?',\n",
       " 'budget for The Dark Knight',\n",
       " 'what rating does The Matrix have',\n",
       " 'birthplace of Quentin Tarantino',\n",
       " 'what is the rating of Titanic',\n",
       " 'Find a still of Captain America',\n",
       " 'What films are similar to The Pianist?',\n",
       " 'Display an image of Julia Roberts',\n",
       " 'What films are similar to 500 Days of Summer?',\n",
       " 'who was the director of The Godfather',\n",
       " 'Find me a photo of Jennifer Lawrence',\n",
       " 'Can you recommend movies like Train to Busan?',\n",
       " 'What does Robert Downey Jr. look like?',\n",
       " 'Recommend some good musicals like Mamma Mia!',\n",
       " 'What does Joaquin Phoenix look like?',\n",
       " 'how was Pulp Fiction rated',\n",
       " \"what type of movie is Schindler's List\",\n",
       " 'Find me a picture of Angelina Jolie',\n",
       " 'Can you display a photo of Tom Cruise?',\n",
       " 'who acted in The Dark Knight',\n",
       " 'Suggest movies similar to The Fault in Our Stars.',\n",
       " 'What does Denzel Washington look like',\n",
       " 'Find a picture of Bruce Willis',\n",
       " 'If I enjoyed The Shape of Water, what else might I like?',\n",
       " 'If I liked The Lion King, what other films might I enjoy?',\n",
       " 'Can you recommend some good movies like Gladiator?',\n",
       " 'when was Samuel L. Jackson born',\n",
       " 'who wrote the script for Pulp Fiction',\n",
       " 'Display a poster of Star Wars',\n",
       " 'I enjoyed Black Panther. Can you suggest some similar films?',\n",
       " 'Find me a photo of Tom Holland in Spider-Man',\n",
       " 'who played the lead role in Titanic',\n",
       " 'I enjoyed Hidden Figures. What else might I like?',\n",
       " 'who was the producer of Inception',\n",
       " 'where was Keanu Reeves born',\n",
       " 'Find me a photo of Emily Blunt',\n",
       " 'where was Robert Downey Jr born']"
      ]
     },
     "execution_count": 19,
     "metadata": {},
     "output_type": "execute_result"
    }
   ],
   "source": [
    "train_queries"
   ]
  },
  {
   "cell_type": "code",
   "execution_count": 20,
   "metadata": {},
   "outputs": [
    {
     "name": "stderr",
     "output_type": "stream",
     "text": [
      "Some weights of BertForSequenceClassification were not initialized from the model checkpoint at bert-base-uncased and are newly initialized: ['classifier.bias', 'classifier.weight']\n",
      "You should probably TRAIN this model on a down-stream task to be able to use it for predictions and inference.\n",
      "/opt/miniconda3/envs/atai/lib/python3.10/site-packages/transformers/training_args.py:1545: FutureWarning: `evaluation_strategy` is deprecated and will be removed in version 4.46 of 🤗 Transformers. Use `eval_strategy` instead\n",
      "  warnings.warn(\n",
      "  1%|          | 10/1120 [00:04<06:35,  2.81it/s]"
     ]
    },
    {
     "name": "stdout",
     "output_type": "stream",
     "text": [
      "{'loss': 1.1235, 'grad_norm': 4.977031230926514, 'learning_rate': 1.0000000000000002e-06, 'epoch': 0.36}\n"
     ]
    },
    {
     "name": "stderr",
     "output_type": "stream",
     "text": [
      "  2%|▏         | 20/1120 [00:07<06:18,  2.90it/s]"
     ]
    },
    {
     "name": "stdout",
     "output_type": "stream",
     "text": [
      "{'loss': 1.0629, 'grad_norm': 4.522388458251953, 'learning_rate': 2.0000000000000003e-06, 'epoch': 0.71}\n"
     ]
    },
    {
     "name": "stderr",
     "output_type": "stream",
     "text": [
      "  2%|▎         | 28/1120 [00:10<07:25,  2.45it/s]\n",
      "  2%|▎         | 28/1120 [00:11<07:25,  2.45it/s]"
     ]
    },
    {
     "name": "stdout",
     "output_type": "stream",
     "text": [
      "{'eval_loss': 1.0706346035003662, 'eval_runtime': 0.3765, 'eval_samples_per_second': 148.728, 'eval_steps_per_second': 18.591, 'epoch': 1.0}\n"
     ]
    },
    {
     "name": "stderr",
     "output_type": "stream",
     "text": [
      "  3%|▎         | 30/1120 [00:11<08:07,  2.23it/s]"
     ]
    },
    {
     "name": "stdout",
     "output_type": "stream",
     "text": [
      "{'loss': 1.0986, 'grad_norm': 7.3533806800842285, 'learning_rate': 3e-06, 'epoch': 1.07}\n"
     ]
    },
    {
     "name": "stderr",
     "output_type": "stream",
     "text": [
      "  4%|▎         | 40/1120 [00:15<06:07,  2.94it/s]"
     ]
    },
    {
     "name": "stdout",
     "output_type": "stream",
     "text": [
      "{'loss': 1.0234, 'grad_norm': 4.027434825897217, 'learning_rate': 4.000000000000001e-06, 'epoch': 1.43}\n"
     ]
    },
    {
     "name": "stderr",
     "output_type": "stream",
     "text": [
      "  4%|▍         | 50/1120 [00:18<06:03,  2.94it/s]"
     ]
    },
    {
     "name": "stdout",
     "output_type": "stream",
     "text": [
      "{'loss': 1.0206, 'grad_norm': 7.1736741065979, 'learning_rate': 5e-06, 'epoch': 1.79}\n"
     ]
    },
    {
     "name": "stderr",
     "output_type": "stream",
     "text": [
      "  5%|▌         | 56/1120 [00:20<06:04,  2.92it/s]\n",
      "  5%|▌         | 56/1120 [00:20<06:04,  2.92it/s]"
     ]
    },
    {
     "name": "stdout",
     "output_type": "stream",
     "text": [
      "{'eval_loss': 0.9483359456062317, 'eval_runtime': 0.2758, 'eval_samples_per_second': 203.03, 'eval_steps_per_second': 25.379, 'epoch': 2.0}\n"
     ]
    },
    {
     "name": "stderr",
     "output_type": "stream",
     "text": [
      "  5%|▌         | 60/1120 [00:22<06:38,  2.66it/s]"
     ]
    },
    {
     "name": "stdout",
     "output_type": "stream",
     "text": [
      "{'loss': 0.9512, 'grad_norm': 6.603890419006348, 'learning_rate': 6e-06, 'epoch': 2.14}\n"
     ]
    },
    {
     "name": "stderr",
     "output_type": "stream",
     "text": [
      "  6%|▋         | 70/1120 [00:25<06:01,  2.90it/s]"
     ]
    },
    {
     "name": "stdout",
     "output_type": "stream",
     "text": [
      "{'loss': 0.8857, 'grad_norm': 10.073394775390625, 'learning_rate': 7.000000000000001e-06, 'epoch': 2.5}\n"
     ]
    },
    {
     "name": "stderr",
     "output_type": "stream",
     "text": [
      "  7%|▋         | 80/1120 [00:29<05:53,  2.94it/s]"
     ]
    },
    {
     "name": "stdout",
     "output_type": "stream",
     "text": [
      "{'loss': 0.7449, 'grad_norm': 7.015157222747803, 'learning_rate': 8.000000000000001e-06, 'epoch': 2.86}\n"
     ]
    },
    {
     "name": "stderr",
     "output_type": "stream",
     "text": [
      "  8%|▊         | 84/1120 [00:30<05:56,  2.91it/s]\n",
      "  8%|▊         | 84/1120 [00:30<05:56,  2.91it/s]"
     ]
    },
    {
     "name": "stdout",
     "output_type": "stream",
     "text": [
      "{'eval_loss': 0.5887829661369324, 'eval_runtime': 0.2636, 'eval_samples_per_second': 212.471, 'eval_steps_per_second': 26.559, 'epoch': 3.0}\n"
     ]
    },
    {
     "name": "stderr",
     "output_type": "stream",
     "text": [
      "  8%|▊         | 90/1120 [00:32<06:06,  2.81it/s]"
     ]
    },
    {
     "name": "stdout",
     "output_type": "stream",
     "text": [
      "{'loss': 0.6241, 'grad_norm': 6.876631259918213, 'learning_rate': 9e-06, 'epoch': 3.21}\n"
     ]
    },
    {
     "name": "stderr",
     "output_type": "stream",
     "text": [
      "  9%|▉         | 100/1120 [00:36<05:47,  2.94it/s]"
     ]
    },
    {
     "name": "stdout",
     "output_type": "stream",
     "text": [
      "{'loss': 0.4991, 'grad_norm': 6.210789680480957, 'learning_rate': 1e-05, 'epoch': 3.57}\n"
     ]
    },
    {
     "name": "stderr",
     "output_type": "stream",
     "text": [
      " 10%|▉         | 110/1120 [00:39<05:44,  2.93it/s]"
     ]
    },
    {
     "name": "stdout",
     "output_type": "stream",
     "text": [
      "{'loss': 0.3907, 'grad_norm': 5.893435001373291, 'learning_rate': 1.1000000000000001e-05, 'epoch': 3.93}\n"
     ]
    },
    {
     "name": "stderr",
     "output_type": "stream",
     "text": [
      " 10%|█         | 112/1120 [00:40<05:48,  2.89it/s]\n",
      " 10%|█         | 112/1120 [00:40<05:48,  2.89it/s]"
     ]
    },
    {
     "name": "stdout",
     "output_type": "stream",
     "text": [
      "{'eval_loss': 0.2662728428840637, 'eval_runtime': 0.2631, 'eval_samples_per_second': 212.869, 'eval_steps_per_second': 26.609, 'epoch': 4.0}\n"
     ]
    },
    {
     "name": "stderr",
     "output_type": "stream",
     "text": [
      " 11%|█         | 120/1120 [00:43<06:08,  2.71it/s]"
     ]
    },
    {
     "name": "stdout",
     "output_type": "stream",
     "text": [
      "{'loss': 0.2716, 'grad_norm': 4.691456317901611, 'learning_rate': 1.2e-05, 'epoch': 4.29}\n"
     ]
    },
    {
     "name": "stderr",
     "output_type": "stream",
     "text": [
      " 12%|█▏        | 130/1120 [00:47<05:40,  2.91it/s]"
     ]
    },
    {
     "name": "stdout",
     "output_type": "stream",
     "text": [
      "{'loss': 0.1832, 'grad_norm': 2.3006784915924072, 'learning_rate': 1.3000000000000001e-05, 'epoch': 4.64}\n"
     ]
    },
    {
     "name": "stderr",
     "output_type": "stream",
     "text": [
      " 12%|█▎        | 140/1120 [00:50<05:37,  2.90it/s]"
     ]
    },
    {
     "name": "stdout",
     "output_type": "stream",
     "text": [
      "{'loss': 0.1061, 'grad_norm': 1.1013145446777344, 'learning_rate': 1.4000000000000001e-05, 'epoch': 5.0}\n"
     ]
    },
    {
     "name": "stderr",
     "output_type": "stream",
     "text": [
      "\n",
      " 12%|█▎        | 140/1120 [00:50<05:37,  2.90it/s]"
     ]
    },
    {
     "name": "stdout",
     "output_type": "stream",
     "text": [
      "{'eval_loss': 0.05622430890798569, 'eval_runtime': 0.2299, 'eval_samples_per_second': 243.631, 'eval_steps_per_second': 30.454, 'epoch': 5.0}\n"
     ]
    },
    {
     "name": "stderr",
     "output_type": "stream",
     "text": [
      " 13%|█▎        | 150/1120 [00:54<05:32,  2.92it/s]"
     ]
    },
    {
     "name": "stdout",
     "output_type": "stream",
     "text": [
      "{'loss': 0.0538, 'grad_norm': 0.8024722337722778, 'learning_rate': 1.5e-05, 'epoch': 5.36}\n"
     ]
    },
    {
     "name": "stderr",
     "output_type": "stream",
     "text": [
      " 14%|█▍        | 160/1120 [00:57<05:26,  2.94it/s]"
     ]
    },
    {
     "name": "stdout",
     "output_type": "stream",
     "text": [
      "{'loss': 0.027, 'grad_norm': 0.3325806260108948, 'learning_rate': 1.6000000000000003e-05, 'epoch': 5.71}\n"
     ]
    },
    {
     "name": "stderr",
     "output_type": "stream",
     "text": [
      " 15%|█▌        | 168/1120 [01:00<05:24,  2.94it/s]\n",
      " 15%|█▌        | 168/1120 [01:00<05:24,  2.94it/s]"
     ]
    },
    {
     "name": "stdout",
     "output_type": "stream",
     "text": [
      "{'eval_loss': 0.010030360892415047, 'eval_runtime': 0.265, 'eval_samples_per_second': 211.322, 'eval_steps_per_second': 26.415, 'epoch': 6.0}\n"
     ]
    },
    {
     "name": "stderr",
     "output_type": "stream",
     "text": [
      " 15%|█▌        | 170/1120 [01:01<06:09,  2.57it/s]"
     ]
    },
    {
     "name": "stdout",
     "output_type": "stream",
     "text": [
      "{'loss': 0.0159, 'grad_norm': 0.2571841776371002, 'learning_rate': 1.7000000000000003e-05, 'epoch': 6.07}\n"
     ]
    },
    {
     "name": "stderr",
     "output_type": "stream",
     "text": [
      " 16%|█▌        | 180/1120 [01:04<05:19,  2.94it/s]"
     ]
    },
    {
     "name": "stdout",
     "output_type": "stream",
     "text": [
      "{'loss': 0.0098, 'grad_norm': 0.12278049439191818, 'learning_rate': 1.8e-05, 'epoch': 6.43}\n"
     ]
    },
    {
     "name": "stderr",
     "output_type": "stream",
     "text": [
      " 17%|█▋        | 190/1120 [01:08<05:14,  2.96it/s]"
     ]
    },
    {
     "name": "stdout",
     "output_type": "stream",
     "text": [
      "{'loss': 0.0079, 'grad_norm': 0.16751761734485626, 'learning_rate': 1.9e-05, 'epoch': 6.79}\n"
     ]
    },
    {
     "name": "stderr",
     "output_type": "stream",
     "text": [
      " 18%|█▊        | 196/1120 [01:10<05:31,  2.78it/s]\n",
      " 18%|█▊        | 196/1120 [01:10<05:31,  2.78it/s]"
     ]
    },
    {
     "name": "stdout",
     "output_type": "stream",
     "text": [
      "{'eval_loss': 0.003738553961738944, 'eval_runtime': 0.2795, 'eval_samples_per_second': 200.354, 'eval_steps_per_second': 25.044, 'epoch': 7.0}\n"
     ]
    },
    {
     "name": "stderr",
     "output_type": "stream",
     "text": [
      " 18%|█▊        | 200/1120 [01:11<05:45,  2.66it/s]"
     ]
    },
    {
     "name": "stdout",
     "output_type": "stream",
     "text": [
      "{'loss': 0.0059, 'grad_norm': 0.06437631696462631, 'learning_rate': 2e-05, 'epoch': 7.14}\n"
     ]
    },
    {
     "name": "stderr",
     "output_type": "stream",
     "text": [
      " 19%|█▉        | 210/1120 [01:15<05:09,  2.94it/s]"
     ]
    },
    {
     "name": "stdout",
     "output_type": "stream",
     "text": [
      "{'loss': 0.0042, 'grad_norm': 0.06250911206007004, 'learning_rate': 2.1e-05, 'epoch': 7.5}\n"
     ]
    },
    {
     "name": "stderr",
     "output_type": "stream",
     "text": [
      " 20%|█▉        | 220/1120 [01:18<05:04,  2.96it/s]"
     ]
    },
    {
     "name": "stdout",
     "output_type": "stream",
     "text": [
      "{'loss': 0.0035, 'grad_norm': 0.0499042347073555, 'learning_rate': 2.2000000000000003e-05, 'epoch': 7.86}\n"
     ]
    },
    {
     "name": "stderr",
     "output_type": "stream",
     "text": [
      " 20%|██        | 224/1120 [01:20<05:09,  2.89it/s]\n",
      " 20%|██        | 224/1120 [01:20<05:09,  2.89it/s]"
     ]
    },
    {
     "name": "stdout",
     "output_type": "stream",
     "text": [
      "{'eval_loss': 0.0022053709253668785, 'eval_runtime': 0.2637, 'eval_samples_per_second': 212.396, 'eval_steps_per_second': 26.55, 'epoch': 8.0}\n"
     ]
    },
    {
     "name": "stderr",
     "output_type": "stream",
     "text": [
      " 21%|██        | 230/1120 [01:22<05:14,  2.83it/s]"
     ]
    },
    {
     "name": "stdout",
     "output_type": "stream",
     "text": [
      "{'loss': 0.0032, 'grad_norm': 0.0471922941505909, 'learning_rate': 2.3000000000000003e-05, 'epoch': 8.21}\n"
     ]
    },
    {
     "name": "stderr",
     "output_type": "stream",
     "text": [
      " 21%|██▏       | 240/1120 [01:25<04:58,  2.95it/s]"
     ]
    },
    {
     "name": "stdout",
     "output_type": "stream",
     "text": [
      "{'loss': 0.0027, 'grad_norm': 0.03947613760828972, 'learning_rate': 2.4e-05, 'epoch': 8.57}\n"
     ]
    },
    {
     "name": "stderr",
     "output_type": "stream",
     "text": [
      " 22%|██▏       | 250/1120 [01:29<04:53,  2.96it/s]"
     ]
    },
    {
     "name": "stdout",
     "output_type": "stream",
     "text": [
      "{'loss': 0.0024, 'grad_norm': 0.03319641947746277, 'learning_rate': 2.5e-05, 'epoch': 8.93}\n"
     ]
    },
    {
     "name": "stderr",
     "output_type": "stream",
     "text": [
      " 22%|██▎       | 252/1120 [01:29<04:58,  2.90it/s]\n",
      " 22%|██▎       | 252/1120 [01:30<04:58,  2.90it/s]"
     ]
    },
    {
     "name": "stdout",
     "output_type": "stream",
     "text": [
      "{'eval_loss': 0.0015196696622297168, 'eval_runtime': 0.2669, 'eval_samples_per_second': 209.832, 'eval_steps_per_second': 26.229, 'epoch': 9.0}\n"
     ]
    },
    {
     "name": "stderr",
     "output_type": "stream",
     "text": [
      " 23%|██▎       | 260/1120 [01:32<04:54,  2.92it/s]"
     ]
    },
    {
     "name": "stdout",
     "output_type": "stream",
     "text": [
      "{'loss': 0.0022, 'grad_norm': 0.03047993592917919, 'learning_rate': 2.6000000000000002e-05, 'epoch': 9.29}\n"
     ]
    },
    {
     "name": "stderr",
     "output_type": "stream",
     "text": [
      " 24%|██▍       | 270/1120 [01:36<04:56,  2.87it/s]"
     ]
    },
    {
     "name": "stdout",
     "output_type": "stream",
     "text": [
      "{'loss': 0.0019, 'grad_norm': 0.030547387897968292, 'learning_rate': 2.7000000000000002e-05, 'epoch': 9.64}\n"
     ]
    },
    {
     "name": "stderr",
     "output_type": "stream",
     "text": [
      " 25%|██▌       | 280/1120 [01:39<04:51,  2.88it/s]"
     ]
    },
    {
     "name": "stdout",
     "output_type": "stream",
     "text": [
      "{'loss': 0.0018, 'grad_norm': 0.035670384764671326, 'learning_rate': 2.8000000000000003e-05, 'epoch': 10.0}\n"
     ]
    },
    {
     "name": "stderr",
     "output_type": "stream",
     "text": [
      "\n",
      " 25%|██▌       | 280/1120 [01:40<04:51,  2.88it/s]"
     ]
    },
    {
     "name": "stdout",
     "output_type": "stream",
     "text": [
      "{'eval_loss': 0.0011511987540870905, 'eval_runtime': 0.2281, 'eval_samples_per_second': 245.505, 'eval_steps_per_second': 30.688, 'epoch': 10.0}\n"
     ]
    },
    {
     "name": "stderr",
     "output_type": "stream",
     "text": [
      " 26%|██▌       | 290/1120 [01:43<04:43,  2.93it/s]"
     ]
    },
    {
     "name": "stdout",
     "output_type": "stream",
     "text": [
      "{'loss': 0.0016, 'grad_norm': 0.025723451748490334, 'learning_rate': 2.9e-05, 'epoch': 10.36}\n"
     ]
    },
    {
     "name": "stderr",
     "output_type": "stream",
     "text": [
      " 27%|██▋       | 300/1120 [01:46<04:36,  2.97it/s]"
     ]
    },
    {
     "name": "stdout",
     "output_type": "stream",
     "text": [
      "{'loss': 0.0014, 'grad_norm': 0.023603368550539017, 'learning_rate': 3e-05, 'epoch': 10.71}\n"
     ]
    },
    {
     "name": "stderr",
     "output_type": "stream",
     "text": [
      " 28%|██▊       | 308/1120 [01:49<04:38,  2.91it/s]\n",
      " 28%|██▊       | 308/1120 [01:49<04:38,  2.91it/s]"
     ]
    },
    {
     "name": "stdout",
     "output_type": "stream",
     "text": [
      "{'eval_loss': 0.0009013203671202064, 'eval_runtime': 0.2695, 'eval_samples_per_second': 207.781, 'eval_steps_per_second': 25.973, 'epoch': 11.0}\n"
     ]
    },
    {
     "name": "stderr",
     "output_type": "stream",
     "text": [
      " 28%|██▊       | 310/1120 [01:50<05:21,  2.52it/s]"
     ]
    },
    {
     "name": "stdout",
     "output_type": "stream",
     "text": [
      "{'loss': 0.0013, 'grad_norm': 0.022578241303563118, 'learning_rate': 3.1e-05, 'epoch': 11.07}\n"
     ]
    },
    {
     "name": "stderr",
     "output_type": "stream",
     "text": [
      " 29%|██▊       | 320/1120 [01:54<04:32,  2.94it/s]"
     ]
    },
    {
     "name": "stdout",
     "output_type": "stream",
     "text": [
      "{'loss': 0.0013, 'grad_norm': 0.023896871134638786, 'learning_rate': 3.2000000000000005e-05, 'epoch': 11.43}\n"
     ]
    },
    {
     "name": "stderr",
     "output_type": "stream",
     "text": [
      " 29%|██▉       | 330/1120 [01:57<04:26,  2.97it/s]"
     ]
    },
    {
     "name": "stdout",
     "output_type": "stream",
     "text": [
      "{'loss': 0.0012, 'grad_norm': 0.016394250094890594, 'learning_rate': 3.3e-05, 'epoch': 11.79}\n"
     ]
    },
    {
     "name": "stderr",
     "output_type": "stream",
     "text": [
      " 30%|███       | 336/1120 [01:59<04:31,  2.89it/s]\n",
      " 30%|███       | 336/1120 [01:59<04:31,  2.89it/s]"
     ]
    },
    {
     "name": "stdout",
     "output_type": "stream",
     "text": [
      "{'eval_loss': 0.0007200014661066234, 'eval_runtime': 0.2634, 'eval_samples_per_second': 212.623, 'eval_steps_per_second': 26.578, 'epoch': 12.0}\n"
     ]
    },
    {
     "name": "stderr",
     "output_type": "stream",
     "text": [
      " 30%|███       | 340/1120 [02:01<04:49,  2.69it/s]"
     ]
    },
    {
     "name": "stdout",
     "output_type": "stream",
     "text": [
      "{'loss': 0.001, 'grad_norm': 0.013982401229441166, 'learning_rate': 3.4000000000000007e-05, 'epoch': 12.14}\n"
     ]
    },
    {
     "name": "stderr",
     "output_type": "stream",
     "text": [
      " 31%|███▏      | 350/1120 [02:04<04:21,  2.95it/s]"
     ]
    },
    {
     "name": "stdout",
     "output_type": "stream",
     "text": [
      "{'loss': 0.001, 'grad_norm': 0.013676813803613186, 'learning_rate': 3.5e-05, 'epoch': 12.5}\n"
     ]
    },
    {
     "name": "stderr",
     "output_type": "stream",
     "text": [
      " 32%|███▏      | 360/1120 [02:07<04:16,  2.96it/s]"
     ]
    },
    {
     "name": "stdout",
     "output_type": "stream",
     "text": [
      "{'loss': 0.0009, 'grad_norm': 0.015123180113732815, 'learning_rate': 3.6e-05, 'epoch': 12.86}\n"
     ]
    },
    {
     "name": "stderr",
     "output_type": "stream",
     "text": [
      " 32%|███▎      | 364/1120 [02:09<04:22,  2.88it/s]\n",
      " 32%|███▎      | 364/1120 [02:09<04:22,  2.88it/s]"
     ]
    },
    {
     "name": "stdout",
     "output_type": "stream",
     "text": [
      "{'eval_loss': 0.0005931432242505252, 'eval_runtime': 0.264, 'eval_samples_per_second': 212.144, 'eval_steps_per_second': 26.518, 'epoch': 13.0}\n"
     ]
    },
    {
     "name": "stderr",
     "output_type": "stream",
     "text": [
      " 33%|███▎      | 370/1120 [02:11<04:29,  2.78it/s]"
     ]
    },
    {
     "name": "stdout",
     "output_type": "stream",
     "text": [
      "{'loss': 0.0009, 'grad_norm': 0.012818762101233006, 'learning_rate': 3.7e-05, 'epoch': 13.21}\n"
     ]
    },
    {
     "name": "stderr",
     "output_type": "stream",
     "text": [
      " 34%|███▍      | 380/1120 [02:15<04:10,  2.95it/s]"
     ]
    },
    {
     "name": "stdout",
     "output_type": "stream",
     "text": [
      "{'loss': 0.0008, 'grad_norm': 0.011888538487255573, 'learning_rate': 3.8e-05, 'epoch': 13.57}\n"
     ]
    },
    {
     "name": "stderr",
     "output_type": "stream",
     "text": [
      " 35%|███▍      | 390/1120 [02:18<04:06,  2.97it/s]"
     ]
    },
    {
     "name": "stdout",
     "output_type": "stream",
     "text": [
      "{'loss': 0.0008, 'grad_norm': 0.011256842873990536, 'learning_rate': 3.9000000000000006e-05, 'epoch': 13.93}\n"
     ]
    },
    {
     "name": "stderr",
     "output_type": "stream",
     "text": [
      " 35%|███▌      | 392/1120 [02:19<04:10,  2.91it/s]\n",
      " 35%|███▌      | 392/1120 [02:19<04:10,  2.91it/s]"
     ]
    },
    {
     "name": "stdout",
     "output_type": "stream",
     "text": [
      "{'eval_loss': 0.0005087128956802189, 'eval_runtime': 0.2659, 'eval_samples_per_second': 210.571, 'eval_steps_per_second': 26.321, 'epoch': 14.0}\n"
     ]
    },
    {
     "name": "stderr",
     "output_type": "stream",
     "text": [
      " 36%|███▌      | 400/1120 [02:22<04:08,  2.90it/s]"
     ]
    },
    {
     "name": "stdout",
     "output_type": "stream",
     "text": [
      "{'loss': 0.0007, 'grad_norm': 0.01115917507559061, 'learning_rate': 4e-05, 'epoch': 14.29}\n"
     ]
    },
    {
     "name": "stderr",
     "output_type": "stream",
     "text": [
      " 37%|███▋      | 410/1120 [02:25<04:18,  2.75it/s]"
     ]
    },
    {
     "name": "stdout",
     "output_type": "stream",
     "text": [
      "{'loss': 0.0007, 'grad_norm': 0.009139236994087696, 'learning_rate': 4.1e-05, 'epoch': 14.64}\n"
     ]
    },
    {
     "name": "stderr",
     "output_type": "stream",
     "text": [
      " 38%|███▊      | 420/1120 [02:29<04:01,  2.90it/s]"
     ]
    },
    {
     "name": "stdout",
     "output_type": "stream",
     "text": [
      "{'loss': 0.0006, 'grad_norm': 0.011317549273371696, 'learning_rate': 4.2e-05, 'epoch': 15.0}\n"
     ]
    },
    {
     "name": "stderr",
     "output_type": "stream",
     "text": [
      "\n",
      " 38%|███▊      | 420/1120 [02:29<04:01,  2.90it/s]"
     ]
    },
    {
     "name": "stdout",
     "output_type": "stream",
     "text": [
      "{'eval_loss': 0.00042060911073349416, 'eval_runtime': 0.2221, 'eval_samples_per_second': 252.186, 'eval_steps_per_second': 31.523, 'epoch': 15.0}\n"
     ]
    },
    {
     "name": "stderr",
     "output_type": "stream",
     "text": [
      " 38%|███▊      | 430/1120 [02:32<03:55,  2.93it/s]"
     ]
    },
    {
     "name": "stdout",
     "output_type": "stream",
     "text": [
      "{'loss': 0.0006, 'grad_norm': 0.008484702557325363, 'learning_rate': 4.3e-05, 'epoch': 15.36}\n"
     ]
    },
    {
     "name": "stderr",
     "output_type": "stream",
     "text": [
      " 39%|███▉      | 440/1120 [02:36<03:49,  2.97it/s]"
     ]
    },
    {
     "name": "stdout",
     "output_type": "stream",
     "text": [
      "{'loss': 0.0006, 'grad_norm': 0.008859602734446526, 'learning_rate': 4.4000000000000006e-05, 'epoch': 15.71}\n"
     ]
    },
    {
     "name": "stderr",
     "output_type": "stream",
     "text": [
      " 40%|████      | 448/1120 [02:38<03:57,  2.83it/s]\n",
      " 40%|████      | 448/1120 [02:39<03:57,  2.83it/s]"
     ]
    },
    {
     "name": "stdout",
     "output_type": "stream",
     "text": [
      "{'eval_loss': 0.0003651331353466958, 'eval_runtime': 0.265, 'eval_samples_per_second': 211.323, 'eval_steps_per_second': 26.415, 'epoch': 16.0}\n"
     ]
    },
    {
     "name": "stderr",
     "output_type": "stream",
     "text": [
      " 40%|████      | 450/1120 [02:39<04:27,  2.50it/s]"
     ]
    },
    {
     "name": "stdout",
     "output_type": "stream",
     "text": [
      "{'loss': 0.0005, 'grad_norm': 0.007852756418287754, 'learning_rate': 4.5e-05, 'epoch': 16.07}\n"
     ]
    },
    {
     "name": "stderr",
     "output_type": "stream",
     "text": [
      " 41%|████      | 460/1120 [02:43<03:52,  2.83it/s]"
     ]
    },
    {
     "name": "stdout",
     "output_type": "stream",
     "text": [
      "{'loss': 0.0005, 'grad_norm': 0.008241776376962662, 'learning_rate': 4.600000000000001e-05, 'epoch': 16.43}\n"
     ]
    },
    {
     "name": "stderr",
     "output_type": "stream",
     "text": [
      " 42%|████▏     | 470/1120 [02:46<03:41,  2.94it/s]"
     ]
    },
    {
     "name": "stdout",
     "output_type": "stream",
     "text": [
      "{'loss': 0.0005, 'grad_norm': 0.00662402855232358, 'learning_rate': 4.7e-05, 'epoch': 16.79}\n"
     ]
    },
    {
     "name": "stderr",
     "output_type": "stream",
     "text": [
      " 42%|████▎     | 476/1120 [02:48<03:42,  2.89it/s]\n",
      " 42%|████▎     | 476/1120 [02:49<03:42,  2.89it/s]"
     ]
    },
    {
     "name": "stdout",
     "output_type": "stream",
     "text": [
      "{'eval_loss': 0.0003132590209133923, 'eval_runtime': 0.2675, 'eval_samples_per_second': 209.35, 'eval_steps_per_second': 26.169, 'epoch': 17.0}\n"
     ]
    },
    {
     "name": "stderr",
     "output_type": "stream",
     "text": [
      " 43%|████▎     | 480/1120 [02:50<03:56,  2.71it/s]"
     ]
    },
    {
     "name": "stdout",
     "output_type": "stream",
     "text": [
      "{'loss': 0.0005, 'grad_norm': 0.008091854862868786, 'learning_rate': 4.8e-05, 'epoch': 17.14}\n"
     ]
    },
    {
     "name": "stderr",
     "output_type": "stream",
     "text": [
      " 44%|████▍     | 490/1120 [02:53<03:34,  2.94it/s]"
     ]
    },
    {
     "name": "stdout",
     "output_type": "stream",
     "text": [
      "{'loss': 0.0005, 'grad_norm': 0.007246239576488733, 'learning_rate': 4.9e-05, 'epoch': 17.5}\n"
     ]
    },
    {
     "name": "stderr",
     "output_type": "stream",
     "text": [
      " 45%|████▍     | 500/1120 [02:57<03:29,  2.96it/s]"
     ]
    },
    {
     "name": "stdout",
     "output_type": "stream",
     "text": [
      "{'loss': 0.0004, 'grad_norm': 0.007012359332293272, 'learning_rate': 5e-05, 'epoch': 17.86}\n"
     ]
    },
    {
     "name": "stderr",
     "output_type": "stream",
     "text": [
      " 45%|████▌     | 504/1120 [03:00<05:48,  1.77it/s]\n",
      " 45%|████▌     | 504/1120 [03:00<05:48,  1.77it/s]"
     ]
    },
    {
     "name": "stdout",
     "output_type": "stream",
     "text": [
      "{'eval_loss': 0.00027284413226880133, 'eval_runtime': 0.2637, 'eval_samples_per_second': 212.333, 'eval_steps_per_second': 26.542, 'epoch': 18.0}\n"
     ]
    },
    {
     "name": "stderr",
     "output_type": "stream",
     "text": [
      " 46%|████▌     | 510/1120 [03:03<03:49,  2.66it/s]"
     ]
    },
    {
     "name": "stdout",
     "output_type": "stream",
     "text": [
      "{'loss': 0.0004, 'grad_norm': 0.006316261366009712, 'learning_rate': 4.9193548387096775e-05, 'epoch': 18.21}\n"
     ]
    },
    {
     "name": "stderr",
     "output_type": "stream",
     "text": [
      " 46%|████▋     | 520/1120 [03:06<03:25,  2.92it/s]"
     ]
    },
    {
     "name": "stdout",
     "output_type": "stream",
     "text": [
      "{'loss': 0.0004, 'grad_norm': 0.006409259978681803, 'learning_rate': 4.8387096774193554e-05, 'epoch': 18.57}\n"
     ]
    },
    {
     "name": "stderr",
     "output_type": "stream",
     "text": [
      " 47%|████▋     | 530/1120 [03:09<03:19,  2.96it/s]"
     ]
    },
    {
     "name": "stdout",
     "output_type": "stream",
     "text": [
      "{'loss': 0.0004, 'grad_norm': 0.006609122268855572, 'learning_rate': 4.7580645161290326e-05, 'epoch': 18.93}\n"
     ]
    },
    {
     "name": "stderr",
     "output_type": "stream",
     "text": [
      " 48%|████▊     | 532/1120 [03:10<03:20,  2.94it/s]\n",
      " 48%|████▊     | 532/1120 [03:10<03:20,  2.94it/s]"
     ]
    },
    {
     "name": "stdout",
     "output_type": "stream",
     "text": [
      "{'eval_loss': 0.00024530565133318305, 'eval_runtime': 0.2632, 'eval_samples_per_second': 212.779, 'eval_steps_per_second': 26.597, 'epoch': 19.0}\n"
     ]
    },
    {
     "name": "stderr",
     "output_type": "stream",
     "text": [
      " 48%|████▊     | 540/1120 [03:13<03:19,  2.90it/s]"
     ]
    },
    {
     "name": "stdout",
     "output_type": "stream",
     "text": [
      "{'loss': 0.0004, 'grad_norm': 0.005650632083415985, 'learning_rate': 4.67741935483871e-05, 'epoch': 19.29}\n"
     ]
    },
    {
     "name": "stderr",
     "output_type": "stream",
     "text": [
      " 49%|████▉     | 550/1120 [03:16<03:13,  2.94it/s]"
     ]
    },
    {
     "name": "stdout",
     "output_type": "stream",
     "text": [
      "{'loss': 0.0003, 'grad_norm': 0.0048231929540634155, 'learning_rate': 4.596774193548387e-05, 'epoch': 19.64}\n"
     ]
    },
    {
     "name": "stderr",
     "output_type": "stream",
     "text": [
      " 50%|█████     | 560/1120 [03:20<03:12,  2.91it/s]"
     ]
    },
    {
     "name": "stdout",
     "output_type": "stream",
     "text": [
      "{'loss': 0.0003, 'grad_norm': 0.004733437206596136, 'learning_rate': 4.516129032258064e-05, 'epoch': 20.0}\n"
     ]
    },
    {
     "name": "stderr",
     "output_type": "stream",
     "text": [
      "\n",
      " 50%|█████     | 560/1120 [03:20<03:12,  2.91it/s]"
     ]
    },
    {
     "name": "stdout",
     "output_type": "stream",
     "text": [
      "{'eval_loss': 0.00022056791931390762, 'eval_runtime': 0.2206, 'eval_samples_per_second': 253.889, 'eval_steps_per_second': 31.736, 'epoch': 20.0}\n"
     ]
    },
    {
     "name": "stderr",
     "output_type": "stream",
     "text": [
      " 51%|█████     | 570/1120 [03:23<03:07,  2.93it/s]"
     ]
    },
    {
     "name": "stdout",
     "output_type": "stream",
     "text": [
      "{'loss': 0.0003, 'grad_norm': 0.004881283268332481, 'learning_rate': 4.435483870967742e-05, 'epoch': 20.36}\n"
     ]
    },
    {
     "name": "stderr",
     "output_type": "stream",
     "text": [
      " 52%|█████▏    | 580/1120 [03:27<03:02,  2.96it/s]"
     ]
    },
    {
     "name": "stdout",
     "output_type": "stream",
     "text": [
      "{'loss': 0.0003, 'grad_norm': 0.006438876036554575, 'learning_rate': 4.3548387096774194e-05, 'epoch': 20.71}\n"
     ]
    },
    {
     "name": "stderr",
     "output_type": "stream",
     "text": [
      " 52%|█████▎    | 588/1120 [03:30<02:59,  2.96it/s]\n",
      " 52%|█████▎    | 588/1120 [03:30<02:59,  2.96it/s]"
     ]
    },
    {
     "name": "stdout",
     "output_type": "stream",
     "text": [
      "{'eval_loss': 0.0002023769629886374, 'eval_runtime': 0.2645, 'eval_samples_per_second': 211.714, 'eval_steps_per_second': 26.464, 'epoch': 21.0}\n"
     ]
    },
    {
     "name": "stderr",
     "output_type": "stream",
     "text": [
      " 53%|█████▎    | 590/1120 [03:30<03:26,  2.57it/s]"
     ]
    },
    {
     "name": "stdout",
     "output_type": "stream",
     "text": [
      "{'loss': 0.0003, 'grad_norm': 0.004463561344891787, 'learning_rate': 4.2741935483870973e-05, 'epoch': 21.07}\n"
     ]
    },
    {
     "name": "stderr",
     "output_type": "stream",
     "text": [
      " 54%|█████▎    | 600/1120 [03:34<02:58,  2.91it/s]"
     ]
    },
    {
     "name": "stdout",
     "output_type": "stream",
     "text": [
      "{'loss': 0.0003, 'grad_norm': 0.004750056657940149, 'learning_rate': 4.1935483870967746e-05, 'epoch': 21.43}\n"
     ]
    },
    {
     "name": "stderr",
     "output_type": "stream",
     "text": [
      " 54%|█████▍    | 610/1120 [03:37<02:52,  2.96it/s]"
     ]
    },
    {
     "name": "stdout",
     "output_type": "stream",
     "text": [
      "{'loss': 0.0003, 'grad_norm': 0.004473735112696886, 'learning_rate': 4.112903225806452e-05, 'epoch': 21.79}\n"
     ]
    },
    {
     "name": "stderr",
     "output_type": "stream",
     "text": [
      " 55%|█████▌    | 616/1120 [03:39<02:53,  2.91it/s]\n",
      " 55%|█████▌    | 616/1120 [03:40<02:53,  2.91it/s]"
     ]
    },
    {
     "name": "stdout",
     "output_type": "stream",
     "text": [
      "{'eval_loss': 0.00018652314611244947, 'eval_runtime': 0.2631, 'eval_samples_per_second': 212.866, 'eval_steps_per_second': 26.608, 'epoch': 22.0}\n"
     ]
    },
    {
     "name": "stderr",
     "output_type": "stream",
     "text": [
      " 55%|█████▌    | 620/1120 [03:41<03:01,  2.76it/s]"
     ]
    },
    {
     "name": "stdout",
     "output_type": "stream",
     "text": [
      "{'loss': 0.0003, 'grad_norm': 0.004011981654912233, 'learning_rate': 4.032258064516129e-05, 'epoch': 22.14}\n"
     ]
    },
    {
     "name": "stderr",
     "output_type": "stream",
     "text": [
      " 56%|█████▋    | 630/1120 [03:44<02:47,  2.92it/s]"
     ]
    },
    {
     "name": "stdout",
     "output_type": "stream",
     "text": [
      "{'loss': 0.0003, 'grad_norm': 0.004074279684573412, 'learning_rate': 3.951612903225806e-05, 'epoch': 22.5}\n"
     ]
    },
    {
     "name": "stderr",
     "output_type": "stream",
     "text": [
      " 57%|█████▋    | 640/1120 [03:48<02:42,  2.95it/s]"
     ]
    },
    {
     "name": "stdout",
     "output_type": "stream",
     "text": [
      "{'loss': 0.0003, 'grad_norm': 0.005245423410087824, 'learning_rate': 3.870967741935484e-05, 'epoch': 22.86}\n"
     ]
    },
    {
     "name": "stderr",
     "output_type": "stream",
     "text": [
      " 57%|█████▊    | 644/1120 [03:49<02:45,  2.87it/s]\n",
      " 57%|█████▊    | 644/1120 [03:49<02:45,  2.87it/s]"
     ]
    },
    {
     "name": "stdout",
     "output_type": "stream",
     "text": [
      "{'eval_loss': 0.000173562002601102, 'eval_runtime': 0.2668, 'eval_samples_per_second': 209.889, 'eval_steps_per_second': 26.236, 'epoch': 23.0}\n"
     ]
    },
    {
     "name": "stderr",
     "output_type": "stream",
     "text": [
      " 58%|█████▊    | 650/1120 [03:51<02:44,  2.85it/s]"
     ]
    },
    {
     "name": "stdout",
     "output_type": "stream",
     "text": [
      "{'loss': 0.0002, 'grad_norm': 0.004173640627413988, 'learning_rate': 3.7903225806451614e-05, 'epoch': 23.21}\n"
     ]
    },
    {
     "name": "stderr",
     "output_type": "stream",
     "text": [
      " 59%|█████▉    | 660/1120 [03:55<02:35,  2.96it/s]"
     ]
    },
    {
     "name": "stdout",
     "output_type": "stream",
     "text": [
      "{'loss': 0.0003, 'grad_norm': 0.004717440810054541, 'learning_rate': 3.7096774193548386e-05, 'epoch': 23.57}\n"
     ]
    },
    {
     "name": "stderr",
     "output_type": "stream",
     "text": [
      " 60%|█████▉    | 670/1120 [03:58<02:31,  2.97it/s]"
     ]
    },
    {
     "name": "stdout",
     "output_type": "stream",
     "text": [
      "{'loss': 0.0002, 'grad_norm': 0.004062560852617025, 'learning_rate': 3.6290322580645165e-05, 'epoch': 23.93}\n"
     ]
    },
    {
     "name": "stderr",
     "output_type": "stream",
     "text": [
      " 60%|██████    | 672/1120 [03:59<02:37,  2.84it/s]\n",
      " 60%|██████    | 672/1120 [03:59<02:37,  2.84it/s]"
     ]
    },
    {
     "name": "stdout",
     "output_type": "stream",
     "text": [
      "{'eval_loss': 0.00016414069978054613, 'eval_runtime': 0.2705, 'eval_samples_per_second': 207.009, 'eval_steps_per_second': 25.876, 'epoch': 24.0}\n"
     ]
    },
    {
     "name": "stderr",
     "output_type": "stream",
     "text": [
      " 61%|██████    | 680/1120 [04:02<02:31,  2.90it/s]"
     ]
    },
    {
     "name": "stdout",
     "output_type": "stream",
     "text": [
      "{'loss': 0.0002, 'grad_norm': 0.0040571317076683044, 'learning_rate': 3.548387096774194e-05, 'epoch': 24.29}\n"
     ]
    },
    {
     "name": "stderr",
     "output_type": "stream",
     "text": [
      " 62%|██████▏   | 690/1120 [04:05<02:24,  2.97it/s]"
     ]
    },
    {
     "name": "stdout",
     "output_type": "stream",
     "text": [
      "{'loss': 0.0002, 'grad_norm': 0.003305567428469658, 'learning_rate': 3.467741935483872e-05, 'epoch': 24.64}\n"
     ]
    },
    {
     "name": "stderr",
     "output_type": "stream",
     "text": [
      " 62%|██████▎   | 700/1120 [04:09<02:22,  2.95it/s]"
     ]
    },
    {
     "name": "stdout",
     "output_type": "stream",
     "text": [
      "{'loss': 0.0002, 'grad_norm': 0.003773436415940523, 'learning_rate': 3.387096774193548e-05, 'epoch': 25.0}\n"
     ]
    },
    {
     "name": "stderr",
     "output_type": "stream",
     "text": [
      "\n",
      " 62%|██████▎   | 700/1120 [04:09<02:22,  2.95it/s]"
     ]
    },
    {
     "name": "stdout",
     "output_type": "stream",
     "text": [
      "{'eval_loss': 0.00015511656238231808, 'eval_runtime': 0.2233, 'eval_samples_per_second': 250.745, 'eval_steps_per_second': 31.343, 'epoch': 25.0}\n"
     ]
    },
    {
     "name": "stderr",
     "output_type": "stream",
     "text": [
      " 63%|██████▎   | 710/1120 [04:12<02:21,  2.90it/s]"
     ]
    },
    {
     "name": "stdout",
     "output_type": "stream",
     "text": [
      "{'loss': 0.0002, 'grad_norm': 0.004112121649086475, 'learning_rate': 3.306451612903226e-05, 'epoch': 25.36}\n"
     ]
    },
    {
     "name": "stderr",
     "output_type": "stream",
     "text": [
      " 64%|██████▍   | 720/1120 [04:16<02:20,  2.84it/s]"
     ]
    },
    {
     "name": "stdout",
     "output_type": "stream",
     "text": [
      "{'loss': 0.0002, 'grad_norm': 0.0042946068570017815, 'learning_rate': 3.2258064516129034e-05, 'epoch': 25.71}\n"
     ]
    },
    {
     "name": "stderr",
     "output_type": "stream",
     "text": [
      " 65%|██████▌   | 728/1120 [04:19<02:17,  2.86it/s]\n",
      " 65%|██████▌   | 728/1120 [04:19<02:17,  2.86it/s]"
     ]
    },
    {
     "name": "stdout",
     "output_type": "stream",
     "text": [
      "{'eval_loss': 0.00014707398077007383, 'eval_runtime': 0.2775, 'eval_samples_per_second': 201.809, 'eval_steps_per_second': 25.226, 'epoch': 26.0}\n"
     ]
    },
    {
     "name": "stderr",
     "output_type": "stream",
     "text": [
      " 65%|██████▌   | 730/1120 [04:20<02:37,  2.48it/s]"
     ]
    },
    {
     "name": "stdout",
     "output_type": "stream",
     "text": [
      "{'loss': 0.0002, 'grad_norm': 0.0034517361782491207, 'learning_rate': 3.1451612903225806e-05, 'epoch': 26.07}\n"
     ]
    },
    {
     "name": "stderr",
     "output_type": "stream",
     "text": [
      " 66%|██████▌   | 740/1120 [04:23<02:14,  2.84it/s]"
     ]
    },
    {
     "name": "stdout",
     "output_type": "stream",
     "text": [
      "{'loss': 0.0002, 'grad_norm': 0.003123563714325428, 'learning_rate': 3.0645161290322585e-05, 'epoch': 26.43}\n"
     ]
    },
    {
     "name": "stderr",
     "output_type": "stream",
     "text": [
      " 67%|██████▋   | 750/1120 [04:27<02:06,  2.91it/s]"
     ]
    },
    {
     "name": "stdout",
     "output_type": "stream",
     "text": [
      "{'loss': 0.0002, 'grad_norm': 0.003637028858065605, 'learning_rate': 2.9838709677419357e-05, 'epoch': 26.79}\n"
     ]
    },
    {
     "name": "stderr",
     "output_type": "stream",
     "text": [
      " 68%|██████▊   | 756/1120 [04:29<02:14,  2.72it/s]\n",
      " 68%|██████▊   | 756/1120 [04:29<02:14,  2.72it/s]"
     ]
    },
    {
     "name": "stdout",
     "output_type": "stream",
     "text": [
      "{'eval_loss': 0.00014115413068793714, 'eval_runtime': 0.2974, 'eval_samples_per_second': 188.293, 'eval_steps_per_second': 23.537, 'epoch': 27.0}\n"
     ]
    },
    {
     "name": "stderr",
     "output_type": "stream",
     "text": [
      " 68%|██████▊   | 760/1120 [04:31<02:31,  2.38it/s]"
     ]
    },
    {
     "name": "stdout",
     "output_type": "stream",
     "text": [
      "{'loss': 0.0002, 'grad_norm': 0.0031224286649376154, 'learning_rate': 2.9032258064516133e-05, 'epoch': 27.14}\n"
     ]
    },
    {
     "name": "stderr",
     "output_type": "stream",
     "text": [
      " 69%|██████▉   | 770/1120 [04:35<02:09,  2.69it/s]"
     ]
    },
    {
     "name": "stdout",
     "output_type": "stream",
     "text": [
      "{'loss': 0.0002, 'grad_norm': 0.00419302424415946, 'learning_rate': 2.822580645161291e-05, 'epoch': 27.5}\n"
     ]
    },
    {
     "name": "stderr",
     "output_type": "stream",
     "text": [
      " 70%|██████▉   | 780/1120 [04:38<01:56,  2.91it/s]"
     ]
    },
    {
     "name": "stdout",
     "output_type": "stream",
     "text": [
      "{'loss': 0.0002, 'grad_norm': 0.003919149748980999, 'learning_rate': 2.7419354838709678e-05, 'epoch': 27.86}\n"
     ]
    },
    {
     "name": "stderr",
     "output_type": "stream",
     "text": [
      " 70%|███████   | 784/1120 [04:39<01:57,  2.87it/s]\n",
      " 70%|███████   | 784/1120 [04:40<01:57,  2.87it/s]"
     ]
    },
    {
     "name": "stdout",
     "output_type": "stream",
     "text": [
      "{'eval_loss': 0.00013498628686647862, 'eval_runtime': 0.2786, 'eval_samples_per_second': 200.991, 'eval_steps_per_second': 25.124, 'epoch': 28.0}\n"
     ]
    },
    {
     "name": "stderr",
     "output_type": "stream",
     "text": [
      " 71%|███████   | 790/1120 [04:42<01:59,  2.75it/s]"
     ]
    },
    {
     "name": "stdout",
     "output_type": "stream",
     "text": [
      "{'loss': 0.0002, 'grad_norm': 0.0029175940435379744, 'learning_rate': 2.661290322580645e-05, 'epoch': 28.21}\n"
     ]
    },
    {
     "name": "stderr",
     "output_type": "stream",
     "text": [
      " 71%|███████▏  | 800/1120 [04:45<01:51,  2.87it/s]"
     ]
    },
    {
     "name": "stdout",
     "output_type": "stream",
     "text": [
      "{'loss': 0.0002, 'grad_norm': 0.003443540306761861, 'learning_rate': 2.5806451612903226e-05, 'epoch': 28.57}\n"
     ]
    },
    {
     "name": "stderr",
     "output_type": "stream",
     "text": [
      " 72%|███████▏  | 810/1120 [04:49<01:45,  2.94it/s]"
     ]
    },
    {
     "name": "stdout",
     "output_type": "stream",
     "text": [
      "{'loss': 0.0002, 'grad_norm': 0.003506735898554325, 'learning_rate': 2.5e-05, 'epoch': 28.93}\n"
     ]
    },
    {
     "name": "stderr",
     "output_type": "stream",
     "text": [
      " 72%|███████▎  | 812/1120 [04:49<01:49,  2.81it/s]\n",
      " 72%|███████▎  | 812/1120 [04:50<01:49,  2.81it/s]"
     ]
    },
    {
     "name": "stdout",
     "output_type": "stream",
     "text": [
      "{'eval_loss': 0.0001301682787016034, 'eval_runtime': 0.2659, 'eval_samples_per_second': 210.591, 'eval_steps_per_second': 26.324, 'epoch': 29.0}\n"
     ]
    },
    {
     "name": "stderr",
     "output_type": "stream",
     "text": [
      " 73%|███████▎  | 820/1120 [04:53<01:47,  2.79it/s]"
     ]
    },
    {
     "name": "stdout",
     "output_type": "stream",
     "text": [
      "{'loss': 0.0002, 'grad_norm': 0.0031303956639021635, 'learning_rate': 2.4193548387096777e-05, 'epoch': 29.29}\n"
     ]
    },
    {
     "name": "stderr",
     "output_type": "stream",
     "text": [
      " 74%|███████▍  | 830/1120 [04:56<01:42,  2.82it/s]"
     ]
    },
    {
     "name": "stdout",
     "output_type": "stream",
     "text": [
      "{'loss': 0.0002, 'grad_norm': 0.003356443252414465, 'learning_rate': 2.338709677419355e-05, 'epoch': 29.64}\n"
     ]
    },
    {
     "name": "stderr",
     "output_type": "stream",
     "text": [
      " 75%|███████▌  | 840/1120 [05:00<01:41,  2.76it/s]"
     ]
    },
    {
     "name": "stdout",
     "output_type": "stream",
     "text": [
      "{'loss': 0.0002, 'grad_norm': 0.0032028283458203077, 'learning_rate': 2.258064516129032e-05, 'epoch': 30.0}\n"
     ]
    },
    {
     "name": "stderr",
     "output_type": "stream",
     "text": [
      "\n",
      " 75%|███████▌  | 840/1120 [05:00<01:41,  2.76it/s]"
     ]
    },
    {
     "name": "stdout",
     "output_type": "stream",
     "text": [
      "{'eval_loss': 0.00012556214642245322, 'eval_runtime': 0.253, 'eval_samples_per_second': 221.31, 'eval_steps_per_second': 27.664, 'epoch': 30.0}\n"
     ]
    },
    {
     "name": "stderr",
     "output_type": "stream",
     "text": [
      " 76%|███████▌  | 850/1120 [05:04<01:36,  2.78it/s]"
     ]
    },
    {
     "name": "stdout",
     "output_type": "stream",
     "text": [
      "{'loss': 0.0002, 'grad_norm': 0.0032458098139613867, 'learning_rate': 2.1774193548387097e-05, 'epoch': 30.36}\n"
     ]
    },
    {
     "name": "stderr",
     "output_type": "stream",
     "text": [
      " 77%|███████▋  | 860/1120 [05:07<01:29,  2.91it/s]"
     ]
    },
    {
     "name": "stdout",
     "output_type": "stream",
     "text": [
      "{'loss': 0.0002, 'grad_norm': 0.0027353321202099323, 'learning_rate': 2.0967741935483873e-05, 'epoch': 30.71}\n"
     ]
    },
    {
     "name": "stderr",
     "output_type": "stream",
     "text": [
      " 78%|███████▊  | 868/1120 [05:10<01:28,  2.86it/s]\n",
      " 78%|███████▊  | 868/1120 [05:10<01:28,  2.86it/s]"
     ]
    },
    {
     "name": "stdout",
     "output_type": "stream",
     "text": [
      "{'eval_loss': 0.00012223448720760643, 'eval_runtime': 0.2701, 'eval_samples_per_second': 207.357, 'eval_steps_per_second': 25.92, 'epoch': 31.0}\n"
     ]
    },
    {
     "name": "stderr",
     "output_type": "stream",
     "text": [
      " 78%|███████▊  | 870/1120 [05:11<01:40,  2.50it/s]"
     ]
    },
    {
     "name": "stdout",
     "output_type": "stream",
     "text": [
      "{'loss': 0.0002, 'grad_norm': 0.0028364751487970352, 'learning_rate': 2.0161290322580645e-05, 'epoch': 31.07}\n"
     ]
    },
    {
     "name": "stderr",
     "output_type": "stream",
     "text": [
      " 79%|███████▊  | 880/1120 [05:14<01:22,  2.91it/s]"
     ]
    },
    {
     "name": "stdout",
     "output_type": "stream",
     "text": [
      "{'loss': 0.0002, 'grad_norm': 0.002978050149977207, 'learning_rate': 1.935483870967742e-05, 'epoch': 31.43}\n"
     ]
    },
    {
     "name": "stderr",
     "output_type": "stream",
     "text": [
      " 79%|███████▉  | 890/1120 [05:18<01:18,  2.92it/s]"
     ]
    },
    {
     "name": "stdout",
     "output_type": "stream",
     "text": [
      "{'loss': 0.0002, 'grad_norm': 0.0032550652977079153, 'learning_rate': 1.8548387096774193e-05, 'epoch': 31.79}\n"
     ]
    },
    {
     "name": "stderr",
     "output_type": "stream",
     "text": [
      " 80%|████████  | 896/1120 [05:20<01:18,  2.85it/s]\n",
      " 80%|████████  | 896/1120 [05:20<01:18,  2.85it/s]"
     ]
    },
    {
     "name": "stdout",
     "output_type": "stream",
     "text": [
      "{'eval_loss': 0.00011908994929399341, 'eval_runtime': 0.2707, 'eval_samples_per_second': 206.9, 'eval_steps_per_second': 25.863, 'epoch': 32.0}\n"
     ]
    },
    {
     "name": "stderr",
     "output_type": "stream",
     "text": [
      " 80%|████████  | 900/1120 [05:22<01:21,  2.68it/s]"
     ]
    },
    {
     "name": "stdout",
     "output_type": "stream",
     "text": [
      "{'loss': 0.0002, 'grad_norm': 0.002819295274093747, 'learning_rate': 1.774193548387097e-05, 'epoch': 32.14}\n"
     ]
    },
    {
     "name": "stderr",
     "output_type": "stream",
     "text": [
      " 81%|████████▏ | 910/1120 [05:25<01:13,  2.86it/s]"
     ]
    },
    {
     "name": "stdout",
     "output_type": "stream",
     "text": [
      "{'loss': 0.0002, 'grad_norm': 0.0024955132976174355, 'learning_rate': 1.693548387096774e-05, 'epoch': 32.5}\n"
     ]
    },
    {
     "name": "stderr",
     "output_type": "stream",
     "text": [
      " 82%|████████▏ | 920/1120 [05:29<01:09,  2.87it/s]"
     ]
    },
    {
     "name": "stdout",
     "output_type": "stream",
     "text": [
      "{'loss': 0.0002, 'grad_norm': 0.00324595021083951, 'learning_rate': 1.6129032258064517e-05, 'epoch': 32.86}\n"
     ]
    },
    {
     "name": "stderr",
     "output_type": "stream",
     "text": [
      " 82%|████████▎ | 924/1120 [05:30<01:11,  2.75it/s]\n",
      " 82%|████████▎ | 924/1120 [05:30<01:11,  2.75it/s]"
     ]
    },
    {
     "name": "stdout",
     "output_type": "stream",
     "text": [
      "{'eval_loss': 0.00011642870958894491, 'eval_runtime': 0.2841, 'eval_samples_per_second': 197.117, 'eval_steps_per_second': 24.64, 'epoch': 33.0}\n"
     ]
    },
    {
     "name": "stderr",
     "output_type": "stream",
     "text": [
      " 83%|████████▎ | 930/1120 [05:33<01:13,  2.60it/s]"
     ]
    },
    {
     "name": "stdout",
     "output_type": "stream",
     "text": [
      "{'loss': 0.0002, 'grad_norm': 0.0024789508897811174, 'learning_rate': 1.5322580645161292e-05, 'epoch': 33.21}\n"
     ]
    },
    {
     "name": "stderr",
     "output_type": "stream",
     "text": [
      " 84%|████████▍ | 940/1120 [05:36<01:03,  2.81it/s]"
     ]
    },
    {
     "name": "stdout",
     "output_type": "stream",
     "text": [
      "{'loss': 0.0002, 'grad_norm': 0.003418036736547947, 'learning_rate': 1.4516129032258066e-05, 'epoch': 33.57}\n"
     ]
    },
    {
     "name": "stderr",
     "output_type": "stream",
     "text": [
      " 85%|████████▍ | 950/1120 [05:40<01:01,  2.78it/s]"
     ]
    },
    {
     "name": "stdout",
     "output_type": "stream",
     "text": [
      "{'loss': 0.0002, 'grad_norm': 0.002698152093216777, 'learning_rate': 1.3709677419354839e-05, 'epoch': 33.93}\n"
     ]
    },
    {
     "name": "stderr",
     "output_type": "stream",
     "text": [
      " 85%|████████▌ | 952/1120 [05:41<01:05,  2.58it/s]\n",
      " 85%|████████▌ | 952/1120 [05:41<01:05,  2.58it/s]"
     ]
    },
    {
     "name": "stdout",
     "output_type": "stream",
     "text": [
      "{'eval_loss': 0.00011400592484278604, 'eval_runtime': 0.3704, 'eval_samples_per_second': 151.17, 'eval_steps_per_second': 18.896, 'epoch': 34.0}\n"
     ]
    },
    {
     "name": "stderr",
     "output_type": "stream",
     "text": [
      " 86%|████████▌ | 960/1120 [05:44<00:57,  2.79it/s]"
     ]
    },
    {
     "name": "stdout",
     "output_type": "stream",
     "text": [
      "{'loss': 0.0002, 'grad_norm': 0.0028264750726521015, 'learning_rate': 1.2903225806451613e-05, 'epoch': 34.29}\n"
     ]
    },
    {
     "name": "stderr",
     "output_type": "stream",
     "text": [
      " 87%|████████▋ | 970/1120 [05:47<00:51,  2.91it/s]"
     ]
    },
    {
     "name": "stdout",
     "output_type": "stream",
     "text": [
      "{'loss': 0.0002, 'grad_norm': 0.0026949052698910236, 'learning_rate': 1.2096774193548388e-05, 'epoch': 34.64}\n"
     ]
    },
    {
     "name": "stderr",
     "output_type": "stream",
     "text": [
      " 88%|████████▊ | 980/1120 [05:51<00:49,  2.83it/s]"
     ]
    },
    {
     "name": "stdout",
     "output_type": "stream",
     "text": [
      "{'loss': 0.0002, 'grad_norm': 0.0028501825872808695, 'learning_rate': 1.129032258064516e-05, 'epoch': 35.0}\n"
     ]
    },
    {
     "name": "stderr",
     "output_type": "stream",
     "text": [
      "\n",
      " 88%|████████▊ | 980/1120 [05:51<00:49,  2.83it/s]"
     ]
    },
    {
     "name": "stdout",
     "output_type": "stream",
     "text": [
      "{'eval_loss': 0.00011208558134967461, 'eval_runtime': 0.3231, 'eval_samples_per_second': 173.341, 'eval_steps_per_second': 21.668, 'epoch': 35.0}\n"
     ]
    },
    {
     "name": "stderr",
     "output_type": "stream",
     "text": [
      " 88%|████████▊ | 990/1120 [05:55<00:45,  2.86it/s]"
     ]
    },
    {
     "name": "stdout",
     "output_type": "stream",
     "text": [
      "{'loss': 0.0002, 'grad_norm': 0.0026890216395258904, 'learning_rate': 1.0483870967741936e-05, 'epoch': 35.36}\n"
     ]
    },
    {
     "name": "stderr",
     "output_type": "stream",
     "text": [
      " 89%|████████▉ | 1000/1120 [05:58<00:41,  2.90it/s]"
     ]
    },
    {
     "name": "stdout",
     "output_type": "stream",
     "text": [
      "{'loss': 0.0002, 'grad_norm': 0.0026664198376238346, 'learning_rate': 9.67741935483871e-06, 'epoch': 35.71}\n"
     ]
    },
    {
     "name": "stderr",
     "output_type": "stream",
     "text": [
      " 90%|█████████ | 1008/1120 [06:04<00:48,  2.32it/s]\n",
      " 90%|█████████ | 1008/1120 [06:04<00:48,  2.32it/s]"
     ]
    },
    {
     "name": "stdout",
     "output_type": "stream",
     "text": [
      "{'eval_loss': 0.00011051865294575691, 'eval_runtime': 0.2736, 'eval_samples_per_second': 204.668, 'eval_steps_per_second': 25.584, 'epoch': 36.0}\n"
     ]
    },
    {
     "name": "stderr",
     "output_type": "stream",
     "text": [
      " 90%|█████████ | 1010/1120 [06:05<00:48,  2.27it/s]"
     ]
    },
    {
     "name": "stdout",
     "output_type": "stream",
     "text": [
      "{'loss': 0.0002, 'grad_norm': 0.0022723872680217028, 'learning_rate': 8.870967741935484e-06, 'epoch': 36.07}\n"
     ]
    },
    {
     "name": "stderr",
     "output_type": "stream",
     "text": [
      " 91%|█████████ | 1020/1120 [06:08<00:35,  2.85it/s]"
     ]
    },
    {
     "name": "stdout",
     "output_type": "stream",
     "text": [
      "{'loss': 0.0002, 'grad_norm': 0.0027801739051938057, 'learning_rate': 8.064516129032258e-06, 'epoch': 36.43}\n"
     ]
    },
    {
     "name": "stderr",
     "output_type": "stream",
     "text": [
      " 92%|█████████▏| 1030/1120 [06:12<00:32,  2.79it/s]"
     ]
    },
    {
     "name": "stdout",
     "output_type": "stream",
     "text": [
      "{'loss': 0.0002, 'grad_norm': 0.002676280913874507, 'learning_rate': 7.258064516129033e-06, 'epoch': 36.79}\n"
     ]
    },
    {
     "name": "stderr",
     "output_type": "stream",
     "text": [
      " 92%|█████████▎| 1036/1120 [06:14<00:29,  2.84it/s]\n",
      " 92%|█████████▎| 1036/1120 [06:14<00:29,  2.84it/s]"
     ]
    },
    {
     "name": "stdout",
     "output_type": "stream",
     "text": [
      "{'eval_loss': 0.00010922848741756752, 'eval_runtime': 0.2642, 'eval_samples_per_second': 211.952, 'eval_steps_per_second': 26.494, 'epoch': 37.0}\n"
     ]
    },
    {
     "name": "stderr",
     "output_type": "stream",
     "text": [
      " 93%|█████████▎| 1040/1120 [06:16<00:30,  2.66it/s]"
     ]
    },
    {
     "name": "stdout",
     "output_type": "stream",
     "text": [
      "{'loss': 0.0002, 'grad_norm': 0.002850887831300497, 'learning_rate': 6.451612903225806e-06, 'epoch': 37.14}\n"
     ]
    },
    {
     "name": "stderr",
     "output_type": "stream",
     "text": [
      " 94%|█████████▍| 1050/1120 [06:19<00:23,  2.93it/s]"
     ]
    },
    {
     "name": "stdout",
     "output_type": "stream",
     "text": [
      "{'loss': 0.0002, 'grad_norm': 0.002697572810575366, 'learning_rate': 5.64516129032258e-06, 'epoch': 37.5}\n"
     ]
    },
    {
     "name": "stderr",
     "output_type": "stream",
     "text": [
      " 95%|█████████▍| 1060/1120 [06:23<00:21,  2.83it/s]"
     ]
    },
    {
     "name": "stdout",
     "output_type": "stream",
     "text": [
      "{'loss': 0.0002, 'grad_norm': 0.0021281703375279903, 'learning_rate': 4.838709677419355e-06, 'epoch': 37.86}\n"
     ]
    },
    {
     "name": "stderr",
     "output_type": "stream",
     "text": [
      " 95%|█████████▌| 1064/1120 [06:24<00:19,  2.87it/s]\n",
      " 95%|█████████▌| 1064/1120 [06:24<00:19,  2.87it/s]"
     ]
    },
    {
     "name": "stdout",
     "output_type": "stream",
     "text": [
      "{'eval_loss': 0.00010853870480787009, 'eval_runtime': 0.2658, 'eval_samples_per_second': 210.662, 'eval_steps_per_second': 26.333, 'epoch': 38.0}\n"
     ]
    },
    {
     "name": "stderr",
     "output_type": "stream",
     "text": [
      " 96%|█████████▌| 1070/1120 [06:26<00:17,  2.83it/s]"
     ]
    },
    {
     "name": "stdout",
     "output_type": "stream",
     "text": [
      "{'loss': 0.0002, 'grad_norm': 0.002654079580679536, 'learning_rate': 4.032258064516129e-06, 'epoch': 38.21}\n"
     ]
    },
    {
     "name": "stderr",
     "output_type": "stream",
     "text": [
      " 96%|█████████▋| 1080/1120 [06:30<00:13,  2.94it/s]"
     ]
    },
    {
     "name": "stdout",
     "output_type": "stream",
     "text": [
      "{'loss': 0.0002, 'grad_norm': 0.002853031735867262, 'learning_rate': 3.225806451612903e-06, 'epoch': 38.57}\n"
     ]
    },
    {
     "name": "stderr",
     "output_type": "stream",
     "text": [
      " 97%|█████████▋| 1090/1120 [06:33<00:10,  2.95it/s]"
     ]
    },
    {
     "name": "stdout",
     "output_type": "stream",
     "text": [
      "{'loss': 0.0002, 'grad_norm': 0.002966460073366761, 'learning_rate': 2.4193548387096776e-06, 'epoch': 38.93}\n"
     ]
    },
    {
     "name": "stderr",
     "output_type": "stream",
     "text": [
      " 98%|█████████▊| 1092/1120 [06:34<00:09,  2.83it/s]\n",
      " 98%|█████████▊| 1092/1120 [06:34<00:09,  2.83it/s]"
     ]
    },
    {
     "name": "stdout",
     "output_type": "stream",
     "text": [
      "{'eval_loss': 0.00010795536218211055, 'eval_runtime': 0.2654, 'eval_samples_per_second': 210.979, 'eval_steps_per_second': 26.372, 'epoch': 39.0}\n"
     ]
    },
    {
     "name": "stderr",
     "output_type": "stream",
     "text": [
      " 98%|█████████▊| 1100/1120 [06:37<00:06,  2.89it/s]"
     ]
    },
    {
     "name": "stdout",
     "output_type": "stream",
     "text": [
      "{'loss': 0.0002, 'grad_norm': 0.0025646062567830086, 'learning_rate': 1.6129032258064516e-06, 'epoch': 39.29}\n"
     ]
    },
    {
     "name": "stderr",
     "output_type": "stream",
     "text": [
      " 99%|█████████▉| 1110/1120 [06:40<00:03,  2.91it/s]"
     ]
    },
    {
     "name": "stdout",
     "output_type": "stream",
     "text": [
      "{'loss': 0.0002, 'grad_norm': 0.002905996749177575, 'learning_rate': 8.064516129032258e-07, 'epoch': 39.64}\n"
     ]
    },
    {
     "name": "stderr",
     "output_type": "stream",
     "text": [
      "100%|██████████| 1120/1120 [06:44<00:00,  2.90it/s]"
     ]
    },
    {
     "name": "stdout",
     "output_type": "stream",
     "text": [
      "{'loss': 0.0002, 'grad_norm': 0.002731216372922063, 'learning_rate': 0.0, 'epoch': 40.0}\n"
     ]
    },
    {
     "name": "stderr",
     "output_type": "stream",
     "text": [
      "\n",
      "100%|██████████| 1120/1120 [06:46<00:00,  2.75it/s]\n"
     ]
    },
    {
     "name": "stdout",
     "output_type": "stream",
     "text": [
      "{'eval_loss': 0.00010778503929032013, 'eval_runtime': 0.2645, 'eval_samples_per_second': 211.704, 'eval_steps_per_second': 26.463, 'epoch': 40.0}\n",
      "{'train_runtime': 406.9157, 'train_samples_per_second': 21.823, 'train_steps_per_second': 2.752, 'train_loss': 0.09070896620843476, 'epoch': 40.0}\n"
     ]
    },
    {
     "name": "stderr",
     "output_type": "stream",
     "text": [
      "100%|██████████| 7/7 [00:00<00:00, 24.56it/s]"
     ]
    },
    {
     "name": "stdout",
     "output_type": "stream",
     "text": [
      "Query: when was Titanic released --> Predicted Tag: qna\n",
      "Query: Suggest movies that are similar to La La Land and Whiplash. --> Predicted Tag: recommendation\n",
      "Query: Display an image of Leonardo DiCaprio --> Predicted Tag: image\n",
      "Query: What movies are good if I liked Fight Club? --> Predicted Tag: recommendation\n",
      "Query: Find me a picture of Natalie Portman --> Predicted Tag: image\n",
      "Query: What does Matt Damon look like? --> Predicted Tag: image\n",
      "Query: when was Quentin Tarantino born --> Predicted Tag: qna\n",
      "Query: What does Ryan Gosling look like? --> Predicted Tag: image\n",
      "Query: Display an image of the movie Ratatouille --> Predicted Tag: image\n",
      "Query: Suggest films similar to The Revenant. --> Predicted Tag: recommendation\n",
      "Query: who produced Pulp Fiction --> Predicted Tag: qna\n",
      "Query: Display an image of the Minions --> Predicted Tag: image\n",
      "Query: Find a poster of the movie Aladdin --> Predicted Tag: image\n",
      "Query: birthplace of James Cameron --> Predicted Tag: qna\n",
      "Query: Give me a glimpse of Harry Potter --> Predicted Tag: image\n",
      "Query: I recently watched Joker, what else might I enjoy? --> Predicted Tag: recommendation\n",
      "Query: How did Iron Man look? --> Predicted Tag: image\n",
      "Query: what was the budget of Titanic --> Predicted Tag: qna\n",
      "Query: What does the Joker look like in the 2019 movie? --> Predicted Tag: image\n",
      "Query: What does Morgan Freeman look like? --> Predicted Tag: image\n",
      "Query: genre of Avatar --> Predicted Tag: qna\n",
      "Query: who produced The Dark Knight --> Predicted Tag: qna\n",
      "Query: What are some films similar to The Good, the Bad and the Ugly? --> Predicted Tag: recommendation\n",
      "Query: What does Kristen Stewart look like? --> Predicted Tag: image\n",
      "Query: Display an image of the cast of Friends --> Predicted Tag: image\n",
      "Query: What does Daniel Radcliffe look like? --> Predicted Tag: image\n",
      "Query: who was the screenwriter of Avatar --> Predicted Tag: qna\n",
      "Query: what type of movie is The Godfather --> Predicted Tag: qna\n",
      "Query: revenue of Iron Man --> Predicted Tag: qna\n",
      "Query: If I liked Star Wars and Guardians of the Galaxy, what other movies should I watch? --> Predicted Tag: recommendation\n",
      "Query: lead actor in Inception --> Predicted Tag: qna\n",
      "Query: I enjoyed Jumanji and Zathura. Any recommendations? --> Predicted Tag: recommendation\n",
      "Query: who was the main actor in The Godfather --> Predicted Tag: qna\n",
      "Query: What should I watch if I liked The Imitation Game? --> Predicted Tag: recommendation\n",
      "Query: Find me a photo of Hugh Jackman --> Predicted Tag: image\n",
      "Query: who produced The Matrix --> Predicted Tag: qna\n",
      "Query: Can you display a photo of Mark Ruffalo? --> Predicted Tag: image\n",
      "Query: Display a poster of Finding Nemo --> Predicted Tag: image\n",
      "Query: earnings of The Dark Knight --> Predicted Tag: qna\n",
      "Query: how much did Pulp Fiction cost --> Predicted Tag: qna\n",
      "Query: what type of movie is Jurassic Park --> Predicted Tag: qna\n",
      "Query: I loved The Secret Life of Walter Mitty. What else would you recommend? --> Predicted Tag: recommendation\n",
      "Query: how much did The Matrix cost --> Predicted Tag: qna\n",
      "Query: lead actor of Iron Man --> Predicted Tag: qna\n",
      "Query: I just watched The Grand Budapest Hotel. What else would I enjoy? --> Predicted Tag: recommendation\n",
      "Query: I enjoyed Inside Out and Soul. What else is similar? --> Predicted Tag: recommendation\n",
      "Query: director of The Matrix --> Predicted Tag: qna\n",
      "Query: who wrote the screenplay for The Dark Knight --> Predicted Tag: qna\n",
      "Query: I loved Enola Holmes. What other mystery films should I watch? --> Predicted Tag: recommendation\n",
      "Query: What does Benedict Wong look like? --> Predicted Tag: image\n",
      "Query: when was Leonardo DiCaprio born --> Predicted Tag: qna\n",
      "Query: I loved The Notebook. What other romantic films should I watch? --> Predicted Tag: recommendation\n",
      "Query: Show me the Frozen poster with Olaf --> Predicted Tag: image\n",
      "Query: director of The Dark Knight --> Predicted Tag: qna\n",
      "Query: I liked Crazy Rich Asians. Any similar films? --> Predicted Tag: recommendation\n",
      "Query: who directed Titanic --> Predicted Tag: qna\n"
     ]
    },
    {
     "name": "stderr",
     "output_type": "stream",
     "text": [
      "\n"
     ]
    }
   ],
   "source": [
    "# Load pre-trained tokenizer\n",
    "tokenizer = BertTokenizer.from_pretrained('bert-base-uncased')\n",
    "\n",
    "# Tokenize the input data\n",
    "train_encodings = tokenizer(train_queries, truncation=True, padding=True, max_length=64)\n",
    "test_encodings = tokenizer(test_queries, truncation=True, padding=True, max_length=64)\n",
    "\n",
    "# Convert to PyTorch dataset format\n",
    "class QTypeDataset(torch.utils.data.Dataset):\n",
    "    def __init__(self, encodings, labels):\n",
    "        self.encodings = encodings\n",
    "        self.labels = labels\n",
    "\n",
    "    def __len__(self):\n",
    "        return len(self.labels)\n",
    "\n",
    "    def __getitem__(self, idx):\n",
    "        item = {key: torch.tensor(val[idx]) for key, val in self.encodings.items()}\n",
    "        item['labels'] = torch.tensor(self.labels[idx])\n",
    "        return item\n",
    "    \n",
    "train_dataset = QTypeDataset(train_encodings, train_labels)\n",
    "test_dataset = QTypeDataset(test_encodings, test_labels)\n",
    "\n",
    "# Load pre-trained BERT model for sequence classification\n",
    "model = BertForSequenceClassification.from_pretrained('bert-base-uncased', num_labels=len(label_list))\n",
    "\n",
    "# Define training arguments\n",
    "training_args = TrainingArguments(\n",
    "    output_dir='./results',\n",
    "    num_train_epochs=40,\n",
    "    per_device_train_batch_size=8,\n",
    "    per_device_eval_batch_size=8,\n",
    "    warmup_steps=500,\n",
    "    weight_decay=0.01,\n",
    "    logging_dir='./logs',\n",
    "    logging_steps=10,\n",
    "    evaluation_strategy=\"epoch\",\n",
    ")\n",
    "\n",
    "# Use the Trainer API to train the model\n",
    "trainer = Trainer(\n",
    "    model=model,\n",
    "    args=training_args,\n",
    "    train_dataset=train_dataset,\n",
    "    eval_dataset=test_dataset,\n",
    ")\n",
    "\n",
    "# Train the model\n",
    "trainer.train()\n",
    "\n",
    "# Test the model\n",
    "predictions = trainer.predict(test_dataset)\n",
    "predicted_labels = torch.argmax(torch.tensor(predictions.predictions), axis=1)\n",
    "\n",
    "# Map predicted labels back to tags\n",
    "predicted_tags = [id2tag[label.item()] for label in predicted_labels]\n",
    "\n",
    "# Print the results\n",
    "for query, pred_tag in zip(test_queries, predicted_tags):\n",
    "    print(f\"Query: {query} --> Predicted Tag: {pred_tag}\")"
   ]
  },
  {
   "cell_type": "code",
   "execution_count": 21,
   "metadata": {},
   "outputs": [],
   "source": [
    "# Save the model\n",
    "model.save_pretrained(\"../data/final_classification_model\")"
   ]
  },
  {
   "cell_type": "code",
   "execution_count": 22,
   "metadata": {},
   "outputs": [
    {
     "data": {
      "text/plain": [
       "'qna'"
      ]
     },
     "execution_count": 22,
     "metadata": {},
     "output_type": "execute_result"
    }
   ],
   "source": [
    "# load the model\n",
    "model = BertForSequenceClassification.from_pretrained(\"../data/final_classification_model\")\n",
    "tokenizer = BertTokenizer.from_pretrained(\"bert-base-uncased\")\n",
    "id2tag = {0: 'qna', 1: 'recommendation', 2: 'image'}\n",
    "\n",
    "# Test the model\n",
    "query = \"Who is the director of Good Will Hunting?\"\n",
    "inputs = tokenizer(query, return_tensors=\"pt\")\n",
    "outputs = model(**inputs)\n",
    "predicted_label = torch.argmax(outputs.logits[0]).item()\n",
    "predicted_tag = id2tag[predicted_label]\n",
    "predicted_tag"
   ]
  },
  {
   "cell_type": "code",
   "execution_count": 13,
   "metadata": {},
   "outputs": [
    {
     "data": {
      "text/plain": [
       "{0: 'qna', 1: 'recommendation', 2: 'image'}"
      ]
     },
     "execution_count": 13,
     "metadata": {},
     "output_type": "execute_result"
    }
   ],
   "source": [
    "id2tag"
   ]
  },
  {
   "cell_type": "code",
   "execution_count": null,
   "metadata": {},
   "outputs": [],
   "source": []
  },
  {
   "cell_type": "code",
   "execution_count": null,
   "metadata": {},
   "outputs": [],
   "source": []
  }
 ],
 "metadata": {
  "kernelspec": {
   "display_name": "atai",
   "language": "python",
   "name": "python3"
  },
  "language_info": {
   "codemirror_mode": {
    "name": "ipython",
    "version": 3
   },
   "file_extension": ".py",
   "mimetype": "text/x-python",
   "name": "python",
   "nbconvert_exporter": "python",
   "pygments_lexer": "ipython3",
   "version": "3.10.14"
  }
 },
 "nbformat": 4,
 "nbformat_minor": 2
}
