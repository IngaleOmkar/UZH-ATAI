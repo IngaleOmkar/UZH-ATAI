{
 "cells": [
  {
   "cell_type": "code",
   "execution_count": 1,
   "metadata": {},
   "outputs": [],
   "source": [
    "import json\n",
    "import re\n",
    "import pickle "
   ]
  },
  {
   "cell_type": "code",
   "execution_count": 2,
   "metadata": {},
   "outputs": [],
   "source": [
    "# read json file \n",
    "with open('../data/updates.json', 'r') as f:\n",
    "    data = json.load(f)"
   ]
  },
  {
   "cell_type": "code",
   "execution_count": 3,
   "metadata": {},
   "outputs": [],
   "source": [
    "triplets, uri_to_label, label_to_uri, label_list = pickle.load(open(\"../data/formatted_data.pkl\", \"rb\"))"
   ]
  },
  {
   "cell_type": "code",
   "execution_count": 4,
   "metadata": {},
   "outputs": [],
   "source": [
    "entity_template = 'http://www.wikidata.org/entity/'\n",
    "prop_template = 'http://www.wikidata.org/prop/direct/'"
   ]
  },
  {
   "cell_type": "code",
   "execution_count": 5,
   "metadata": {},
   "outputs": [],
   "source": [
    "update_pairs = data['update']"
   ]
  },
  {
   "cell_type": "code",
   "execution_count": 6,
   "metadata": {},
   "outputs": [],
   "source": [
    "def generate_entity_uri(entity_id):\n",
    "    return entity_template + entity_id[3:]\n",
    "\n",
    "def generate_prop_uri(prop_id):\n",
    "    return prop_template + prop_id[4:]"
   ]
  },
  {
   "cell_type": "code",
   "execution_count": 7,
   "metadata": {},
   "outputs": [],
   "source": [
    "# make a copy of triplets\n",
    "\n",
    "triplets_copy = triplets.copy()\n",
    "uri_set = set()"
   ]
  },
  {
   "cell_type": "code",
   "execution_count": null,
   "metadata": {},
   "outputs": [
    {
     "name": "stdout",
     "output_type": "stream",
     "text": [
      "Key not found in triplets:  http://www.wikidata.org/entity/Q11621 http://www.wikidata.org/prop/direct/P2142  answer: 792910554\n",
      "Key not found in triplets:  http://www.wikidata.org/entity/Q603545 http://www.wikidata.org/prop/direct/P2142  answer: 4300000\n",
      "Key not found in triplets:  http://www.wikidata.org/entity/Q16911843 http://www.wikidata.org/prop/direct/P577  answer: 2014-01-18\n",
      "Key not found in triplets:  http://www.wikidata.org/entity/Q1628022 http://www.wikidata.org/prop/direct/P577  answer: 1951-01-01\n",
      "Key not found in triplets:  http://www.wikidata.org/entity/Q48313910 http://www.wikidata.org/prop/direct/P577  answer: 2019-02-24\n",
      "Key not found in triplets:  http://www.wikidata.org/entity/Q171300 http://www.wikidata.org/prop/direct/P2142  answer: 267000000\n",
      "Key not found in triplets:  http://www.wikidata.org/entity/Q217010 http://www.wikidata.org/prop/direct/P2142  answer: 698491348\n",
      "Key not found in triplets:  http://www.wikidata.org/entity/Q1339195 ddis:indirectSubclassOf  answer: http://www.wikidata.org/entity/Q27096213\n",
      "Key not found in triplets:  http://www.wikidata.org/entity/Q104649845 ddis:indirectSubclassOf  answer: http://www.wikidata.org/entity/Q43229\n",
      "Key not found in triplets:  http://www.wikidata.org/entity/Q61928601 ddis:indirectSubclassOf  answer: http://www.wikidata.org/entity/Q95074\n",
      "Key not found in triplets:  http://www.wikidata.org/entity/Q8275050 ddis:indirectSubclassOf  answer: http://www.wikidata.org/entity/Q47461344\n",
      "Key not found in triplets:  http://www.wikidata.org/entity/Q17710986 ddis:indirectSubclassOf  answer: http://www.wikidata.org/entity/Q7725310\n",
      "Key not found in triplets:  http://www.wikidata.org/entity/Q16101952 ddis:indirectSubclassOf  answer: http://www.wikidata.org/entity/Q95073\n",
      "Key not found in triplets:  http://www.wikidata.org/entity/Q814781 wdt:.P344  answer: http://www.wikidata.org/entity/Q40087803\n",
      "Key not found in triplets:  http://www.wikidata.org/entity/Q4335275 http://www.wikidata.org/prop/direct/P520  answer: http://www.wikidata.org/entity/Q52382294\n"
     ]
    }
   ],
   "source": [
    "entity_regex = 'wd:Q[0-9]+'\n",
    "prop_regex = 'wdt:P[0-9]+'\n",
    "for update in update_pairs:\n",
    "\n",
    "    # for first item\n",
    "    if re.match(entity_regex, update[0][0]):\n",
    "        uri_1 = generate_entity_uri(update[0][0])\n",
    "    elif re.match(prop_regex, update[0][0]):\n",
    "        uri_1 = generate_prop_uri(update[0][0])\n",
    "    else:\n",
    "        uri_1 = update[0][0]\n",
    "\n",
    "    # for second item\n",
    "    if re.match(entity_regex, update[0][1]):\n",
    "        uri_2 = generate_entity_uri(update[0][1])\n",
    "    elif re.match(prop_regex, update[0][1]):\n",
    "        uri_2 = generate_prop_uri(update[0][1])\n",
    "    else:\n",
    "        uri_2 = update[0][1]\n",
    "\n",
    "    # for third item\n",
    "    if re.match(entity_regex, update[0][2]):\n",
    "        uri_3 = generate_entity_uri(update[0][2])\n",
    "    elif re.match(prop_regex, update[0][2]):\n",
    "        uri_3 = generate_prop_uri(update[0][2])\n",
    "    else:\n",
    "        uri_3 = update[0][2]\n",
    "\n",
    "    # now the same for the second item in update\n",
    "\n",
    "    # for first item\n",
    "    if re.match(entity_regex, update[1][0]):\n",
    "        uri_4 = generate_entity_uri(update[1][0])\n",
    "    elif re.match(prop_regex, update[1][0]):\n",
    "        uri_4 = generate_prop_uri(update[1][0])\n",
    "    else:\n",
    "        uri_4 = update[1][0]\n",
    "    \n",
    "    # for second item\n",
    "    if re.match(entity_regex, update[1][1]):\n",
    "        uri_5 = generate_entity_uri(update[1][1])\n",
    "    elif re.match(prop_regex, update[1][1]):\n",
    "        uri_5 = generate_prop_uri(update[1][1])\n",
    "    else:\n",
    "        uri_5 = update[1][1]\n",
    "    \n",
    "    # for third item\n",
    "    if re.match(entity_regex, update[1][2]):\n",
    "        uri_6 = generate_entity_uri(update[1][2])\n",
    "    elif re.match(prop_regex, update[1][2]):\n",
    "        uri_6 = generate_prop_uri(update[1][2])\n",
    "    else:\n",
    "        uri_6 = update[1][2]\n",
    "\n",
    "    if (uri_1, uri_2) in triplets_copy:\n",
    "        # Remove the key (uri_1, uri_2) from triplets_copy and its value\n",
    "        triplets_copy.pop((uri_1, uri_2))\n",
    "        triplets_copy[(uri_4, uri_5)] = uri_6\n",
    "    else:\n",
    "        #print(\"Key not found in triplets: \", uri_1, uri_2, \" answer:\", uri_6)\n",
    "        # add the new key (uri_4, uri_5) and its value\n",
    "        triplets_copy[(uri_4, uri_5)] = uri_6 \n",
    "    \n",
    "    print(\"new triplet: \", uri_4, uri_5, uri_6)\n",
    "    \n",
    "\n",
    "    uri_set.add(uri_1)\n",
    "    uri_set.add(uri_2)\n",
    "    uri_set.add(uri_3)\n",
    "    uri_set.add(uri_4)\n",
    "    uri_set.add(uri_5)\n",
    "    uri_set.add(uri_6)\n",
    "    "
   ]
  },
  {
   "cell_type": "code",
   "execution_count": 9,
   "metadata": {},
   "outputs": [],
   "source": [
    "delete_pairs = data['delete']\n",
    "\n",
    "for delete_pair in delete_pairs:\n",
    "    if re.match(entity_regex, delete_pair[0]):\n",
    "        uri_1 = generate_entity_uri(delete_pair[0])\n",
    "    elif re.match(prop_regex, delete_pair[0]):\n",
    "        uri_1 = generate_prop_uri(delete_pair[0])\n",
    "    else:\n",
    "        uri_1 = delete_pair[0]\n",
    "    \n",
    "    if re.match(entity_regex, delete_pair[1]):\n",
    "        uri_2 = generate_entity_uri(delete_pair[1])\n",
    "    elif re.match(prop_regex, delete_pair[1]):\n",
    "        uri_2 = generate_prop_uri(delete_pair[1])\n",
    "    else:\n",
    "        uri_2 = delete_pair[1]\n",
    "    \n",
    "    if re.match(entity_regex, delete_pair[2]):\n",
    "        uri_3 = generate_entity_uri(delete_pair[2])\n",
    "    elif re.match(prop_regex, delete_pair[2]):\n",
    "        uri_3 = generate_prop_uri(delete_pair[2])\n",
    "    else:\n",
    "        uri_3 = delete_pair[2]\n",
    "    \n",
    "    if (uri_1, uri_2) in triplets_copy:\n",
    "        triplets_copy.pop((uri_1, uri_2))\n",
    "    \n",
    "    uri_set.add(uri_1)\n",
    "    uri_set.add(uri_2)\n",
    "    uri_set.add(uri_3)\n",
    "    "
   ]
  },
  {
   "cell_type": "code",
   "execution_count": 10,
   "metadata": {},
   "outputs": [
    {
     "data": {
      "text/plain": [
       "159"
      ]
     },
     "execution_count": 10,
     "metadata": {},
     "output_type": "execute_result"
    }
   ],
   "source": [
    "len(uri_set)"
   ]
  },
  {
   "cell_type": "code",
   "execution_count": 11,
   "metadata": {},
   "outputs": [
    {
     "name": "stdout",
     "output_type": "stream",
     "text": [
      "wdt:.P344\n",
      "film crew member\n",
      "neighbourhood of Helsinki\n",
      "country of citizenship\n",
      "Silver Bear\n",
      "Kung Fu Panda 3\n",
      "2008-08-29\n",
      "Conan the Barbarian\n",
      "Guardians of the Galaxy Vol. 2\n",
      "The Girl in the Spider's Web\n",
      "Theis Schmidt\n",
      "Keith Walker\n",
      "176997186\n",
      "place of burial\n",
      "production company\n",
      "The Twilight Saga: Eclipse\n",
      "station building\n",
      "fictional princess\n",
      "Erika Sainte\n",
      "Free Willy 3: The Rescue\n",
      "production designer\n",
      "award\n",
      "box office\n",
      "Les Misérables\n",
      "Miranda Frigon\n",
      "novel\n",
      "free from 8 years\n",
      "698491347\n",
      "Like Crazy\n",
      "supervillain team\n",
      "original language of film or TV show\n",
      "fictional character\n",
      "The Blue Butterfly\n",
      "Behind the Candelabra\n",
      "FandangoNow\n",
      "2010-10-01\n",
      "E.T. the Extra-Terrestrial\n",
      "Iron Man 3\n",
      "PG\n",
      "geographic entity\n",
      "Ashley Miller\n",
      "cast member\n",
      "2014-01-18\n",
      "Peter Breitmayer\n",
      "occupation\n",
      "Giuseppe Rinaldi\n",
      "Ezgi Mola\n",
      "Czech Dream\n",
      "511200000\n",
      "ddis:indirectSubclassOf\n",
      "John Lee Mahin\n",
      "The Princess and the Frog\n",
      "JMK film rating\n",
      "2019-02-24\n",
      "Finding Nemo\n",
      "art director\n",
      "969023261\n",
      "Martial Arts of Shaolin\n",
      "Tomomichi Nishimura\n",
      "In the Line of Fire\n",
      "RoboCop 3\n",
      "http://www.wikidata.org/entity/Q28974159\n",
      "screenwriter\n",
      "2001-01-01\n",
      "Netflix\n",
      "Delta Farce\n",
      "actor\n",
      "267000000\n",
      "A Happy Event\n",
      "Japan\n",
      "film organization\n",
      "Peaceful Warrior\n",
      "distributed by\n",
      "698491348\n",
      "Being with Juli Ashton\n",
      "Gandhi\n",
      "Eskimo\n",
      "1982-01-01\n",
      "William Hurt\n",
      "Horrible Bosses\n",
      "director of photography\n",
      "Lillian Lehman\n",
      "Mandarin Chinese\n",
      "voice actor\n",
      "Tom Meets Zizou\n",
      "Mirandese\n",
      "2011-01-01\n",
      "children's book\n",
      "location\n",
      "place of death\n",
      "organization\n",
      "Sheryl Lee Ralph\n",
      "Ángel de Andrés Miquel\n",
      "792910554\n",
      "X-Men: First Class\n",
      "863756050\n",
      "Magic Carpet Ride\n",
      "Frederick Worlock\n",
      "disputed territory\n",
      "free from 12 years\n",
      "King Solomon's Mines\n",
      "Nat Pendleton\n",
      "The Adventures of Tom Sawyer\n",
      "Cho Geun-hyeon\n",
      "A Night at the Opera\n",
      "Edmonton\n",
      "1996-06-01\n",
      "God Help the Girl\n",
      "Rasmus Heise\n",
      "English\n",
      "2018-02-24\n",
      "Arthur Dupont\n",
      "executive producer\n",
      "country of origin\n",
      "Scent of a Woman\n",
      "The Hell of '63\n",
      "2015-06-27\n",
      "Kaboom\n",
      "Malaysia\n",
      "Mulan\n",
      "main subject\n",
      "1951-01-01\n",
      "Naruto the Movie: Guardians of the Crescent Moon Kingdom\n",
      "publication date\n",
      "http://www.wikidata.org/entity/Q95073\n",
      "literary pentalogy\n",
      "2\n",
      "863756051\n",
      "comics\n",
      "Top Gun: Maverick\n",
      "Bloody Mama\n",
      "Jude Law\n",
      "176997168\n",
      "WTFN\n",
      "Medea\n",
      "languages spoken, written or signed\n",
      "2010-01-01\n",
      "Rose McGowan\n",
      "Claude Lelouch\n",
      "Angola\n",
      "Günter Grass\n",
      "10696220\n",
      "allegiance\n",
      "series of creative works\n",
      "written work\n",
      "Airport\n",
      "The Party's Just Beginning\n",
      "2015-01-05\n",
      "4300000\n",
      "The Browning Version\n",
      "Gdańsk\n",
      "United States of America\n",
      "The Candidate\n",
      "genre\n",
      "Normal\n",
      "http://www.wikidata.org/prop/direct/P520\n",
      "Nightjohn\n",
      "Sex, Death and Bowling\n",
      "Masaichi Nagata\n"
     ]
    }
   ],
   "source": [
    "# check how many triplets we know of\n",
    "\n",
    "unknown_set = set()\n",
    "\n",
    "for uri in uri_set:\n",
    "    if(uri[:5] == 'http:'):\n",
    "        # this is a uri\n",
    "        if uri in uri_to_label:\n",
    "            print(uri_to_label[str(uri)])\n",
    "        else:\n",
    "            unknown_set.add(uri)\n",
    "            print(uri)\n",
    "    else:\n",
    "        print(uri)"
   ]
  },
  {
   "cell_type": "code",
   "execution_count": 12,
   "metadata": {},
   "outputs": [
    {
     "data": {
      "text/plain": [
       "3"
      ]
     },
     "execution_count": 12,
     "metadata": {},
     "output_type": "execute_result"
    }
   ],
   "source": [
    "len(unknown_set)"
   ]
  },
  {
   "cell_type": "code",
   "execution_count": 13,
   "metadata": {},
   "outputs": [
    {
     "data": {
      "text/plain": [
       "{'http://www.wikidata.org/entity/Q28974159',\n",
       " 'http://www.wikidata.org/entity/Q95073',\n",
       " 'http://www.wikidata.org/prop/direct/P520'}"
      ]
     },
     "execution_count": 13,
     "metadata": {},
     "output_type": "execute_result"
    }
   ],
   "source": [
    "unknown_set"
   ]
  },
  {
   "cell_type": "code",
   "execution_count": 14,
   "metadata": {},
   "outputs": [],
   "source": [
    "uri_to_label_copy = uri_to_label.copy()\n",
    "label_to_uri_copy = label_to_uri.copy()\n",
    "label_list_copy = label_list.copy()"
   ]
  },
  {
   "cell_type": "code",
   "execution_count": 15,
   "metadata": {},
   "outputs": [],
   "source": [
    "uri_to_label_copy['http://www.wikidata.org/entity/Q28974159'] = 'Kincsem'\n",
    "label_to_uri_copy['Kincsem'] = 'http://www.wikidata.org/entity/Q28974159'\n",
    "\n",
    "uri_to_label_copy['http://www.wikidata.org/entity/Q95073'] = 'Ardesio'\n",
    "label_to_uri_copy['Ardesio'] = 'http://www.wikidata.org/entity/Q95073'\n",
    "\n",
    "uri_to_label_copy['http://www.wikidata.org/prop/direct/P520'] = 'armament'\n",
    "label_to_uri_copy['armament'] = 'http://www.wikidata.org/prop/direct/P520'"
   ]
  },
  {
   "cell_type": "code",
   "execution_count": 16,
   "metadata": {},
   "outputs": [],
   "source": [
    "label_list_copy.append('Kincsem')\n",
    "label_list_copy.append('Ardesio')\n",
    "label_list_copy.append('armament')"
   ]
  },
  {
   "cell_type": "code",
   "execution_count": 17,
   "metadata": {},
   "outputs": [],
   "source": [
    "# save triplets_copy, uri_to_label, label_to_uri, label_list in a pickle file\n",
    "\n",
    "pickle.dump((triplets_copy, uri_to_label_copy, label_to_uri_copy, label_list_copy), open(\"../data/formatted_data_updated.pkl\", \"wb\"))"
   ]
  },
  {
   "cell_type": "code",
   "execution_count": null,
   "metadata": {},
   "outputs": [],
   "source": []
  }
 ],
 "metadata": {
  "kernelspec": {
   "display_name": "atai",
   "language": "python",
   "name": "python3"
  },
  "language_info": {
   "codemirror_mode": {
    "name": "ipython",
    "version": 3
   },
   "file_extension": ".py",
   "mimetype": "text/x-python",
   "name": "python",
   "nbconvert_exporter": "python",
   "pygments_lexer": "ipython3",
   "version": "3.10.14"
  }
 },
 "nbformat": 4,
 "nbformat_minor": 2
}
