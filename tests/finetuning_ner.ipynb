{
 "cells": [
  {
   "cell_type": "code",
   "execution_count": null,
   "metadata": {},
   "outputs": [],
   "source": [
    "from embeddings import EmbeddingsResponder\n",
    "from entity_extraction import Extractor\n",
    "from factual import FactualResponder\n",
    "from data_repository import DataRepository\n",
    "from intent_classifier import IntentClassifier, EmbeddingBasedIntentClassifier, MLPBasedIntentClassifier"
   ]
  },
  {
   "cell_type": "code",
   "execution_count": null,
   "metadata": {},
   "outputs": [],
   "source": [
    "data_repository = DataRepository() \n",
    "intent_classifier_emb = EmbeddingBasedIntentClassifier(data_repository)\n",
    "intent_classifier_mlp = MLPBasedIntentClassifier(data_repository)\n",
    "extractor = Extractor(data_repository)\n",
    "embeddings = EmbeddingsResponder(data_repository, extractor, intent_classifier=intent_classifier_mlp, emb_intent_classifier=intent_classifier_emb)\n",
    "factual = FactualResponder(data_repository, extractor, emb_intent_classifier=intent_classifier_emb, mlp_intent_classifier=intent_classifier_mlp)"
   ]
  },
  {
   "cell_type": "code",
   "execution_count": null,
   "metadata": {},
   "outputs": [],
   "source": [
    "intent_classifier_emb.classify_query(\"How much did E.T. the Extraterrestrial make at the box office?\")"
   ]
  },
  {
   "cell_type": "code",
   "execution_count": null,
   "metadata": {},
   "outputs": [],
   "source": [
    "extractor.get_guaranteed_entities(\"How much did E.T. the Extra-Terrestrial make?\")"
   ]
  },
  {
   "cell_type": "code",
   "execution_count": null,
   "metadata": {},
   "outputs": [],
   "source": [
    "l = data_repository.get_ner_entities_list()"
   ]
  },
  {
   "cell_type": "code",
   "execution_count": null,
   "metadata": {},
   "outputs": [],
   "source": [
    "# fuzzy match a query on the list of entities\n",
    "from fuzzywuzzy import process\n",
    "temp_l = extractor.get_guaranteed_entities(\"How much did E.T. the Extra-Terrestrial make?\")\n",
    "query = \"How much did E.T. the Extraterrestrial make at the box office?\"\n",
    "matches = process.extract(query, temp_l, limit=5)"
   ]
  },
  {
   "cell_type": "code",
   "execution_count": null,
   "metadata": {},
   "outputs": [],
   "source": [
    "temp_l = extractor.get_guaranteed_entities(\"How much did E.T. the Extra-Terrestrial which stars Rober Downey Jr and earned a lot make?\")"
   ]
  },
  {
   "cell_type": "code",
   "execution_count": null,
   "metadata": {},
   "outputs": [],
   "source": [
    "temp_l"
   ]
  },
  {
   "cell_type": "code",
   "execution_count": null,
   "metadata": {},
   "outputs": [],
   "source": [
    "matches = process.extract(query, temp_l, limit=5)"
   ]
  },
  {
   "cell_type": "code",
   "execution_count": null,
   "metadata": {},
   "outputs": [],
   "source": [
    "matches"
   ]
  },
  {
   "cell_type": "code",
   "execution_count": null,
   "metadata": {},
   "outputs": [],
   "source": [
    "query = \"How much did 'E.T. the Extraterrestrial' which stars Robert Downey Jr and earned a lot make?\"\n",
    "temp = extractor.get_guaranteed_entities(query)"
   ]
  },
  {
   "cell_type": "code",
   "execution_count": null,
   "metadata": {},
   "outputs": [],
   "source": [
    "temp = extractor.extract_ner(query)"
   ]
  },
  {
   "cell_type": "code",
   "execution_count": null,
   "metadata": {},
   "outputs": [],
   "source": [
    "temp"
   ]
  },
  {
   "cell_type": "code",
   "execution_count": null,
   "metadata": {},
   "outputs": [],
   "source": [
    "# use fuzzy matching to check if identified entities in temp were present in the query \n",
    "\n",
    "from fuzzywuzzy import fuzz\n",
    "\n",
    "for entity in temp:\n",
    "    print(entity, fuzz.partial_ratio(entity, query))\n",
    "\n",
    "# check if the entities are present in the query\n",
    "for entity in temp:\n",
    "    print(entity, entity in query)\n"
   ]
  },
  {
   "cell_type": "code",
   "execution_count": 1,
   "metadata": {},
   "outputs": [
    {
     "name": "stderr",
     "output_type": "stream",
     "text": [
      "/opt/miniconda3/envs/atai/lib/python3.10/site-packages/tqdm/auto.py:21: TqdmWarning: IProgress not found. Please update jupyter and ipywidgets. See https://ipywidgets.readthedocs.io/en/stable/user_install.html\n",
      "  from .autonotebook import tqdm as notebook_tqdm\n",
      "Hardware accelerator e.g. GPU is available in the environment, but no `device` argument is passed to the `Pipeline` object. Model will be on CPU.\n"
     ]
    }
   ],
   "source": [
    "import transformers\n",
    "\n",
    "model = transformers.pipeline('ner', model='piadelapaz/bert-finetuned-ner-movies', tokenizer='piadelapaz/bert-finetuned-ner-movies')"
   ]
  },
  {
   "cell_type": "code",
   "execution_count": 2,
   "metadata": {},
   "outputs": [],
   "source": [
    "# get entities from the query\n",
    "query = \"How much did E.T. the Extraterrestrial make at the box office?\"\n",
    "entities = model(query)"
   ]
  },
  {
   "cell_type": "code",
   "execution_count": 3,
   "metadata": {},
   "outputs": [
    {
     "name": "stdout",
     "output_type": "stream",
     "text": [
      "B-MOVIE e\n",
      "I-MOVIE .\n",
      "I-MOVIE t\n",
      "I-MOVIE .\n",
      "I-MOVIE the\n",
      "I-MOVIE extra\n",
      "I-MOVIE ##ter\n",
      "I-MOVIE ##rest\n",
      "I-MOVIE ##rial\n",
      "I-MOVIE at\n",
      "I-MOVIE the\n",
      "I-MOVIE box\n",
      "I-MOVIE office\n"
     ]
    }
   ],
   "source": [
    "# print all identified entities\n",
    "for entity in entities:\n",
    "    print(entity['entity'], entity['word'])"
   ]
  },
  {
   "cell_type": "code",
   "execution_count": 4,
   "metadata": {},
   "outputs": [
    {
     "ename": "ImportError",
     "evalue": "cannot import name 'cached_path' from 'transformers' (/opt/miniconda3/envs/atai/lib/python3.10/site-packages/transformers/__init__.py)",
     "output_type": "error",
     "traceback": [
      "\u001b[0;31m---------------------------------------------------------------------------\u001b[0m",
      "\u001b[0;31mImportError\u001b[0m                               Traceback (most recent call last)",
      "Cell \u001b[0;32mIn[4], line 1\u001b[0m\n\u001b[0;32m----> 1\u001b[0m \u001b[38;5;28;01mfrom\u001b[39;00m \u001b[38;5;21;01mtransformers\u001b[39;00m \u001b[38;5;28;01mimport\u001b[39;00m cached_path, TRANSFORMERS_CACHE\n\u001b[1;32m      2\u001b[0m \u001b[38;5;28;01mimport\u001b[39;00m \u001b[38;5;21;01mos\u001b[39;00m\n\u001b[1;32m      4\u001b[0m \u001b[38;5;66;03m# Print cache directory\u001b[39;00m\n",
      "\u001b[0;31mImportError\u001b[0m: cannot import name 'cached_path' from 'transformers' (/opt/miniconda3/envs/atai/lib/python3.10/site-packages/transformers/__init__.py)"
     ]
    }
   ],
   "source": [
    "from transformers import cached_path, TRANSFORMERS_CACHE\n",
    "import os\n",
    "\n",
    "# Print cache directory\n",
    "print(TRANSFORMERS_CACHE)\n",
    "\n",
    "# List cached models\n",
    "for model in os.listdir(TRANSFORMERS_CACHE):\n",
    "    print(model)"
   ]
  },
  {
   "cell_type": "code",
   "execution_count": 5,
   "metadata": {},
   "outputs": [
    {
     "name": "stdout",
     "output_type": "stream",
     "text": [
      "Repo: openai-community/gpt2\n",
      "Size: 0.00MB\n",
      "Repo: sshleifer/distilbart-cnn-12-6\n",
      "Size: 0.00MB\n",
      "Repo: roberta-base\n",
      "Size: 478.30MB\n",
      "Repo: polyglot_ner\n",
      "Size: 0.03MB\n",
      "Repo: bert-base-uncased\n",
      "Size: 1352.01MB\n",
      "Repo: bert-base-german-cased\n",
      "Size: 0.71MB\n",
      "Repo: sentence-transformers/all-MiniLM-L6-v2\n",
      "Size: 87.34MB\n",
      "Repo: distilbert-base-uncased\n",
      "Size: 256.22MB\n",
      "Repo: dslim/bert-base-NER\n",
      "Size: 413.42MB\n",
      "Repo: piadelapaz/bert-finetuned-ner-movies\n",
      "Size: 415.64MB\n",
      "Repo: gpt2\n",
      "Size: 525.44MB\n",
      "Repo: facebook/bart-large-mnli\n",
      "Size: 1556.54MB\n",
      "Repo: distilbert-base-uncased-distilled-squad\n",
      "Size: 253.84MB\n",
      "Repo: t5-small\n",
      "Size: 232.91MB\n",
      "Repo: sentence-transformers/multi-qa-mpnet-base-dot-v1\n",
      "Size: 418.36MB\n",
      "Repo: dbmdz/bert-large-cased-finetuned-conll03-english\n",
      "Size: 1272.79MB\n",
      "Repo: joeddav/xlm-roberta-large-xnli\n",
      "Size: 0.00MB\n",
      "Repo: distilbert-base-uncased-finetuned-sst-2-english\n",
      "Size: 255.66MB\n",
      "Repo: sentence-transformers/all-mpnet-base-v2\n",
      "Size: 0.01MB\n"
     ]
    }
   ],
   "source": [
    "from huggingface_hub import scan_cache_dir\n",
    "\n",
    "# Get cache info\n",
    "cache_info = scan_cache_dir()\n",
    "\n",
    "# List models\n",
    "for repo in cache_info.repos:\n",
    "    print(f\"Repo: {repo.repo_id}\")\n",
    "    print(f\"Size: {repo.size_on_disk / 1024**2:.2f}MB\")"
   ]
  },
  {
   "cell_type": "code",
   "execution_count": null,
   "metadata": {},
   "outputs": [],
   "source": []
  }
 ],
 "metadata": {
  "kernelspec": {
   "display_name": "atai",
   "language": "python",
   "name": "python3"
  },
  "language_info": {
   "codemirror_mode": {
    "name": "ipython",
    "version": 3
   },
   "file_extension": ".py",
   "mimetype": "text/x-python",
   "name": "python",
   "nbconvert_exporter": "python",
   "pygments_lexer": "ipython3",
   "version": "3.10.14"
  }
 },
 "nbformat": 4,
 "nbformat_minor": 2
}
