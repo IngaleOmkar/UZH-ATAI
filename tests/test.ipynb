{
 "cells": [
  {
   "cell_type": "code",
   "execution_count": null,
   "metadata": {},
   "outputs": [],
   "source": [
    "from data_repository import DataRepository\n",
    "from entity_extraction import Extractor\n",
    "from factual import FactualResponder\n",
    "from intent_classifier import EmbeddingBasedIntentClassifier, MLPBasedIntentClassifier"
   ]
  },
  {
   "cell_type": "code",
   "execution_count": null,
   "metadata": {},
   "outputs": [],
   "source": [
    "dr = DataRepository()"
   ]
  },
  {
   "cell_type": "code",
   "execution_count": null,
   "metadata": {},
   "outputs": [],
   "source": [
    "mic = MLPBasedIntentClassifier(dr)\n",
    "eic = EmbeddingBasedIntentClassifier(dr)\n",
    "e = Extractor(dr)"
   ]
  },
  {
   "cell_type": "code",
   "execution_count": null,
   "metadata": {},
   "outputs": [],
   "source": [
    "fr = FactualResponder(dr, e, mic, eic)"
   ]
  },
  {
   "cell_type": "code",
   "execution_count": null,
   "metadata": {},
   "outputs": [],
   "source": [
    "fr.answer_query(\"How much was box office of Kung Fu Panda?\")"
   ]
  },
  {
   "cell_type": "code",
   "execution_count": null,
   "metadata": {},
   "outputs": [],
   "source": []
  },
  {
   "cell_type": "code",
   "execution_count": null,
   "metadata": {},
   "outputs": [],
   "source": [
    "import pandas as pd"
   ]
  },
  {
   "cell_type": "code",
   "execution_count": null,
   "metadata": {},
   "outputs": [],
   "source": [
    "df = pd.read_csv('data/images.csv')"
   ]
  },
  {
   "cell_type": "code",
   "execution_count": null,
   "metadata": {},
   "outputs": [],
   "source": [
    "df"
   ]
  },
  {
   "cell_type": "code",
   "execution_count": null,
   "metadata": {},
   "outputs": [],
   "source": [
    "# movie column has strings instead of list of strings. Convert this to list of strings.\n",
    "# Example: \"['tt4882376']\" -> ['tt4882376']\n",
    "df['movie'] = df['movie'].apply(lambda x: eval(x))"
   ]
  },
  {
   "cell_type": "code",
   "execution_count": null,
   "metadata": {},
   "outputs": [],
   "source": [
    "df['movie'][0][0]"
   ]
  },
  {
   "cell_type": "code",
   "execution_count": null,
   "metadata": {},
   "outputs": [],
   "source": [
    "df[df['type'] == 'publicity']"
   ]
  },
  {
   "cell_type": "code",
   "execution_count": null,
   "metadata": {},
   "outputs": [],
   "source": [
    "df[df['type'] == 'poster']"
   ]
  },
  {
   "cell_type": "code",
   "execution_count": null,
   "metadata": {},
   "outputs": [],
   "source": []
  },
  {
   "cell_type": "code",
   "execution_count": null,
   "metadata": {},
   "outputs": [],
   "source": []
  },
  {
   "cell_type": "code",
   "execution_count": 1,
   "metadata": {},
   "outputs": [
    {
     "name": "stderr",
     "output_type": "stream",
     "text": [
      "/opt/miniconda3/envs/atai/lib/python3.10/site-packages/tqdm/auto.py:21: TqdmWarning: IProgress not found. Please update jupyter and ipywidgets. See https://ipywidgets.readthedocs.io/en/stable/user_install.html\n",
      "  from .autonotebook import tqdm as notebook_tqdm\n"
     ]
    }
   ],
   "source": [
    "from image import ImageResponder\n",
    "from data_repository import DataRepository\n",
    "from entity_extraction import Extractor\n",
    "from intent_classifier import EmbeddingBasedIntentClassifier, MLPBasedIntentClassifier"
   ]
  },
  {
   "cell_type": "code",
   "execution_count": 2,
   "metadata": {},
   "outputs": [
    {
     "name": "stdout",
     "output_type": "stream",
     "text": [
      "========== Initializing Data Repository ==========\n",
      "========== Loading NER Embeddings ==========\n",
      "========== Loading graph ==========\n",
      "========== Loading data for factual QA ==========\n",
      "========== Loading data for embeddings ==========\n",
      "========== Loading External Data ==========\n",
      "========== Loading Image Data ==========\n",
      "========== Loading Crowd Data ==========\n",
      "========== Data Repository initialized ==========\n"
     ]
    },
    {
     "name": "stderr",
     "output_type": "stream",
     "text": [
      "Some weights of the model checkpoint at dbmdz/bert-large-cased-finetuned-conll03-english were not used when initializing BertForTokenClassification: ['bert.pooler.dense.bias', 'bert.pooler.dense.weight']\n",
      "- This IS expected if you are initializing BertForTokenClassification from the checkpoint of a model trained on another task or with another architecture (e.g. initializing a BertForSequenceClassification model from a BertForPreTraining model).\n",
      "- This IS NOT expected if you are initializing BertForTokenClassification from the checkpoint of a model that you expect to be exactly identical (initializing a BertForSequenceClassification model from a BertForSequenceClassification model).\n",
      "Hardware accelerator e.g. GPU is available in the environment, but no `device` argument is passed to the `Pipeline` object. Model will be on CPU.\n",
      "/Users/omkaringale/Desktop/UZH-ATAI/image.py:15: SettingWithCopyWarning: \n",
      "A value is trying to be set on a copy of a slice from a DataFrame.\n",
      "Try using .loc[row_indexer,col_indexer] = value instead\n",
      "\n",
      "See the caveats in the documentation: https://pandas.pydata.org/pandas-docs/stable/user_guide/indexing.html#returning-a-view-versus-a-copy\n",
      "  self.poster_df['movie'] = self.poster_df['movie'].apply(lambda x: eval(x))\n"
     ]
    }
   ],
   "source": [
    "dr = DataRepository()\n",
    "eic = EmbeddingBasedIntentClassifier(dr)\n",
    "e = Extractor(dr)\n",
    "ir = ImageResponder(dr, e, eic)"
   ]
  },
  {
   "cell_type": "code",
   "execution_count": 4,
   "metadata": {},
   "outputs": [
    {
     "name": "stdout",
     "output_type": "stream",
     "text": [
      "current entity:  Kung Fu Panda\n",
      "possible_ids:  ['tt0441773', 'tt10620984', 'tt11220468', 'tt11358576', 'tt1191122', 'tt1238184', 'tt12937800', 'tt1302011', 'tt1318457', 'tt13274420', 'tt13464140', 'tt13477152', 'tt14200090', 'tt14638840', 'tt14669652', 'tt14803102', 'tt1503963', 'tt1545214', 'tt16390146', 'tt16900110', 'tt16983958', 'tt1702433', 'tt1799673', 'tt18783984', 'tt1937212', 'tt1953497', 'tt1979561', 'tt1980162', 'tt1985525', 'tt2125928', 'tt21336982', 'tt21360350', 'tt21383492', 'tt2155979', 'tt21692408', 'tt21838714', 'tt2267968', 'tt22818060', 'tt2300109', 'tt27203091', 'tt27203137', 'tt2781892', 'tt29418863', 'tt29964536', 'tt3006192', 'tt3011062', 'tt3024012', 'tt30647618', 'tt3112002', 'tt31458159', 'tt31632144', 'tt31638471', 'tt31692184', 'tt31692421', 'tt31788934', 'tt31795192', 'tt31805240', 'tt31830041', 'tt31922380', 'tt31961825', 'tt32044697', 'tt32044729', 'tt32315766', 'tt32346031', 'tt32474236', 'tt32484713', 'tt32613024', 'tt32634675', 'tt33007808', 'tt33049756', 'tt3629018', 'tt3775644', 'tt5372078', 'tt5423400', 'tt5433402', 'tt5449328', 'tt5470144', 'tt5475576', 'tt5478366', 'tt5478416', 'tt5479784', 'tt5481498', 'tt5513770', 'tt5553342', 'tt5746626', 'tt5840234', 'tt5968958', 'tt6004806', 'tt6229246', 'tt6829636', 'tt6963796', 'tt7040928', 'tt7124918', 'tt7176624', 'tt7237780', 'tt7252602', 'tt7252732', 'tt7252734', 'tt7255780', 'tt7340026', 'tt7891782', 'tt8201878', 'tt8271176', 'tt8628966']\n",
      "is_actor:  False\n",
      "good_movie_matches:             w        movie                    img    h    type  \\\n",
      "610908   600  [tt8271176]  3762/rm3870850048.jpg  900  poster   \n",
      "1961808  483  [tt0441773]  1222/rm2261620224.jpg  755  poster   \n",
      "2542748  600  [tt8271176]  1627/rm2493938688.jpg  889  poster   \n",
      "\n",
      "                                                      cast  \n",
      "610908   [nm0384032, nm1964186, nm0217221, nm7501863, n...  \n",
      "1961808                                        [nm0085312]  \n",
      "2542748  [nm6058237, nm1964186, nm4146013, nm7501863, n...  \n"
     ]
    },
    {
     "data": {
      "text/plain": [
       "['3762/rm3870850048']"
      ]
     },
     "execution_count": 4,
     "metadata": {},
     "output_type": "execute_result"
    }
   ],
   "source": [
    "ir.answer_query(\"Show me the image of Kung Fu Panda\")"
   ]
  },
  {
   "cell_type": "code",
   "execution_count": null,
   "metadata": {},
   "outputs": [],
   "source": []
  },
  {
   "cell_type": "code",
   "execution_count": null,
   "metadata": {},
   "outputs": [],
   "source": []
  }
 ],
 "metadata": {
  "kernelspec": {
   "display_name": "atai",
   "language": "python",
   "name": "python3"
  },
  "language_info": {
   "codemirror_mode": {
    "name": "ipython",
    "version": 3
   },
   "file_extension": ".py",
   "mimetype": "text/x-python",
   "name": "python",
   "nbconvert_exporter": "python",
   "pygments_lexer": "ipython3",
   "version": "3.10.14"
  }
 },
 "nbformat": 4,
 "nbformat_minor": 2
}
