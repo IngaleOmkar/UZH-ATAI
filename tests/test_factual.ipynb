{
 "cells": [
  {
   "cell_type": "markdown",
   "metadata": {},
   "source": [
    "# Test your responder here to avoid deploying to speakeasy everytime"
   ]
  },
  {
   "cell_type": "code",
   "execution_count": null,
   "metadata": {},
   "outputs": [
    {
     "name": "stderr",
     "output_type": "stream",
     "text": [
      "/opt/miniconda3/envs/atai/lib/python3.10/site-packages/tqdm/auto.py:21: TqdmWarning: IProgress not found. Please update jupyter and ipywidgets. See https://ipywidgets.readthedocs.io/en/stable/user_install.html\n",
      "  from .autonotebook import tqdm as notebook_tqdm\n"
     ]
    }
   ],
   "source": [
    "from embeddings import EmbeddingsResponder\n",
    "from entity_extraction import Extractor\n",
    "from factual import FactualResponder\n",
    "from data_repository import DataRepository\n",
    "from intent_classifier import IntentClassifier, EmbeddingBasedIntentClassifier, MLPBasedIntentClassifier"
   ]
  },
  {
   "cell_type": "code",
   "execution_count": 2,
   "metadata": {},
   "outputs": [
    {
     "name": "stdout",
     "output_type": "stream",
     "text": [
      "========== Initializing Data Repository ==========\n",
      "========== Loading NER Embeddings ==========\n",
      "========== Loading graph ==========\n",
      "========== Loading data for factual QA ==========\n",
      "========== Loading data for embeddings ==========\n",
      "========== Loading External Data ==========\n",
      "========== Loading Image Data ==========\n",
      "========== Data Repository initialized ==========\n"
     ]
    }
   ],
   "source": [
    "data_repository = DataRepository()"
   ]
  },
  {
   "cell_type": "code",
   "execution_count": null,
   "metadata": {},
   "outputs": [
    {
     "name": "stderr",
     "output_type": "stream",
     "text": [
      "Some weights of the model checkpoint at dbmdz/bert-large-cased-finetuned-conll03-english were not used when initializing BertForTokenClassification: ['bert.pooler.dense.bias', 'bert.pooler.dense.weight']\n",
      "- This IS expected if you are initializing BertForTokenClassification from the checkpoint of a model trained on another task or with another architecture (e.g. initializing a BertForSequenceClassification model from a BertForPreTraining model).\n",
      "- This IS NOT expected if you are initializing BertForTokenClassification from the checkpoint of a model that you expect to be exactly identical (initializing a BertForSequenceClassification model from a BertForSequenceClassification model).\n"
     ]
    }
   ],
   "source": [
    "intent_classifier_emb = EmbeddingBasedIntentClassifier(data_repository)\n",
    "intent_classifier_mlp = MLPBasedIntentClassifier(data_repository)\n",
    "extractor = Extractor(data_repository)\n",
    "embeddings = EmbeddingsResponder(data_repository, extractor, intent_classifier=intent_classifier_mlp, emb_intent_classifier=intent_classifier_emb)\n",
    "factual = FactualResponder(data_repository, extractor, emb_intent_classifier=intent_classifier_emb, mlp_intent_classifier=intent_classifier_mlp)"
   ]
  },
  {
   "cell_type": "code",
   "execution_count": null,
   "metadata": {},
   "outputs": [],
   "source": [
    "factual.answer_query(\"Who is the author of Harry Potter?\")\n",
    "factual.answer_query(\"Who stars in Good Neighbours?\")\n",
    "extractor.extract_ner(\"Who is the director of Ineption\")\n",
    "factual.answer_query(\"What is the genre of the film is Good Neighbours?\")\n",
    "factual.answer_query(\"What is the genre of Masked Gang: Cyprus?\")"
   ]
  },
  {
   "cell_type": "code",
   "execution_count": null,
   "metadata": {},
   "outputs": [],
   "source": [
    "embeddings.answer_query(\"Who is the screenwriter of The Masked Gang: Cyprus?\")"
   ]
  }
 ],
 "metadata": {
  "kernelspec": {
   "display_name": "atai",
   "language": "python",
   "name": "python3"
  },
  "language_info": {
   "codemirror_mode": {
    "name": "ipython",
    "version": 3
   },
   "file_extension": ".py",
   "mimetype": "text/x-python",
   "name": "python",
   "nbconvert_exporter": "python",
   "pygments_lexer": "ipython3",
   "version": "3.10.14"
  }
 },
 "nbformat": 4,
 "nbformat_minor": 2
}
