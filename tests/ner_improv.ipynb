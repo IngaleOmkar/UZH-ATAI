{
 "cells": [
  {
   "cell_type": "code",
   "execution_count": 1,
   "metadata": {},
   "outputs": [
    {
     "name": "stderr",
     "output_type": "stream",
     "text": [
      "/opt/miniconda3/envs/atai/lib/python3.10/site-packages/tqdm/auto.py:21: TqdmWarning: IProgress not found. Please update jupyter and ipywidgets. See https://ipywidgets.readthedocs.io/en/stable/user_install.html\n",
      "  from .autonotebook import tqdm as notebook_tqdm\n"
     ]
    }
   ],
   "source": [
    "from entity_extraction import Extractor\n",
    "from data_repository import DataRepository\n",
    "import transformers"
   ]
  },
  {
   "cell_type": "code",
   "execution_count": 2,
   "metadata": {},
   "outputs": [
    {
     "name": "stdout",
     "output_type": "stream",
     "text": [
      "========== Initializing Data Repository ==========\n",
      "========== Loading NER Embeddings ==========\n",
      "========== Loading graph ==========\n",
      "========== Loading data for factual QA ==========\n",
      "========== Loading data for embeddings ==========\n",
      "========== Loading External Data ==========\n",
      "========== Loading Image Data ==========\n",
      "========== Loading Crowd Data ==========\n",
      "========== Data Repository initialized ==========\n"
     ]
    },
    {
     "name": "stderr",
     "output_type": "stream",
     "text": [
      "Some weights of the model checkpoint at dbmdz/bert-large-cased-finetuned-conll03-english were not used when initializing BertForTokenClassification: ['bert.pooler.dense.bias', 'bert.pooler.dense.weight']\n",
      "- This IS expected if you are initializing BertForTokenClassification from the checkpoint of a model trained on another task or with another architecture (e.g. initializing a BertForSequenceClassification model from a BertForPreTraining model).\n",
      "- This IS NOT expected if you are initializing BertForTokenClassification from the checkpoint of a model that you expect to be exactly identical (initializing a BertForSequenceClassification model from a BertForSequenceClassification model).\n",
      "Hardware accelerator e.g. GPU is available in the environment, but no `device` argument is passed to the `Pipeline` object. Model will be on CPU.\n"
     ]
    }
   ],
   "source": [
    "dr = DataRepository()\n",
    "e = Extractor(dr)"
   ]
  },
  {
   "cell_type": "code",
   "execution_count": 3,
   "metadata": {},
   "outputs": [],
   "source": [
    "questions = [\n",
    "    \"Who is the director of Good Will Hunting? \",\n",
    "    \"Who directed The Bridge on the River Kwai? \",\n",
    "    \"Who is the director of Star Wars: Episode VI - Return of the Jedi?\",\n",
    "    \"Who is the screenwriter of The Masked Gang: Cyprus? \",\n",
    "    \"What is the MPAA film rating of Weathering with You?\",\n",
    "    \"What is the genre of Good Neighbors?\",\n",
    "    \"Show me a picture of Halle Berry. \",\n",
    "    \"What does Denzel Washington look like? \",\n",
    "    \"Let me know what Sandra Bullock looks like. \",\n",
    "    \"What is the box office of The Princess and the Frog?\",\n",
    "    \"Can you tell me the publication date of Tom Meets Zizou?\",\n",
    "    \"Who is the executive producer of X-Men: First Class?\",\n",
    "]\n",
    "\n",
    "recommendation_questions = [\n",
    "    \"Recommend movies similar to Hamlet and Othello. \",\n",
    "    \"Given that I like The Lion King, Pocahontas, and The Beauty and the Beast, can you recommend some movies?\",\n",
    "    \"Recommend movies like Nightmare on Elm Street, Friday the 13th, and Halloween. \"\n",
    "]"
   ]
  },
  {
   "cell_type": "code",
   "execution_count": 5,
   "metadata": {},
   "outputs": [
    {
     "name": "stdout",
     "output_type": "stream",
     "text": [
      "Who is the director of Good Will Hunting? \n",
      "['Good Will Hunting']\n",
      "\n",
      "Who directed The Bridge on the River Kwai? \n",
      "['The Bridge on the River Kwai']\n",
      "\n",
      "Who is the director of Star Wars: Episode VI - Return of the Jedi?\n",
      "['Star Wars: Episode VI – Return of the Jedi', 'Star Wars: Return of the Jedi']\n",
      "\n",
      "Who is the screenwriter of The Masked Gang: Cyprus? \n",
      "['The Masked Gang: Cyprus']\n",
      "\n",
      "What is the MPAA film rating of Weathering with You?\n",
      "['MPAA film rating', 'Weathering with You']\n",
      "\n",
      "What is the genre of Good Neighbors?\n",
      "['Good Neighbors']\n",
      "\n",
      "Show me a picture of Halle Berry. \n",
      "['Halle Berry']\n",
      "\n",
      "What does Denzel Washington look like? \n",
      "['Denzel Washington']\n",
      "\n",
      "Let me know what Sandra Bullock looks like. \n",
      "['Sandra Bullock']\n",
      "\n",
      "What is the box office of The Princess and the Frog?\n",
      "['The Princess and the Frog']\n",
      "\n",
      "Can you tell me the publication date of Tom Meets Zizou?\n",
      "['Tom Meets Zizou']\n",
      "\n",
      "Who is the executive producer of X-Men: First Class?\n",
      "['X-Men: First Class']\n",
      "\n",
      "Recommend movies similar to Hamlet and Othello. \n",
      "['Hamlet', 'Othello']\n",
      "\n",
      "Given that I like The Lion King, Pocahontas, and The Beauty and the Beast, can you recommend some movies?\n",
      "['The Lion King', 'Pocahontas', 'Beauty and the Beast']\n",
      "\n",
      "Recommend movies like Nightmare on Elm Street, Friday the 13th, and Halloween. \n",
      "['A Nightmare on Elm Street', 'Friday the 13th', 'Halloween']\n",
      "\n"
     ]
    }
   ],
   "source": [
    "for q in questions:\n",
    "    print(q)\n",
    "    print(e.get_guaranteed_entities(q))\n",
    "    print()\n",
    "\n",
    "for q in recommendation_questions:\n",
    "    print(q)\n",
    "    print(e.get_guaranteed_entities(q, max_gap=1))\n",
    "    print()\n"
   ]
  },
  {
   "cell_type": "code",
   "execution_count": 6,
   "metadata": {},
   "outputs": [],
   "source": [
    "rec2 = [\n",
    "    \"Given that I like Kung Fu Panda, can you recommend some movies?\",\n",
    "    \"Given that I like The Lion King, Pocahontas, and The Beauty and the Beast, can you recommend some movies?\",\n",
    "    \"Recommend movies like Forrest Gump and The Lord of the Rings: The Fellowship of the Ring.\",\n",
    "    \"Recommend some movies given that I like Ryan Gosling?\",\n",
    "    \"Recommend movies similar to The Matrix, Inception, and Blade Runner.\",\n",
    "    \"Recommend movies akin to Goodfellas, The Godfather, and Scarface.\",\n",
    "    \"Suggest films like Harry Potter, The Chronicles of Narnia, and Percy Jackson.\",\n",
    "    \"Recommend movies similar to Toy Story, Finding Nemo, and Monsters, Inc.\",\n",
    "    \"Can you tell me the box office earnings of Spider-Man (2002)?\",\n",
    "    \"Recommend movies that explore themes like those in Gattaca.\",\n",
    "    \"Recommend movies akin to Star Wars, Guardians of the Galaxy, and Star Trek.\",\n",
    "    \"Given that I like A.I. Artificial Intelligence, can you recommend some movies?\",\n",
    "]"
   ]
  },
  {
   "cell_type": "code",
   "execution_count": 8,
   "metadata": {},
   "outputs": [
    {
     "name": "stdout",
     "output_type": "stream",
     "text": [
      "Given that I like Kung Fu Panda, can you recommend some movies?\n",
      "['Kung Fu Panda']\n",
      "\n",
      "Given that I like The Lion King, Pocahontas, and The Beauty and the Beast, can you recommend some movies?\n",
      "['The Lion King', 'Pocahontas', 'Beauty and the Beast']\n",
      "\n",
      "Recommend movies like Forrest Gump and The Lord of the Rings: The Fellowship of the Ring.\n",
      "['Forrest Gump', 'The Lord of the Rings: The Fellowship of the Ring']\n",
      "\n",
      "Recommend some movies given that I like Ryan Gosling?\n",
      "['Ryan Gosling']\n",
      "\n",
      "Recommend movies similar to The Matrix, Inception, and Blade Runner.\n",
      "['The Matrix', 'Inception', 'Blade Runner']\n",
      "\n",
      "Recommend movies akin to Goodfellas, The Godfather, and Scarface.\n",
      "['Goodfellas', 'The Godfather', 'Scarface']\n",
      "\n",
      "Suggest films like Harry Potter, The Chronicles of Narnia, and Percy Jackson.\n",
      "['Harry Potter', 'The Chronicles of Narnia', 'Percy']\n",
      "\n",
      "Recommend movies similar to Toy Story, Finding Nemo, and Monsters, Inc.\n",
      "['Toy Story', 'Finding Nemo', 'Monsters, Inc.']\n",
      "\n",
      "Can you tell me the box office earnings of Spider-Man (2002)?\n",
      "['Spider-Man']\n",
      "\n",
      "Recommend movies that explore themes like those in Gattaca.\n",
      "['Gattaca']\n",
      "\n",
      "Recommend movies akin to Star Wars, Guardians of the Galaxy, and Star Trek.\n",
      "['Star Wars', 'Guardians of the Galaxy', 'Star Trek']\n",
      "\n",
      "Given that I like A.I. Artificial Intelligence, can you recommend some movies?\n",
      "['A.I. Artificial Intelligence']\n",
      "\n"
     ]
    }
   ],
   "source": [
    "for q in rec2:\n",
    "    print(q)\n",
    "    print(e.get_guaranteed_entities(q, max_gap=1))\n",
    "    print()"
   ]
  },
  {
   "cell_type": "code",
   "execution_count": 11,
   "metadata": {},
   "outputs": [
    {
     "data": {
      "text/plain": [
       "rdflib.term.URIRef('http://www.wikidata.org/entity/Q27681721')"
      ]
     },
     "execution_count": 11,
     "metadata": {},
     "output_type": "execute_result"
    }
   ],
   "source": [
    "dr.get_lbl2ent()['Percy']"
   ]
  },
  {
   "cell_type": "code",
   "execution_count": null,
   "metadata": {},
   "outputs": [],
   "source": []
  }
 ],
 "metadata": {
  "kernelspec": {
   "display_name": "atai",
   "language": "python",
   "name": "python3"
  },
  "language_info": {
   "codemirror_mode": {
    "name": "ipython",
    "version": 3
   },
   "file_extension": ".py",
   "mimetype": "text/x-python",
   "name": "python",
   "nbconvert_exporter": "python",
   "pygments_lexer": "ipython3",
   "version": "3.10.14"
  }
 },
 "nbformat": 4,
 "nbformat_minor": 2
}
