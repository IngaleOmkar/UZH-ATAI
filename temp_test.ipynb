{
 "cells": [
  {
   "cell_type": "code",
   "execution_count": 19,
   "metadata": {},
   "outputs": [],
   "source": [
    "import json"
   ]
  },
  {
   "cell_type": "code",
   "execution_count": 20,
   "metadata": {},
   "outputs": [],
   "source": [
    "data = json.load(open('data/images.json'))"
   ]
  },
  {
   "cell_type": "code",
   "execution_count": 21,
   "metadata": {},
   "outputs": [],
   "source": [
    "# convert json to csv\n",
    "import pandas as pd\n",
    "\n",
    "df = pd.DataFrame(data)"
   ]
  },
  {
   "cell_type": "code",
   "execution_count": 22,
   "metadata": {},
   "outputs": [
    {
     "data": {
      "text/html": [
       "<div>\n",
       "<style scoped>\n",
       "    .dataframe tbody tr th:only-of-type {\n",
       "        vertical-align: middle;\n",
       "    }\n",
       "\n",
       "    .dataframe tbody tr th {\n",
       "        vertical-align: top;\n",
       "    }\n",
       "\n",
       "    .dataframe thead th {\n",
       "        text-align: right;\n",
       "    }\n",
       "</style>\n",
       "<table border=\"1\" class=\"dataframe\">\n",
       "  <thead>\n",
       "    <tr style=\"text-align: right;\">\n",
       "      <th></th>\n",
       "      <th>w</th>\n",
       "      <th>movie</th>\n",
       "      <th>img</th>\n",
       "      <th>h</th>\n",
       "      <th>type</th>\n",
       "      <th>cast</th>\n",
       "    </tr>\n",
       "  </thead>\n",
       "  <tbody>\n",
       "    <tr>\n",
       "      <th>0</th>\n",
       "      <td>1666</td>\n",
       "      <td>[tt4882376]</td>\n",
       "      <td>0315/rm601699072.jpg</td>\n",
       "      <td>1000</td>\n",
       "      <td>behind_the_scenes</td>\n",
       "      <td>[nm8801745, nm0001401]</td>\n",
       "    </tr>\n",
       "    <tr>\n",
       "      <th>1</th>\n",
       "      <td>999</td>\n",
       "      <td>[tt2318625]</td>\n",
       "      <td>2538/rm814292736.jpg</td>\n",
       "      <td>562</td>\n",
       "      <td>still_frame</td>\n",
       "      <td>[nm2072214]</td>\n",
       "    </tr>\n",
       "    <tr>\n",
       "      <th>2</th>\n",
       "      <td>1500</td>\n",
       "      <td>[tt4003966]</td>\n",
       "      <td>0354/rm2068192512.jpg</td>\n",
       "      <td>1000</td>\n",
       "      <td>still_frame</td>\n",
       "      <td>[nm0268626]</td>\n",
       "    </tr>\n",
       "    <tr>\n",
       "      <th>3</th>\n",
       "      <td>1333</td>\n",
       "      <td>[]</td>\n",
       "      <td>3777/rm27402752.jpg</td>\n",
       "      <td>1000</td>\n",
       "      <td>publicity</td>\n",
       "      <td>[nm6655379]</td>\n",
       "    </tr>\n",
       "    <tr>\n",
       "      <th>4</th>\n",
       "      <td>704</td>\n",
       "      <td>[]</td>\n",
       "      <td>3459/rm537652736.jpg</td>\n",
       "      <td>1000</td>\n",
       "      <td>event</td>\n",
       "      <td>[nm1577190, nm7097953]</td>\n",
       "    </tr>\n",
       "    <tr>\n",
       "      <th>...</th>\n",
       "      <td>...</td>\n",
       "      <td>...</td>\n",
       "      <td>...</td>\n",
       "      <td>...</td>\n",
       "      <td>...</td>\n",
       "      <td>...</td>\n",
       "    </tr>\n",
       "    <tr>\n",
       "      <th>3155527</th>\n",
       "      <td>675</td>\n",
       "      <td>[tt3458560]</td>\n",
       "      <td>1022/rm1083496192.jpg</td>\n",
       "      <td>1000</td>\n",
       "      <td>poster</td>\n",
       "      <td>[nm5417727, nm3353991, nm4548952]</td>\n",
       "    </tr>\n",
       "    <tr>\n",
       "      <th>3155528</th>\n",
       "      <td>1493</td>\n",
       "      <td>[]</td>\n",
       "      <td>1308/rm1943730176.jpg</td>\n",
       "      <td>1000</td>\n",
       "      <td>publicity</td>\n",
       "      <td>[nm1942699]</td>\n",
       "    </tr>\n",
       "    <tr>\n",
       "      <th>3155529</th>\n",
       "      <td>666</td>\n",
       "      <td>[]</td>\n",
       "      <td>2959/rm3252472576.jpg</td>\n",
       "      <td>1000</td>\n",
       "      <td>publicity</td>\n",
       "      <td>[nm1549295]</td>\n",
       "    </tr>\n",
       "    <tr>\n",
       "      <th>3155530</th>\n",
       "      <td>1280</td>\n",
       "      <td>[tt6896960, tt7308120]</td>\n",
       "      <td>1158/rm3564380160.jpg</td>\n",
       "      <td>720</td>\n",
       "      <td>still_frame</td>\n",
       "      <td>[nm2072971, nm4495346]</td>\n",
       "    </tr>\n",
       "    <tr>\n",
       "      <th>3155531</th>\n",
       "      <td>450</td>\n",
       "      <td>[tt0144024]</td>\n",
       "      <td>2188/rm629774592.jpg</td>\n",
       "      <td>289</td>\n",
       "      <td>still_frame</td>\n",
       "      <td>[nm1290930, nm0441919]</td>\n",
       "    </tr>\n",
       "  </tbody>\n",
       "</table>\n",
       "<p>3155532 rows × 6 columns</p>\n",
       "</div>"
      ],
      "text/plain": [
       "            w                   movie                    img     h  \\\n",
       "0        1666             [tt4882376]   0315/rm601699072.jpg  1000   \n",
       "1         999             [tt2318625]   2538/rm814292736.jpg   562   \n",
       "2        1500             [tt4003966]  0354/rm2068192512.jpg  1000   \n",
       "3        1333                      []    3777/rm27402752.jpg  1000   \n",
       "4         704                      []   3459/rm537652736.jpg  1000   \n",
       "...       ...                     ...                    ...   ...   \n",
       "3155527   675             [tt3458560]  1022/rm1083496192.jpg  1000   \n",
       "3155528  1493                      []  1308/rm1943730176.jpg  1000   \n",
       "3155529   666                      []  2959/rm3252472576.jpg  1000   \n",
       "3155530  1280  [tt6896960, tt7308120]  1158/rm3564380160.jpg   720   \n",
       "3155531   450             [tt0144024]   2188/rm629774592.jpg   289   \n",
       "\n",
       "                      type                               cast  \n",
       "0        behind_the_scenes             [nm8801745, nm0001401]  \n",
       "1              still_frame                        [nm2072214]  \n",
       "2              still_frame                        [nm0268626]  \n",
       "3                publicity                        [nm6655379]  \n",
       "4                    event             [nm1577190, nm7097953]  \n",
       "...                    ...                                ...  \n",
       "3155527             poster  [nm5417727, nm3353991, nm4548952]  \n",
       "3155528          publicity                        [nm1942699]  \n",
       "3155529          publicity                        [nm1549295]  \n",
       "3155530        still_frame             [nm2072971, nm4495346]  \n",
       "3155531        still_frame             [nm1290930, nm0441919]  \n",
       "\n",
       "[3155532 rows x 6 columns]"
      ]
     },
     "execution_count": 22,
     "metadata": {},
     "output_type": "execute_result"
    }
   ],
   "source": [
    "df"
   ]
  },
  {
   "cell_type": "code",
   "execution_count": 23,
   "metadata": {},
   "outputs": [
    {
     "data": {
      "text/plain": [
       "array(['behind_the_scenes', 'still_frame', 'publicity', 'event', 'poster',\n",
       "       'production_art', 'product', 'unknown', 'user_avatar'],\n",
       "      dtype=object)"
      ]
     },
     "execution_count": 23,
     "metadata": {},
     "output_type": "execute_result"
    }
   ],
   "source": [
    "df['type'].unique()"
   ]
  },
  {
   "cell_type": "code",
   "execution_count": 29,
   "metadata": {},
   "outputs": [
    {
     "data": {
      "text/plain": [
       "'tt1653690'"
      ]
     },
     "execution_count": 29,
     "metadata": {},
     "output_type": "execute_result"
    }
   ],
   "source": [
    "df[df['type'] == 'poster'].iloc[0].movie[0]"
   ]
  },
  {
   "cell_type": "code",
   "execution_count": 30,
   "metadata": {},
   "outputs": [
    {
     "data": {
      "text/plain": [
       "'0315/rm601699072.jpg'"
      ]
     },
     "execution_count": 30,
     "metadata": {},
     "output_type": "execute_result"
    }
   ],
   "source": [
    "df.iloc[0].img"
   ]
  },
  {
   "cell_type": "code",
   "execution_count": null,
   "metadata": {},
   "outputs": [],
   "source": []
  }
 ],
 "metadata": {
  "kernelspec": {
   "display_name": "atai",
   "language": "python",
   "name": "python3"
  },
  "language_info": {
   "codemirror_mode": {
    "name": "ipython",
    "version": 3
   },
   "file_extension": ".py",
   "mimetype": "text/x-python",
   "name": "python",
   "nbconvert_exporter": "python",
   "pygments_lexer": "ipython3",
   "version": "3.10.14"
  }
 },
 "nbformat": 4,
 "nbformat_minor": 2
}
