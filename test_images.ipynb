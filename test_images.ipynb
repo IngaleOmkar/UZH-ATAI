{
 "cells": [
  {
   "cell_type": "code",
   "execution_count": 4,
   "metadata": {},
   "outputs": [],
   "source": [
    "import pandas as pd\n",
    "from image import ImageResponder\n",
    "from data_repository import DataRepository\n",
    "from entity_extraction import Extractor\n",
    "from intent_classifier import EmbeddingBasedIntentClassifier"
   ]
  },
  {
   "cell_type": "code",
   "execution_count": 5,
   "metadata": {},
   "outputs": [
    {
     "name": "stdout",
     "output_type": "stream",
     "text": [
      "========== Initializing Data Repository ==========\n",
      "========== Loading NER Embeddings ==========\n",
      "========== Loading graph ==========\n",
      "========== Loading data for factual QA ==========\n",
      "========== Loading data for embeddings ==========\n",
      "========== Loading External Data ==========\n",
      "========== Loading Image Data ==========\n",
      "========== Data Repository initialized ==========\n"
     ]
    },
    {
     "name": "stderr",
     "output_type": "stream",
     "text": [
      "Some weights of the model checkpoint at dbmdz/bert-large-cased-finetuned-conll03-english were not used when initializing BertForTokenClassification: ['bert.pooler.dense.bias', 'bert.pooler.dense.weight']\n",
      "- This IS expected if you are initializing BertForTokenClassification from the checkpoint of a model trained on another task or with another architecture (e.g. initializing a BertForSequenceClassification model from a BertForPreTraining model).\n",
      "- This IS NOT expected if you are initializing BertForTokenClassification from the checkpoint of a model that you expect to be exactly identical (initializing a BertForSequenceClassification model from a BertForSequenceClassification model).\n",
      "Hardware accelerator e.g. GPU is available in the environment, but no `device` argument is passed to the `Pipeline` object. Model will be on CPU.\n"
     ]
    }
   ],
   "source": [
    "dr = DataRepository()\n",
    "ie = Extractor(dr)\n",
    "ic = EmbeddingBasedIntentClassifier(dr)\n",
    "ir = ImageResponder(dr, ie, ic)"
   ]
  },
  {
   "cell_type": "code",
   "execution_count": 7,
   "metadata": {},
   "outputs": [
    {
     "name": "stdout",
     "output_type": "stream",
     "text": [
      "entity:  Robert Downey Jr.\n",
      "possible_ids:  ['tt0627745', 'tt0694724', 'tt10127242', 'tt1013113', 'tt10582764', 'tt11266366', 'tt11363918', 'tt11589892', 'tt11591750', 'tt11639650', 'tt11662362', 'tt11962732', 'tt1229253', 'tt12734296', 'tt12734338', 'tt12871798', 'tt12968874', 'tt13297636', 'tt13317568', 'tt13398800', 'tt13819130', 'tt13845212', 'tt14227200', 'tt14279078', 'tt14738444', 'tt14975294', 'tt15005938', 'tt1647182', 'tt19817826', 'tt20783230', 'tt21073122', 'tt21411334', 'tt2145309', 'tt21824912', 'tt21854456', 'tt26387361', 'tt27220114', 'tt27905955', 'tt28309856', 'tt28322511', 'tt2845074', 'tt30195432', 'tt30851306', 'tt30869770', 'tt30877278', 'tt30889720', 'tt31012938', 'tt31261861', 'tt31392808', 'tt32566760', 'tt32574023', 'tt33045964', 'tt33049650', 'tt33050415', 'tt33052263', 'tt33054232', 'tt33056412', 'tt33058849', 'tt33090459', 'tt33483774', 'tt34215344', 'tt3501010', 'tt3781448', 'tt3860782', 'tt4066652', 'tt4077840', 'tt4080464', 'tt4080790', 'tt4083482', 'tt4126532', 'tt4328484', 'tt4556036', 'tt4608850', 'tt4612570', 'tt4631566', 'tt4778538', 'tt4780510', 'tt4815918', 'tt5012112', 'tt5217348', 'tt5316812', 'tt5472988', 'tt5591192', 'tt5630722', 'tt5664270', 'tt5675120', 'tt5737104', 'tt6338902', 'tt6531962', 'tt6935474', 'tt8420738', 'tt8518088', 'nm0000375']\n",
      "identified movie entity:  Robert Downey Jr.\n",
      "possible_images:  []\n"
     ]
    },
    {
     "ename": "Exception",
     "evalue": "I'm sorry, I couldn't find any images for this entity.",
     "output_type": "error",
     "traceback": [
      "\u001b[0;31m---------------------------------------------------------------------------\u001b[0m",
      "\u001b[0;31mException\u001b[0m                                 Traceback (most recent call last)",
      "Cell \u001b[0;32mIn[7], line 1\u001b[0m\n\u001b[0;32m----> 1\u001b[0m \u001b[43mir\u001b[49m\u001b[38;5;241;43m.\u001b[39;49m\u001b[43manswer_query\u001b[49m\u001b[43m(\u001b[49m\u001b[38;5;124;43m\"\u001b[39;49m\u001b[38;5;124;43mShow me a picture of Robert Downey Jr.\u001b[39;49m\u001b[38;5;124;43m\"\u001b[39;49m\u001b[43m)\u001b[49m\n",
      "File \u001b[0;32m~/Desktop/UZH-ATAI/image.py:66\u001b[0m, in \u001b[0;36mImageResponder.answer_query\u001b[0;34m(self, query)\u001b[0m\n\u001b[1;32m     64\u001b[0m             images\u001b[38;5;241m.\u001b[39mappend(possible_images[\u001b[38;5;241m0\u001b[39m]\u001b[38;5;241m.\u001b[39msplit(\u001b[38;5;124m\"\u001b[39m\u001b[38;5;124m.jpg\u001b[39m\u001b[38;5;124m\"\u001b[39m)[\u001b[38;5;241m0\u001b[39m])\n\u001b[1;32m     65\u001b[0m \u001b[38;5;28;01mif\u001b[39;00m(\u001b[38;5;28mlen\u001b[39m(images) \u001b[38;5;241m==\u001b[39m \u001b[38;5;241m0\u001b[39m):\n\u001b[0;32m---> 66\u001b[0m     \u001b[38;5;28;01mraise\u001b[39;00m \u001b[38;5;167;01mException\u001b[39;00m(\u001b[38;5;124m\"\u001b[39m\u001b[38;5;124mI\u001b[39m\u001b[38;5;124m'\u001b[39m\u001b[38;5;124mm sorry, I couldn\u001b[39m\u001b[38;5;124m'\u001b[39m\u001b[38;5;124mt find any images for this entity.\u001b[39m\u001b[38;5;124m\"\u001b[39m)\n\u001b[1;32m     67\u001b[0m \u001b[38;5;28;01mreturn\u001b[39;00m images\n",
      "\u001b[0;31mException\u001b[0m: I'm sorry, I couldn't find any images for this entity."
     ]
    }
   ],
   "source": [
    "ir.answer_query(\"Show me a picture of Robert Downey Jr.\")"
   ]
  },
  {
   "cell_type": "code",
   "execution_count": null,
   "metadata": {},
   "outputs": [],
   "source": []
  }
 ],
 "metadata": {
  "kernelspec": {
   "display_name": "atai",
   "language": "python",
   "name": "python3"
  },
  "language_info": {
   "codemirror_mode": {
    "name": "ipython",
    "version": 3
   },
   "file_extension": ".py",
   "mimetype": "text/x-python",
   "name": "python",
   "nbconvert_exporter": "python",
   "pygments_lexer": "ipython3",
   "version": "3.10.14"
  }
 },
 "nbformat": 4,
 "nbformat_minor": 2
}
