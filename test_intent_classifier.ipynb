{
 "cells": [
  {
   "cell_type": "code",
   "execution_count": 6,
   "metadata": {},
   "outputs": [
    {
     "name": "stdout",
     "output_type": "stream",
     "text": [
      "ChatCompletionMessage(content=\" The epic film, Titanic, clocks in at a whopping 3 hours and 14 minutes. That's quite a lengthy voyage you're embarking on!\", refusal=None, role='assistant', audio=None, function_call=None, tool_calls=None)\n"
     ]
    }
   ],
   "source": [
    "from openai import OpenAI\n",
    "\n",
    "client = OpenAI(base_url=\"http://localhost:1234/v1\", api_key=\"lm-studio\")\n",
    "\n",
    "completion = client.chat.completions.create(\n",
    "  model=\"mistral-7b-instruct-v0.3\",\n",
    "  messages=[\n",
    "    {\"role\": \"user\", \"content\": \"Here is a question and its answer. I want you to take the answer and make it sound more human-like. Do not hallucinate, make up new information or change the meaning of the answer. Just refine it to sound more human-like. You may use parts of the question in the answer if necessary.\"},\n",
    "    {\"role\": \"user\", \"content\": \"Question: How long was the movie Titanic? ; Answer: The movie Titanic was 3 hours and 14 minutes long.\"},\n",
    "  ],\n",
    "  temperature=0.7,\n",
    ")\n",
    "\n",
    "print(completion.choices[0].message)\n"
   ]
  },
  {
   "cell_type": "code",
   "execution_count": null,
   "metadata": {},
   "outputs": [],
   "source": []
  }
 ],
 "metadata": {
  "kernelspec": {
   "display_name": "atai",
   "language": "python",
   "name": "python3"
  },
  "language_info": {
   "codemirror_mode": {
    "name": "ipython",
    "version": 3
   },
   "file_extension": ".py",
   "mimetype": "text/x-python",
   "name": "python",
   "nbconvert_exporter": "python",
   "pygments_lexer": "ipython3",
   "version": "3.10.14"
  }
 },
 "nbformat": 4,
 "nbformat_minor": 2
}
