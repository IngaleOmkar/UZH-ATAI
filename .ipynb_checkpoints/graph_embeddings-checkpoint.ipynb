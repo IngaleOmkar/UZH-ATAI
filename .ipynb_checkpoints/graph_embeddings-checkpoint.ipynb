{
 "cells": [
  {
   "cell_type": "code",
   "execution_count": null,
   "metadata": {
    "vscode": {
     "languageId": "plaintext"
    }
   },
   "outputs": [],
   "source": [
    "import torch\n",
    "import torch.nn.functional as F\n",
    "from torch_geometric.nn import GCNConv\n",
    "from torch_geometric.data import Data\n",
    "from rdflib import Graph\n",
    "import numpy as np"
   ]
  },
  {
   "cell_type": "code",
   "execution_count": null,
   "metadata": {
    "vscode": {
     "languageId": "plaintext"
    }
   },
   "outputs": [],
   "source": [
    "# Load the RDF graph using rdflib\n",
    "rdf_graph = Graph()\n",
    "rdf_graph.parse(\"14_graph.nt\", format=\"turtle\")\n",
    "\n",
    "print(\"Graph loaded\")"
   ]
  },
  {
   "cell_type": "code",
   "execution_count": null,
   "metadata": {
    "vscode": {
     "languageId": "plaintext"
    }
   },
   "outputs": [],
   "source": [
    "# Create node and edge lists\n",
    "nodes = list(set([str(s) for s in rdf_graph.subjects()] + [str(o) for o in rdf_graph.objects()]))\n",
    "node_idx = {node: i for i, node in enumerate(nodes)}\n",
    "\n",
    "edges = [(node_idx[str(s)], node_idx[str(o)]) for s, p, o in rdf_graph if str(o) in node_idx]\n",
    "\n",
    "# Convert edge list to torch tensors\n",
    "edge_index = torch.tensor(edges, dtype=torch.long).t().contiguous()\n",
    "\n",
    "# Number of nodes\n",
    "num_nodes = len(nodes)\n",
    "\n",
    "# Generate random labels for a classification task (for demonstration purposes)\n",
    "num_classes = 2\n",
    "node_labels = torch.randint(0, num_classes, (num_nodes,), dtype=torch.long)\n",
    "\n",
    "# Create a Data object from torch_geometric\n",
    "data = Data(edge_index=edge_index, y=node_labels)\n",
    "\n",
    "# Define a simple GCN model with an embedding layer\n",
    "class GCN(torch.nn.Module):\n",
    "    def __init__(self, num_nodes, embedding_dim, hidden_channels, out_channels):\n",
    "        super(GCN, self).__init__()\n",
    "        self.embedding = torch.nn.Embedding(num_nodes, embedding_dim)\n",
    "        self.conv1 = GCNConv(embedding_dim, hidden_channels)\n",
    "        self.conv2 = GCNConv(hidden_channels, out_channels)\n",
    "\n",
    "    def forward(self, data):\n",
    "        x = self.embedding(torch.arange(num_nodes, device=data.edge_index.device))\n",
    "        x, edge_index = x, data.edge_index\n",
    "        x = self.conv1(x, edge_index)\n",
    "        x = F.relu(x)\n",
    "        x = self.conv2(x, edge_index)\n",
    "        return x\n",
    "\n",
    "# Move model and data to MPS (Metal Performance Shaders) if available\n",
    "device = torch.device('mps' if torch.backends.mps.is_available() else 'cpu')\n",
    "data = data.to(device)\n",
    "model = GCN(num_nodes=num_nodes, embedding_dim=16, hidden_channels=32, out_channels=num_classes).to(device)\n",
    "\n",
    "# Define an optimizer\n",
    "optimizer = torch.optim.Adam(model.parameters(), lr=0.01, weight_decay=5e-4)\n",
    "\n",
    "# Training loop\n",
    "model.train()\n",
    "for epoch in range(200):\n",
    "    optimizer.zero_grad()\n",
    "    out = model(data)\n",
    "    loss = F.cross_entropy(out, data.y)  # Using cross-entropy loss for classification\n",
    "    loss.backward()\n",
    "    optimizer.step()\n",
    "    print(f'Epoch {epoch+1}, Loss: {loss.item()}')\n",
    "\n",
    "print(\"Training finished\")"
   ]
  },
  {
   "cell_type": "code",
   "execution_count": null,
   "metadata": {
    "vscode": {
     "languageId": "plaintext"
    }
   },
   "outputs": [],
   "source": [
    "torch.save(model.state_dict(), 'models/gcn_embedding.pth')"
   ]
  }
 ],
 "metadata": {
  "kernelspec": {
   "display_name": "Python 3.12 (torch)",
   "language": "python",
   "name": "pytorch"
  },
  "language_info": {
   "codemirror_mode": {
    "name": "ipython",
    "version": 3
   },
   "file_extension": ".py",
   "mimetype": "text/x-python",
   "name": "python",
   "nbconvert_exporter": "python",
   "pygments_lexer": "ipython3",
   "version": "3.12.4"
  }
 },
 "nbformat": 4,
 "nbformat_minor": 4
}
